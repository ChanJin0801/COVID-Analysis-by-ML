{
 "cells": [
  {
   "cell_type": "code",
   "execution_count": 70,
   "id": "a731e6ae",
   "metadata": {},
   "outputs": [],
   "source": [
    "# Imports\n",
    "\n",
    "# Gets rid of future warnings\n",
    "import warnings\n",
    "warnings.simplefilter(action='ignore', category=FutureWarning)\n",
    "\n",
    "# Python and ML Packages\n",
    "import pandas as pd\n",
    "import numpy as np\n",
    "import matplotlib.pyplot as plt\n",
    "from sklearn import metrics\n",
    "import pandas as pd\n",
    "import plotly.express as px \n",
    "from sklearn.cluster import KMeans\n",
    "from scipy.spatial.distance import cdist "
   ]
  },
  {
   "cell_type": "code",
   "execution_count": 71,
   "id": "753972b0",
   "metadata": {},
   "outputs": [],
   "source": [
    "# Preprocessing Input data\n",
    "#data = pd.read_csv('data/covid_data.csv', low_memory = False)\n",
    "data = pd.read_csv('/Users/yingjiezhong/Downloads/AI_Project1-main-Project2(COVID)/Project2(COVID)/covid_data.csv', low_memory = False)"
   ]
  },
  {
   "cell_type": "code",
   "execution_count": 72,
   "id": "25492e3c",
   "metadata": {
    "scrolled": true
   },
   "outputs": [
    {
     "data": {
      "text/html": [
       "<div>\n",
       "<style scoped>\n",
       "    .dataframe tbody tr th:only-of-type {\n",
       "        vertical-align: middle;\n",
       "    }\n",
       "\n",
       "    .dataframe tbody tr th {\n",
       "        vertical-align: top;\n",
       "    }\n",
       "\n",
       "    .dataframe thead th {\n",
       "        text-align: right;\n",
       "    }\n",
       "</style>\n",
       "<table border=\"1\" class=\"dataframe\">\n",
       "  <thead>\n",
       "    <tr style=\"text-align: right;\">\n",
       "      <th></th>\n",
       "      <th>iso_code</th>\n",
       "      <th>continent</th>\n",
       "      <th>location</th>\n",
       "      <th>date</th>\n",
       "      <th>total_cases</th>\n",
       "      <th>new_cases</th>\n",
       "      <th>new_cases_smoothed</th>\n",
       "      <th>total_deaths</th>\n",
       "      <th>new_deaths</th>\n",
       "      <th>new_deaths_smoothed</th>\n",
       "      <th>...</th>\n",
       "      <th>male_smokers</th>\n",
       "      <th>handwashing_facilities</th>\n",
       "      <th>hospital_beds_per_thousand</th>\n",
       "      <th>life_expectancy</th>\n",
       "      <th>human_development_index</th>\n",
       "      <th>population</th>\n",
       "      <th>excess_mortality_cumulative_absolute</th>\n",
       "      <th>excess_mortality_cumulative</th>\n",
       "      <th>excess_mortality</th>\n",
       "      <th>excess_mortality_cumulative_per_million</th>\n",
       "    </tr>\n",
       "  </thead>\n",
       "  <tbody>\n",
       "    <tr>\n",
       "      <th>0</th>\n",
       "      <td>AFG</td>\n",
       "      <td>Asia</td>\n",
       "      <td>Afghanistan</td>\n",
       "      <td>2020-02-24</td>\n",
       "      <td>5.0</td>\n",
       "      <td>5.0</td>\n",
       "      <td>NaN</td>\n",
       "      <td>NaN</td>\n",
       "      <td>NaN</td>\n",
       "      <td>NaN</td>\n",
       "      <td>...</td>\n",
       "      <td>NaN</td>\n",
       "      <td>37.746</td>\n",
       "      <td>0.5</td>\n",
       "      <td>64.83</td>\n",
       "      <td>0.511</td>\n",
       "      <td>41128772.0</td>\n",
       "      <td>NaN</td>\n",
       "      <td>NaN</td>\n",
       "      <td>NaN</td>\n",
       "      <td>NaN</td>\n",
       "    </tr>\n",
       "    <tr>\n",
       "      <th>1</th>\n",
       "      <td>AFG</td>\n",
       "      <td>Asia</td>\n",
       "      <td>Afghanistan</td>\n",
       "      <td>2020-02-25</td>\n",
       "      <td>5.0</td>\n",
       "      <td>0.0</td>\n",
       "      <td>NaN</td>\n",
       "      <td>NaN</td>\n",
       "      <td>NaN</td>\n",
       "      <td>NaN</td>\n",
       "      <td>...</td>\n",
       "      <td>NaN</td>\n",
       "      <td>37.746</td>\n",
       "      <td>0.5</td>\n",
       "      <td>64.83</td>\n",
       "      <td>0.511</td>\n",
       "      <td>41128772.0</td>\n",
       "      <td>NaN</td>\n",
       "      <td>NaN</td>\n",
       "      <td>NaN</td>\n",
       "      <td>NaN</td>\n",
       "    </tr>\n",
       "    <tr>\n",
       "      <th>2</th>\n",
       "      <td>AFG</td>\n",
       "      <td>Asia</td>\n",
       "      <td>Afghanistan</td>\n",
       "      <td>2020-02-26</td>\n",
       "      <td>5.0</td>\n",
       "      <td>0.0</td>\n",
       "      <td>NaN</td>\n",
       "      <td>NaN</td>\n",
       "      <td>NaN</td>\n",
       "      <td>NaN</td>\n",
       "      <td>...</td>\n",
       "      <td>NaN</td>\n",
       "      <td>37.746</td>\n",
       "      <td>0.5</td>\n",
       "      <td>64.83</td>\n",
       "      <td>0.511</td>\n",
       "      <td>41128772.0</td>\n",
       "      <td>NaN</td>\n",
       "      <td>NaN</td>\n",
       "      <td>NaN</td>\n",
       "      <td>NaN</td>\n",
       "    </tr>\n",
       "    <tr>\n",
       "      <th>3</th>\n",
       "      <td>AFG</td>\n",
       "      <td>Asia</td>\n",
       "      <td>Afghanistan</td>\n",
       "      <td>2020-02-27</td>\n",
       "      <td>5.0</td>\n",
       "      <td>0.0</td>\n",
       "      <td>NaN</td>\n",
       "      <td>NaN</td>\n",
       "      <td>NaN</td>\n",
       "      <td>NaN</td>\n",
       "      <td>...</td>\n",
       "      <td>NaN</td>\n",
       "      <td>37.746</td>\n",
       "      <td>0.5</td>\n",
       "      <td>64.83</td>\n",
       "      <td>0.511</td>\n",
       "      <td>41128772.0</td>\n",
       "      <td>NaN</td>\n",
       "      <td>NaN</td>\n",
       "      <td>NaN</td>\n",
       "      <td>NaN</td>\n",
       "    </tr>\n",
       "    <tr>\n",
       "      <th>4</th>\n",
       "      <td>AFG</td>\n",
       "      <td>Asia</td>\n",
       "      <td>Afghanistan</td>\n",
       "      <td>2020-02-28</td>\n",
       "      <td>5.0</td>\n",
       "      <td>0.0</td>\n",
       "      <td>NaN</td>\n",
       "      <td>NaN</td>\n",
       "      <td>NaN</td>\n",
       "      <td>NaN</td>\n",
       "      <td>...</td>\n",
       "      <td>NaN</td>\n",
       "      <td>37.746</td>\n",
       "      <td>0.5</td>\n",
       "      <td>64.83</td>\n",
       "      <td>0.511</td>\n",
       "      <td>41128772.0</td>\n",
       "      <td>NaN</td>\n",
       "      <td>NaN</td>\n",
       "      <td>NaN</td>\n",
       "      <td>NaN</td>\n",
       "    </tr>\n",
       "  </tbody>\n",
       "</table>\n",
       "<p>5 rows × 67 columns</p>\n",
       "</div>"
      ],
      "text/plain": [
       "  iso_code continent     location        date  total_cases  new_cases  \\\n",
       "0      AFG      Asia  Afghanistan  2020-02-24          5.0        5.0   \n",
       "1      AFG      Asia  Afghanistan  2020-02-25          5.0        0.0   \n",
       "2      AFG      Asia  Afghanistan  2020-02-26          5.0        0.0   \n",
       "3      AFG      Asia  Afghanistan  2020-02-27          5.0        0.0   \n",
       "4      AFG      Asia  Afghanistan  2020-02-28          5.0        0.0   \n",
       "\n",
       "   new_cases_smoothed  total_deaths  new_deaths  new_deaths_smoothed  ...  \\\n",
       "0                 NaN           NaN         NaN                  NaN  ...   \n",
       "1                 NaN           NaN         NaN                  NaN  ...   \n",
       "2                 NaN           NaN         NaN                  NaN  ...   \n",
       "3                 NaN           NaN         NaN                  NaN  ...   \n",
       "4                 NaN           NaN         NaN                  NaN  ...   \n",
       "\n",
       "   male_smokers  handwashing_facilities  hospital_beds_per_thousand  \\\n",
       "0           NaN                  37.746                         0.5   \n",
       "1           NaN                  37.746                         0.5   \n",
       "2           NaN                  37.746                         0.5   \n",
       "3           NaN                  37.746                         0.5   \n",
       "4           NaN                  37.746                         0.5   \n",
       "\n",
       "   life_expectancy  human_development_index  population  \\\n",
       "0            64.83                    0.511  41128772.0   \n",
       "1            64.83                    0.511  41128772.0   \n",
       "2            64.83                    0.511  41128772.0   \n",
       "3            64.83                    0.511  41128772.0   \n",
       "4            64.83                    0.511  41128772.0   \n",
       "\n",
       "   excess_mortality_cumulative_absolute  excess_mortality_cumulative  \\\n",
       "0                                   NaN                          NaN   \n",
       "1                                   NaN                          NaN   \n",
       "2                                   NaN                          NaN   \n",
       "3                                   NaN                          NaN   \n",
       "4                                   NaN                          NaN   \n",
       "\n",
       "   excess_mortality  excess_mortality_cumulative_per_million  \n",
       "0               NaN                                      NaN  \n",
       "1               NaN                                      NaN  \n",
       "2               NaN                                      NaN  \n",
       "3               NaN                                      NaN  \n",
       "4               NaN                                      NaN  \n",
       "\n",
       "[5 rows x 67 columns]"
      ]
     },
     "execution_count": 72,
     "metadata": {},
     "output_type": "execute_result"
    }
   ],
   "source": [
    "data.head(5)"
   ]
  },
  {
   "cell_type": "code",
   "execution_count": 73,
   "id": "fab9e62e",
   "metadata": {},
   "outputs": [
    {
     "data": {
      "text/plain": [
       "(238234, 67)"
      ]
     },
     "execution_count": 73,
     "metadata": {},
     "output_type": "execute_result"
    }
   ],
   "source": [
    "data.shape"
   ]
  },
  {
   "cell_type": "code",
   "execution_count": 74,
   "id": "936ba54a",
   "metadata": {},
   "outputs": [
    {
     "data": {
      "text/plain": [
       "(179, 67)"
      ]
     },
     "execution_count": 74,
     "metadata": {},
     "output_type": "execute_result"
    }
   ],
   "source": [
    "# Preprocessing Input data, pick a specific date and drop NaS in variables that we are interested in\n",
    "test_df = data.loc[data['date'] == '2022-10-31']\n",
    "test_df = test_df.dropna(subset=['total_cases','total_deaths', 'total_cases_per_million', 'total_deaths_per_million', 'population_density', 'gdp_per_capita', 'diabetes_prevalence', 'cardiovasc_death_rate', \"life_expectancy\", \"aged_65_older\"])\n",
    "test_df.shape"
   ]
  },
  {
   "cell_type": "code",
   "execution_count": 75,
   "id": "36ea6faa",
   "metadata": {},
   "outputs": [
    {
     "data": {
      "text/html": [
       "<div>\n",
       "<style scoped>\n",
       "    .dataframe tbody tr th:only-of-type {\n",
       "        vertical-align: middle;\n",
       "    }\n",
       "\n",
       "    .dataframe tbody tr th {\n",
       "        vertical-align: top;\n",
       "    }\n",
       "\n",
       "    .dataframe thead th {\n",
       "        text-align: right;\n",
       "    }\n",
       "</style>\n",
       "<table border=\"1\" class=\"dataframe\">\n",
       "  <thead>\n",
       "    <tr style=\"text-align: right;\">\n",
       "      <th></th>\n",
       "      <th>iso_code</th>\n",
       "      <th>continent</th>\n",
       "      <th>location</th>\n",
       "      <th>date</th>\n",
       "      <th>total_cases</th>\n",
       "      <th>new_cases</th>\n",
       "      <th>new_cases_smoothed</th>\n",
       "      <th>total_deaths</th>\n",
       "      <th>new_deaths</th>\n",
       "      <th>new_deaths_smoothed</th>\n",
       "      <th>...</th>\n",
       "      <th>male_smokers</th>\n",
       "      <th>handwashing_facilities</th>\n",
       "      <th>hospital_beds_per_thousand</th>\n",
       "      <th>life_expectancy</th>\n",
       "      <th>human_development_index</th>\n",
       "      <th>population</th>\n",
       "      <th>excess_mortality_cumulative_absolute</th>\n",
       "      <th>excess_mortality_cumulative</th>\n",
       "      <th>excess_mortality</th>\n",
       "      <th>excess_mortality_cumulative_per_million</th>\n",
       "    </tr>\n",
       "  </thead>\n",
       "  <tbody>\n",
       "    <tr>\n",
       "      <th>980</th>\n",
       "      <td>AFG</td>\n",
       "      <td>Asia</td>\n",
       "      <td>Afghanistan</td>\n",
       "      <td>2022-10-31</td>\n",
       "      <td>203063.0</td>\n",
       "      <td>97.0</td>\n",
       "      <td>123.429</td>\n",
       "      <td>7822.0</td>\n",
       "      <td>1.0</td>\n",
       "      <td>0.571</td>\n",
       "      <td>...</td>\n",
       "      <td>NaN</td>\n",
       "      <td>37.746</td>\n",
       "      <td>0.500</td>\n",
       "      <td>64.83</td>\n",
       "      <td>0.511</td>\n",
       "      <td>4.112877e+07</td>\n",
       "      <td>NaN</td>\n",
       "      <td>NaN</td>\n",
       "      <td>NaN</td>\n",
       "      <td>NaN</td>\n",
       "    </tr>\n",
       "    <tr>\n",
       "      <th>3006</th>\n",
       "      <td>ALB</td>\n",
       "      <td>Europe</td>\n",
       "      <td>Albania</td>\n",
       "      <td>2022-10-31</td>\n",
       "      <td>332966.0</td>\n",
       "      <td>0.0</td>\n",
       "      <td>27.143</td>\n",
       "      <td>3593.0</td>\n",
       "      <td>0.0</td>\n",
       "      <td>0.143</td>\n",
       "      <td>...</td>\n",
       "      <td>51.2</td>\n",
       "      <td>NaN</td>\n",
       "      <td>2.890</td>\n",
       "      <td>78.57</td>\n",
       "      <td>0.795</td>\n",
       "      <td>2.842318e+06</td>\n",
       "      <td>NaN</td>\n",
       "      <td>NaN</td>\n",
       "      <td>NaN</td>\n",
       "      <td>NaN</td>\n",
       "    </tr>\n",
       "    <tr>\n",
       "      <th>4013</th>\n",
       "      <td>DZA</td>\n",
       "      <td>Africa</td>\n",
       "      <td>Algeria</td>\n",
       "      <td>2022-10-31</td>\n",
       "      <td>270838.0</td>\n",
       "      <td>2.0</td>\n",
       "      <td>7.143</td>\n",
       "      <td>6881.0</td>\n",
       "      <td>0.0</td>\n",
       "      <td>0.000</td>\n",
       "      <td>...</td>\n",
       "      <td>30.4</td>\n",
       "      <td>83.741</td>\n",
       "      <td>1.900</td>\n",
       "      <td>76.88</td>\n",
       "      <td>0.748</td>\n",
       "      <td>4.490323e+07</td>\n",
       "      <td>NaN</td>\n",
       "      <td>NaN</td>\n",
       "      <td>NaN</td>\n",
       "      <td>NaN</td>\n",
       "    </tr>\n",
       "    <tr>\n",
       "      <th>5997</th>\n",
       "      <td>AGO</td>\n",
       "      <td>Africa</td>\n",
       "      <td>Angola</td>\n",
       "      <td>2022-10-31</td>\n",
       "      <td>103131.0</td>\n",
       "      <td>0.0</td>\n",
       "      <td>0.000</td>\n",
       "      <td>1917.0</td>\n",
       "      <td>0.0</td>\n",
       "      <td>0.000</td>\n",
       "      <td>...</td>\n",
       "      <td>NaN</td>\n",
       "      <td>26.664</td>\n",
       "      <td>NaN</td>\n",
       "      <td>61.15</td>\n",
       "      <td>0.581</td>\n",
       "      <td>3.558900e+07</td>\n",
       "      <td>NaN</td>\n",
       "      <td>NaN</td>\n",
       "      <td>NaN</td>\n",
       "      <td>NaN</td>\n",
       "    </tr>\n",
       "    <tr>\n",
       "      <th>7962</th>\n",
       "      <td>ATG</td>\n",
       "      <td>North America</td>\n",
       "      <td>Antigua and Barbuda</td>\n",
       "      <td>2022-10-31</td>\n",
       "      <td>9106.0</td>\n",
       "      <td>0.0</td>\n",
       "      <td>0.000</td>\n",
       "      <td>146.0</td>\n",
       "      <td>0.0</td>\n",
       "      <td>0.000</td>\n",
       "      <td>...</td>\n",
       "      <td>NaN</td>\n",
       "      <td>NaN</td>\n",
       "      <td>3.800</td>\n",
       "      <td>77.02</td>\n",
       "      <td>0.778</td>\n",
       "      <td>9.377200e+04</td>\n",
       "      <td>NaN</td>\n",
       "      <td>NaN</td>\n",
       "      <td>NaN</td>\n",
       "      <td>NaN</td>\n",
       "    </tr>\n",
       "    <tr>\n",
       "      <th>9024</th>\n",
       "      <td>ARG</td>\n",
       "      <td>South America</td>\n",
       "      <td>Argentina</td>\n",
       "      <td>2022-10-31</td>\n",
       "      <td>9718875.0</td>\n",
       "      <td>0.0</td>\n",
       "      <td>189.857</td>\n",
       "      <td>129991.0</td>\n",
       "      <td>0.0</td>\n",
       "      <td>1.714</td>\n",
       "      <td>...</td>\n",
       "      <td>27.7</td>\n",
       "      <td>NaN</td>\n",
       "      <td>5.000</td>\n",
       "      <td>76.67</td>\n",
       "      <td>0.845</td>\n",
       "      <td>4.551032e+07</td>\n",
       "      <td>NaN</td>\n",
       "      <td>NaN</td>\n",
       "      <td>NaN</td>\n",
       "      <td>NaN</td>\n",
       "    </tr>\n",
       "    <tr>\n",
       "      <th>10053</th>\n",
       "      <td>ARM</td>\n",
       "      <td>Asia</td>\n",
       "      <td>Armenia</td>\n",
       "      <td>2022-10-31</td>\n",
       "      <td>445242.0</td>\n",
       "      <td>142.0</td>\n",
       "      <td>20.286</td>\n",
       "      <td>8709.0</td>\n",
       "      <td>3.0</td>\n",
       "      <td>0.429</td>\n",
       "      <td>...</td>\n",
       "      <td>52.1</td>\n",
       "      <td>94.043</td>\n",
       "      <td>4.200</td>\n",
       "      <td>75.09</td>\n",
       "      <td>0.776</td>\n",
       "      <td>2.780472e+06</td>\n",
       "      <td>NaN</td>\n",
       "      <td>NaN</td>\n",
       "      <td>NaN</td>\n",
       "      <td>NaN</td>\n",
       "    </tr>\n",
       "    <tr>\n",
       "      <th>13121</th>\n",
       "      <td>AUS</td>\n",
       "      <td>Oceania</td>\n",
       "      <td>Australia</td>\n",
       "      <td>2022-10-31</td>\n",
       "      <td>10379442.0</td>\n",
       "      <td>1654.0</td>\n",
       "      <td>4883.714</td>\n",
       "      <td>15665.0</td>\n",
       "      <td>5.0</td>\n",
       "      <td>12.143</td>\n",
       "      <td>...</td>\n",
       "      <td>16.5</td>\n",
       "      <td>NaN</td>\n",
       "      <td>3.840</td>\n",
       "      <td>83.44</td>\n",
       "      <td>0.944</td>\n",
       "      <td>2.617741e+07</td>\n",
       "      <td>NaN</td>\n",
       "      <td>NaN</td>\n",
       "      <td>NaN</td>\n",
       "      <td>NaN</td>\n",
       "    </tr>\n",
       "    <tr>\n",
       "      <th>14128</th>\n",
       "      <td>AUT</td>\n",
       "      <td>Europe</td>\n",
       "      <td>Austria</td>\n",
       "      <td>2022-10-31</td>\n",
       "      <td>5439567.0</td>\n",
       "      <td>2846.0</td>\n",
       "      <td>5343.571</td>\n",
       "      <td>20981.0</td>\n",
       "      <td>2.0</td>\n",
       "      <td>11.714</td>\n",
       "      <td>...</td>\n",
       "      <td>30.9</td>\n",
       "      <td>NaN</td>\n",
       "      <td>7.370</td>\n",
       "      <td>81.54</td>\n",
       "      <td>0.922</td>\n",
       "      <td>8.939617e+06</td>\n",
       "      <td>NaN</td>\n",
       "      <td>NaN</td>\n",
       "      <td>NaN</td>\n",
       "      <td>NaN</td>\n",
       "    </tr>\n",
       "    <tr>\n",
       "      <th>15130</th>\n",
       "      <td>AZE</td>\n",
       "      <td>Asia</td>\n",
       "      <td>Azerbaijan</td>\n",
       "      <td>2022-10-31</td>\n",
       "      <td>823258.0</td>\n",
       "      <td>11.0</td>\n",
       "      <td>42.714</td>\n",
       "      <td>9944.0</td>\n",
       "      <td>0.0</td>\n",
       "      <td>1.000</td>\n",
       "      <td>...</td>\n",
       "      <td>42.5</td>\n",
       "      <td>83.241</td>\n",
       "      <td>4.700</td>\n",
       "      <td>73.00</td>\n",
       "      <td>0.756</td>\n",
       "      <td>1.035808e+07</td>\n",
       "      <td>NaN</td>\n",
       "      <td>NaN</td>\n",
       "      <td>NaN</td>\n",
       "      <td>NaN</td>\n",
       "    </tr>\n",
       "    <tr>\n",
       "      <th>16117</th>\n",
       "      <td>BHS</td>\n",
       "      <td>North America</td>\n",
       "      <td>Bahamas</td>\n",
       "      <td>2022-10-31</td>\n",
       "      <td>37386.0</td>\n",
       "      <td>0.0</td>\n",
       "      <td>3.143</td>\n",
       "      <td>833.0</td>\n",
       "      <td>0.0</td>\n",
       "      <td>0.000</td>\n",
       "      <td>...</td>\n",
       "      <td>20.4</td>\n",
       "      <td>NaN</td>\n",
       "      <td>2.900</td>\n",
       "      <td>73.92</td>\n",
       "      <td>0.814</td>\n",
       "      <td>4.099890e+05</td>\n",
       "      <td>NaN</td>\n",
       "      <td>NaN</td>\n",
       "      <td>NaN</td>\n",
       "      <td>NaN</td>\n",
       "    </tr>\n",
       "    <tr>\n",
       "      <th>17125</th>\n",
       "      <td>BHR</td>\n",
       "      <td>Asia</td>\n",
       "      <td>Bahrain</td>\n",
       "      <td>2022-10-31</td>\n",
       "      <td>690187.0</td>\n",
       "      <td>367.0</td>\n",
       "      <td>306.143</td>\n",
       "      <td>1528.0</td>\n",
       "      <td>1.0</td>\n",
       "      <td>0.571</td>\n",
       "      <td>...</td>\n",
       "      <td>37.6</td>\n",
       "      <td>NaN</td>\n",
       "      <td>2.000</td>\n",
       "      <td>77.29</td>\n",
       "      <td>0.852</td>\n",
       "      <td>1.472237e+06</td>\n",
       "      <td>NaN</td>\n",
       "      <td>NaN</td>\n",
       "      <td>NaN</td>\n",
       "      <td>NaN</td>\n",
       "    </tr>\n",
       "    <tr>\n",
       "      <th>18120</th>\n",
       "      <td>BGD</td>\n",
       "      <td>Asia</td>\n",
       "      <td>Bangladesh</td>\n",
       "      <td>2022-10-31</td>\n",
       "      <td>2035240.0</td>\n",
       "      <td>88.0</td>\n",
       "      <td>127.429</td>\n",
       "      <td>29423.0</td>\n",
       "      <td>0.0</td>\n",
       "      <td>1.143</td>\n",
       "      <td>...</td>\n",
       "      <td>44.7</td>\n",
       "      <td>34.808</td>\n",
       "      <td>0.800</td>\n",
       "      <td>72.59</td>\n",
       "      <td>0.632</td>\n",
       "      <td>1.711864e+08</td>\n",
       "      <td>NaN</td>\n",
       "      <td>NaN</td>\n",
       "      <td>NaN</td>\n",
       "      <td>NaN</td>\n",
       "    </tr>\n",
       "    <tr>\n",
       "      <th>19106</th>\n",
       "      <td>BRB</td>\n",
       "      <td>North America</td>\n",
       "      <td>Barbados</td>\n",
       "      <td>2022-10-31</td>\n",
       "      <td>103014.0</td>\n",
       "      <td>0.0</td>\n",
       "      <td>0.000</td>\n",
       "      <td>560.0</td>\n",
       "      <td>0.0</td>\n",
       "      <td>0.000</td>\n",
       "      <td>...</td>\n",
       "      <td>14.5</td>\n",
       "      <td>88.469</td>\n",
       "      <td>5.800</td>\n",
       "      <td>79.19</td>\n",
       "      <td>0.814</td>\n",
       "      <td>2.816460e+05</td>\n",
       "      <td>NaN</td>\n",
       "      <td>NaN</td>\n",
       "      <td>NaN</td>\n",
       "      <td>NaN</td>\n",
       "    </tr>\n",
       "    <tr>\n",
       "      <th>20110</th>\n",
       "      <td>BLR</td>\n",
       "      <td>Europe</td>\n",
       "      <td>Belarus</td>\n",
       "      <td>2022-10-31</td>\n",
       "      <td>994037.0</td>\n",
       "      <td>0.0</td>\n",
       "      <td>0.000</td>\n",
       "      <td>7118.0</td>\n",
       "      <td>0.0</td>\n",
       "      <td>0.000</td>\n",
       "      <td>...</td>\n",
       "      <td>46.1</td>\n",
       "      <td>NaN</td>\n",
       "      <td>11.000</td>\n",
       "      <td>74.79</td>\n",
       "      <td>0.823</td>\n",
       "      <td>9.534956e+06</td>\n",
       "      <td>NaN</td>\n",
       "      <td>NaN</td>\n",
       "      <td>NaN</td>\n",
       "      <td>NaN</td>\n",
       "    </tr>\n",
       "    <tr>\n",
       "      <th>21138</th>\n",
       "      <td>BEL</td>\n",
       "      <td>Europe</td>\n",
       "      <td>Belgium</td>\n",
       "      <td>2022-10-31</td>\n",
       "      <td>4612239.0</td>\n",
       "      <td>0.0</td>\n",
       "      <td>706.143</td>\n",
       "      <td>32902.0</td>\n",
       "      <td>0.0</td>\n",
       "      <td>2.714</td>\n",
       "      <td>...</td>\n",
       "      <td>31.4</td>\n",
       "      <td>NaN</td>\n",
       "      <td>5.640</td>\n",
       "      <td>81.63</td>\n",
       "      <td>0.931</td>\n",
       "      <td>1.165592e+07</td>\n",
       "      <td>NaN</td>\n",
       "      <td>NaN</td>\n",
       "      <td>NaN</td>\n",
       "      <td>NaN</td>\n",
       "    </tr>\n",
       "    <tr>\n",
       "      <th>22118</th>\n",
       "      <td>BLZ</td>\n",
       "      <td>North America</td>\n",
       "      <td>Belize</td>\n",
       "      <td>2022-10-31</td>\n",
       "      <td>68943.0</td>\n",
       "      <td>0.0</td>\n",
       "      <td>0.000</td>\n",
       "      <td>687.0</td>\n",
       "      <td>0.0</td>\n",
       "      <td>0.000</td>\n",
       "      <td>...</td>\n",
       "      <td>NaN</td>\n",
       "      <td>90.083</td>\n",
       "      <td>1.300</td>\n",
       "      <td>74.62</td>\n",
       "      <td>0.716</td>\n",
       "      <td>4.052850e+05</td>\n",
       "      <td>NaN</td>\n",
       "      <td>NaN</td>\n",
       "      <td>NaN</td>\n",
       "      <td>NaN</td>\n",
       "    </tr>\n",
       "    <tr>\n",
       "      <th>23105</th>\n",
       "      <td>BEN</td>\n",
       "      <td>Africa</td>\n",
       "      <td>Benin</td>\n",
       "      <td>2022-10-31</td>\n",
       "      <td>27782.0</td>\n",
       "      <td>0.0</td>\n",
       "      <td>0.000</td>\n",
       "      <td>163.0</td>\n",
       "      <td>0.0</td>\n",
       "      <td>0.000</td>\n",
       "      <td>...</td>\n",
       "      <td>12.3</td>\n",
       "      <td>11.035</td>\n",
       "      <td>0.500</td>\n",
       "      <td>61.77</td>\n",
       "      <td>0.545</td>\n",
       "      <td>1.335286e+07</td>\n",
       "      <td>NaN</td>\n",
       "      <td>NaN</td>\n",
       "      <td>NaN</td>\n",
       "      <td>NaN</td>\n",
       "    </tr>\n",
       "    <tr>\n",
       "      <th>25086</th>\n",
       "      <td>BTN</td>\n",
       "      <td>Asia</td>\n",
       "      <td>Bhutan</td>\n",
       "      <td>2022-10-31</td>\n",
       "      <td>62380.0</td>\n",
       "      <td>49.0</td>\n",
       "      <td>7.000</td>\n",
       "      <td>21.0</td>\n",
       "      <td>0.0</td>\n",
       "      <td>0.000</td>\n",
       "      <td>...</td>\n",
       "      <td>NaN</td>\n",
       "      <td>79.807</td>\n",
       "      <td>1.700</td>\n",
       "      <td>71.78</td>\n",
       "      <td>0.654</td>\n",
       "      <td>7.824570e+05</td>\n",
       "      <td>NaN</td>\n",
       "      <td>NaN</td>\n",
       "      <td>NaN</td>\n",
       "      <td>NaN</td>\n",
       "    </tr>\n",
       "    <tr>\n",
       "      <th>26078</th>\n",
       "      <td>BOL</td>\n",
       "      <td>South America</td>\n",
       "      <td>Bolivia</td>\n",
       "      <td>2022-10-31</td>\n",
       "      <td>1109447.0</td>\n",
       "      <td>0.0</td>\n",
       "      <td>29.857</td>\n",
       "      <td>22239.0</td>\n",
       "      <td>0.0</td>\n",
       "      <td>0.000</td>\n",
       "      <td>...</td>\n",
       "      <td>NaN</td>\n",
       "      <td>25.383</td>\n",
       "      <td>1.100</td>\n",
       "      <td>71.51</td>\n",
       "      <td>0.718</td>\n",
       "      <td>1.222411e+07</td>\n",
       "      <td>NaN</td>\n",
       "      <td>NaN</td>\n",
       "      <td>NaN</td>\n",
       "      <td>NaN</td>\n",
       "    </tr>\n",
       "    <tr>\n",
       "      <th>28046</th>\n",
       "      <td>BIH</td>\n",
       "      <td>Europe</td>\n",
       "      <td>Bosnia and Herzegovina</td>\n",
       "      <td>2022-10-31</td>\n",
       "      <td>399963.0</td>\n",
       "      <td>72.0</td>\n",
       "      <td>34.857</td>\n",
       "      <td>16174.0</td>\n",
       "      <td>5.0</td>\n",
       "      <td>1.143</td>\n",
       "      <td>...</td>\n",
       "      <td>47.7</td>\n",
       "      <td>97.164</td>\n",
       "      <td>3.500</td>\n",
       "      <td>77.40</td>\n",
       "      <td>0.780</td>\n",
       "      <td>3.233530e+06</td>\n",
       "      <td>NaN</td>\n",
       "      <td>NaN</td>\n",
       "      <td>NaN</td>\n",
       "      <td>NaN</td>\n",
       "    </tr>\n",
       "    <tr>\n",
       "      <th>29019</th>\n",
       "      <td>BWA</td>\n",
       "      <td>Africa</td>\n",
       "      <td>Botswana</td>\n",
       "      <td>2022-10-31</td>\n",
       "      <td>326344.0</td>\n",
       "      <td>0.0</td>\n",
       "      <td>0.000</td>\n",
       "      <td>2790.0</td>\n",
       "      <td>0.0</td>\n",
       "      <td>0.000</td>\n",
       "      <td>...</td>\n",
       "      <td>34.4</td>\n",
       "      <td>NaN</td>\n",
       "      <td>1.800</td>\n",
       "      <td>69.59</td>\n",
       "      <td>0.735</td>\n",
       "      <td>2.630300e+06</td>\n",
       "      <td>NaN</td>\n",
       "      <td>NaN</td>\n",
       "      <td>NaN</td>\n",
       "      <td>NaN</td>\n",
       "    </tr>\n",
       "    <tr>\n",
       "      <th>30025</th>\n",
       "      <td>BRA</td>\n",
       "      <td>South America</td>\n",
       "      <td>Brazil</td>\n",
       "      <td>2022-10-31</td>\n",
       "      <td>34828749.0</td>\n",
       "      <td>13491.0</td>\n",
       "      <td>6423.286</td>\n",
       "      <td>688157.0</td>\n",
       "      <td>195.0</td>\n",
       "      <td>83.286</td>\n",
       "      <td>...</td>\n",
       "      <td>17.9</td>\n",
       "      <td>NaN</td>\n",
       "      <td>2.200</td>\n",
       "      <td>75.88</td>\n",
       "      <td>0.765</td>\n",
       "      <td>2.153135e+08</td>\n",
       "      <td>NaN</td>\n",
       "      <td>NaN</td>\n",
       "      <td>NaN</td>\n",
       "      <td>NaN</td>\n",
       "    </tr>\n",
       "    <tr>\n",
       "      <th>31994</th>\n",
       "      <td>BRN</td>\n",
       "      <td>Asia</td>\n",
       "      <td>Brunei</td>\n",
       "      <td>2022-10-31</td>\n",
       "      <td>237656.0</td>\n",
       "      <td>0.0</td>\n",
       "      <td>439.143</td>\n",
       "      <td>225.0</td>\n",
       "      <td>0.0</td>\n",
       "      <td>0.000</td>\n",
       "      <td>...</td>\n",
       "      <td>30.9</td>\n",
       "      <td>NaN</td>\n",
       "      <td>2.700</td>\n",
       "      <td>75.86</td>\n",
       "      <td>0.838</td>\n",
       "      <td>4.490020e+05</td>\n",
       "      <td>NaN</td>\n",
       "      <td>NaN</td>\n",
       "      <td>NaN</td>\n",
       "      <td>NaN</td>\n",
       "    </tr>\n",
       "    <tr>\n",
       "      <th>32989</th>\n",
       "      <td>BGR</td>\n",
       "      <td>Europe</td>\n",
       "      <td>Bulgaria</td>\n",
       "      <td>2022-10-31</td>\n",
       "      <td>1279082.0</td>\n",
       "      <td>846.0</td>\n",
       "      <td>514.429</td>\n",
       "      <td>37880.0</td>\n",
       "      <td>20.0</td>\n",
       "      <td>5.714</td>\n",
       "      <td>...</td>\n",
       "      <td>44.4</td>\n",
       "      <td>NaN</td>\n",
       "      <td>7.454</td>\n",
       "      <td>75.05</td>\n",
       "      <td>0.816</td>\n",
       "      <td>6.781955e+06</td>\n",
       "      <td>NaN</td>\n",
       "      <td>NaN</td>\n",
       "      <td>NaN</td>\n",
       "      <td>NaN</td>\n",
       "    </tr>\n",
       "    <tr>\n",
       "      <th>33982</th>\n",
       "      <td>BFA</td>\n",
       "      <td>Africa</td>\n",
       "      <td>Burkina Faso</td>\n",
       "      <td>2022-10-31</td>\n",
       "      <td>21631.0</td>\n",
       "      <td>0.0</td>\n",
       "      <td>0.000</td>\n",
       "      <td>387.0</td>\n",
       "      <td>0.0</td>\n",
       "      <td>0.000</td>\n",
       "      <td>...</td>\n",
       "      <td>23.9</td>\n",
       "      <td>11.877</td>\n",
       "      <td>0.400</td>\n",
       "      <td>61.58</td>\n",
       "      <td>0.452</td>\n",
       "      <td>2.267376e+07</td>\n",
       "      <td>NaN</td>\n",
       "      <td>NaN</td>\n",
       "      <td>NaN</td>\n",
       "      <td>NaN</td>\n",
       "    </tr>\n",
       "    <tr>\n",
       "      <th>34954</th>\n",
       "      <td>BDI</td>\n",
       "      <td>Africa</td>\n",
       "      <td>Burundi</td>\n",
       "      <td>2022-10-31</td>\n",
       "      <td>50470.0</td>\n",
       "      <td>0.0</td>\n",
       "      <td>2.571</td>\n",
       "      <td>38.0</td>\n",
       "      <td>0.0</td>\n",
       "      <td>0.000</td>\n",
       "      <td>...</td>\n",
       "      <td>NaN</td>\n",
       "      <td>6.144</td>\n",
       "      <td>0.800</td>\n",
       "      <td>61.58</td>\n",
       "      <td>0.433</td>\n",
       "      <td>1.288958e+07</td>\n",
       "      <td>NaN</td>\n",
       "      <td>NaN</td>\n",
       "      <td>NaN</td>\n",
       "      <td>NaN</td>\n",
       "    </tr>\n",
       "    <tr>\n",
       "      <th>35990</th>\n",
       "      <td>KHM</td>\n",
       "      <td>Asia</td>\n",
       "      <td>Cambodia</td>\n",
       "      <td>2022-10-31</td>\n",
       "      <td>137991.0</td>\n",
       "      <td>3.0</td>\n",
       "      <td>1.714</td>\n",
       "      <td>3056.0</td>\n",
       "      <td>0.0</td>\n",
       "      <td>0.000</td>\n",
       "      <td>...</td>\n",
       "      <td>33.7</td>\n",
       "      <td>66.229</td>\n",
       "      <td>0.800</td>\n",
       "      <td>69.82</td>\n",
       "      <td>0.594</td>\n",
       "      <td>1.676785e+07</td>\n",
       "      <td>NaN</td>\n",
       "      <td>NaN</td>\n",
       "      <td>NaN</td>\n",
       "      <td>NaN</td>\n",
       "    </tr>\n",
       "    <tr>\n",
       "      <th>36987</th>\n",
       "      <td>CMR</td>\n",
       "      <td>Africa</td>\n",
       "      <td>Cameroon</td>\n",
       "      <td>2022-10-31</td>\n",
       "      <td>123629.0</td>\n",
       "      <td>0.0</td>\n",
       "      <td>0.000</td>\n",
       "      <td>1960.0</td>\n",
       "      <td>0.0</td>\n",
       "      <td>0.000</td>\n",
       "      <td>...</td>\n",
       "      <td>NaN</td>\n",
       "      <td>2.735</td>\n",
       "      <td>1.300</td>\n",
       "      <td>59.29</td>\n",
       "      <td>0.563</td>\n",
       "      <td>2.791454e+07</td>\n",
       "      <td>NaN</td>\n",
       "      <td>NaN</td>\n",
       "      <td>NaN</td>\n",
       "      <td>NaN</td>\n",
       "    </tr>\n",
       "    <tr>\n",
       "      <th>38027</th>\n",
       "      <td>CAN</td>\n",
       "      <td>North America</td>\n",
       "      <td>Canada</td>\n",
       "      <td>2022-10-31</td>\n",
       "      <td>4368845.0</td>\n",
       "      <td>561.0</td>\n",
       "      <td>3091.857</td>\n",
       "      <td>46674.0</td>\n",
       "      <td>2.0</td>\n",
       "      <td>50.714</td>\n",
       "      <td>...</td>\n",
       "      <td>16.6</td>\n",
       "      <td>NaN</td>\n",
       "      <td>2.500</td>\n",
       "      <td>82.43</td>\n",
       "      <td>0.929</td>\n",
       "      <td>3.845433e+07</td>\n",
       "      <td>NaN</td>\n",
       "      <td>NaN</td>\n",
       "      <td>NaN</td>\n",
       "      <td>NaN</td>\n",
       "    </tr>\n",
       "    <tr>\n",
       "      <th>39010</th>\n",
       "      <td>CPV</td>\n",
       "      <td>Africa</td>\n",
       "      <td>Cape Verde</td>\n",
       "      <td>2022-10-31</td>\n",
       "      <td>62397.0</td>\n",
       "      <td>0.0</td>\n",
       "      <td>0.000</td>\n",
       "      <td>410.0</td>\n",
       "      <td>0.0</td>\n",
       "      <td>0.000</td>\n",
       "      <td>...</td>\n",
       "      <td>16.5</td>\n",
       "      <td>NaN</td>\n",
       "      <td>2.100</td>\n",
       "      <td>72.98</td>\n",
       "      <td>0.665</td>\n",
       "      <td>5.931620e+05</td>\n",
       "      <td>NaN</td>\n",
       "      <td>NaN</td>\n",
       "      <td>NaN</td>\n",
       "      <td>NaN</td>\n",
       "    </tr>\n",
       "    <tr>\n",
       "      <th>40988</th>\n",
       "      <td>CAF</td>\n",
       "      <td>Africa</td>\n",
       "      <td>Central African Republic</td>\n",
       "      <td>2022-10-31</td>\n",
       "      <td>15260.0</td>\n",
       "      <td>0.0</td>\n",
       "      <td>4.571</td>\n",
       "      <td>113.0</td>\n",
       "      <td>0.0</td>\n",
       "      <td>0.000</td>\n",
       "      <td>...</td>\n",
       "      <td>NaN</td>\n",
       "      <td>16.603</td>\n",
       "      <td>1.000</td>\n",
       "      <td>53.28</td>\n",
       "      <td>0.397</td>\n",
       "      <td>5.579148e+06</td>\n",
       "      <td>NaN</td>\n",
       "      <td>NaN</td>\n",
       "      <td>NaN</td>\n",
       "      <td>NaN</td>\n",
       "    </tr>\n",
       "    <tr>\n",
       "      <th>41972</th>\n",
       "      <td>TCD</td>\n",
       "      <td>Africa</td>\n",
       "      <td>Chad</td>\n",
       "      <td>2022-10-31</td>\n",
       "      <td>7627.0</td>\n",
       "      <td>7.0</td>\n",
       "      <td>1.000</td>\n",
       "      <td>194.0</td>\n",
       "      <td>0.0</td>\n",
       "      <td>0.000</td>\n",
       "      <td>...</td>\n",
       "      <td>NaN</td>\n",
       "      <td>5.818</td>\n",
       "      <td>NaN</td>\n",
       "      <td>54.24</td>\n",
       "      <td>0.398</td>\n",
       "      <td>1.772331e+07</td>\n",
       "      <td>NaN</td>\n",
       "      <td>NaN</td>\n",
       "      <td>NaN</td>\n",
       "      <td>NaN</td>\n",
       "    </tr>\n",
       "    <tr>\n",
       "      <th>42981</th>\n",
       "      <td>CHL</td>\n",
       "      <td>South America</td>\n",
       "      <td>Chile</td>\n",
       "      <td>2022-10-31</td>\n",
       "      <td>4760186.0</td>\n",
       "      <td>3980.0</td>\n",
       "      <td>5888.714</td>\n",
       "      <td>61677.0</td>\n",
       "      <td>0.0</td>\n",
       "      <td>18.286</td>\n",
       "      <td>...</td>\n",
       "      <td>41.5</td>\n",
       "      <td>NaN</td>\n",
       "      <td>2.110</td>\n",
       "      <td>80.18</td>\n",
       "      <td>0.851</td>\n",
       "      <td>1.960374e+07</td>\n",
       "      <td>NaN</td>\n",
       "      <td>NaN</td>\n",
       "      <td>NaN</td>\n",
       "      <td>NaN</td>\n",
       "    </tr>\n",
       "    <tr>\n",
       "      <th>44022</th>\n",
       "      <td>CHN</td>\n",
       "      <td>Asia</td>\n",
       "      <td>China</td>\n",
       "      <td>2022-10-31</td>\n",
       "      <td>1032790.0</td>\n",
       "      <td>2872.0</td>\n",
       "      <td>1667.571</td>\n",
       "      <td>5549.0</td>\n",
       "      <td>0.0</td>\n",
       "      <td>0.000</td>\n",
       "      <td>...</td>\n",
       "      <td>48.4</td>\n",
       "      <td>NaN</td>\n",
       "      <td>4.340</td>\n",
       "      <td>76.91</td>\n",
       "      <td>0.761</td>\n",
       "      <td>1.425887e+09</td>\n",
       "      <td>NaN</td>\n",
       "      <td>NaN</td>\n",
       "      <td>NaN</td>\n",
       "      <td>NaN</td>\n",
       "    </tr>\n",
       "    <tr>\n",
       "      <th>45019</th>\n",
       "      <td>COL</td>\n",
       "      <td>South America</td>\n",
       "      <td>Colombia</td>\n",
       "      <td>2022-10-31</td>\n",
       "      <td>6309716.0</td>\n",
       "      <td>0.0</td>\n",
       "      <td>78.286</td>\n",
       "      <td>141837.0</td>\n",
       "      <td>0.0</td>\n",
       "      <td>1.429</td>\n",
       "      <td>...</td>\n",
       "      <td>13.5</td>\n",
       "      <td>65.386</td>\n",
       "      <td>1.710</td>\n",
       "      <td>77.29</td>\n",
       "      <td>0.767</td>\n",
       "      <td>5.187403e+07</td>\n",
       "      <td>NaN</td>\n",
       "      <td>NaN</td>\n",
       "      <td>NaN</td>\n",
       "      <td>NaN</td>\n",
       "    </tr>\n",
       "    <tr>\n",
       "      <th>45961</th>\n",
       "      <td>COM</td>\n",
       "      <td>Africa</td>\n",
       "      <td>Comoros</td>\n",
       "      <td>2022-10-31</td>\n",
       "      <td>8762.0</td>\n",
       "      <td>0.0</td>\n",
       "      <td>12.857</td>\n",
       "      <td>161.0</td>\n",
       "      <td>0.0</td>\n",
       "      <td>0.000</td>\n",
       "      <td>...</td>\n",
       "      <td>23.6</td>\n",
       "      <td>15.574</td>\n",
       "      <td>2.200</td>\n",
       "      <td>64.32</td>\n",
       "      <td>0.554</td>\n",
       "      <td>8.367830e+05</td>\n",
       "      <td>NaN</td>\n",
       "      <td>NaN</td>\n",
       "      <td>NaN</td>\n",
       "      <td>NaN</td>\n",
       "    </tr>\n",
       "    <tr>\n",
       "      <th>46949</th>\n",
       "      <td>COG</td>\n",
       "      <td>Africa</td>\n",
       "      <td>Congo</td>\n",
       "      <td>2022-10-31</td>\n",
       "      <td>24837.0</td>\n",
       "      <td>0.0</td>\n",
       "      <td>0.000</td>\n",
       "      <td>386.0</td>\n",
       "      <td>0.0</td>\n",
       "      <td>0.000</td>\n",
       "      <td>...</td>\n",
       "      <td>52.3</td>\n",
       "      <td>47.964</td>\n",
       "      <td>NaN</td>\n",
       "      <td>64.57</td>\n",
       "      <td>0.574</td>\n",
       "      <td>5.970430e+06</td>\n",
       "      <td>NaN</td>\n",
       "      <td>NaN</td>\n",
       "      <td>NaN</td>\n",
       "      <td>NaN</td>\n",
       "    </tr>\n",
       "    <tr>\n",
       "      <th>48502</th>\n",
       "      <td>CRI</td>\n",
       "      <td>North America</td>\n",
       "      <td>Costa Rica</td>\n",
       "      <td>2022-10-31</td>\n",
       "      <td>1133096.0</td>\n",
       "      <td>0.0</td>\n",
       "      <td>361.143</td>\n",
       "      <td>8990.0</td>\n",
       "      <td>0.0</td>\n",
       "      <td>1.143</td>\n",
       "      <td>...</td>\n",
       "      <td>17.4</td>\n",
       "      <td>83.841</td>\n",
       "      <td>1.130</td>\n",
       "      <td>80.28</td>\n",
       "      <td>0.810</td>\n",
       "      <td>5.180836e+06</td>\n",
       "      <td>NaN</td>\n",
       "      <td>NaN</td>\n",
       "      <td>NaN</td>\n",
       "      <td>NaN</td>\n",
       "    </tr>\n",
       "    <tr>\n",
       "      <th>49494</th>\n",
       "      <td>CIV</td>\n",
       "      <td>Africa</td>\n",
       "      <td>Cote d'Ivoire</td>\n",
       "      <td>2022-10-31</td>\n",
       "      <td>87774.0</td>\n",
       "      <td>1.0</td>\n",
       "      <td>10.571</td>\n",
       "      <td>827.0</td>\n",
       "      <td>0.0</td>\n",
       "      <td>0.000</td>\n",
       "      <td>...</td>\n",
       "      <td>NaN</td>\n",
       "      <td>19.351</td>\n",
       "      <td>NaN</td>\n",
       "      <td>57.78</td>\n",
       "      <td>0.538</td>\n",
       "      <td>2.816055e+07</td>\n",
       "      <td>NaN</td>\n",
       "      <td>NaN</td>\n",
       "      <td>NaN</td>\n",
       "      <td>NaN</td>\n",
       "    </tr>\n",
       "    <tr>\n",
       "      <th>50501</th>\n",
       "      <td>HRV</td>\n",
       "      <td>Europe</td>\n",
       "      <td>Croatia</td>\n",
       "      <td>2022-10-31</td>\n",
       "      <td>1246947.0</td>\n",
       "      <td>27.0</td>\n",
       "      <td>322.143</td>\n",
       "      <td>17142.0</td>\n",
       "      <td>6.0</td>\n",
       "      <td>8.143</td>\n",
       "      <td>...</td>\n",
       "      <td>39.9</td>\n",
       "      <td>NaN</td>\n",
       "      <td>5.540</td>\n",
       "      <td>78.49</td>\n",
       "      <td>0.851</td>\n",
       "      <td>4.030361e+06</td>\n",
       "      <td>NaN</td>\n",
       "      <td>NaN</td>\n",
       "      <td>NaN</td>\n",
       "      <td>NaN</td>\n",
       "    </tr>\n",
       "    <tr>\n",
       "      <th>53475</th>\n",
       "      <td>CYP</td>\n",
       "      <td>Europe</td>\n",
       "      <td>Cyprus</td>\n",
       "      <td>2022-10-31</td>\n",
       "      <td>599118.0</td>\n",
       "      <td>0.0</td>\n",
       "      <td>403.000</td>\n",
       "      <td>1194.0</td>\n",
       "      <td>0.0</td>\n",
       "      <td>0.429</td>\n",
       "      <td>...</td>\n",
       "      <td>52.7</td>\n",
       "      <td>NaN</td>\n",
       "      <td>3.400</td>\n",
       "      <td>80.98</td>\n",
       "      <td>0.887</td>\n",
       "      <td>8.960070e+05</td>\n",
       "      <td>NaN</td>\n",
       "      <td>NaN</td>\n",
       "      <td>NaN</td>\n",
       "      <td>NaN</td>\n",
       "    </tr>\n",
       "    <tr>\n",
       "      <th>54477</th>\n",
       "      <td>CZE</td>\n",
       "      <td>Europe</td>\n",
       "      <td>Czechia</td>\n",
       "      <td>2022-10-31</td>\n",
       "      <td>4156923.0</td>\n",
       "      <td>97.0</td>\n",
       "      <td>1682.429</td>\n",
       "      <td>41580.0</td>\n",
       "      <td>7.0</td>\n",
       "      <td>8.000</td>\n",
       "      <td>...</td>\n",
       "      <td>38.3</td>\n",
       "      <td>NaN</td>\n",
       "      <td>6.630</td>\n",
       "      <td>79.38</td>\n",
       "      <td>0.900</td>\n",
       "      <td>1.049399e+07</td>\n",
       "      <td>NaN</td>\n",
       "      <td>NaN</td>\n",
       "      <td>NaN</td>\n",
       "      <td>NaN</td>\n",
       "    </tr>\n",
       "    <tr>\n",
       "      <th>55469</th>\n",
       "      <td>COD</td>\n",
       "      <td>Africa</td>\n",
       "      <td>Democratic Republic of Congo</td>\n",
       "      <td>2022-10-31</td>\n",
       "      <td>93086.0</td>\n",
       "      <td>0.0</td>\n",
       "      <td>8.429</td>\n",
       "      <td>1445.0</td>\n",
       "      <td>0.0</td>\n",
       "      <td>0.000</td>\n",
       "      <td>...</td>\n",
       "      <td>NaN</td>\n",
       "      <td>4.472</td>\n",
       "      <td>NaN</td>\n",
       "      <td>60.68</td>\n",
       "      <td>0.480</td>\n",
       "      <td>9.901022e+07</td>\n",
       "      <td>NaN</td>\n",
       "      <td>NaN</td>\n",
       "      <td>NaN</td>\n",
       "      <td>NaN</td>\n",
       "    </tr>\n",
       "    <tr>\n",
       "      <th>56499</th>\n",
       "      <td>DNK</td>\n",
       "      <td>Europe</td>\n",
       "      <td>Denmark</td>\n",
       "      <td>2022-10-31</td>\n",
       "      <td>3334594.0</td>\n",
       "      <td>1830.0</td>\n",
       "      <td>867.000</td>\n",
       "      <td>7347.0</td>\n",
       "      <td>26.0</td>\n",
       "      <td>8.714</td>\n",
       "      <td>...</td>\n",
       "      <td>18.8</td>\n",
       "      <td>NaN</td>\n",
       "      <td>2.500</td>\n",
       "      <td>80.90</td>\n",
       "      <td>0.940</td>\n",
       "      <td>5.882259e+06</td>\n",
       "      <td>NaN</td>\n",
       "      <td>NaN</td>\n",
       "      <td>NaN</td>\n",
       "      <td>NaN</td>\n",
       "    </tr>\n",
       "    <tr>\n",
       "      <th>57484</th>\n",
       "      <td>DJI</td>\n",
       "      <td>Africa</td>\n",
       "      <td>Djibouti</td>\n",
       "      <td>2022-10-31</td>\n",
       "      <td>15690.0</td>\n",
       "      <td>0.0</td>\n",
       "      <td>0.000</td>\n",
       "      <td>189.0</td>\n",
       "      <td>0.0</td>\n",
       "      <td>0.000</td>\n",
       "      <td>...</td>\n",
       "      <td>24.5</td>\n",
       "      <td>NaN</td>\n",
       "      <td>1.400</td>\n",
       "      <td>67.11</td>\n",
       "      <td>0.524</td>\n",
       "      <td>1.120851e+06</td>\n",
       "      <td>NaN</td>\n",
       "      <td>NaN</td>\n",
       "      <td>NaN</td>\n",
       "      <td>NaN</td>\n",
       "    </tr>\n",
       "    <tr>\n",
       "      <th>59467</th>\n",
       "      <td>DOM</td>\n",
       "      <td>North America</td>\n",
       "      <td>Dominican Republic</td>\n",
       "      <td>2022-10-31</td>\n",
       "      <td>647272.0</td>\n",
       "      <td>67.0</td>\n",
       "      <td>9.571</td>\n",
       "      <td>4384.0</td>\n",
       "      <td>0.0</td>\n",
       "      <td>0.000</td>\n",
       "      <td>...</td>\n",
       "      <td>19.1</td>\n",
       "      <td>55.182</td>\n",
       "      <td>1.600</td>\n",
       "      <td>74.08</td>\n",
       "      <td>0.756</td>\n",
       "      <td>1.122882e+07</td>\n",
       "      <td>NaN</td>\n",
       "      <td>NaN</td>\n",
       "      <td>NaN</td>\n",
       "      <td>NaN</td>\n",
       "    </tr>\n",
       "    <tr>\n",
       "      <th>60469</th>\n",
       "      <td>ECU</td>\n",
       "      <td>South America</td>\n",
       "      <td>Ecuador</td>\n",
       "      <td>2022-10-31</td>\n",
       "      <td>1008035.0</td>\n",
       "      <td>0.0</td>\n",
       "      <td>68.857</td>\n",
       "      <td>35920.0</td>\n",
       "      <td>0.0</td>\n",
       "      <td>1.714</td>\n",
       "      <td>...</td>\n",
       "      <td>12.3</td>\n",
       "      <td>80.635</td>\n",
       "      <td>1.500</td>\n",
       "      <td>77.01</td>\n",
       "      <td>0.759</td>\n",
       "      <td>1.800100e+07</td>\n",
       "      <td>NaN</td>\n",
       "      <td>NaN</td>\n",
       "      <td>NaN</td>\n",
       "      <td>NaN</td>\n",
       "    </tr>\n",
       "    <tr>\n",
       "      <th>61487</th>\n",
       "      <td>EGY</td>\n",
       "      <td>Africa</td>\n",
       "      <td>Egypt</td>\n",
       "      <td>2022-10-31</td>\n",
       "      <td>515645.0</td>\n",
       "      <td>0.0</td>\n",
       "      <td>0.000</td>\n",
       "      <td>24798.0</td>\n",
       "      <td>0.0</td>\n",
       "      <td>0.000</td>\n",
       "      <td>...</td>\n",
       "      <td>50.1</td>\n",
       "      <td>89.827</td>\n",
       "      <td>1.600</td>\n",
       "      <td>71.99</td>\n",
       "      <td>0.707</td>\n",
       "      <td>1.109901e+08</td>\n",
       "      <td>NaN</td>\n",
       "      <td>NaN</td>\n",
       "      <td>NaN</td>\n",
       "      <td>NaN</td>\n",
       "    </tr>\n",
       "    <tr>\n",
       "      <th>62471</th>\n",
       "      <td>SLV</td>\n",
       "      <td>North America</td>\n",
       "      <td>El Salvador</td>\n",
       "      <td>2022-10-31</td>\n",
       "      <td>201785.0</td>\n",
       "      <td>0.0</td>\n",
       "      <td>0.000</td>\n",
       "      <td>4230.0</td>\n",
       "      <td>0.0</td>\n",
       "      <td>0.000</td>\n",
       "      <td>...</td>\n",
       "      <td>18.8</td>\n",
       "      <td>90.650</td>\n",
       "      <td>1.300</td>\n",
       "      <td>73.32</td>\n",
       "      <td>0.673</td>\n",
       "      <td>6.336393e+06</td>\n",
       "      <td>NaN</td>\n",
       "      <td>NaN</td>\n",
       "      <td>NaN</td>\n",
       "      <td>NaN</td>\n",
       "    </tr>\n",
       "  </tbody>\n",
       "</table>\n",
       "<p>50 rows × 67 columns</p>\n",
       "</div>"
      ],
      "text/plain": [
       "      iso_code      continent                      location        date  \\\n",
       "980        AFG           Asia                   Afghanistan  2022-10-31   \n",
       "3006       ALB         Europe                       Albania  2022-10-31   \n",
       "4013       DZA         Africa                       Algeria  2022-10-31   \n",
       "5997       AGO         Africa                        Angola  2022-10-31   \n",
       "7962       ATG  North America           Antigua and Barbuda  2022-10-31   \n",
       "9024       ARG  South America                     Argentina  2022-10-31   \n",
       "10053      ARM           Asia                       Armenia  2022-10-31   \n",
       "13121      AUS        Oceania                     Australia  2022-10-31   \n",
       "14128      AUT         Europe                       Austria  2022-10-31   \n",
       "15130      AZE           Asia                    Azerbaijan  2022-10-31   \n",
       "16117      BHS  North America                       Bahamas  2022-10-31   \n",
       "17125      BHR           Asia                       Bahrain  2022-10-31   \n",
       "18120      BGD           Asia                    Bangladesh  2022-10-31   \n",
       "19106      BRB  North America                      Barbados  2022-10-31   \n",
       "20110      BLR         Europe                       Belarus  2022-10-31   \n",
       "21138      BEL         Europe                       Belgium  2022-10-31   \n",
       "22118      BLZ  North America                        Belize  2022-10-31   \n",
       "23105      BEN         Africa                         Benin  2022-10-31   \n",
       "25086      BTN           Asia                        Bhutan  2022-10-31   \n",
       "26078      BOL  South America                       Bolivia  2022-10-31   \n",
       "28046      BIH         Europe        Bosnia and Herzegovina  2022-10-31   \n",
       "29019      BWA         Africa                      Botswana  2022-10-31   \n",
       "30025      BRA  South America                        Brazil  2022-10-31   \n",
       "31994      BRN           Asia                        Brunei  2022-10-31   \n",
       "32989      BGR         Europe                      Bulgaria  2022-10-31   \n",
       "33982      BFA         Africa                  Burkina Faso  2022-10-31   \n",
       "34954      BDI         Africa                       Burundi  2022-10-31   \n",
       "35990      KHM           Asia                      Cambodia  2022-10-31   \n",
       "36987      CMR         Africa                      Cameroon  2022-10-31   \n",
       "38027      CAN  North America                        Canada  2022-10-31   \n",
       "39010      CPV         Africa                    Cape Verde  2022-10-31   \n",
       "40988      CAF         Africa      Central African Republic  2022-10-31   \n",
       "41972      TCD         Africa                          Chad  2022-10-31   \n",
       "42981      CHL  South America                         Chile  2022-10-31   \n",
       "44022      CHN           Asia                         China  2022-10-31   \n",
       "45019      COL  South America                      Colombia  2022-10-31   \n",
       "45961      COM         Africa                       Comoros  2022-10-31   \n",
       "46949      COG         Africa                         Congo  2022-10-31   \n",
       "48502      CRI  North America                    Costa Rica  2022-10-31   \n",
       "49494      CIV         Africa                 Cote d'Ivoire  2022-10-31   \n",
       "50501      HRV         Europe                       Croatia  2022-10-31   \n",
       "53475      CYP         Europe                        Cyprus  2022-10-31   \n",
       "54477      CZE         Europe                       Czechia  2022-10-31   \n",
       "55469      COD         Africa  Democratic Republic of Congo  2022-10-31   \n",
       "56499      DNK         Europe                       Denmark  2022-10-31   \n",
       "57484      DJI         Africa                      Djibouti  2022-10-31   \n",
       "59467      DOM  North America            Dominican Republic  2022-10-31   \n",
       "60469      ECU  South America                       Ecuador  2022-10-31   \n",
       "61487      EGY         Africa                         Egypt  2022-10-31   \n",
       "62471      SLV  North America                   El Salvador  2022-10-31   \n",
       "\n",
       "       total_cases  new_cases  new_cases_smoothed  total_deaths  new_deaths  \\\n",
       "980       203063.0       97.0             123.429        7822.0         1.0   \n",
       "3006      332966.0        0.0              27.143        3593.0         0.0   \n",
       "4013      270838.0        2.0               7.143        6881.0         0.0   \n",
       "5997      103131.0        0.0               0.000        1917.0         0.0   \n",
       "7962        9106.0        0.0               0.000         146.0         0.0   \n",
       "9024     9718875.0        0.0             189.857      129991.0         0.0   \n",
       "10053     445242.0      142.0              20.286        8709.0         3.0   \n",
       "13121   10379442.0     1654.0            4883.714       15665.0         5.0   \n",
       "14128    5439567.0     2846.0            5343.571       20981.0         2.0   \n",
       "15130     823258.0       11.0              42.714        9944.0         0.0   \n",
       "16117      37386.0        0.0               3.143         833.0         0.0   \n",
       "17125     690187.0      367.0             306.143        1528.0         1.0   \n",
       "18120    2035240.0       88.0             127.429       29423.0         0.0   \n",
       "19106     103014.0        0.0               0.000         560.0         0.0   \n",
       "20110     994037.0        0.0               0.000        7118.0         0.0   \n",
       "21138    4612239.0        0.0             706.143       32902.0         0.0   \n",
       "22118      68943.0        0.0               0.000         687.0         0.0   \n",
       "23105      27782.0        0.0               0.000         163.0         0.0   \n",
       "25086      62380.0       49.0               7.000          21.0         0.0   \n",
       "26078    1109447.0        0.0              29.857       22239.0         0.0   \n",
       "28046     399963.0       72.0              34.857       16174.0         5.0   \n",
       "29019     326344.0        0.0               0.000        2790.0         0.0   \n",
       "30025   34828749.0    13491.0            6423.286      688157.0       195.0   \n",
       "31994     237656.0        0.0             439.143         225.0         0.0   \n",
       "32989    1279082.0      846.0             514.429       37880.0        20.0   \n",
       "33982      21631.0        0.0               0.000         387.0         0.0   \n",
       "34954      50470.0        0.0               2.571          38.0         0.0   \n",
       "35990     137991.0        3.0               1.714        3056.0         0.0   \n",
       "36987     123629.0        0.0               0.000        1960.0         0.0   \n",
       "38027    4368845.0      561.0            3091.857       46674.0         2.0   \n",
       "39010      62397.0        0.0               0.000         410.0         0.0   \n",
       "40988      15260.0        0.0               4.571         113.0         0.0   \n",
       "41972       7627.0        7.0               1.000         194.0         0.0   \n",
       "42981    4760186.0     3980.0            5888.714       61677.0         0.0   \n",
       "44022    1032790.0     2872.0            1667.571        5549.0         0.0   \n",
       "45019    6309716.0        0.0              78.286      141837.0         0.0   \n",
       "45961       8762.0        0.0              12.857         161.0         0.0   \n",
       "46949      24837.0        0.0               0.000         386.0         0.0   \n",
       "48502    1133096.0        0.0             361.143        8990.0         0.0   \n",
       "49494      87774.0        1.0              10.571         827.0         0.0   \n",
       "50501    1246947.0       27.0             322.143       17142.0         6.0   \n",
       "53475     599118.0        0.0             403.000        1194.0         0.0   \n",
       "54477    4156923.0       97.0            1682.429       41580.0         7.0   \n",
       "55469      93086.0        0.0               8.429        1445.0         0.0   \n",
       "56499    3334594.0     1830.0             867.000        7347.0        26.0   \n",
       "57484      15690.0        0.0               0.000         189.0         0.0   \n",
       "59467     647272.0       67.0               9.571        4384.0         0.0   \n",
       "60469    1008035.0        0.0              68.857       35920.0         0.0   \n",
       "61487     515645.0        0.0               0.000       24798.0         0.0   \n",
       "62471     201785.0        0.0               0.000        4230.0         0.0   \n",
       "\n",
       "       new_deaths_smoothed  ...  male_smokers  handwashing_facilities  \\\n",
       "980                  0.571  ...           NaN                  37.746   \n",
       "3006                 0.143  ...          51.2                     NaN   \n",
       "4013                 0.000  ...          30.4                  83.741   \n",
       "5997                 0.000  ...           NaN                  26.664   \n",
       "7962                 0.000  ...           NaN                     NaN   \n",
       "9024                 1.714  ...          27.7                     NaN   \n",
       "10053                0.429  ...          52.1                  94.043   \n",
       "13121               12.143  ...          16.5                     NaN   \n",
       "14128               11.714  ...          30.9                     NaN   \n",
       "15130                1.000  ...          42.5                  83.241   \n",
       "16117                0.000  ...          20.4                     NaN   \n",
       "17125                0.571  ...          37.6                     NaN   \n",
       "18120                1.143  ...          44.7                  34.808   \n",
       "19106                0.000  ...          14.5                  88.469   \n",
       "20110                0.000  ...          46.1                     NaN   \n",
       "21138                2.714  ...          31.4                     NaN   \n",
       "22118                0.000  ...           NaN                  90.083   \n",
       "23105                0.000  ...          12.3                  11.035   \n",
       "25086                0.000  ...           NaN                  79.807   \n",
       "26078                0.000  ...           NaN                  25.383   \n",
       "28046                1.143  ...          47.7                  97.164   \n",
       "29019                0.000  ...          34.4                     NaN   \n",
       "30025               83.286  ...          17.9                     NaN   \n",
       "31994                0.000  ...          30.9                     NaN   \n",
       "32989                5.714  ...          44.4                     NaN   \n",
       "33982                0.000  ...          23.9                  11.877   \n",
       "34954                0.000  ...           NaN                   6.144   \n",
       "35990                0.000  ...          33.7                  66.229   \n",
       "36987                0.000  ...           NaN                   2.735   \n",
       "38027               50.714  ...          16.6                     NaN   \n",
       "39010                0.000  ...          16.5                     NaN   \n",
       "40988                0.000  ...           NaN                  16.603   \n",
       "41972                0.000  ...           NaN                   5.818   \n",
       "42981               18.286  ...          41.5                     NaN   \n",
       "44022                0.000  ...          48.4                     NaN   \n",
       "45019                1.429  ...          13.5                  65.386   \n",
       "45961                0.000  ...          23.6                  15.574   \n",
       "46949                0.000  ...          52.3                  47.964   \n",
       "48502                1.143  ...          17.4                  83.841   \n",
       "49494                0.000  ...           NaN                  19.351   \n",
       "50501                8.143  ...          39.9                     NaN   \n",
       "53475                0.429  ...          52.7                     NaN   \n",
       "54477                8.000  ...          38.3                     NaN   \n",
       "55469                0.000  ...           NaN                   4.472   \n",
       "56499                8.714  ...          18.8                     NaN   \n",
       "57484                0.000  ...          24.5                     NaN   \n",
       "59467                0.000  ...          19.1                  55.182   \n",
       "60469                1.714  ...          12.3                  80.635   \n",
       "61487                0.000  ...          50.1                  89.827   \n",
       "62471                0.000  ...          18.8                  90.650   \n",
       "\n",
       "       hospital_beds_per_thousand  life_expectancy  human_development_index  \\\n",
       "980                         0.500            64.83                    0.511   \n",
       "3006                        2.890            78.57                    0.795   \n",
       "4013                        1.900            76.88                    0.748   \n",
       "5997                          NaN            61.15                    0.581   \n",
       "7962                        3.800            77.02                    0.778   \n",
       "9024                        5.000            76.67                    0.845   \n",
       "10053                       4.200            75.09                    0.776   \n",
       "13121                       3.840            83.44                    0.944   \n",
       "14128                       7.370            81.54                    0.922   \n",
       "15130                       4.700            73.00                    0.756   \n",
       "16117                       2.900            73.92                    0.814   \n",
       "17125                       2.000            77.29                    0.852   \n",
       "18120                       0.800            72.59                    0.632   \n",
       "19106                       5.800            79.19                    0.814   \n",
       "20110                      11.000            74.79                    0.823   \n",
       "21138                       5.640            81.63                    0.931   \n",
       "22118                       1.300            74.62                    0.716   \n",
       "23105                       0.500            61.77                    0.545   \n",
       "25086                       1.700            71.78                    0.654   \n",
       "26078                       1.100            71.51                    0.718   \n",
       "28046                       3.500            77.40                    0.780   \n",
       "29019                       1.800            69.59                    0.735   \n",
       "30025                       2.200            75.88                    0.765   \n",
       "31994                       2.700            75.86                    0.838   \n",
       "32989                       7.454            75.05                    0.816   \n",
       "33982                       0.400            61.58                    0.452   \n",
       "34954                       0.800            61.58                    0.433   \n",
       "35990                       0.800            69.82                    0.594   \n",
       "36987                       1.300            59.29                    0.563   \n",
       "38027                       2.500            82.43                    0.929   \n",
       "39010                       2.100            72.98                    0.665   \n",
       "40988                       1.000            53.28                    0.397   \n",
       "41972                         NaN            54.24                    0.398   \n",
       "42981                       2.110            80.18                    0.851   \n",
       "44022                       4.340            76.91                    0.761   \n",
       "45019                       1.710            77.29                    0.767   \n",
       "45961                       2.200            64.32                    0.554   \n",
       "46949                         NaN            64.57                    0.574   \n",
       "48502                       1.130            80.28                    0.810   \n",
       "49494                         NaN            57.78                    0.538   \n",
       "50501                       5.540            78.49                    0.851   \n",
       "53475                       3.400            80.98                    0.887   \n",
       "54477                       6.630            79.38                    0.900   \n",
       "55469                         NaN            60.68                    0.480   \n",
       "56499                       2.500            80.90                    0.940   \n",
       "57484                       1.400            67.11                    0.524   \n",
       "59467                       1.600            74.08                    0.756   \n",
       "60469                       1.500            77.01                    0.759   \n",
       "61487                       1.600            71.99                    0.707   \n",
       "62471                       1.300            73.32                    0.673   \n",
       "\n",
       "         population  excess_mortality_cumulative_absolute  \\\n",
       "980    4.112877e+07                                   NaN   \n",
       "3006   2.842318e+06                                   NaN   \n",
       "4013   4.490323e+07                                   NaN   \n",
       "5997   3.558900e+07                                   NaN   \n",
       "7962   9.377200e+04                                   NaN   \n",
       "9024   4.551032e+07                                   NaN   \n",
       "10053  2.780472e+06                                   NaN   \n",
       "13121  2.617741e+07                                   NaN   \n",
       "14128  8.939617e+06                                   NaN   \n",
       "15130  1.035808e+07                                   NaN   \n",
       "16117  4.099890e+05                                   NaN   \n",
       "17125  1.472237e+06                                   NaN   \n",
       "18120  1.711864e+08                                   NaN   \n",
       "19106  2.816460e+05                                   NaN   \n",
       "20110  9.534956e+06                                   NaN   \n",
       "21138  1.165592e+07                                   NaN   \n",
       "22118  4.052850e+05                                   NaN   \n",
       "23105  1.335286e+07                                   NaN   \n",
       "25086  7.824570e+05                                   NaN   \n",
       "26078  1.222411e+07                                   NaN   \n",
       "28046  3.233530e+06                                   NaN   \n",
       "29019  2.630300e+06                                   NaN   \n",
       "30025  2.153135e+08                                   NaN   \n",
       "31994  4.490020e+05                                   NaN   \n",
       "32989  6.781955e+06                                   NaN   \n",
       "33982  2.267376e+07                                   NaN   \n",
       "34954  1.288958e+07                                   NaN   \n",
       "35990  1.676785e+07                                   NaN   \n",
       "36987  2.791454e+07                                   NaN   \n",
       "38027  3.845433e+07                                   NaN   \n",
       "39010  5.931620e+05                                   NaN   \n",
       "40988  5.579148e+06                                   NaN   \n",
       "41972  1.772331e+07                                   NaN   \n",
       "42981  1.960374e+07                                   NaN   \n",
       "44022  1.425887e+09                                   NaN   \n",
       "45019  5.187403e+07                                   NaN   \n",
       "45961  8.367830e+05                                   NaN   \n",
       "46949  5.970430e+06                                   NaN   \n",
       "48502  5.180836e+06                                   NaN   \n",
       "49494  2.816055e+07                                   NaN   \n",
       "50501  4.030361e+06                                   NaN   \n",
       "53475  8.960070e+05                                   NaN   \n",
       "54477  1.049399e+07                                   NaN   \n",
       "55469  9.901022e+07                                   NaN   \n",
       "56499  5.882259e+06                                   NaN   \n",
       "57484  1.120851e+06                                   NaN   \n",
       "59467  1.122882e+07                                   NaN   \n",
       "60469  1.800100e+07                                   NaN   \n",
       "61487  1.109901e+08                                   NaN   \n",
       "62471  6.336393e+06                                   NaN   \n",
       "\n",
       "       excess_mortality_cumulative  excess_mortality  \\\n",
       "980                            NaN               NaN   \n",
       "3006                           NaN               NaN   \n",
       "4013                           NaN               NaN   \n",
       "5997                           NaN               NaN   \n",
       "7962                           NaN               NaN   \n",
       "9024                           NaN               NaN   \n",
       "10053                          NaN               NaN   \n",
       "13121                          NaN               NaN   \n",
       "14128                          NaN               NaN   \n",
       "15130                          NaN               NaN   \n",
       "16117                          NaN               NaN   \n",
       "17125                          NaN               NaN   \n",
       "18120                          NaN               NaN   \n",
       "19106                          NaN               NaN   \n",
       "20110                          NaN               NaN   \n",
       "21138                          NaN               NaN   \n",
       "22118                          NaN               NaN   \n",
       "23105                          NaN               NaN   \n",
       "25086                          NaN               NaN   \n",
       "26078                          NaN               NaN   \n",
       "28046                          NaN               NaN   \n",
       "29019                          NaN               NaN   \n",
       "30025                          NaN               NaN   \n",
       "31994                          NaN               NaN   \n",
       "32989                          NaN               NaN   \n",
       "33982                          NaN               NaN   \n",
       "34954                          NaN               NaN   \n",
       "35990                          NaN               NaN   \n",
       "36987                          NaN               NaN   \n",
       "38027                          NaN               NaN   \n",
       "39010                          NaN               NaN   \n",
       "40988                          NaN               NaN   \n",
       "41972                          NaN               NaN   \n",
       "42981                          NaN               NaN   \n",
       "44022                          NaN               NaN   \n",
       "45019                          NaN               NaN   \n",
       "45961                          NaN               NaN   \n",
       "46949                          NaN               NaN   \n",
       "48502                          NaN               NaN   \n",
       "49494                          NaN               NaN   \n",
       "50501                          NaN               NaN   \n",
       "53475                          NaN               NaN   \n",
       "54477                          NaN               NaN   \n",
       "55469                          NaN               NaN   \n",
       "56499                          NaN               NaN   \n",
       "57484                          NaN               NaN   \n",
       "59467                          NaN               NaN   \n",
       "60469                          NaN               NaN   \n",
       "61487                          NaN               NaN   \n",
       "62471                          NaN               NaN   \n",
       "\n",
       "       excess_mortality_cumulative_per_million  \n",
       "980                                        NaN  \n",
       "3006                                       NaN  \n",
       "4013                                       NaN  \n",
       "5997                                       NaN  \n",
       "7962                                       NaN  \n",
       "9024                                       NaN  \n",
       "10053                                      NaN  \n",
       "13121                                      NaN  \n",
       "14128                                      NaN  \n",
       "15130                                      NaN  \n",
       "16117                                      NaN  \n",
       "17125                                      NaN  \n",
       "18120                                      NaN  \n",
       "19106                                      NaN  \n",
       "20110                                      NaN  \n",
       "21138                                      NaN  \n",
       "22118                                      NaN  \n",
       "23105                                      NaN  \n",
       "25086                                      NaN  \n",
       "26078                                      NaN  \n",
       "28046                                      NaN  \n",
       "29019                                      NaN  \n",
       "30025                                      NaN  \n",
       "31994                                      NaN  \n",
       "32989                                      NaN  \n",
       "33982                                      NaN  \n",
       "34954                                      NaN  \n",
       "35990                                      NaN  \n",
       "36987                                      NaN  \n",
       "38027                                      NaN  \n",
       "39010                                      NaN  \n",
       "40988                                      NaN  \n",
       "41972                                      NaN  \n",
       "42981                                      NaN  \n",
       "44022                                      NaN  \n",
       "45019                                      NaN  \n",
       "45961                                      NaN  \n",
       "46949                                      NaN  \n",
       "48502                                      NaN  \n",
       "49494                                      NaN  \n",
       "50501                                      NaN  \n",
       "53475                                      NaN  \n",
       "54477                                      NaN  \n",
       "55469                                      NaN  \n",
       "56499                                      NaN  \n",
       "57484                                      NaN  \n",
       "59467                                      NaN  \n",
       "60469                                      NaN  \n",
       "61487                                      NaN  \n",
       "62471                                      NaN  \n",
       "\n",
       "[50 rows x 67 columns]"
      ]
     },
     "execution_count": 75,
     "metadata": {},
     "output_type": "execute_result"
    }
   ],
   "source": [
    "test_df.head(50)"
   ]
  },
  {
   "cell_type": "markdown",
   "id": "3c18f404",
   "metadata": {},
   "source": [
    "# Visualization"
   ]
  },
  {
   "cell_type": "code",
   "execution_count": 76,
   "id": "a076f52d",
   "metadata": {},
   "outputs": [
    {
     "data": {
      "application/vnd.plotly.v1+json": {
       "config": {
        "plotlyServerURL": "https://plot.ly"
       },
       "data": [
        {
         "hovertemplate": "gdp_per_capita=%{x}<br>total_deaths_per_million=%{y}<extra></extra>",
         "legendgroup": "",
         "marker": {
          "color": "#636efa",
          "symbol": "circle"
         },
         "mode": "markers",
         "name": "",
         "orientation": "v",
         "showlegend": false,
         "type": "scatter",
         "x": [
          1803.987,
          11803.431,
          13913.839,
          5819.495,
          21490.943,
          18933.907,
          8787.58,
          44648.71,
          45436.686,
          15847.419,
          27717.847,
          43290.705,
          3523.984,
          16978.068,
          17167.967,
          42658.576,
          7824.362,
          2064.236,
          8708.597,
          6885.829,
          11713.895,
          15807.374,
          14103.452,
          71809.251,
          18563.307,
          1703.102,
          702.225,
          3645.07,
          3364.926,
          44017.591,
          6222.554,
          661.24,
          1768.153,
          22767.037,
          15308.712,
          13254.949,
          1413.89,
          4881.406,
          15524.995,
          3601.006,
          22669.797,
          32415.132,
          32605.906,
          808.133,
          46682.515,
          2705.406,
          14600.861,
          10581.936,
          10550.206,
          7292.458,
          22604.873,
          1510.459,
          29481.252,
          7738.975,
          1729.927,
          8702.975,
          40585.721,
          38605.671,
          16562.413,
          1561.767,
          9745.079,
          45229.245,
          4227.63,
          24574.382,
          13593.877,
          7423.808,
          1998.926,
          1548.675,
          7435.047,
          1653.173,
          4541.795,
          26777.561,
          46482.958,
          6426.674,
          11188.744,
          19082.62,
          15663.986,
          67335.293,
          33132.32,
          35220.084,
          8193.571,
          39002.223,
          8337.49,
          24055.588,
          2993.028,
          1981.132,
          65530.537,
          3393.474,
          6397.36,
          25063.846,
          13367.565,
          2851.153,
          752.788,
          17881.509,
          29524.265,
          94277.965,
          1416.44,
          1095.042,
          26808.164,
          15183.616,
          2014.306,
          36513.323,
          3597.633,
          20292.745,
          17336.469,
          3299.464,
          5189.972,
          11840.846,
          16409.288,
          7485.013,
          1136.103,
          5591.597,
          9541.808,
          2442.804,
          48472.545,
          36085.843,
          5321.444,
          926,
          5338.454,
          13111.214,
          64800.057,
          37960.709,
          5034.708,
          4449.898,
          22267.037,
          3823.194,
          8827.01,
          12236.706,
          7599.188,
          27216.445,
          27936.896,
          116935.6,
          23313.199,
          24765.954,
          1854.211,
          12951.839,
          10727.146,
          6021.557,
          3052.714,
          49045.411,
          2470.58,
          14048.881,
          26382.287,
          1390.3,
          85535.383,
          30155.152,
          31400.84,
          2205.923,
          12294.876,
          35938.374,
          34272.36,
          11669.077,
          4466.507,
          13767.119,
          46949.283,
          57410.166,
          2896.913,
          2683.304,
          16277.671,
          6570.102,
          1429.813,
          5425.621,
          28763.071,
          10849.297,
          25129.341,
          1697.707,
          7894.393,
          67293.483,
          39753.244,
          54225.446,
          20551.409,
          6253.104,
          2921.909,
          16745.022,
          6171.884,
          15469.207,
          1479.147,
          3689.251,
          1899.775
         ],
         "xaxis": "x",
         "y": [
          190.183,
          1264.109,
          153.241,
          53.865,
          1556.968,
          2856.297,
          3132.202,
          598.417,
          2346.969,
          960.024,
          2031.762,
          1037.876,
          171.877,
          1988.312,
          746.516,
          2822.771,
          1695.103,
          12.207,
          26.839,
          1819.273,
          5001.964,
          1060.716,
          3196.07,
          501.111,
          5585.41,
          17.068,
          2.948,
          182.254,
          70.214,
          1213.752,
          691.211,
          20.254,
          10.946,
          3146.186,
          3.892,
          2734.258,
          192.404,
          64.652,
          1735.241,
          29.367,
          4253.217,
          1332.579,
          3962.268,
          14.594,
          1249.01,
          168.622,
          390.424,
          1995.444,
          223.425,
          667.572,
          109.259,
          27.958,
          2065.511,
          1183.343,
          61.371,
          944.321,
          1185.4,
          2316.119,
          128.087,
          137.473,
          4513.425,
          1843.52,
          43.614,
          3232.941,
          1889.063,
          1114.554,
          32.902,
          83.587,
          1583.971,
          73.975,
          1057.908,
          4809.525,
          571.194,
          373.333,
          575.79,
          1632.694,
          569.892,
          1601.2,
          1245.317,
          3033.683,
          1174.231,
          377.284,
          1251.299,
          982.163,
          105.095,
          99.057,
          601.562,
          451.089,
          100.671,
          3270.736,
          1950.546,
          306.181,
          55.444,
          944.902,
          3415.564,
          1768.064,
          47.65,
          131.485,
          1074.747,
          588.013,
          32.841,
          1515.115,
          210.509,
          794.165,
          2591.226,
          481.704,
          3631.844,
          627.065,
          4442.8,
          434.647,
          67.456,
          359.584,
          1589.389,
          393.452,
          1303.745,
          406.149,
          35.26,
          11.981,
          14.437,
          4568.195,
          774.337,
          1011.297,
          129.868,
          1087.222,
          1930.099,
          65.861,
          2890.685,
          6373.41,
          554.47,
          2963.685,
          2456.27,
          253.791,
          3417.523,
          2641.789,
          106.484,
          2262.72,
          1115.825,
          130.402,
          338.621,
          258.371,
          113.649,
          2509.188,
          1596.117,
          14.641,
          298.03,
          3651.309,
          3249.769,
          211.247,
          1708.204,
          563.708,
          2419.708,
          768.591,
          106.071,
          2249.024,
          1958.32,
          1609.181,
          12.559,
          12.901,
          459.643,
          102.885,
          32.773,
          112.289,
          2775.232,
          2367.815,
          1185.863,
          76.826,
          2969.164,
          248.699,
          3127.882,
          3164.807,
          2196.45,
          47.274,
          42.847,
          205.641,
          439.601,
          826.663,
          64.042,
          200.673,
          343.494
         ],
         "yaxis": "y"
        }
       ],
       "layout": {
        "legend": {
         "tracegroupgap": 0
        },
        "margin": {
         "t": 60
        },
        "template": {
         "data": {
          "bar": [
           {
            "error_x": {
             "color": "#2a3f5f"
            },
            "error_y": {
             "color": "#2a3f5f"
            },
            "marker": {
             "line": {
              "color": "#E5ECF6",
              "width": 0.5
             },
             "pattern": {
              "fillmode": "overlay",
              "size": 10,
              "solidity": 0.2
             }
            },
            "type": "bar"
           }
          ],
          "barpolar": [
           {
            "marker": {
             "line": {
              "color": "#E5ECF6",
              "width": 0.5
             },
             "pattern": {
              "fillmode": "overlay",
              "size": 10,
              "solidity": 0.2
             }
            },
            "type": "barpolar"
           }
          ],
          "carpet": [
           {
            "aaxis": {
             "endlinecolor": "#2a3f5f",
             "gridcolor": "white",
             "linecolor": "white",
             "minorgridcolor": "white",
             "startlinecolor": "#2a3f5f"
            },
            "baxis": {
             "endlinecolor": "#2a3f5f",
             "gridcolor": "white",
             "linecolor": "white",
             "minorgridcolor": "white",
             "startlinecolor": "#2a3f5f"
            },
            "type": "carpet"
           }
          ],
          "choropleth": [
           {
            "colorbar": {
             "outlinewidth": 0,
             "ticks": ""
            },
            "type": "choropleth"
           }
          ],
          "contour": [
           {
            "colorbar": {
             "outlinewidth": 0,
             "ticks": ""
            },
            "colorscale": [
             [
              0,
              "#0d0887"
             ],
             [
              0.1111111111111111,
              "#46039f"
             ],
             [
              0.2222222222222222,
              "#7201a8"
             ],
             [
              0.3333333333333333,
              "#9c179e"
             ],
             [
              0.4444444444444444,
              "#bd3786"
             ],
             [
              0.5555555555555556,
              "#d8576b"
             ],
             [
              0.6666666666666666,
              "#ed7953"
             ],
             [
              0.7777777777777778,
              "#fb9f3a"
             ],
             [
              0.8888888888888888,
              "#fdca26"
             ],
             [
              1,
              "#f0f921"
             ]
            ],
            "type": "contour"
           }
          ],
          "contourcarpet": [
           {
            "colorbar": {
             "outlinewidth": 0,
             "ticks": ""
            },
            "type": "contourcarpet"
           }
          ],
          "heatmap": [
           {
            "colorbar": {
             "outlinewidth": 0,
             "ticks": ""
            },
            "colorscale": [
             [
              0,
              "#0d0887"
             ],
             [
              0.1111111111111111,
              "#46039f"
             ],
             [
              0.2222222222222222,
              "#7201a8"
             ],
             [
              0.3333333333333333,
              "#9c179e"
             ],
             [
              0.4444444444444444,
              "#bd3786"
             ],
             [
              0.5555555555555556,
              "#d8576b"
             ],
             [
              0.6666666666666666,
              "#ed7953"
             ],
             [
              0.7777777777777778,
              "#fb9f3a"
             ],
             [
              0.8888888888888888,
              "#fdca26"
             ],
             [
              1,
              "#f0f921"
             ]
            ],
            "type": "heatmap"
           }
          ],
          "heatmapgl": [
           {
            "colorbar": {
             "outlinewidth": 0,
             "ticks": ""
            },
            "colorscale": [
             [
              0,
              "#0d0887"
             ],
             [
              0.1111111111111111,
              "#46039f"
             ],
             [
              0.2222222222222222,
              "#7201a8"
             ],
             [
              0.3333333333333333,
              "#9c179e"
             ],
             [
              0.4444444444444444,
              "#bd3786"
             ],
             [
              0.5555555555555556,
              "#d8576b"
             ],
             [
              0.6666666666666666,
              "#ed7953"
             ],
             [
              0.7777777777777778,
              "#fb9f3a"
             ],
             [
              0.8888888888888888,
              "#fdca26"
             ],
             [
              1,
              "#f0f921"
             ]
            ],
            "type": "heatmapgl"
           }
          ],
          "histogram": [
           {
            "marker": {
             "pattern": {
              "fillmode": "overlay",
              "size": 10,
              "solidity": 0.2
             }
            },
            "type": "histogram"
           }
          ],
          "histogram2d": [
           {
            "colorbar": {
             "outlinewidth": 0,
             "ticks": ""
            },
            "colorscale": [
             [
              0,
              "#0d0887"
             ],
             [
              0.1111111111111111,
              "#46039f"
             ],
             [
              0.2222222222222222,
              "#7201a8"
             ],
             [
              0.3333333333333333,
              "#9c179e"
             ],
             [
              0.4444444444444444,
              "#bd3786"
             ],
             [
              0.5555555555555556,
              "#d8576b"
             ],
             [
              0.6666666666666666,
              "#ed7953"
             ],
             [
              0.7777777777777778,
              "#fb9f3a"
             ],
             [
              0.8888888888888888,
              "#fdca26"
             ],
             [
              1,
              "#f0f921"
             ]
            ],
            "type": "histogram2d"
           }
          ],
          "histogram2dcontour": [
           {
            "colorbar": {
             "outlinewidth": 0,
             "ticks": ""
            },
            "colorscale": [
             [
              0,
              "#0d0887"
             ],
             [
              0.1111111111111111,
              "#46039f"
             ],
             [
              0.2222222222222222,
              "#7201a8"
             ],
             [
              0.3333333333333333,
              "#9c179e"
             ],
             [
              0.4444444444444444,
              "#bd3786"
             ],
             [
              0.5555555555555556,
              "#d8576b"
             ],
             [
              0.6666666666666666,
              "#ed7953"
             ],
             [
              0.7777777777777778,
              "#fb9f3a"
             ],
             [
              0.8888888888888888,
              "#fdca26"
             ],
             [
              1,
              "#f0f921"
             ]
            ],
            "type": "histogram2dcontour"
           }
          ],
          "mesh3d": [
           {
            "colorbar": {
             "outlinewidth": 0,
             "ticks": ""
            },
            "type": "mesh3d"
           }
          ],
          "parcoords": [
           {
            "line": {
             "colorbar": {
              "outlinewidth": 0,
              "ticks": ""
             }
            },
            "type": "parcoords"
           }
          ],
          "pie": [
           {
            "automargin": true,
            "type": "pie"
           }
          ],
          "scatter": [
           {
            "fillpattern": {
             "fillmode": "overlay",
             "size": 10,
             "solidity": 0.2
            },
            "type": "scatter"
           }
          ],
          "scatter3d": [
           {
            "line": {
             "colorbar": {
              "outlinewidth": 0,
              "ticks": ""
             }
            },
            "marker": {
             "colorbar": {
              "outlinewidth": 0,
              "ticks": ""
             }
            },
            "type": "scatter3d"
           }
          ],
          "scattercarpet": [
           {
            "marker": {
             "colorbar": {
              "outlinewidth": 0,
              "ticks": ""
             }
            },
            "type": "scattercarpet"
           }
          ],
          "scattergeo": [
           {
            "marker": {
             "colorbar": {
              "outlinewidth": 0,
              "ticks": ""
             }
            },
            "type": "scattergeo"
           }
          ],
          "scattergl": [
           {
            "marker": {
             "colorbar": {
              "outlinewidth": 0,
              "ticks": ""
             }
            },
            "type": "scattergl"
           }
          ],
          "scattermapbox": [
           {
            "marker": {
             "colorbar": {
              "outlinewidth": 0,
              "ticks": ""
             }
            },
            "type": "scattermapbox"
           }
          ],
          "scatterpolar": [
           {
            "marker": {
             "colorbar": {
              "outlinewidth": 0,
              "ticks": ""
             }
            },
            "type": "scatterpolar"
           }
          ],
          "scatterpolargl": [
           {
            "marker": {
             "colorbar": {
              "outlinewidth": 0,
              "ticks": ""
             }
            },
            "type": "scatterpolargl"
           }
          ],
          "scatterternary": [
           {
            "marker": {
             "colorbar": {
              "outlinewidth": 0,
              "ticks": ""
             }
            },
            "type": "scatterternary"
           }
          ],
          "surface": [
           {
            "colorbar": {
             "outlinewidth": 0,
             "ticks": ""
            },
            "colorscale": [
             [
              0,
              "#0d0887"
             ],
             [
              0.1111111111111111,
              "#46039f"
             ],
             [
              0.2222222222222222,
              "#7201a8"
             ],
             [
              0.3333333333333333,
              "#9c179e"
             ],
             [
              0.4444444444444444,
              "#bd3786"
             ],
             [
              0.5555555555555556,
              "#d8576b"
             ],
             [
              0.6666666666666666,
              "#ed7953"
             ],
             [
              0.7777777777777778,
              "#fb9f3a"
             ],
             [
              0.8888888888888888,
              "#fdca26"
             ],
             [
              1,
              "#f0f921"
             ]
            ],
            "type": "surface"
           }
          ],
          "table": [
           {
            "cells": {
             "fill": {
              "color": "#EBF0F8"
             },
             "line": {
              "color": "white"
             }
            },
            "header": {
             "fill": {
              "color": "#C8D4E3"
             },
             "line": {
              "color": "white"
             }
            },
            "type": "table"
           }
          ]
         },
         "layout": {
          "annotationdefaults": {
           "arrowcolor": "#2a3f5f",
           "arrowhead": 0,
           "arrowwidth": 1
          },
          "autotypenumbers": "strict",
          "coloraxis": {
           "colorbar": {
            "outlinewidth": 0,
            "ticks": ""
           }
          },
          "colorscale": {
           "diverging": [
            [
             0,
             "#8e0152"
            ],
            [
             0.1,
             "#c51b7d"
            ],
            [
             0.2,
             "#de77ae"
            ],
            [
             0.3,
             "#f1b6da"
            ],
            [
             0.4,
             "#fde0ef"
            ],
            [
             0.5,
             "#f7f7f7"
            ],
            [
             0.6,
             "#e6f5d0"
            ],
            [
             0.7,
             "#b8e186"
            ],
            [
             0.8,
             "#7fbc41"
            ],
            [
             0.9,
             "#4d9221"
            ],
            [
             1,
             "#276419"
            ]
           ],
           "sequential": [
            [
             0,
             "#0d0887"
            ],
            [
             0.1111111111111111,
             "#46039f"
            ],
            [
             0.2222222222222222,
             "#7201a8"
            ],
            [
             0.3333333333333333,
             "#9c179e"
            ],
            [
             0.4444444444444444,
             "#bd3786"
            ],
            [
             0.5555555555555556,
             "#d8576b"
            ],
            [
             0.6666666666666666,
             "#ed7953"
            ],
            [
             0.7777777777777778,
             "#fb9f3a"
            ],
            [
             0.8888888888888888,
             "#fdca26"
            ],
            [
             1,
             "#f0f921"
            ]
           ],
           "sequentialminus": [
            [
             0,
             "#0d0887"
            ],
            [
             0.1111111111111111,
             "#46039f"
            ],
            [
             0.2222222222222222,
             "#7201a8"
            ],
            [
             0.3333333333333333,
             "#9c179e"
            ],
            [
             0.4444444444444444,
             "#bd3786"
            ],
            [
             0.5555555555555556,
             "#d8576b"
            ],
            [
             0.6666666666666666,
             "#ed7953"
            ],
            [
             0.7777777777777778,
             "#fb9f3a"
            ],
            [
             0.8888888888888888,
             "#fdca26"
            ],
            [
             1,
             "#f0f921"
            ]
           ]
          },
          "colorway": [
           "#636efa",
           "#EF553B",
           "#00cc96",
           "#ab63fa",
           "#FFA15A",
           "#19d3f3",
           "#FF6692",
           "#B6E880",
           "#FF97FF",
           "#FECB52"
          ],
          "font": {
           "color": "#2a3f5f"
          },
          "geo": {
           "bgcolor": "white",
           "lakecolor": "white",
           "landcolor": "#E5ECF6",
           "showlakes": true,
           "showland": true,
           "subunitcolor": "white"
          },
          "hoverlabel": {
           "align": "left"
          },
          "hovermode": "closest",
          "mapbox": {
           "style": "light"
          },
          "paper_bgcolor": "white",
          "plot_bgcolor": "#E5ECF6",
          "polar": {
           "angularaxis": {
            "gridcolor": "white",
            "linecolor": "white",
            "ticks": ""
           },
           "bgcolor": "#E5ECF6",
           "radialaxis": {
            "gridcolor": "white",
            "linecolor": "white",
            "ticks": ""
           }
          },
          "scene": {
           "xaxis": {
            "backgroundcolor": "#E5ECF6",
            "gridcolor": "white",
            "gridwidth": 2,
            "linecolor": "white",
            "showbackground": true,
            "ticks": "",
            "zerolinecolor": "white"
           },
           "yaxis": {
            "backgroundcolor": "#E5ECF6",
            "gridcolor": "white",
            "gridwidth": 2,
            "linecolor": "white",
            "showbackground": true,
            "ticks": "",
            "zerolinecolor": "white"
           },
           "zaxis": {
            "backgroundcolor": "#E5ECF6",
            "gridcolor": "white",
            "gridwidth": 2,
            "linecolor": "white",
            "showbackground": true,
            "ticks": "",
            "zerolinecolor": "white"
           }
          },
          "shapedefaults": {
           "line": {
            "color": "#2a3f5f"
           }
          },
          "ternary": {
           "aaxis": {
            "gridcolor": "white",
            "linecolor": "white",
            "ticks": ""
           },
           "baxis": {
            "gridcolor": "white",
            "linecolor": "white",
            "ticks": ""
           },
           "bgcolor": "#E5ECF6",
           "caxis": {
            "gridcolor": "white",
            "linecolor": "white",
            "ticks": ""
           }
          },
          "title": {
           "x": 0.05
          },
          "xaxis": {
           "automargin": true,
           "gridcolor": "white",
           "linecolor": "white",
           "ticks": "",
           "title": {
            "standoff": 15
           },
           "zerolinecolor": "white",
           "zerolinewidth": 2
          },
          "yaxis": {
           "automargin": true,
           "gridcolor": "white",
           "linecolor": "white",
           "ticks": "",
           "title": {
            "standoff": 15
           },
           "zerolinecolor": "white",
           "zerolinewidth": 2
          }
         }
        },
        "xaxis": {
         "anchor": "y",
         "domain": [
          0,
          1
         ],
         "title": {
          "text": "gdp_per_capita"
         }
        },
        "yaxis": {
         "anchor": "x",
         "domain": [
          0,
          1
         ],
         "title": {
          "text": "total_deaths_per_million"
         }
        }
       }
      },
      "text/html": [
       "<div>                            <div id=\"3a639e28-dffa-449b-9565-449f88957e20\" class=\"plotly-graph-div\" style=\"height:525px; width:100%;\"></div>            <script type=\"text/javascript\">                require([\"plotly\"], function(Plotly) {                    window.PLOTLYENV=window.PLOTLYENV || {};                                    if (document.getElementById(\"3a639e28-dffa-449b-9565-449f88957e20\")) {                    Plotly.newPlot(                        \"3a639e28-dffa-449b-9565-449f88957e20\",                        [{\"hovertemplate\":\"gdp_per_capita=%{x}<br>total_deaths_per_million=%{y}<extra></extra>\",\"legendgroup\":\"\",\"marker\":{\"color\":\"#636efa\",\"symbol\":\"circle\"},\"mode\":\"markers\",\"name\":\"\",\"orientation\":\"v\",\"showlegend\":false,\"x\":[1803.987,11803.431,13913.839,5819.495,21490.943,18933.907,8787.58,44648.71,45436.686,15847.419,27717.847,43290.705,3523.984,16978.068,17167.967,42658.576,7824.362,2064.236,8708.597,6885.829,11713.895,15807.374,14103.452,71809.251,18563.307,1703.102,702.225,3645.07,3364.926,44017.591,6222.554,661.24,1768.153,22767.037,15308.712,13254.949,1413.89,4881.406,15524.995,3601.006,22669.797,32415.132,32605.906,808.133,46682.515,2705.406,14600.861,10581.936,10550.206,7292.458,22604.873,1510.459,29481.252,7738.975,1729.927,8702.975,40585.721,38605.671,16562.413,1561.767,9745.079,45229.245,4227.63,24574.382,13593.877,7423.808,1998.926,1548.675,7435.047,1653.173,4541.795,26777.561,46482.958,6426.674,11188.744,19082.62,15663.986,67335.293,33132.32,35220.084,8193.571,39002.223,8337.49,24055.588,2993.028,1981.132,65530.537,3393.474,6397.36,25063.846,13367.565,2851.153,752.788,17881.509,29524.265,94277.965,1416.44,1095.042,26808.164,15183.616,2014.306,36513.323,3597.633,20292.745,17336.469,3299.464,5189.972,11840.846,16409.288,7485.013,1136.103,5591.597,9541.808,2442.804,48472.545,36085.843,5321.444,926.0,5338.454,13111.214,64800.057,37960.709,5034.708,4449.898,22267.037,3823.194,8827.01,12236.706,7599.188,27216.445,27936.896,116935.6,23313.199,24765.954,1854.211,12951.839,10727.146,6021.557,3052.714,49045.411,2470.58,14048.881,26382.287,1390.3,85535.383,30155.152,31400.84,2205.923,12294.876,35938.374,34272.36,11669.077,4466.507,13767.119,46949.283,57410.166,2896.913,2683.304,16277.671,6570.102,1429.813,5425.621,28763.071,10849.297,25129.341,1697.707,7894.393,67293.483,39753.244,54225.446,20551.409,6253.104,2921.909,16745.022,6171.884,15469.207,1479.147,3689.251,1899.775],\"xaxis\":\"x\",\"y\":[190.183,1264.109,153.241,53.865,1556.968,2856.297,3132.202,598.417,2346.969,960.024,2031.762,1037.876,171.877,1988.312,746.516,2822.771,1695.103,12.207,26.839,1819.273,5001.964,1060.716,3196.07,501.111,5585.41,17.068,2.948,182.254,70.214,1213.752,691.211,20.254,10.946,3146.186,3.892,2734.258,192.404,64.652,1735.241,29.367,4253.217,1332.579,3962.268,14.594,1249.01,168.622,390.424,1995.444,223.425,667.572,109.259,27.958,2065.511,1183.343,61.371,944.321,1185.4,2316.119,128.087,137.473,4513.425,1843.52,43.614,3232.941,1889.063,1114.554,32.902,83.587,1583.971,73.975,1057.908,4809.525,571.194,373.333,575.79,1632.694,569.892,1601.2,1245.317,3033.683,1174.231,377.284,1251.299,982.163,105.095,99.057,601.562,451.089,100.671,3270.736,1950.546,306.181,55.444,944.902,3415.564,1768.064,47.65,131.485,1074.747,588.013,32.841,1515.115,210.509,794.165,2591.226,481.704,3631.844,627.065,4442.8,434.647,67.456,359.584,1589.389,393.452,1303.745,406.149,35.26,11.981,14.437,4568.195,774.337,1011.297,129.868,1087.222,1930.099,65.861,2890.685,6373.41,554.47,2963.685,2456.27,253.791,3417.523,2641.789,106.484,2262.72,1115.825,130.402,338.621,258.371,113.649,2509.188,1596.117,14.641,298.03,3651.309,3249.769,211.247,1708.204,563.708,2419.708,768.591,106.071,2249.024,1958.32,1609.181,12.559,12.901,459.643,102.885,32.773,112.289,2775.232,2367.815,1185.863,76.826,2969.164,248.699,3127.882,3164.807,2196.45,47.274,42.847,205.641,439.601,826.663,64.042,200.673,343.494],\"yaxis\":\"y\",\"type\":\"scatter\"}],                        {\"template\":{\"data\":{\"histogram2dcontour\":[{\"type\":\"histogram2dcontour\",\"colorbar\":{\"outlinewidth\":0,\"ticks\":\"\"},\"colorscale\":[[0.0,\"#0d0887\"],[0.1111111111111111,\"#46039f\"],[0.2222222222222222,\"#7201a8\"],[0.3333333333333333,\"#9c179e\"],[0.4444444444444444,\"#bd3786\"],[0.5555555555555556,\"#d8576b\"],[0.6666666666666666,\"#ed7953\"],[0.7777777777777778,\"#fb9f3a\"],[0.8888888888888888,\"#fdca26\"],[1.0,\"#f0f921\"]]}],\"choropleth\":[{\"type\":\"choropleth\",\"colorbar\":{\"outlinewidth\":0,\"ticks\":\"\"}}],\"histogram2d\":[{\"type\":\"histogram2d\",\"colorbar\":{\"outlinewidth\":0,\"ticks\":\"\"},\"colorscale\":[[0.0,\"#0d0887\"],[0.1111111111111111,\"#46039f\"],[0.2222222222222222,\"#7201a8\"],[0.3333333333333333,\"#9c179e\"],[0.4444444444444444,\"#bd3786\"],[0.5555555555555556,\"#d8576b\"],[0.6666666666666666,\"#ed7953\"],[0.7777777777777778,\"#fb9f3a\"],[0.8888888888888888,\"#fdca26\"],[1.0,\"#f0f921\"]]}],\"heatmap\":[{\"type\":\"heatmap\",\"colorbar\":{\"outlinewidth\":0,\"ticks\":\"\"},\"colorscale\":[[0.0,\"#0d0887\"],[0.1111111111111111,\"#46039f\"],[0.2222222222222222,\"#7201a8\"],[0.3333333333333333,\"#9c179e\"],[0.4444444444444444,\"#bd3786\"],[0.5555555555555556,\"#d8576b\"],[0.6666666666666666,\"#ed7953\"],[0.7777777777777778,\"#fb9f3a\"],[0.8888888888888888,\"#fdca26\"],[1.0,\"#f0f921\"]]}],\"heatmapgl\":[{\"type\":\"heatmapgl\",\"colorbar\":{\"outlinewidth\":0,\"ticks\":\"\"},\"colorscale\":[[0.0,\"#0d0887\"],[0.1111111111111111,\"#46039f\"],[0.2222222222222222,\"#7201a8\"],[0.3333333333333333,\"#9c179e\"],[0.4444444444444444,\"#bd3786\"],[0.5555555555555556,\"#d8576b\"],[0.6666666666666666,\"#ed7953\"],[0.7777777777777778,\"#fb9f3a\"],[0.8888888888888888,\"#fdca26\"],[1.0,\"#f0f921\"]]}],\"contourcarpet\":[{\"type\":\"contourcarpet\",\"colorbar\":{\"outlinewidth\":0,\"ticks\":\"\"}}],\"contour\":[{\"type\":\"contour\",\"colorbar\":{\"outlinewidth\":0,\"ticks\":\"\"},\"colorscale\":[[0.0,\"#0d0887\"],[0.1111111111111111,\"#46039f\"],[0.2222222222222222,\"#7201a8\"],[0.3333333333333333,\"#9c179e\"],[0.4444444444444444,\"#bd3786\"],[0.5555555555555556,\"#d8576b\"],[0.6666666666666666,\"#ed7953\"],[0.7777777777777778,\"#fb9f3a\"],[0.8888888888888888,\"#fdca26\"],[1.0,\"#f0f921\"]]}],\"surface\":[{\"type\":\"surface\",\"colorbar\":{\"outlinewidth\":0,\"ticks\":\"\"},\"colorscale\":[[0.0,\"#0d0887\"],[0.1111111111111111,\"#46039f\"],[0.2222222222222222,\"#7201a8\"],[0.3333333333333333,\"#9c179e\"],[0.4444444444444444,\"#bd3786\"],[0.5555555555555556,\"#d8576b\"],[0.6666666666666666,\"#ed7953\"],[0.7777777777777778,\"#fb9f3a\"],[0.8888888888888888,\"#fdca26\"],[1.0,\"#f0f921\"]]}],\"mesh3d\":[{\"type\":\"mesh3d\",\"colorbar\":{\"outlinewidth\":0,\"ticks\":\"\"}}],\"scatter\":[{\"fillpattern\":{\"fillmode\":\"overlay\",\"size\":10,\"solidity\":0.2},\"type\":\"scatter\"}],\"parcoords\":[{\"type\":\"parcoords\",\"line\":{\"colorbar\":{\"outlinewidth\":0,\"ticks\":\"\"}}}],\"scatterpolargl\":[{\"type\":\"scatterpolargl\",\"marker\":{\"colorbar\":{\"outlinewidth\":0,\"ticks\":\"\"}}}],\"bar\":[{\"error_x\":{\"color\":\"#2a3f5f\"},\"error_y\":{\"color\":\"#2a3f5f\"},\"marker\":{\"line\":{\"color\":\"#E5ECF6\",\"width\":0.5},\"pattern\":{\"fillmode\":\"overlay\",\"size\":10,\"solidity\":0.2}},\"type\":\"bar\"}],\"scattergeo\":[{\"type\":\"scattergeo\",\"marker\":{\"colorbar\":{\"outlinewidth\":0,\"ticks\":\"\"}}}],\"scatterpolar\":[{\"type\":\"scatterpolar\",\"marker\":{\"colorbar\":{\"outlinewidth\":0,\"ticks\":\"\"}}}],\"histogram\":[{\"marker\":{\"pattern\":{\"fillmode\":\"overlay\",\"size\":10,\"solidity\":0.2}},\"type\":\"histogram\"}],\"scattergl\":[{\"type\":\"scattergl\",\"marker\":{\"colorbar\":{\"outlinewidth\":0,\"ticks\":\"\"}}}],\"scatter3d\":[{\"type\":\"scatter3d\",\"line\":{\"colorbar\":{\"outlinewidth\":0,\"ticks\":\"\"}},\"marker\":{\"colorbar\":{\"outlinewidth\":0,\"ticks\":\"\"}}}],\"scattermapbox\":[{\"type\":\"scattermapbox\",\"marker\":{\"colorbar\":{\"outlinewidth\":0,\"ticks\":\"\"}}}],\"scatterternary\":[{\"type\":\"scatterternary\",\"marker\":{\"colorbar\":{\"outlinewidth\":0,\"ticks\":\"\"}}}],\"scattercarpet\":[{\"type\":\"scattercarpet\",\"marker\":{\"colorbar\":{\"outlinewidth\":0,\"ticks\":\"\"}}}],\"carpet\":[{\"aaxis\":{\"endlinecolor\":\"#2a3f5f\",\"gridcolor\":\"white\",\"linecolor\":\"white\",\"minorgridcolor\":\"white\",\"startlinecolor\":\"#2a3f5f\"},\"baxis\":{\"endlinecolor\":\"#2a3f5f\",\"gridcolor\":\"white\",\"linecolor\":\"white\",\"minorgridcolor\":\"white\",\"startlinecolor\":\"#2a3f5f\"},\"type\":\"carpet\"}],\"table\":[{\"cells\":{\"fill\":{\"color\":\"#EBF0F8\"},\"line\":{\"color\":\"white\"}},\"header\":{\"fill\":{\"color\":\"#C8D4E3\"},\"line\":{\"color\":\"white\"}},\"type\":\"table\"}],\"barpolar\":[{\"marker\":{\"line\":{\"color\":\"#E5ECF6\",\"width\":0.5},\"pattern\":{\"fillmode\":\"overlay\",\"size\":10,\"solidity\":0.2}},\"type\":\"barpolar\"}],\"pie\":[{\"automargin\":true,\"type\":\"pie\"}]},\"layout\":{\"autotypenumbers\":\"strict\",\"colorway\":[\"#636efa\",\"#EF553B\",\"#00cc96\",\"#ab63fa\",\"#FFA15A\",\"#19d3f3\",\"#FF6692\",\"#B6E880\",\"#FF97FF\",\"#FECB52\"],\"font\":{\"color\":\"#2a3f5f\"},\"hovermode\":\"closest\",\"hoverlabel\":{\"align\":\"left\"},\"paper_bgcolor\":\"white\",\"plot_bgcolor\":\"#E5ECF6\",\"polar\":{\"bgcolor\":\"#E5ECF6\",\"angularaxis\":{\"gridcolor\":\"white\",\"linecolor\":\"white\",\"ticks\":\"\"},\"radialaxis\":{\"gridcolor\":\"white\",\"linecolor\":\"white\",\"ticks\":\"\"}},\"ternary\":{\"bgcolor\":\"#E5ECF6\",\"aaxis\":{\"gridcolor\":\"white\",\"linecolor\":\"white\",\"ticks\":\"\"},\"baxis\":{\"gridcolor\":\"white\",\"linecolor\":\"white\",\"ticks\":\"\"},\"caxis\":{\"gridcolor\":\"white\",\"linecolor\":\"white\",\"ticks\":\"\"}},\"coloraxis\":{\"colorbar\":{\"outlinewidth\":0,\"ticks\":\"\"}},\"colorscale\":{\"sequential\":[[0.0,\"#0d0887\"],[0.1111111111111111,\"#46039f\"],[0.2222222222222222,\"#7201a8\"],[0.3333333333333333,\"#9c179e\"],[0.4444444444444444,\"#bd3786\"],[0.5555555555555556,\"#d8576b\"],[0.6666666666666666,\"#ed7953\"],[0.7777777777777778,\"#fb9f3a\"],[0.8888888888888888,\"#fdca26\"],[1.0,\"#f0f921\"]],\"sequentialminus\":[[0.0,\"#0d0887\"],[0.1111111111111111,\"#46039f\"],[0.2222222222222222,\"#7201a8\"],[0.3333333333333333,\"#9c179e\"],[0.4444444444444444,\"#bd3786\"],[0.5555555555555556,\"#d8576b\"],[0.6666666666666666,\"#ed7953\"],[0.7777777777777778,\"#fb9f3a\"],[0.8888888888888888,\"#fdca26\"],[1.0,\"#f0f921\"]],\"diverging\":[[0,\"#8e0152\"],[0.1,\"#c51b7d\"],[0.2,\"#de77ae\"],[0.3,\"#f1b6da\"],[0.4,\"#fde0ef\"],[0.5,\"#f7f7f7\"],[0.6,\"#e6f5d0\"],[0.7,\"#b8e186\"],[0.8,\"#7fbc41\"],[0.9,\"#4d9221\"],[1,\"#276419\"]]},\"xaxis\":{\"gridcolor\":\"white\",\"linecolor\":\"white\",\"ticks\":\"\",\"title\":{\"standoff\":15},\"zerolinecolor\":\"white\",\"automargin\":true,\"zerolinewidth\":2},\"yaxis\":{\"gridcolor\":\"white\",\"linecolor\":\"white\",\"ticks\":\"\",\"title\":{\"standoff\":15},\"zerolinecolor\":\"white\",\"automargin\":true,\"zerolinewidth\":2},\"scene\":{\"xaxis\":{\"backgroundcolor\":\"#E5ECF6\",\"gridcolor\":\"white\",\"linecolor\":\"white\",\"showbackground\":true,\"ticks\":\"\",\"zerolinecolor\":\"white\",\"gridwidth\":2},\"yaxis\":{\"backgroundcolor\":\"#E5ECF6\",\"gridcolor\":\"white\",\"linecolor\":\"white\",\"showbackground\":true,\"ticks\":\"\",\"zerolinecolor\":\"white\",\"gridwidth\":2},\"zaxis\":{\"backgroundcolor\":\"#E5ECF6\",\"gridcolor\":\"white\",\"linecolor\":\"white\",\"showbackground\":true,\"ticks\":\"\",\"zerolinecolor\":\"white\",\"gridwidth\":2}},\"shapedefaults\":{\"line\":{\"color\":\"#2a3f5f\"}},\"annotationdefaults\":{\"arrowcolor\":\"#2a3f5f\",\"arrowhead\":0,\"arrowwidth\":1},\"geo\":{\"bgcolor\":\"white\",\"landcolor\":\"#E5ECF6\",\"subunitcolor\":\"white\",\"showland\":true,\"showlakes\":true,\"lakecolor\":\"white\"},\"title\":{\"x\":0.05},\"mapbox\":{\"style\":\"light\"}}},\"xaxis\":{\"anchor\":\"y\",\"domain\":[0.0,1.0],\"title\":{\"text\":\"gdp_per_capita\"}},\"yaxis\":{\"anchor\":\"x\",\"domain\":[0.0,1.0],\"title\":{\"text\":\"total_deaths_per_million\"}},\"legend\":{\"tracegroupgap\":0},\"margin\":{\"t\":60}},                        {\"responsive\": true}                    ).then(function(){\n",
       "                            \n",
       "var gd = document.getElementById('3a639e28-dffa-449b-9565-449f88957e20');\n",
       "var x = new MutationObserver(function (mutations, observer) {{\n",
       "        var display = window.getComputedStyle(gd).display;\n",
       "        if (!display || display === 'none') {{\n",
       "            console.log([gd, 'removed!']);\n",
       "            Plotly.purge(gd);\n",
       "            observer.disconnect();\n",
       "        }}\n",
       "}});\n",
       "\n",
       "// Listen for the removal of the full notebook cells\n",
       "var notebookContainer = gd.closest('#notebook-container');\n",
       "if (notebookContainer) {{\n",
       "    x.observe(notebookContainer, {childList: true});\n",
       "}}\n",
       "\n",
       "// Listen for the clearing of the current output cell\n",
       "var outputEl = gd.closest('.output');\n",
       "if (outputEl) {{\n",
       "    x.observe(outputEl, {childList: true});\n",
       "}}\n",
       "\n",
       "                        })                };                });            </script>        </div>"
      ]
     },
     "metadata": {},
     "output_type": "display_data"
    }
   ],
   "source": [
    "fig = px.scatter(test_df, x=\"gdp_per_capita\", y=\"total_deaths_per_million\")\n",
    "fig.show()"
   ]
  },
  {
   "cell_type": "code",
   "execution_count": 77,
   "id": "2e71e98a",
   "metadata": {},
   "outputs": [
    {
     "data": {
      "application/vnd.plotly.v1+json": {
       "config": {
        "plotlyServerURL": "https://plot.ly"
       },
       "data": [
        {
         "hovertemplate": "gdp_per_capita=%{x}<br>people_vaccinated_per_hundred=%{y}<extra></extra>",
         "legendgroup": "",
         "marker": {
          "color": "#636efa",
          "symbol": "circle"
         },
         "mode": "markers",
         "name": "",
         "orientation": "v",
         "showlegend": false,
         "type": "scatter",
         "x": [
          1803.987,
          11803.431,
          13913.839,
          5819.495,
          21490.943,
          18933.907,
          8787.58,
          44648.71,
          45436.686,
          15847.419,
          27717.847,
          43290.705,
          3523.984,
          16978.068,
          17167.967,
          42658.576,
          7824.362,
          2064.236,
          8708.597,
          6885.829,
          11713.895,
          15807.374,
          14103.452,
          71809.251,
          18563.307,
          1703.102,
          702.225,
          3645.07,
          3364.926,
          44017.591,
          6222.554,
          661.24,
          1768.153,
          22767.037,
          15308.712,
          13254.949,
          1413.89,
          4881.406,
          15524.995,
          3601.006,
          22669.797,
          32415.132,
          32605.906,
          808.133,
          46682.515,
          2705.406,
          14600.861,
          10581.936,
          10550.206,
          7292.458,
          22604.873,
          1510.459,
          29481.252,
          7738.975,
          1729.927,
          8702.975,
          40585.721,
          38605.671,
          16562.413,
          1561.767,
          9745.079,
          45229.245,
          4227.63,
          24574.382,
          13593.877,
          7423.808,
          1998.926,
          1548.675,
          7435.047,
          1653.173,
          4541.795,
          26777.561,
          46482.958,
          6426.674,
          11188.744,
          19082.62,
          15663.986,
          67335.293,
          33132.32,
          35220.084,
          8193.571,
          39002.223,
          8337.49,
          24055.588,
          2993.028,
          1981.132,
          65530.537,
          3393.474,
          6397.36,
          25063.846,
          13367.565,
          2851.153,
          752.788,
          17881.509,
          29524.265,
          94277.965,
          1416.44,
          1095.042,
          26808.164,
          15183.616,
          2014.306,
          36513.323,
          3597.633,
          20292.745,
          17336.469,
          3299.464,
          5189.972,
          11840.846,
          16409.288,
          7485.013,
          1136.103,
          5591.597,
          9541.808,
          2442.804,
          48472.545,
          36085.843,
          5321.444,
          926,
          5338.454,
          13111.214,
          64800.057,
          37960.709,
          5034.708,
          4449.898,
          22267.037,
          3823.194,
          8827.01,
          12236.706,
          7599.188,
          27216.445,
          27936.896,
          116935.6,
          23313.199,
          24765.954,
          1854.211,
          12951.839,
          10727.146,
          6021.557,
          3052.714,
          49045.411,
          2470.58,
          14048.881,
          26382.287,
          1390.3,
          85535.383,
          30155.152,
          31400.84,
          2205.923,
          12294.876,
          35938.374,
          34272.36,
          11669.077,
          4466.507,
          13767.119,
          46949.283,
          57410.166,
          2896.913,
          2683.304,
          16277.671,
          6570.102,
          1429.813,
          5425.621,
          28763.071,
          10849.297,
          25129.341,
          1697.707,
          7894.393,
          67293.483,
          39753.244,
          54225.446,
          20551.409,
          6253.104,
          2921.909,
          16745.022,
          6171.884,
          15469.207,
          1479.147,
          3689.251,
          1899.775
         ],
         "xaxis": "x",
         "y": [
          null,
          null,
          null,
          null,
          null,
          90.87,
          null,
          null,
          77.1,
          null,
          null,
          84.29,
          81.25,
          null,
          null,
          79.46,
          null,
          null,
          null,
          null,
          null,
          null,
          87.03,
          null,
          null,
          null,
          null,
          null,
          null,
          87.91,
          null,
          null,
          null,
          92.2,
          null,
          null,
          null,
          null,
          null,
          null,
          null,
          null,
          66.47,
          null,
          81.66,
          null,
          64.92,
          null,
          null,
          null,
          null,
          null,
          65.44,
          null,
          null,
          76.43,
          null,
          80.51,
          null,
          null,
          null,
          77.73,
          null,
          76.36,
          null,
          null,
          null,
          null,
          null,
          null,
          null,
          null,
          null,
          null,
          null,
          null,
          null,
          81.65,
          71.12,
          86.14,
          null,
          84.14,
          null,
          55.9,
          null,
          null,
          null,
          24.44,
          null,
          null,
          null,
          null,
          null,
          null,
          71.12,
          74.4,
          null,
          null,
          82.83,
          null,
          null,
          89.68,
          null,
          null,
          null,
          null,
          null,
          null,
          null,
          null,
          null,
          null,
          null,
          null,
          null,
          82.9,
          null,
          null,
          null,
          null,
          79.99,
          null,
          59.17,
          null,
          null,
          3.52,
          null,
          88.11,
          null,
          57.22,
          null,
          null,
          null,
          59.33,
          null,
          null,
          null,
          null,
          null,
          null,
          null,
          null,
          null,
          null,
          91.63,
          null,
          null,
          47.47,
          null,
          87.08,
          null,
          null,
          null,
          null,
          null,
          69.66,
          null,
          null,
          null,
          null,
          null,
          null,
          null,
          null,
          67.89,
          null,
          null,
          null,
          null,
          80.38,
          87.7,
          null,
          null,
          null,
          null,
          68.07,
          null,
          null,
          null
         ],
         "yaxis": "y"
        }
       ],
       "layout": {
        "legend": {
         "tracegroupgap": 0
        },
        "margin": {
         "t": 60
        },
        "template": {
         "data": {
          "bar": [
           {
            "error_x": {
             "color": "#2a3f5f"
            },
            "error_y": {
             "color": "#2a3f5f"
            },
            "marker": {
             "line": {
              "color": "#E5ECF6",
              "width": 0.5
             },
             "pattern": {
              "fillmode": "overlay",
              "size": 10,
              "solidity": 0.2
             }
            },
            "type": "bar"
           }
          ],
          "barpolar": [
           {
            "marker": {
             "line": {
              "color": "#E5ECF6",
              "width": 0.5
             },
             "pattern": {
              "fillmode": "overlay",
              "size": 10,
              "solidity": 0.2
             }
            },
            "type": "barpolar"
           }
          ],
          "carpet": [
           {
            "aaxis": {
             "endlinecolor": "#2a3f5f",
             "gridcolor": "white",
             "linecolor": "white",
             "minorgridcolor": "white",
             "startlinecolor": "#2a3f5f"
            },
            "baxis": {
             "endlinecolor": "#2a3f5f",
             "gridcolor": "white",
             "linecolor": "white",
             "minorgridcolor": "white",
             "startlinecolor": "#2a3f5f"
            },
            "type": "carpet"
           }
          ],
          "choropleth": [
           {
            "colorbar": {
             "outlinewidth": 0,
             "ticks": ""
            },
            "type": "choropleth"
           }
          ],
          "contour": [
           {
            "colorbar": {
             "outlinewidth": 0,
             "ticks": ""
            },
            "colorscale": [
             [
              0,
              "#0d0887"
             ],
             [
              0.1111111111111111,
              "#46039f"
             ],
             [
              0.2222222222222222,
              "#7201a8"
             ],
             [
              0.3333333333333333,
              "#9c179e"
             ],
             [
              0.4444444444444444,
              "#bd3786"
             ],
             [
              0.5555555555555556,
              "#d8576b"
             ],
             [
              0.6666666666666666,
              "#ed7953"
             ],
             [
              0.7777777777777778,
              "#fb9f3a"
             ],
             [
              0.8888888888888888,
              "#fdca26"
             ],
             [
              1,
              "#f0f921"
             ]
            ],
            "type": "contour"
           }
          ],
          "contourcarpet": [
           {
            "colorbar": {
             "outlinewidth": 0,
             "ticks": ""
            },
            "type": "contourcarpet"
           }
          ],
          "heatmap": [
           {
            "colorbar": {
             "outlinewidth": 0,
             "ticks": ""
            },
            "colorscale": [
             [
              0,
              "#0d0887"
             ],
             [
              0.1111111111111111,
              "#46039f"
             ],
             [
              0.2222222222222222,
              "#7201a8"
             ],
             [
              0.3333333333333333,
              "#9c179e"
             ],
             [
              0.4444444444444444,
              "#bd3786"
             ],
             [
              0.5555555555555556,
              "#d8576b"
             ],
             [
              0.6666666666666666,
              "#ed7953"
             ],
             [
              0.7777777777777778,
              "#fb9f3a"
             ],
             [
              0.8888888888888888,
              "#fdca26"
             ],
             [
              1,
              "#f0f921"
             ]
            ],
            "type": "heatmap"
           }
          ],
          "heatmapgl": [
           {
            "colorbar": {
             "outlinewidth": 0,
             "ticks": ""
            },
            "colorscale": [
             [
              0,
              "#0d0887"
             ],
             [
              0.1111111111111111,
              "#46039f"
             ],
             [
              0.2222222222222222,
              "#7201a8"
             ],
             [
              0.3333333333333333,
              "#9c179e"
             ],
             [
              0.4444444444444444,
              "#bd3786"
             ],
             [
              0.5555555555555556,
              "#d8576b"
             ],
             [
              0.6666666666666666,
              "#ed7953"
             ],
             [
              0.7777777777777778,
              "#fb9f3a"
             ],
             [
              0.8888888888888888,
              "#fdca26"
             ],
             [
              1,
              "#f0f921"
             ]
            ],
            "type": "heatmapgl"
           }
          ],
          "histogram": [
           {
            "marker": {
             "pattern": {
              "fillmode": "overlay",
              "size": 10,
              "solidity": 0.2
             }
            },
            "type": "histogram"
           }
          ],
          "histogram2d": [
           {
            "colorbar": {
             "outlinewidth": 0,
             "ticks": ""
            },
            "colorscale": [
             [
              0,
              "#0d0887"
             ],
             [
              0.1111111111111111,
              "#46039f"
             ],
             [
              0.2222222222222222,
              "#7201a8"
             ],
             [
              0.3333333333333333,
              "#9c179e"
             ],
             [
              0.4444444444444444,
              "#bd3786"
             ],
             [
              0.5555555555555556,
              "#d8576b"
             ],
             [
              0.6666666666666666,
              "#ed7953"
             ],
             [
              0.7777777777777778,
              "#fb9f3a"
             ],
             [
              0.8888888888888888,
              "#fdca26"
             ],
             [
              1,
              "#f0f921"
             ]
            ],
            "type": "histogram2d"
           }
          ],
          "histogram2dcontour": [
           {
            "colorbar": {
             "outlinewidth": 0,
             "ticks": ""
            },
            "colorscale": [
             [
              0,
              "#0d0887"
             ],
             [
              0.1111111111111111,
              "#46039f"
             ],
             [
              0.2222222222222222,
              "#7201a8"
             ],
             [
              0.3333333333333333,
              "#9c179e"
             ],
             [
              0.4444444444444444,
              "#bd3786"
             ],
             [
              0.5555555555555556,
              "#d8576b"
             ],
             [
              0.6666666666666666,
              "#ed7953"
             ],
             [
              0.7777777777777778,
              "#fb9f3a"
             ],
             [
              0.8888888888888888,
              "#fdca26"
             ],
             [
              1,
              "#f0f921"
             ]
            ],
            "type": "histogram2dcontour"
           }
          ],
          "mesh3d": [
           {
            "colorbar": {
             "outlinewidth": 0,
             "ticks": ""
            },
            "type": "mesh3d"
           }
          ],
          "parcoords": [
           {
            "line": {
             "colorbar": {
              "outlinewidth": 0,
              "ticks": ""
             }
            },
            "type": "parcoords"
           }
          ],
          "pie": [
           {
            "automargin": true,
            "type": "pie"
           }
          ],
          "scatter": [
           {
            "fillpattern": {
             "fillmode": "overlay",
             "size": 10,
             "solidity": 0.2
            },
            "type": "scatter"
           }
          ],
          "scatter3d": [
           {
            "line": {
             "colorbar": {
              "outlinewidth": 0,
              "ticks": ""
             }
            },
            "marker": {
             "colorbar": {
              "outlinewidth": 0,
              "ticks": ""
             }
            },
            "type": "scatter3d"
           }
          ],
          "scattercarpet": [
           {
            "marker": {
             "colorbar": {
              "outlinewidth": 0,
              "ticks": ""
             }
            },
            "type": "scattercarpet"
           }
          ],
          "scattergeo": [
           {
            "marker": {
             "colorbar": {
              "outlinewidth": 0,
              "ticks": ""
             }
            },
            "type": "scattergeo"
           }
          ],
          "scattergl": [
           {
            "marker": {
             "colorbar": {
              "outlinewidth": 0,
              "ticks": ""
             }
            },
            "type": "scattergl"
           }
          ],
          "scattermapbox": [
           {
            "marker": {
             "colorbar": {
              "outlinewidth": 0,
              "ticks": ""
             }
            },
            "type": "scattermapbox"
           }
          ],
          "scatterpolar": [
           {
            "marker": {
             "colorbar": {
              "outlinewidth": 0,
              "ticks": ""
             }
            },
            "type": "scatterpolar"
           }
          ],
          "scatterpolargl": [
           {
            "marker": {
             "colorbar": {
              "outlinewidth": 0,
              "ticks": ""
             }
            },
            "type": "scatterpolargl"
           }
          ],
          "scatterternary": [
           {
            "marker": {
             "colorbar": {
              "outlinewidth": 0,
              "ticks": ""
             }
            },
            "type": "scatterternary"
           }
          ],
          "surface": [
           {
            "colorbar": {
             "outlinewidth": 0,
             "ticks": ""
            },
            "colorscale": [
             [
              0,
              "#0d0887"
             ],
             [
              0.1111111111111111,
              "#46039f"
             ],
             [
              0.2222222222222222,
              "#7201a8"
             ],
             [
              0.3333333333333333,
              "#9c179e"
             ],
             [
              0.4444444444444444,
              "#bd3786"
             ],
             [
              0.5555555555555556,
              "#d8576b"
             ],
             [
              0.6666666666666666,
              "#ed7953"
             ],
             [
              0.7777777777777778,
              "#fb9f3a"
             ],
             [
              0.8888888888888888,
              "#fdca26"
             ],
             [
              1,
              "#f0f921"
             ]
            ],
            "type": "surface"
           }
          ],
          "table": [
           {
            "cells": {
             "fill": {
              "color": "#EBF0F8"
             },
             "line": {
              "color": "white"
             }
            },
            "header": {
             "fill": {
              "color": "#C8D4E3"
             },
             "line": {
              "color": "white"
             }
            },
            "type": "table"
           }
          ]
         },
         "layout": {
          "annotationdefaults": {
           "arrowcolor": "#2a3f5f",
           "arrowhead": 0,
           "arrowwidth": 1
          },
          "autotypenumbers": "strict",
          "coloraxis": {
           "colorbar": {
            "outlinewidth": 0,
            "ticks": ""
           }
          },
          "colorscale": {
           "diverging": [
            [
             0,
             "#8e0152"
            ],
            [
             0.1,
             "#c51b7d"
            ],
            [
             0.2,
             "#de77ae"
            ],
            [
             0.3,
             "#f1b6da"
            ],
            [
             0.4,
             "#fde0ef"
            ],
            [
             0.5,
             "#f7f7f7"
            ],
            [
             0.6,
             "#e6f5d0"
            ],
            [
             0.7,
             "#b8e186"
            ],
            [
             0.8,
             "#7fbc41"
            ],
            [
             0.9,
             "#4d9221"
            ],
            [
             1,
             "#276419"
            ]
           ],
           "sequential": [
            [
             0,
             "#0d0887"
            ],
            [
             0.1111111111111111,
             "#46039f"
            ],
            [
             0.2222222222222222,
             "#7201a8"
            ],
            [
             0.3333333333333333,
             "#9c179e"
            ],
            [
             0.4444444444444444,
             "#bd3786"
            ],
            [
             0.5555555555555556,
             "#d8576b"
            ],
            [
             0.6666666666666666,
             "#ed7953"
            ],
            [
             0.7777777777777778,
             "#fb9f3a"
            ],
            [
             0.8888888888888888,
             "#fdca26"
            ],
            [
             1,
             "#f0f921"
            ]
           ],
           "sequentialminus": [
            [
             0,
             "#0d0887"
            ],
            [
             0.1111111111111111,
             "#46039f"
            ],
            [
             0.2222222222222222,
             "#7201a8"
            ],
            [
             0.3333333333333333,
             "#9c179e"
            ],
            [
             0.4444444444444444,
             "#bd3786"
            ],
            [
             0.5555555555555556,
             "#d8576b"
            ],
            [
             0.6666666666666666,
             "#ed7953"
            ],
            [
             0.7777777777777778,
             "#fb9f3a"
            ],
            [
             0.8888888888888888,
             "#fdca26"
            ],
            [
             1,
             "#f0f921"
            ]
           ]
          },
          "colorway": [
           "#636efa",
           "#EF553B",
           "#00cc96",
           "#ab63fa",
           "#FFA15A",
           "#19d3f3",
           "#FF6692",
           "#B6E880",
           "#FF97FF",
           "#FECB52"
          ],
          "font": {
           "color": "#2a3f5f"
          },
          "geo": {
           "bgcolor": "white",
           "lakecolor": "white",
           "landcolor": "#E5ECF6",
           "showlakes": true,
           "showland": true,
           "subunitcolor": "white"
          },
          "hoverlabel": {
           "align": "left"
          },
          "hovermode": "closest",
          "mapbox": {
           "style": "light"
          },
          "paper_bgcolor": "white",
          "plot_bgcolor": "#E5ECF6",
          "polar": {
           "angularaxis": {
            "gridcolor": "white",
            "linecolor": "white",
            "ticks": ""
           },
           "bgcolor": "#E5ECF6",
           "radialaxis": {
            "gridcolor": "white",
            "linecolor": "white",
            "ticks": ""
           }
          },
          "scene": {
           "xaxis": {
            "backgroundcolor": "#E5ECF6",
            "gridcolor": "white",
            "gridwidth": 2,
            "linecolor": "white",
            "showbackground": true,
            "ticks": "",
            "zerolinecolor": "white"
           },
           "yaxis": {
            "backgroundcolor": "#E5ECF6",
            "gridcolor": "white",
            "gridwidth": 2,
            "linecolor": "white",
            "showbackground": true,
            "ticks": "",
            "zerolinecolor": "white"
           },
           "zaxis": {
            "backgroundcolor": "#E5ECF6",
            "gridcolor": "white",
            "gridwidth": 2,
            "linecolor": "white",
            "showbackground": true,
            "ticks": "",
            "zerolinecolor": "white"
           }
          },
          "shapedefaults": {
           "line": {
            "color": "#2a3f5f"
           }
          },
          "ternary": {
           "aaxis": {
            "gridcolor": "white",
            "linecolor": "white",
            "ticks": ""
           },
           "baxis": {
            "gridcolor": "white",
            "linecolor": "white",
            "ticks": ""
           },
           "bgcolor": "#E5ECF6",
           "caxis": {
            "gridcolor": "white",
            "linecolor": "white",
            "ticks": ""
           }
          },
          "title": {
           "x": 0.05
          },
          "xaxis": {
           "automargin": true,
           "gridcolor": "white",
           "linecolor": "white",
           "ticks": "",
           "title": {
            "standoff": 15
           },
           "zerolinecolor": "white",
           "zerolinewidth": 2
          },
          "yaxis": {
           "automargin": true,
           "gridcolor": "white",
           "linecolor": "white",
           "ticks": "",
           "title": {
            "standoff": 15
           },
           "zerolinecolor": "white",
           "zerolinewidth": 2
          }
         }
        },
        "xaxis": {
         "anchor": "y",
         "domain": [
          0,
          1
         ],
         "title": {
          "text": "gdp_per_capita"
         }
        },
        "yaxis": {
         "anchor": "x",
         "domain": [
          0,
          1
         ],
         "title": {
          "text": "people_vaccinated_per_hundred"
         }
        }
       }
      },
      "text/html": [
       "<div>                            <div id=\"6dd5485c-3e75-4316-b3a3-634e04a308bd\" class=\"plotly-graph-div\" style=\"height:525px; width:100%;\"></div>            <script type=\"text/javascript\">                require([\"plotly\"], function(Plotly) {                    window.PLOTLYENV=window.PLOTLYENV || {};                                    if (document.getElementById(\"6dd5485c-3e75-4316-b3a3-634e04a308bd\")) {                    Plotly.newPlot(                        \"6dd5485c-3e75-4316-b3a3-634e04a308bd\",                        [{\"hovertemplate\":\"gdp_per_capita=%{x}<br>people_vaccinated_per_hundred=%{y}<extra></extra>\",\"legendgroup\":\"\",\"marker\":{\"color\":\"#636efa\",\"symbol\":\"circle\"},\"mode\":\"markers\",\"name\":\"\",\"orientation\":\"v\",\"showlegend\":false,\"x\":[1803.987,11803.431,13913.839,5819.495,21490.943,18933.907,8787.58,44648.71,45436.686,15847.419,27717.847,43290.705,3523.984,16978.068,17167.967,42658.576,7824.362,2064.236,8708.597,6885.829,11713.895,15807.374,14103.452,71809.251,18563.307,1703.102,702.225,3645.07,3364.926,44017.591,6222.554,661.24,1768.153,22767.037,15308.712,13254.949,1413.89,4881.406,15524.995,3601.006,22669.797,32415.132,32605.906,808.133,46682.515,2705.406,14600.861,10581.936,10550.206,7292.458,22604.873,1510.459,29481.252,7738.975,1729.927,8702.975,40585.721,38605.671,16562.413,1561.767,9745.079,45229.245,4227.63,24574.382,13593.877,7423.808,1998.926,1548.675,7435.047,1653.173,4541.795,26777.561,46482.958,6426.674,11188.744,19082.62,15663.986,67335.293,33132.32,35220.084,8193.571,39002.223,8337.49,24055.588,2993.028,1981.132,65530.537,3393.474,6397.36,25063.846,13367.565,2851.153,752.788,17881.509,29524.265,94277.965,1416.44,1095.042,26808.164,15183.616,2014.306,36513.323,3597.633,20292.745,17336.469,3299.464,5189.972,11840.846,16409.288,7485.013,1136.103,5591.597,9541.808,2442.804,48472.545,36085.843,5321.444,926.0,5338.454,13111.214,64800.057,37960.709,5034.708,4449.898,22267.037,3823.194,8827.01,12236.706,7599.188,27216.445,27936.896,116935.6,23313.199,24765.954,1854.211,12951.839,10727.146,6021.557,3052.714,49045.411,2470.58,14048.881,26382.287,1390.3,85535.383,30155.152,31400.84,2205.923,12294.876,35938.374,34272.36,11669.077,4466.507,13767.119,46949.283,57410.166,2896.913,2683.304,16277.671,6570.102,1429.813,5425.621,28763.071,10849.297,25129.341,1697.707,7894.393,67293.483,39753.244,54225.446,20551.409,6253.104,2921.909,16745.022,6171.884,15469.207,1479.147,3689.251,1899.775],\"xaxis\":\"x\",\"y\":[null,null,null,null,null,90.87,null,null,77.1,null,null,84.29,81.25,null,null,79.46,null,null,null,null,null,null,87.03,null,null,null,null,null,null,87.91,null,null,null,92.2,null,null,null,null,null,null,null,null,66.47,null,81.66,null,64.92,null,null,null,null,null,65.44,null,null,76.43,null,80.51,null,null,null,77.73,null,76.36,null,null,null,null,null,null,null,null,null,null,null,null,null,81.65,71.12,86.14,null,84.14,null,55.9,null,null,null,24.44,null,null,null,null,null,null,71.12,74.4,null,null,82.83,null,null,89.68,null,null,null,null,null,null,null,null,null,null,null,null,null,82.9,null,null,null,null,79.99,null,59.17,null,null,3.52,null,88.11,null,57.22,null,null,null,59.33,null,null,null,null,null,null,null,null,null,null,91.63,null,null,47.47,null,87.08,null,null,null,null,null,69.66,null,null,null,null,null,null,null,null,67.89,null,null,null,null,80.38,87.7,null,null,null,null,68.07,null,null,null],\"yaxis\":\"y\",\"type\":\"scatter\"}],                        {\"template\":{\"data\":{\"histogram2dcontour\":[{\"type\":\"histogram2dcontour\",\"colorbar\":{\"outlinewidth\":0,\"ticks\":\"\"},\"colorscale\":[[0.0,\"#0d0887\"],[0.1111111111111111,\"#46039f\"],[0.2222222222222222,\"#7201a8\"],[0.3333333333333333,\"#9c179e\"],[0.4444444444444444,\"#bd3786\"],[0.5555555555555556,\"#d8576b\"],[0.6666666666666666,\"#ed7953\"],[0.7777777777777778,\"#fb9f3a\"],[0.8888888888888888,\"#fdca26\"],[1.0,\"#f0f921\"]]}],\"choropleth\":[{\"type\":\"choropleth\",\"colorbar\":{\"outlinewidth\":0,\"ticks\":\"\"}}],\"histogram2d\":[{\"type\":\"histogram2d\",\"colorbar\":{\"outlinewidth\":0,\"ticks\":\"\"},\"colorscale\":[[0.0,\"#0d0887\"],[0.1111111111111111,\"#46039f\"],[0.2222222222222222,\"#7201a8\"],[0.3333333333333333,\"#9c179e\"],[0.4444444444444444,\"#bd3786\"],[0.5555555555555556,\"#d8576b\"],[0.6666666666666666,\"#ed7953\"],[0.7777777777777778,\"#fb9f3a\"],[0.8888888888888888,\"#fdca26\"],[1.0,\"#f0f921\"]]}],\"heatmap\":[{\"type\":\"heatmap\",\"colorbar\":{\"outlinewidth\":0,\"ticks\":\"\"},\"colorscale\":[[0.0,\"#0d0887\"],[0.1111111111111111,\"#46039f\"],[0.2222222222222222,\"#7201a8\"],[0.3333333333333333,\"#9c179e\"],[0.4444444444444444,\"#bd3786\"],[0.5555555555555556,\"#d8576b\"],[0.6666666666666666,\"#ed7953\"],[0.7777777777777778,\"#fb9f3a\"],[0.8888888888888888,\"#fdca26\"],[1.0,\"#f0f921\"]]}],\"heatmapgl\":[{\"type\":\"heatmapgl\",\"colorbar\":{\"outlinewidth\":0,\"ticks\":\"\"},\"colorscale\":[[0.0,\"#0d0887\"],[0.1111111111111111,\"#46039f\"],[0.2222222222222222,\"#7201a8\"],[0.3333333333333333,\"#9c179e\"],[0.4444444444444444,\"#bd3786\"],[0.5555555555555556,\"#d8576b\"],[0.6666666666666666,\"#ed7953\"],[0.7777777777777778,\"#fb9f3a\"],[0.8888888888888888,\"#fdca26\"],[1.0,\"#f0f921\"]]}],\"contourcarpet\":[{\"type\":\"contourcarpet\",\"colorbar\":{\"outlinewidth\":0,\"ticks\":\"\"}}],\"contour\":[{\"type\":\"contour\",\"colorbar\":{\"outlinewidth\":0,\"ticks\":\"\"},\"colorscale\":[[0.0,\"#0d0887\"],[0.1111111111111111,\"#46039f\"],[0.2222222222222222,\"#7201a8\"],[0.3333333333333333,\"#9c179e\"],[0.4444444444444444,\"#bd3786\"],[0.5555555555555556,\"#d8576b\"],[0.6666666666666666,\"#ed7953\"],[0.7777777777777778,\"#fb9f3a\"],[0.8888888888888888,\"#fdca26\"],[1.0,\"#f0f921\"]]}],\"surface\":[{\"type\":\"surface\",\"colorbar\":{\"outlinewidth\":0,\"ticks\":\"\"},\"colorscale\":[[0.0,\"#0d0887\"],[0.1111111111111111,\"#46039f\"],[0.2222222222222222,\"#7201a8\"],[0.3333333333333333,\"#9c179e\"],[0.4444444444444444,\"#bd3786\"],[0.5555555555555556,\"#d8576b\"],[0.6666666666666666,\"#ed7953\"],[0.7777777777777778,\"#fb9f3a\"],[0.8888888888888888,\"#fdca26\"],[1.0,\"#f0f921\"]]}],\"mesh3d\":[{\"type\":\"mesh3d\",\"colorbar\":{\"outlinewidth\":0,\"ticks\":\"\"}}],\"scatter\":[{\"fillpattern\":{\"fillmode\":\"overlay\",\"size\":10,\"solidity\":0.2},\"type\":\"scatter\"}],\"parcoords\":[{\"type\":\"parcoords\",\"line\":{\"colorbar\":{\"outlinewidth\":0,\"ticks\":\"\"}}}],\"scatterpolargl\":[{\"type\":\"scatterpolargl\",\"marker\":{\"colorbar\":{\"outlinewidth\":0,\"ticks\":\"\"}}}],\"bar\":[{\"error_x\":{\"color\":\"#2a3f5f\"},\"error_y\":{\"color\":\"#2a3f5f\"},\"marker\":{\"line\":{\"color\":\"#E5ECF6\",\"width\":0.5},\"pattern\":{\"fillmode\":\"overlay\",\"size\":10,\"solidity\":0.2}},\"type\":\"bar\"}],\"scattergeo\":[{\"type\":\"scattergeo\",\"marker\":{\"colorbar\":{\"outlinewidth\":0,\"ticks\":\"\"}}}],\"scatterpolar\":[{\"type\":\"scatterpolar\",\"marker\":{\"colorbar\":{\"outlinewidth\":0,\"ticks\":\"\"}}}],\"histogram\":[{\"marker\":{\"pattern\":{\"fillmode\":\"overlay\",\"size\":10,\"solidity\":0.2}},\"type\":\"histogram\"}],\"scattergl\":[{\"type\":\"scattergl\",\"marker\":{\"colorbar\":{\"outlinewidth\":0,\"ticks\":\"\"}}}],\"scatter3d\":[{\"type\":\"scatter3d\",\"line\":{\"colorbar\":{\"outlinewidth\":0,\"ticks\":\"\"}},\"marker\":{\"colorbar\":{\"outlinewidth\":0,\"ticks\":\"\"}}}],\"scattermapbox\":[{\"type\":\"scattermapbox\",\"marker\":{\"colorbar\":{\"outlinewidth\":0,\"ticks\":\"\"}}}],\"scatterternary\":[{\"type\":\"scatterternary\",\"marker\":{\"colorbar\":{\"outlinewidth\":0,\"ticks\":\"\"}}}],\"scattercarpet\":[{\"type\":\"scattercarpet\",\"marker\":{\"colorbar\":{\"outlinewidth\":0,\"ticks\":\"\"}}}],\"carpet\":[{\"aaxis\":{\"endlinecolor\":\"#2a3f5f\",\"gridcolor\":\"white\",\"linecolor\":\"white\",\"minorgridcolor\":\"white\",\"startlinecolor\":\"#2a3f5f\"},\"baxis\":{\"endlinecolor\":\"#2a3f5f\",\"gridcolor\":\"white\",\"linecolor\":\"white\",\"minorgridcolor\":\"white\",\"startlinecolor\":\"#2a3f5f\"},\"type\":\"carpet\"}],\"table\":[{\"cells\":{\"fill\":{\"color\":\"#EBF0F8\"},\"line\":{\"color\":\"white\"}},\"header\":{\"fill\":{\"color\":\"#C8D4E3\"},\"line\":{\"color\":\"white\"}},\"type\":\"table\"}],\"barpolar\":[{\"marker\":{\"line\":{\"color\":\"#E5ECF6\",\"width\":0.5},\"pattern\":{\"fillmode\":\"overlay\",\"size\":10,\"solidity\":0.2}},\"type\":\"barpolar\"}],\"pie\":[{\"automargin\":true,\"type\":\"pie\"}]},\"layout\":{\"autotypenumbers\":\"strict\",\"colorway\":[\"#636efa\",\"#EF553B\",\"#00cc96\",\"#ab63fa\",\"#FFA15A\",\"#19d3f3\",\"#FF6692\",\"#B6E880\",\"#FF97FF\",\"#FECB52\"],\"font\":{\"color\":\"#2a3f5f\"},\"hovermode\":\"closest\",\"hoverlabel\":{\"align\":\"left\"},\"paper_bgcolor\":\"white\",\"plot_bgcolor\":\"#E5ECF6\",\"polar\":{\"bgcolor\":\"#E5ECF6\",\"angularaxis\":{\"gridcolor\":\"white\",\"linecolor\":\"white\",\"ticks\":\"\"},\"radialaxis\":{\"gridcolor\":\"white\",\"linecolor\":\"white\",\"ticks\":\"\"}},\"ternary\":{\"bgcolor\":\"#E5ECF6\",\"aaxis\":{\"gridcolor\":\"white\",\"linecolor\":\"white\",\"ticks\":\"\"},\"baxis\":{\"gridcolor\":\"white\",\"linecolor\":\"white\",\"ticks\":\"\"},\"caxis\":{\"gridcolor\":\"white\",\"linecolor\":\"white\",\"ticks\":\"\"}},\"coloraxis\":{\"colorbar\":{\"outlinewidth\":0,\"ticks\":\"\"}},\"colorscale\":{\"sequential\":[[0.0,\"#0d0887\"],[0.1111111111111111,\"#46039f\"],[0.2222222222222222,\"#7201a8\"],[0.3333333333333333,\"#9c179e\"],[0.4444444444444444,\"#bd3786\"],[0.5555555555555556,\"#d8576b\"],[0.6666666666666666,\"#ed7953\"],[0.7777777777777778,\"#fb9f3a\"],[0.8888888888888888,\"#fdca26\"],[1.0,\"#f0f921\"]],\"sequentialminus\":[[0.0,\"#0d0887\"],[0.1111111111111111,\"#46039f\"],[0.2222222222222222,\"#7201a8\"],[0.3333333333333333,\"#9c179e\"],[0.4444444444444444,\"#bd3786\"],[0.5555555555555556,\"#d8576b\"],[0.6666666666666666,\"#ed7953\"],[0.7777777777777778,\"#fb9f3a\"],[0.8888888888888888,\"#fdca26\"],[1.0,\"#f0f921\"]],\"diverging\":[[0,\"#8e0152\"],[0.1,\"#c51b7d\"],[0.2,\"#de77ae\"],[0.3,\"#f1b6da\"],[0.4,\"#fde0ef\"],[0.5,\"#f7f7f7\"],[0.6,\"#e6f5d0\"],[0.7,\"#b8e186\"],[0.8,\"#7fbc41\"],[0.9,\"#4d9221\"],[1,\"#276419\"]]},\"xaxis\":{\"gridcolor\":\"white\",\"linecolor\":\"white\",\"ticks\":\"\",\"title\":{\"standoff\":15},\"zerolinecolor\":\"white\",\"automargin\":true,\"zerolinewidth\":2},\"yaxis\":{\"gridcolor\":\"white\",\"linecolor\":\"white\",\"ticks\":\"\",\"title\":{\"standoff\":15},\"zerolinecolor\":\"white\",\"automargin\":true,\"zerolinewidth\":2},\"scene\":{\"xaxis\":{\"backgroundcolor\":\"#E5ECF6\",\"gridcolor\":\"white\",\"linecolor\":\"white\",\"showbackground\":true,\"ticks\":\"\",\"zerolinecolor\":\"white\",\"gridwidth\":2},\"yaxis\":{\"backgroundcolor\":\"#E5ECF6\",\"gridcolor\":\"white\",\"linecolor\":\"white\",\"showbackground\":true,\"ticks\":\"\",\"zerolinecolor\":\"white\",\"gridwidth\":2},\"zaxis\":{\"backgroundcolor\":\"#E5ECF6\",\"gridcolor\":\"white\",\"linecolor\":\"white\",\"showbackground\":true,\"ticks\":\"\",\"zerolinecolor\":\"white\",\"gridwidth\":2}},\"shapedefaults\":{\"line\":{\"color\":\"#2a3f5f\"}},\"annotationdefaults\":{\"arrowcolor\":\"#2a3f5f\",\"arrowhead\":0,\"arrowwidth\":1},\"geo\":{\"bgcolor\":\"white\",\"landcolor\":\"#E5ECF6\",\"subunitcolor\":\"white\",\"showland\":true,\"showlakes\":true,\"lakecolor\":\"white\"},\"title\":{\"x\":0.05},\"mapbox\":{\"style\":\"light\"}}},\"xaxis\":{\"anchor\":\"y\",\"domain\":[0.0,1.0],\"title\":{\"text\":\"gdp_per_capita\"}},\"yaxis\":{\"anchor\":\"x\",\"domain\":[0.0,1.0],\"title\":{\"text\":\"people_vaccinated_per_hundred\"}},\"legend\":{\"tracegroupgap\":0},\"margin\":{\"t\":60}},                        {\"responsive\": true}                    ).then(function(){\n",
       "                            \n",
       "var gd = document.getElementById('6dd5485c-3e75-4316-b3a3-634e04a308bd');\n",
       "var x = new MutationObserver(function (mutations, observer) {{\n",
       "        var display = window.getComputedStyle(gd).display;\n",
       "        if (!display || display === 'none') {{\n",
       "            console.log([gd, 'removed!']);\n",
       "            Plotly.purge(gd);\n",
       "            observer.disconnect();\n",
       "        }}\n",
       "}});\n",
       "\n",
       "// Listen for the removal of the full notebook cells\n",
       "var notebookContainer = gd.closest('#notebook-container');\n",
       "if (notebookContainer) {{\n",
       "    x.observe(notebookContainer, {childList: true});\n",
       "}}\n",
       "\n",
       "// Listen for the clearing of the current output cell\n",
       "var outputEl = gd.closest('.output');\n",
       "if (outputEl) {{\n",
       "    x.observe(outputEl, {childList: true});\n",
       "}}\n",
       "\n",
       "                        })                };                });            </script>        </div>"
      ]
     },
     "metadata": {},
     "output_type": "display_data"
    }
   ],
   "source": [
    "fig = px.scatter(test_df, x=\"gdp_per_capita\", y=\"people_vaccinated_per_hundred\")\n",
    "fig.show()"
   ]
  },
  {
   "cell_type": "code",
   "execution_count": 78,
   "id": "275ccf9a",
   "metadata": {},
   "outputs": [
    {
     "data": {
      "application/vnd.plotly.v1+json": {
       "config": {
        "plotlyServerURL": "https://plot.ly"
       },
       "data": [
        {
         "hovertemplate": "gdp_per_capita=%{x}<br>cardiovasc_death_rate=%{y}<extra></extra>",
         "legendgroup": "",
         "marker": {
          "color": "#636efa",
          "symbol": "circle"
         },
         "mode": "markers",
         "name": "",
         "orientation": "v",
         "showlegend": false,
         "type": "scatter",
         "x": [
          1803.987,
          11803.431,
          13913.839,
          5819.495,
          21490.943,
          18933.907,
          8787.58,
          44648.71,
          45436.686,
          15847.419,
          27717.847,
          43290.705,
          3523.984,
          16978.068,
          17167.967,
          42658.576,
          7824.362,
          2064.236,
          8708.597,
          6885.829,
          11713.895,
          15807.374,
          14103.452,
          71809.251,
          18563.307,
          1703.102,
          702.225,
          3645.07,
          3364.926,
          44017.591,
          6222.554,
          661.24,
          1768.153,
          22767.037,
          15308.712,
          13254.949,
          1413.89,
          4881.406,
          15524.995,
          3601.006,
          22669.797,
          32415.132,
          32605.906,
          808.133,
          46682.515,
          2705.406,
          14600.861,
          10581.936,
          10550.206,
          7292.458,
          22604.873,
          1510.459,
          29481.252,
          7738.975,
          1729.927,
          8702.975,
          40585.721,
          38605.671,
          16562.413,
          1561.767,
          9745.079,
          45229.245,
          4227.63,
          24574.382,
          13593.877,
          7423.808,
          1998.926,
          1548.675,
          7435.047,
          1653.173,
          4541.795,
          26777.561,
          46482.958,
          6426.674,
          11188.744,
          19082.62,
          15663.986,
          67335.293,
          33132.32,
          35220.084,
          8193.571,
          39002.223,
          8337.49,
          24055.588,
          2993.028,
          1981.132,
          65530.537,
          3393.474,
          6397.36,
          25063.846,
          13367.565,
          2851.153,
          752.788,
          17881.509,
          29524.265,
          94277.965,
          1416.44,
          1095.042,
          26808.164,
          15183.616,
          2014.306,
          36513.323,
          3597.633,
          20292.745,
          17336.469,
          3299.464,
          5189.972,
          11840.846,
          16409.288,
          7485.013,
          1136.103,
          5591.597,
          9541.808,
          2442.804,
          48472.545,
          36085.843,
          5321.444,
          926,
          5338.454,
          13111.214,
          64800.057,
          37960.709,
          5034.708,
          4449.898,
          22267.037,
          3823.194,
          8827.01,
          12236.706,
          7599.188,
          27216.445,
          27936.896,
          116935.6,
          23313.199,
          24765.954,
          1854.211,
          12951.839,
          10727.146,
          6021.557,
          3052.714,
          49045.411,
          2470.58,
          14048.881,
          26382.287,
          1390.3,
          85535.383,
          30155.152,
          31400.84,
          2205.923,
          12294.876,
          35938.374,
          34272.36,
          11669.077,
          4466.507,
          13767.119,
          46949.283,
          57410.166,
          2896.913,
          2683.304,
          16277.671,
          6570.102,
          1429.813,
          5425.621,
          28763.071,
          10849.297,
          25129.341,
          1697.707,
          7894.393,
          67293.483,
          39753.244,
          54225.446,
          20551.409,
          6253.104,
          2921.909,
          16745.022,
          6171.884,
          15469.207,
          1479.147,
          3689.251,
          1899.775
         ],
         "xaxis": "x",
         "y": [
          597.029,
          304.195,
          278.364,
          276.045,
          191.511,
          191.032,
          341.01,
          107.791,
          145.183,
          559.812,
          235.954,
          151.689,
          298.003,
          170.05,
          443.129,
          114.898,
          176.957,
          235.848,
          217.066,
          204.299,
          329.635,
          237.372,
          177.961,
          201.285,
          424.688,
          269.048,
          293.068,
          270.892,
          244.661,
          105.599,
          182.219,
          435.727,
          280.995,
          127.993,
          261.899,
          124.24,
          261.516,
          344.094,
          137.973,
          303.74,
          253.782,
          141.171,
          227.485,
          318.949,
          114.767,
          258.037,
          266.653,
          140.448,
          525.432,
          167.295,
          202.812,
          311.11,
          255.569,
          333.436,
          182.634,
          412.82,
          153.507,
          86.06,
          259.967,
          331.43,
          496.218,
          156.139,
          298.245,
          175.695,
          243.964,
          155.898,
          336.717,
          382.474,
          373.159,
          430.548,
          240.208,
          278.296,
          117.992,
          282.28,
          342.864,
          270.308,
          218.612,
          126.459,
          93.32,
          113.151,
          206.537,
          79.37,
          208.257,
          466.792,
          218.637,
          434.657,
          132.235,
          436.362,
          368.111,
          350.06,
          266.591,
          405.126,
          272.509,
          341.862,
          342.989,
          128.275,
          405.994,
          227.349,
          260.942,
          164.905,
          268.024,
          168.711,
          232.347,
          224.644,
          152.783,
          454.343,
          408.502,
          460.043,
          387.305,
          419.146,
          329.942,
          202.104,
          243.811,
          260.797,
          109.361,
          128.797,
          137.016,
          238.339,
          181.013,
          322.688,
          114.316,
          266.342,
          423.031,
          265.91,
          128.346,
          561.494,
          199.128,
          85.755,
          370.437,
          227.331,
          127.842,
          176.69,
          370.946,
          431.297,
          191.375,
          204.62,
          252.675,
          348.977,
          270.113,
          259.538,
          241.219,
          439.415,
          242.648,
          325.721,
          92.243,
          287.959,
          153.493,
          459.78,
          200.38,
          85.998,
          99.403,
          197.093,
          431.388,
          258.314,
          133.982,
          99.739,
          427.698,
          217.288,
          109.861,
          335.346,
          280.033,
          227.49,
          228.467,
          318.991,
          171.285,
          213.333,
          539.849,
          317.84,
          122.137,
          151.089,
          160.708,
          724.417,
          546.3,
          204.85,
          245.465,
          233.07,
          495.003,
          234.499,
          307.846
         ],
         "yaxis": "y"
        }
       ],
       "layout": {
        "legend": {
         "tracegroupgap": 0
        },
        "margin": {
         "t": 60
        },
        "template": {
         "data": {
          "bar": [
           {
            "error_x": {
             "color": "#2a3f5f"
            },
            "error_y": {
             "color": "#2a3f5f"
            },
            "marker": {
             "line": {
              "color": "#E5ECF6",
              "width": 0.5
             },
             "pattern": {
              "fillmode": "overlay",
              "size": 10,
              "solidity": 0.2
             }
            },
            "type": "bar"
           }
          ],
          "barpolar": [
           {
            "marker": {
             "line": {
              "color": "#E5ECF6",
              "width": 0.5
             },
             "pattern": {
              "fillmode": "overlay",
              "size": 10,
              "solidity": 0.2
             }
            },
            "type": "barpolar"
           }
          ],
          "carpet": [
           {
            "aaxis": {
             "endlinecolor": "#2a3f5f",
             "gridcolor": "white",
             "linecolor": "white",
             "minorgridcolor": "white",
             "startlinecolor": "#2a3f5f"
            },
            "baxis": {
             "endlinecolor": "#2a3f5f",
             "gridcolor": "white",
             "linecolor": "white",
             "minorgridcolor": "white",
             "startlinecolor": "#2a3f5f"
            },
            "type": "carpet"
           }
          ],
          "choropleth": [
           {
            "colorbar": {
             "outlinewidth": 0,
             "ticks": ""
            },
            "type": "choropleth"
           }
          ],
          "contour": [
           {
            "colorbar": {
             "outlinewidth": 0,
             "ticks": ""
            },
            "colorscale": [
             [
              0,
              "#0d0887"
             ],
             [
              0.1111111111111111,
              "#46039f"
             ],
             [
              0.2222222222222222,
              "#7201a8"
             ],
             [
              0.3333333333333333,
              "#9c179e"
             ],
             [
              0.4444444444444444,
              "#bd3786"
             ],
             [
              0.5555555555555556,
              "#d8576b"
             ],
             [
              0.6666666666666666,
              "#ed7953"
             ],
             [
              0.7777777777777778,
              "#fb9f3a"
             ],
             [
              0.8888888888888888,
              "#fdca26"
             ],
             [
              1,
              "#f0f921"
             ]
            ],
            "type": "contour"
           }
          ],
          "contourcarpet": [
           {
            "colorbar": {
             "outlinewidth": 0,
             "ticks": ""
            },
            "type": "contourcarpet"
           }
          ],
          "heatmap": [
           {
            "colorbar": {
             "outlinewidth": 0,
             "ticks": ""
            },
            "colorscale": [
             [
              0,
              "#0d0887"
             ],
             [
              0.1111111111111111,
              "#46039f"
             ],
             [
              0.2222222222222222,
              "#7201a8"
             ],
             [
              0.3333333333333333,
              "#9c179e"
             ],
             [
              0.4444444444444444,
              "#bd3786"
             ],
             [
              0.5555555555555556,
              "#d8576b"
             ],
             [
              0.6666666666666666,
              "#ed7953"
             ],
             [
              0.7777777777777778,
              "#fb9f3a"
             ],
             [
              0.8888888888888888,
              "#fdca26"
             ],
             [
              1,
              "#f0f921"
             ]
            ],
            "type": "heatmap"
           }
          ],
          "heatmapgl": [
           {
            "colorbar": {
             "outlinewidth": 0,
             "ticks": ""
            },
            "colorscale": [
             [
              0,
              "#0d0887"
             ],
             [
              0.1111111111111111,
              "#46039f"
             ],
             [
              0.2222222222222222,
              "#7201a8"
             ],
             [
              0.3333333333333333,
              "#9c179e"
             ],
             [
              0.4444444444444444,
              "#bd3786"
             ],
             [
              0.5555555555555556,
              "#d8576b"
             ],
             [
              0.6666666666666666,
              "#ed7953"
             ],
             [
              0.7777777777777778,
              "#fb9f3a"
             ],
             [
              0.8888888888888888,
              "#fdca26"
             ],
             [
              1,
              "#f0f921"
             ]
            ],
            "type": "heatmapgl"
           }
          ],
          "histogram": [
           {
            "marker": {
             "pattern": {
              "fillmode": "overlay",
              "size": 10,
              "solidity": 0.2
             }
            },
            "type": "histogram"
           }
          ],
          "histogram2d": [
           {
            "colorbar": {
             "outlinewidth": 0,
             "ticks": ""
            },
            "colorscale": [
             [
              0,
              "#0d0887"
             ],
             [
              0.1111111111111111,
              "#46039f"
             ],
             [
              0.2222222222222222,
              "#7201a8"
             ],
             [
              0.3333333333333333,
              "#9c179e"
             ],
             [
              0.4444444444444444,
              "#bd3786"
             ],
             [
              0.5555555555555556,
              "#d8576b"
             ],
             [
              0.6666666666666666,
              "#ed7953"
             ],
             [
              0.7777777777777778,
              "#fb9f3a"
             ],
             [
              0.8888888888888888,
              "#fdca26"
             ],
             [
              1,
              "#f0f921"
             ]
            ],
            "type": "histogram2d"
           }
          ],
          "histogram2dcontour": [
           {
            "colorbar": {
             "outlinewidth": 0,
             "ticks": ""
            },
            "colorscale": [
             [
              0,
              "#0d0887"
             ],
             [
              0.1111111111111111,
              "#46039f"
             ],
             [
              0.2222222222222222,
              "#7201a8"
             ],
             [
              0.3333333333333333,
              "#9c179e"
             ],
             [
              0.4444444444444444,
              "#bd3786"
             ],
             [
              0.5555555555555556,
              "#d8576b"
             ],
             [
              0.6666666666666666,
              "#ed7953"
             ],
             [
              0.7777777777777778,
              "#fb9f3a"
             ],
             [
              0.8888888888888888,
              "#fdca26"
             ],
             [
              1,
              "#f0f921"
             ]
            ],
            "type": "histogram2dcontour"
           }
          ],
          "mesh3d": [
           {
            "colorbar": {
             "outlinewidth": 0,
             "ticks": ""
            },
            "type": "mesh3d"
           }
          ],
          "parcoords": [
           {
            "line": {
             "colorbar": {
              "outlinewidth": 0,
              "ticks": ""
             }
            },
            "type": "parcoords"
           }
          ],
          "pie": [
           {
            "automargin": true,
            "type": "pie"
           }
          ],
          "scatter": [
           {
            "fillpattern": {
             "fillmode": "overlay",
             "size": 10,
             "solidity": 0.2
            },
            "type": "scatter"
           }
          ],
          "scatter3d": [
           {
            "line": {
             "colorbar": {
              "outlinewidth": 0,
              "ticks": ""
             }
            },
            "marker": {
             "colorbar": {
              "outlinewidth": 0,
              "ticks": ""
             }
            },
            "type": "scatter3d"
           }
          ],
          "scattercarpet": [
           {
            "marker": {
             "colorbar": {
              "outlinewidth": 0,
              "ticks": ""
             }
            },
            "type": "scattercarpet"
           }
          ],
          "scattergeo": [
           {
            "marker": {
             "colorbar": {
              "outlinewidth": 0,
              "ticks": ""
             }
            },
            "type": "scattergeo"
           }
          ],
          "scattergl": [
           {
            "marker": {
             "colorbar": {
              "outlinewidth": 0,
              "ticks": ""
             }
            },
            "type": "scattergl"
           }
          ],
          "scattermapbox": [
           {
            "marker": {
             "colorbar": {
              "outlinewidth": 0,
              "ticks": ""
             }
            },
            "type": "scattermapbox"
           }
          ],
          "scatterpolar": [
           {
            "marker": {
             "colorbar": {
              "outlinewidth": 0,
              "ticks": ""
             }
            },
            "type": "scatterpolar"
           }
          ],
          "scatterpolargl": [
           {
            "marker": {
             "colorbar": {
              "outlinewidth": 0,
              "ticks": ""
             }
            },
            "type": "scatterpolargl"
           }
          ],
          "scatterternary": [
           {
            "marker": {
             "colorbar": {
              "outlinewidth": 0,
              "ticks": ""
             }
            },
            "type": "scatterternary"
           }
          ],
          "surface": [
           {
            "colorbar": {
             "outlinewidth": 0,
             "ticks": ""
            },
            "colorscale": [
             [
              0,
              "#0d0887"
             ],
             [
              0.1111111111111111,
              "#46039f"
             ],
             [
              0.2222222222222222,
              "#7201a8"
             ],
             [
              0.3333333333333333,
              "#9c179e"
             ],
             [
              0.4444444444444444,
              "#bd3786"
             ],
             [
              0.5555555555555556,
              "#d8576b"
             ],
             [
              0.6666666666666666,
              "#ed7953"
             ],
             [
              0.7777777777777778,
              "#fb9f3a"
             ],
             [
              0.8888888888888888,
              "#fdca26"
             ],
             [
              1,
              "#f0f921"
             ]
            ],
            "type": "surface"
           }
          ],
          "table": [
           {
            "cells": {
             "fill": {
              "color": "#EBF0F8"
             },
             "line": {
              "color": "white"
             }
            },
            "header": {
             "fill": {
              "color": "#C8D4E3"
             },
             "line": {
              "color": "white"
             }
            },
            "type": "table"
           }
          ]
         },
         "layout": {
          "annotationdefaults": {
           "arrowcolor": "#2a3f5f",
           "arrowhead": 0,
           "arrowwidth": 1
          },
          "autotypenumbers": "strict",
          "coloraxis": {
           "colorbar": {
            "outlinewidth": 0,
            "ticks": ""
           }
          },
          "colorscale": {
           "diverging": [
            [
             0,
             "#8e0152"
            ],
            [
             0.1,
             "#c51b7d"
            ],
            [
             0.2,
             "#de77ae"
            ],
            [
             0.3,
             "#f1b6da"
            ],
            [
             0.4,
             "#fde0ef"
            ],
            [
             0.5,
             "#f7f7f7"
            ],
            [
             0.6,
             "#e6f5d0"
            ],
            [
             0.7,
             "#b8e186"
            ],
            [
             0.8,
             "#7fbc41"
            ],
            [
             0.9,
             "#4d9221"
            ],
            [
             1,
             "#276419"
            ]
           ],
           "sequential": [
            [
             0,
             "#0d0887"
            ],
            [
             0.1111111111111111,
             "#46039f"
            ],
            [
             0.2222222222222222,
             "#7201a8"
            ],
            [
             0.3333333333333333,
             "#9c179e"
            ],
            [
             0.4444444444444444,
             "#bd3786"
            ],
            [
             0.5555555555555556,
             "#d8576b"
            ],
            [
             0.6666666666666666,
             "#ed7953"
            ],
            [
             0.7777777777777778,
             "#fb9f3a"
            ],
            [
             0.8888888888888888,
             "#fdca26"
            ],
            [
             1,
             "#f0f921"
            ]
           ],
           "sequentialminus": [
            [
             0,
             "#0d0887"
            ],
            [
             0.1111111111111111,
             "#46039f"
            ],
            [
             0.2222222222222222,
             "#7201a8"
            ],
            [
             0.3333333333333333,
             "#9c179e"
            ],
            [
             0.4444444444444444,
             "#bd3786"
            ],
            [
             0.5555555555555556,
             "#d8576b"
            ],
            [
             0.6666666666666666,
             "#ed7953"
            ],
            [
             0.7777777777777778,
             "#fb9f3a"
            ],
            [
             0.8888888888888888,
             "#fdca26"
            ],
            [
             1,
             "#f0f921"
            ]
           ]
          },
          "colorway": [
           "#636efa",
           "#EF553B",
           "#00cc96",
           "#ab63fa",
           "#FFA15A",
           "#19d3f3",
           "#FF6692",
           "#B6E880",
           "#FF97FF",
           "#FECB52"
          ],
          "font": {
           "color": "#2a3f5f"
          },
          "geo": {
           "bgcolor": "white",
           "lakecolor": "white",
           "landcolor": "#E5ECF6",
           "showlakes": true,
           "showland": true,
           "subunitcolor": "white"
          },
          "hoverlabel": {
           "align": "left"
          },
          "hovermode": "closest",
          "mapbox": {
           "style": "light"
          },
          "paper_bgcolor": "white",
          "plot_bgcolor": "#E5ECF6",
          "polar": {
           "angularaxis": {
            "gridcolor": "white",
            "linecolor": "white",
            "ticks": ""
           },
           "bgcolor": "#E5ECF6",
           "radialaxis": {
            "gridcolor": "white",
            "linecolor": "white",
            "ticks": ""
           }
          },
          "scene": {
           "xaxis": {
            "backgroundcolor": "#E5ECF6",
            "gridcolor": "white",
            "gridwidth": 2,
            "linecolor": "white",
            "showbackground": true,
            "ticks": "",
            "zerolinecolor": "white"
           },
           "yaxis": {
            "backgroundcolor": "#E5ECF6",
            "gridcolor": "white",
            "gridwidth": 2,
            "linecolor": "white",
            "showbackground": true,
            "ticks": "",
            "zerolinecolor": "white"
           },
           "zaxis": {
            "backgroundcolor": "#E5ECF6",
            "gridcolor": "white",
            "gridwidth": 2,
            "linecolor": "white",
            "showbackground": true,
            "ticks": "",
            "zerolinecolor": "white"
           }
          },
          "shapedefaults": {
           "line": {
            "color": "#2a3f5f"
           }
          },
          "ternary": {
           "aaxis": {
            "gridcolor": "white",
            "linecolor": "white",
            "ticks": ""
           },
           "baxis": {
            "gridcolor": "white",
            "linecolor": "white",
            "ticks": ""
           },
           "bgcolor": "#E5ECF6",
           "caxis": {
            "gridcolor": "white",
            "linecolor": "white",
            "ticks": ""
           }
          },
          "title": {
           "x": 0.05
          },
          "xaxis": {
           "automargin": true,
           "gridcolor": "white",
           "linecolor": "white",
           "ticks": "",
           "title": {
            "standoff": 15
           },
           "zerolinecolor": "white",
           "zerolinewidth": 2
          },
          "yaxis": {
           "automargin": true,
           "gridcolor": "white",
           "linecolor": "white",
           "ticks": "",
           "title": {
            "standoff": 15
           },
           "zerolinecolor": "white",
           "zerolinewidth": 2
          }
         }
        },
        "xaxis": {
         "anchor": "y",
         "domain": [
          0,
          1
         ],
         "title": {
          "text": "gdp_per_capita"
         }
        },
        "yaxis": {
         "anchor": "x",
         "domain": [
          0,
          1
         ],
         "title": {
          "text": "cardiovasc_death_rate"
         }
        }
       }
      },
      "text/html": [
       "<div>                            <div id=\"a3c1b0a6-0b2a-46ac-8a2d-504ed45bb29d\" class=\"plotly-graph-div\" style=\"height:525px; width:100%;\"></div>            <script type=\"text/javascript\">                require([\"plotly\"], function(Plotly) {                    window.PLOTLYENV=window.PLOTLYENV || {};                                    if (document.getElementById(\"a3c1b0a6-0b2a-46ac-8a2d-504ed45bb29d\")) {                    Plotly.newPlot(                        \"a3c1b0a6-0b2a-46ac-8a2d-504ed45bb29d\",                        [{\"hovertemplate\":\"gdp_per_capita=%{x}<br>cardiovasc_death_rate=%{y}<extra></extra>\",\"legendgroup\":\"\",\"marker\":{\"color\":\"#636efa\",\"symbol\":\"circle\"},\"mode\":\"markers\",\"name\":\"\",\"orientation\":\"v\",\"showlegend\":false,\"x\":[1803.987,11803.431,13913.839,5819.495,21490.943,18933.907,8787.58,44648.71,45436.686,15847.419,27717.847,43290.705,3523.984,16978.068,17167.967,42658.576,7824.362,2064.236,8708.597,6885.829,11713.895,15807.374,14103.452,71809.251,18563.307,1703.102,702.225,3645.07,3364.926,44017.591,6222.554,661.24,1768.153,22767.037,15308.712,13254.949,1413.89,4881.406,15524.995,3601.006,22669.797,32415.132,32605.906,808.133,46682.515,2705.406,14600.861,10581.936,10550.206,7292.458,22604.873,1510.459,29481.252,7738.975,1729.927,8702.975,40585.721,38605.671,16562.413,1561.767,9745.079,45229.245,4227.63,24574.382,13593.877,7423.808,1998.926,1548.675,7435.047,1653.173,4541.795,26777.561,46482.958,6426.674,11188.744,19082.62,15663.986,67335.293,33132.32,35220.084,8193.571,39002.223,8337.49,24055.588,2993.028,1981.132,65530.537,3393.474,6397.36,25063.846,13367.565,2851.153,752.788,17881.509,29524.265,94277.965,1416.44,1095.042,26808.164,15183.616,2014.306,36513.323,3597.633,20292.745,17336.469,3299.464,5189.972,11840.846,16409.288,7485.013,1136.103,5591.597,9541.808,2442.804,48472.545,36085.843,5321.444,926.0,5338.454,13111.214,64800.057,37960.709,5034.708,4449.898,22267.037,3823.194,8827.01,12236.706,7599.188,27216.445,27936.896,116935.6,23313.199,24765.954,1854.211,12951.839,10727.146,6021.557,3052.714,49045.411,2470.58,14048.881,26382.287,1390.3,85535.383,30155.152,31400.84,2205.923,12294.876,35938.374,34272.36,11669.077,4466.507,13767.119,46949.283,57410.166,2896.913,2683.304,16277.671,6570.102,1429.813,5425.621,28763.071,10849.297,25129.341,1697.707,7894.393,67293.483,39753.244,54225.446,20551.409,6253.104,2921.909,16745.022,6171.884,15469.207,1479.147,3689.251,1899.775],\"xaxis\":\"x\",\"y\":[597.029,304.195,278.364,276.045,191.511,191.032,341.01,107.791,145.183,559.812,235.954,151.689,298.003,170.05,443.129,114.898,176.957,235.848,217.066,204.299,329.635,237.372,177.961,201.285,424.688,269.048,293.068,270.892,244.661,105.599,182.219,435.727,280.995,127.993,261.899,124.24,261.516,344.094,137.973,303.74,253.782,141.171,227.485,318.949,114.767,258.037,266.653,140.448,525.432,167.295,202.812,311.11,255.569,333.436,182.634,412.82,153.507,86.06,259.967,331.43,496.218,156.139,298.245,175.695,243.964,155.898,336.717,382.474,373.159,430.548,240.208,278.296,117.992,282.28,342.864,270.308,218.612,126.459,93.32,113.151,206.537,79.37,208.257,466.792,218.637,434.657,132.235,436.362,368.111,350.06,266.591,405.126,272.509,341.862,342.989,128.275,405.994,227.349,260.942,164.905,268.024,168.711,232.347,224.644,152.783,454.343,408.502,460.043,387.305,419.146,329.942,202.104,243.811,260.797,109.361,128.797,137.016,238.339,181.013,322.688,114.316,266.342,423.031,265.91,128.346,561.494,199.128,85.755,370.437,227.331,127.842,176.69,370.946,431.297,191.375,204.62,252.675,348.977,270.113,259.538,241.219,439.415,242.648,325.721,92.243,287.959,153.493,459.78,200.38,85.998,99.403,197.093,431.388,258.314,133.982,99.739,427.698,217.288,109.861,335.346,280.033,227.49,228.467,318.991,171.285,213.333,539.849,317.84,122.137,151.089,160.708,724.417,546.3,204.85,245.465,233.07,495.003,234.499,307.846],\"yaxis\":\"y\",\"type\":\"scatter\"}],                        {\"template\":{\"data\":{\"histogram2dcontour\":[{\"type\":\"histogram2dcontour\",\"colorbar\":{\"outlinewidth\":0,\"ticks\":\"\"},\"colorscale\":[[0.0,\"#0d0887\"],[0.1111111111111111,\"#46039f\"],[0.2222222222222222,\"#7201a8\"],[0.3333333333333333,\"#9c179e\"],[0.4444444444444444,\"#bd3786\"],[0.5555555555555556,\"#d8576b\"],[0.6666666666666666,\"#ed7953\"],[0.7777777777777778,\"#fb9f3a\"],[0.8888888888888888,\"#fdca26\"],[1.0,\"#f0f921\"]]}],\"choropleth\":[{\"type\":\"choropleth\",\"colorbar\":{\"outlinewidth\":0,\"ticks\":\"\"}}],\"histogram2d\":[{\"type\":\"histogram2d\",\"colorbar\":{\"outlinewidth\":0,\"ticks\":\"\"},\"colorscale\":[[0.0,\"#0d0887\"],[0.1111111111111111,\"#46039f\"],[0.2222222222222222,\"#7201a8\"],[0.3333333333333333,\"#9c179e\"],[0.4444444444444444,\"#bd3786\"],[0.5555555555555556,\"#d8576b\"],[0.6666666666666666,\"#ed7953\"],[0.7777777777777778,\"#fb9f3a\"],[0.8888888888888888,\"#fdca26\"],[1.0,\"#f0f921\"]]}],\"heatmap\":[{\"type\":\"heatmap\",\"colorbar\":{\"outlinewidth\":0,\"ticks\":\"\"},\"colorscale\":[[0.0,\"#0d0887\"],[0.1111111111111111,\"#46039f\"],[0.2222222222222222,\"#7201a8\"],[0.3333333333333333,\"#9c179e\"],[0.4444444444444444,\"#bd3786\"],[0.5555555555555556,\"#d8576b\"],[0.6666666666666666,\"#ed7953\"],[0.7777777777777778,\"#fb9f3a\"],[0.8888888888888888,\"#fdca26\"],[1.0,\"#f0f921\"]]}],\"heatmapgl\":[{\"type\":\"heatmapgl\",\"colorbar\":{\"outlinewidth\":0,\"ticks\":\"\"},\"colorscale\":[[0.0,\"#0d0887\"],[0.1111111111111111,\"#46039f\"],[0.2222222222222222,\"#7201a8\"],[0.3333333333333333,\"#9c179e\"],[0.4444444444444444,\"#bd3786\"],[0.5555555555555556,\"#d8576b\"],[0.6666666666666666,\"#ed7953\"],[0.7777777777777778,\"#fb9f3a\"],[0.8888888888888888,\"#fdca26\"],[1.0,\"#f0f921\"]]}],\"contourcarpet\":[{\"type\":\"contourcarpet\",\"colorbar\":{\"outlinewidth\":0,\"ticks\":\"\"}}],\"contour\":[{\"type\":\"contour\",\"colorbar\":{\"outlinewidth\":0,\"ticks\":\"\"},\"colorscale\":[[0.0,\"#0d0887\"],[0.1111111111111111,\"#46039f\"],[0.2222222222222222,\"#7201a8\"],[0.3333333333333333,\"#9c179e\"],[0.4444444444444444,\"#bd3786\"],[0.5555555555555556,\"#d8576b\"],[0.6666666666666666,\"#ed7953\"],[0.7777777777777778,\"#fb9f3a\"],[0.8888888888888888,\"#fdca26\"],[1.0,\"#f0f921\"]]}],\"surface\":[{\"type\":\"surface\",\"colorbar\":{\"outlinewidth\":0,\"ticks\":\"\"},\"colorscale\":[[0.0,\"#0d0887\"],[0.1111111111111111,\"#46039f\"],[0.2222222222222222,\"#7201a8\"],[0.3333333333333333,\"#9c179e\"],[0.4444444444444444,\"#bd3786\"],[0.5555555555555556,\"#d8576b\"],[0.6666666666666666,\"#ed7953\"],[0.7777777777777778,\"#fb9f3a\"],[0.8888888888888888,\"#fdca26\"],[1.0,\"#f0f921\"]]}],\"mesh3d\":[{\"type\":\"mesh3d\",\"colorbar\":{\"outlinewidth\":0,\"ticks\":\"\"}}],\"scatter\":[{\"fillpattern\":{\"fillmode\":\"overlay\",\"size\":10,\"solidity\":0.2},\"type\":\"scatter\"}],\"parcoords\":[{\"type\":\"parcoords\",\"line\":{\"colorbar\":{\"outlinewidth\":0,\"ticks\":\"\"}}}],\"scatterpolargl\":[{\"type\":\"scatterpolargl\",\"marker\":{\"colorbar\":{\"outlinewidth\":0,\"ticks\":\"\"}}}],\"bar\":[{\"error_x\":{\"color\":\"#2a3f5f\"},\"error_y\":{\"color\":\"#2a3f5f\"},\"marker\":{\"line\":{\"color\":\"#E5ECF6\",\"width\":0.5},\"pattern\":{\"fillmode\":\"overlay\",\"size\":10,\"solidity\":0.2}},\"type\":\"bar\"}],\"scattergeo\":[{\"type\":\"scattergeo\",\"marker\":{\"colorbar\":{\"outlinewidth\":0,\"ticks\":\"\"}}}],\"scatterpolar\":[{\"type\":\"scatterpolar\",\"marker\":{\"colorbar\":{\"outlinewidth\":0,\"ticks\":\"\"}}}],\"histogram\":[{\"marker\":{\"pattern\":{\"fillmode\":\"overlay\",\"size\":10,\"solidity\":0.2}},\"type\":\"histogram\"}],\"scattergl\":[{\"type\":\"scattergl\",\"marker\":{\"colorbar\":{\"outlinewidth\":0,\"ticks\":\"\"}}}],\"scatter3d\":[{\"type\":\"scatter3d\",\"line\":{\"colorbar\":{\"outlinewidth\":0,\"ticks\":\"\"}},\"marker\":{\"colorbar\":{\"outlinewidth\":0,\"ticks\":\"\"}}}],\"scattermapbox\":[{\"type\":\"scattermapbox\",\"marker\":{\"colorbar\":{\"outlinewidth\":0,\"ticks\":\"\"}}}],\"scatterternary\":[{\"type\":\"scatterternary\",\"marker\":{\"colorbar\":{\"outlinewidth\":0,\"ticks\":\"\"}}}],\"scattercarpet\":[{\"type\":\"scattercarpet\",\"marker\":{\"colorbar\":{\"outlinewidth\":0,\"ticks\":\"\"}}}],\"carpet\":[{\"aaxis\":{\"endlinecolor\":\"#2a3f5f\",\"gridcolor\":\"white\",\"linecolor\":\"white\",\"minorgridcolor\":\"white\",\"startlinecolor\":\"#2a3f5f\"},\"baxis\":{\"endlinecolor\":\"#2a3f5f\",\"gridcolor\":\"white\",\"linecolor\":\"white\",\"minorgridcolor\":\"white\",\"startlinecolor\":\"#2a3f5f\"},\"type\":\"carpet\"}],\"table\":[{\"cells\":{\"fill\":{\"color\":\"#EBF0F8\"},\"line\":{\"color\":\"white\"}},\"header\":{\"fill\":{\"color\":\"#C8D4E3\"},\"line\":{\"color\":\"white\"}},\"type\":\"table\"}],\"barpolar\":[{\"marker\":{\"line\":{\"color\":\"#E5ECF6\",\"width\":0.5},\"pattern\":{\"fillmode\":\"overlay\",\"size\":10,\"solidity\":0.2}},\"type\":\"barpolar\"}],\"pie\":[{\"automargin\":true,\"type\":\"pie\"}]},\"layout\":{\"autotypenumbers\":\"strict\",\"colorway\":[\"#636efa\",\"#EF553B\",\"#00cc96\",\"#ab63fa\",\"#FFA15A\",\"#19d3f3\",\"#FF6692\",\"#B6E880\",\"#FF97FF\",\"#FECB52\"],\"font\":{\"color\":\"#2a3f5f\"},\"hovermode\":\"closest\",\"hoverlabel\":{\"align\":\"left\"},\"paper_bgcolor\":\"white\",\"plot_bgcolor\":\"#E5ECF6\",\"polar\":{\"bgcolor\":\"#E5ECF6\",\"angularaxis\":{\"gridcolor\":\"white\",\"linecolor\":\"white\",\"ticks\":\"\"},\"radialaxis\":{\"gridcolor\":\"white\",\"linecolor\":\"white\",\"ticks\":\"\"}},\"ternary\":{\"bgcolor\":\"#E5ECF6\",\"aaxis\":{\"gridcolor\":\"white\",\"linecolor\":\"white\",\"ticks\":\"\"},\"baxis\":{\"gridcolor\":\"white\",\"linecolor\":\"white\",\"ticks\":\"\"},\"caxis\":{\"gridcolor\":\"white\",\"linecolor\":\"white\",\"ticks\":\"\"}},\"coloraxis\":{\"colorbar\":{\"outlinewidth\":0,\"ticks\":\"\"}},\"colorscale\":{\"sequential\":[[0.0,\"#0d0887\"],[0.1111111111111111,\"#46039f\"],[0.2222222222222222,\"#7201a8\"],[0.3333333333333333,\"#9c179e\"],[0.4444444444444444,\"#bd3786\"],[0.5555555555555556,\"#d8576b\"],[0.6666666666666666,\"#ed7953\"],[0.7777777777777778,\"#fb9f3a\"],[0.8888888888888888,\"#fdca26\"],[1.0,\"#f0f921\"]],\"sequentialminus\":[[0.0,\"#0d0887\"],[0.1111111111111111,\"#46039f\"],[0.2222222222222222,\"#7201a8\"],[0.3333333333333333,\"#9c179e\"],[0.4444444444444444,\"#bd3786\"],[0.5555555555555556,\"#d8576b\"],[0.6666666666666666,\"#ed7953\"],[0.7777777777777778,\"#fb9f3a\"],[0.8888888888888888,\"#fdca26\"],[1.0,\"#f0f921\"]],\"diverging\":[[0,\"#8e0152\"],[0.1,\"#c51b7d\"],[0.2,\"#de77ae\"],[0.3,\"#f1b6da\"],[0.4,\"#fde0ef\"],[0.5,\"#f7f7f7\"],[0.6,\"#e6f5d0\"],[0.7,\"#b8e186\"],[0.8,\"#7fbc41\"],[0.9,\"#4d9221\"],[1,\"#276419\"]]},\"xaxis\":{\"gridcolor\":\"white\",\"linecolor\":\"white\",\"ticks\":\"\",\"title\":{\"standoff\":15},\"zerolinecolor\":\"white\",\"automargin\":true,\"zerolinewidth\":2},\"yaxis\":{\"gridcolor\":\"white\",\"linecolor\":\"white\",\"ticks\":\"\",\"title\":{\"standoff\":15},\"zerolinecolor\":\"white\",\"automargin\":true,\"zerolinewidth\":2},\"scene\":{\"xaxis\":{\"backgroundcolor\":\"#E5ECF6\",\"gridcolor\":\"white\",\"linecolor\":\"white\",\"showbackground\":true,\"ticks\":\"\",\"zerolinecolor\":\"white\",\"gridwidth\":2},\"yaxis\":{\"backgroundcolor\":\"#E5ECF6\",\"gridcolor\":\"white\",\"linecolor\":\"white\",\"showbackground\":true,\"ticks\":\"\",\"zerolinecolor\":\"white\",\"gridwidth\":2},\"zaxis\":{\"backgroundcolor\":\"#E5ECF6\",\"gridcolor\":\"white\",\"linecolor\":\"white\",\"showbackground\":true,\"ticks\":\"\",\"zerolinecolor\":\"white\",\"gridwidth\":2}},\"shapedefaults\":{\"line\":{\"color\":\"#2a3f5f\"}},\"annotationdefaults\":{\"arrowcolor\":\"#2a3f5f\",\"arrowhead\":0,\"arrowwidth\":1},\"geo\":{\"bgcolor\":\"white\",\"landcolor\":\"#E5ECF6\",\"subunitcolor\":\"white\",\"showland\":true,\"showlakes\":true,\"lakecolor\":\"white\"},\"title\":{\"x\":0.05},\"mapbox\":{\"style\":\"light\"}}},\"xaxis\":{\"anchor\":\"y\",\"domain\":[0.0,1.0],\"title\":{\"text\":\"gdp_per_capita\"}},\"yaxis\":{\"anchor\":\"x\",\"domain\":[0.0,1.0],\"title\":{\"text\":\"cardiovasc_death_rate\"}},\"legend\":{\"tracegroupgap\":0},\"margin\":{\"t\":60}},                        {\"responsive\": true}                    ).then(function(){\n",
       "                            \n",
       "var gd = document.getElementById('a3c1b0a6-0b2a-46ac-8a2d-504ed45bb29d');\n",
       "var x = new MutationObserver(function (mutations, observer) {{\n",
       "        var display = window.getComputedStyle(gd).display;\n",
       "        if (!display || display === 'none') {{\n",
       "            console.log([gd, 'removed!']);\n",
       "            Plotly.purge(gd);\n",
       "            observer.disconnect();\n",
       "        }}\n",
       "}});\n",
       "\n",
       "// Listen for the removal of the full notebook cells\n",
       "var notebookContainer = gd.closest('#notebook-container');\n",
       "if (notebookContainer) {{\n",
       "    x.observe(notebookContainer, {childList: true});\n",
       "}}\n",
       "\n",
       "// Listen for the clearing of the current output cell\n",
       "var outputEl = gd.closest('.output');\n",
       "if (outputEl) {{\n",
       "    x.observe(outputEl, {childList: true});\n",
       "}}\n",
       "\n",
       "                        })                };                });            </script>        </div>"
      ]
     },
     "metadata": {},
     "output_type": "display_data"
    }
   ],
   "source": [
    "fig = px.scatter(test_df, x=\"gdp_per_capita\", y=\"cardiovasc_death_rate\")\n",
    "fig.show()"
   ]
  },
  {
   "cell_type": "code",
   "execution_count": 79,
   "id": "ef3c4154",
   "metadata": {},
   "outputs": [
    {
     "data": {
      "application/vnd.plotly.v1+json": {
       "config": {
        "plotlyServerURL": "https://plot.ly"
       },
       "data": [
        {
         "hovertemplate": "gdp_per_capita=%{x}<br>diabetes_prevalence=%{y}<extra></extra>",
         "legendgroup": "",
         "marker": {
          "color": "#636efa",
          "symbol": "circle"
         },
         "mode": "markers",
         "name": "",
         "orientation": "v",
         "showlegend": false,
         "type": "scatter",
         "x": [
          1803.987,
          11803.431,
          13913.839,
          5819.495,
          21490.943,
          18933.907,
          8787.58,
          44648.71,
          45436.686,
          15847.419,
          27717.847,
          43290.705,
          3523.984,
          16978.068,
          17167.967,
          42658.576,
          7824.362,
          2064.236,
          8708.597,
          6885.829,
          11713.895,
          15807.374,
          14103.452,
          71809.251,
          18563.307,
          1703.102,
          702.225,
          3645.07,
          3364.926,
          44017.591,
          6222.554,
          661.24,
          1768.153,
          22767.037,
          15308.712,
          13254.949,
          1413.89,
          4881.406,
          15524.995,
          3601.006,
          22669.797,
          32415.132,
          32605.906,
          808.133,
          46682.515,
          2705.406,
          14600.861,
          10581.936,
          10550.206,
          7292.458,
          22604.873,
          1510.459,
          29481.252,
          7738.975,
          1729.927,
          8702.975,
          40585.721,
          38605.671,
          16562.413,
          1561.767,
          9745.079,
          45229.245,
          4227.63,
          24574.382,
          13593.877,
          7423.808,
          1998.926,
          1548.675,
          7435.047,
          1653.173,
          4541.795,
          26777.561,
          46482.958,
          6426.674,
          11188.744,
          19082.62,
          15663.986,
          67335.293,
          33132.32,
          35220.084,
          8193.571,
          39002.223,
          8337.49,
          24055.588,
          2993.028,
          1981.132,
          65530.537,
          3393.474,
          6397.36,
          25063.846,
          13367.565,
          2851.153,
          752.788,
          17881.509,
          29524.265,
          94277.965,
          1416.44,
          1095.042,
          26808.164,
          15183.616,
          2014.306,
          36513.323,
          3597.633,
          20292.745,
          17336.469,
          3299.464,
          5189.972,
          11840.846,
          16409.288,
          7485.013,
          1136.103,
          5591.597,
          9541.808,
          2442.804,
          48472.545,
          36085.843,
          5321.444,
          926,
          5338.454,
          13111.214,
          64800.057,
          37960.709,
          5034.708,
          4449.898,
          22267.037,
          3823.194,
          8827.01,
          12236.706,
          7599.188,
          27216.445,
          27936.896,
          116935.6,
          23313.199,
          24765.954,
          1854.211,
          12951.839,
          10727.146,
          6021.557,
          3052.714,
          49045.411,
          2470.58,
          14048.881,
          26382.287,
          1390.3,
          85535.383,
          30155.152,
          31400.84,
          2205.923,
          12294.876,
          35938.374,
          34272.36,
          11669.077,
          4466.507,
          13767.119,
          46949.283,
          57410.166,
          2896.913,
          2683.304,
          16277.671,
          6570.102,
          1429.813,
          5425.621,
          28763.071,
          10849.297,
          25129.341,
          1697.707,
          7894.393,
          67293.483,
          39753.244,
          54225.446,
          20551.409,
          6253.104,
          2921.909,
          16745.022,
          6171.884,
          15469.207,
          1479.147,
          3689.251,
          1899.775
         ],
         "xaxis": "x",
         "y": [
          9.59,
          10.08,
          6.73,
          3.94,
          13.17,
          5.5,
          7.11,
          5.07,
          6.35,
          7.11,
          13.17,
          16.52,
          8.38,
          13.57,
          5.18,
          4.29,
          17.11,
          0.99,
          9.75,
          6.89,
          10.08,
          4.81,
          8.11,
          12.79,
          5.81,
          2.42,
          6.05,
          4,
          7.2,
          7.37,
          2.42,
          6.1,
          6.1,
          8.46,
          9.74,
          7.44,
          11.88,
          7.2,
          8.78,
          2.42,
          5.59,
          9.24,
          6.82,
          6.1,
          6.41,
          6.05,
          8.2,
          5.55,
          17.31,
          8.87,
          7.78,
          6.05,
          4.02,
          3.94,
          7.47,
          14.49,
          5.76,
          4.77,
          7.2,
          1.91,
          7.11,
          8.31,
          4.97,
          4.55,
          10.71,
          10.18,
          2.42,
          2.42,
          11.62,
          6.65,
          7.21,
          7.55,
          5.31,
          10.39,
          6.32,
          9.59,
          8.83,
          3.28,
          6.74,
          4.78,
          11.28,
          5.72,
          11.75,
          7.11,
          2.92,
          22.66,
          15.84,
          7.11,
          4,
          4.91,
          12.71,
          3.94,
          2.42,
          10.43,
          3.67,
          4.42,
          3.94,
          3.94,
          16.74,
          9.19,
          2.42,
          8.83,
          2.42,
          22.02,
          13.06,
          12.02,
          5.72,
          4.82,
          10.08,
          7.14,
          3.3,
          4.61,
          3.94,
          7.26,
          5.29,
          8.08,
          11.47,
          2.42,
          2.42,
          10.08,
          5.31,
          12.61,
          8.35,
          10.59,
          8.33,
          17.65,
          8.27,
          5.95,
          7.07,
          5.91,
          9.85,
          16.52,
          9.74,
          6.18,
          4.28,
          11.62,
          11.62,
          9.21,
          2.42,
          17.72,
          2.42,
          10.08,
          10.55,
          2.42,
          10.99,
          7.29,
          7.25,
          18.68,
          5.52,
          6.8,
          7.17,
          10.68,
          15.67,
          12.54,
          4.79,
          5.59,
          7.11,
          5.75,
          7.04,
          6.86,
          6.15,
          15.42,
          10.97,
          8.52,
          12.13,
          2.5,
          7.11,
          17.26,
          4.28,
          10.79,
          6.93,
          7.57,
          12.02,
          6.47,
          6,
          8.51,
          5.35,
          3.94,
          1.82
         ],
         "yaxis": "y"
        }
       ],
       "layout": {
        "legend": {
         "tracegroupgap": 0
        },
        "margin": {
         "t": 60
        },
        "template": {
         "data": {
          "bar": [
           {
            "error_x": {
             "color": "#2a3f5f"
            },
            "error_y": {
             "color": "#2a3f5f"
            },
            "marker": {
             "line": {
              "color": "#E5ECF6",
              "width": 0.5
             },
             "pattern": {
              "fillmode": "overlay",
              "size": 10,
              "solidity": 0.2
             }
            },
            "type": "bar"
           }
          ],
          "barpolar": [
           {
            "marker": {
             "line": {
              "color": "#E5ECF6",
              "width": 0.5
             },
             "pattern": {
              "fillmode": "overlay",
              "size": 10,
              "solidity": 0.2
             }
            },
            "type": "barpolar"
           }
          ],
          "carpet": [
           {
            "aaxis": {
             "endlinecolor": "#2a3f5f",
             "gridcolor": "white",
             "linecolor": "white",
             "minorgridcolor": "white",
             "startlinecolor": "#2a3f5f"
            },
            "baxis": {
             "endlinecolor": "#2a3f5f",
             "gridcolor": "white",
             "linecolor": "white",
             "minorgridcolor": "white",
             "startlinecolor": "#2a3f5f"
            },
            "type": "carpet"
           }
          ],
          "choropleth": [
           {
            "colorbar": {
             "outlinewidth": 0,
             "ticks": ""
            },
            "type": "choropleth"
           }
          ],
          "contour": [
           {
            "colorbar": {
             "outlinewidth": 0,
             "ticks": ""
            },
            "colorscale": [
             [
              0,
              "#0d0887"
             ],
             [
              0.1111111111111111,
              "#46039f"
             ],
             [
              0.2222222222222222,
              "#7201a8"
             ],
             [
              0.3333333333333333,
              "#9c179e"
             ],
             [
              0.4444444444444444,
              "#bd3786"
             ],
             [
              0.5555555555555556,
              "#d8576b"
             ],
             [
              0.6666666666666666,
              "#ed7953"
             ],
             [
              0.7777777777777778,
              "#fb9f3a"
             ],
             [
              0.8888888888888888,
              "#fdca26"
             ],
             [
              1,
              "#f0f921"
             ]
            ],
            "type": "contour"
           }
          ],
          "contourcarpet": [
           {
            "colorbar": {
             "outlinewidth": 0,
             "ticks": ""
            },
            "type": "contourcarpet"
           }
          ],
          "heatmap": [
           {
            "colorbar": {
             "outlinewidth": 0,
             "ticks": ""
            },
            "colorscale": [
             [
              0,
              "#0d0887"
             ],
             [
              0.1111111111111111,
              "#46039f"
             ],
             [
              0.2222222222222222,
              "#7201a8"
             ],
             [
              0.3333333333333333,
              "#9c179e"
             ],
             [
              0.4444444444444444,
              "#bd3786"
             ],
             [
              0.5555555555555556,
              "#d8576b"
             ],
             [
              0.6666666666666666,
              "#ed7953"
             ],
             [
              0.7777777777777778,
              "#fb9f3a"
             ],
             [
              0.8888888888888888,
              "#fdca26"
             ],
             [
              1,
              "#f0f921"
             ]
            ],
            "type": "heatmap"
           }
          ],
          "heatmapgl": [
           {
            "colorbar": {
             "outlinewidth": 0,
             "ticks": ""
            },
            "colorscale": [
             [
              0,
              "#0d0887"
             ],
             [
              0.1111111111111111,
              "#46039f"
             ],
             [
              0.2222222222222222,
              "#7201a8"
             ],
             [
              0.3333333333333333,
              "#9c179e"
             ],
             [
              0.4444444444444444,
              "#bd3786"
             ],
             [
              0.5555555555555556,
              "#d8576b"
             ],
             [
              0.6666666666666666,
              "#ed7953"
             ],
             [
              0.7777777777777778,
              "#fb9f3a"
             ],
             [
              0.8888888888888888,
              "#fdca26"
             ],
             [
              1,
              "#f0f921"
             ]
            ],
            "type": "heatmapgl"
           }
          ],
          "histogram": [
           {
            "marker": {
             "pattern": {
              "fillmode": "overlay",
              "size": 10,
              "solidity": 0.2
             }
            },
            "type": "histogram"
           }
          ],
          "histogram2d": [
           {
            "colorbar": {
             "outlinewidth": 0,
             "ticks": ""
            },
            "colorscale": [
             [
              0,
              "#0d0887"
             ],
             [
              0.1111111111111111,
              "#46039f"
             ],
             [
              0.2222222222222222,
              "#7201a8"
             ],
             [
              0.3333333333333333,
              "#9c179e"
             ],
             [
              0.4444444444444444,
              "#bd3786"
             ],
             [
              0.5555555555555556,
              "#d8576b"
             ],
             [
              0.6666666666666666,
              "#ed7953"
             ],
             [
              0.7777777777777778,
              "#fb9f3a"
             ],
             [
              0.8888888888888888,
              "#fdca26"
             ],
             [
              1,
              "#f0f921"
             ]
            ],
            "type": "histogram2d"
           }
          ],
          "histogram2dcontour": [
           {
            "colorbar": {
             "outlinewidth": 0,
             "ticks": ""
            },
            "colorscale": [
             [
              0,
              "#0d0887"
             ],
             [
              0.1111111111111111,
              "#46039f"
             ],
             [
              0.2222222222222222,
              "#7201a8"
             ],
             [
              0.3333333333333333,
              "#9c179e"
             ],
             [
              0.4444444444444444,
              "#bd3786"
             ],
             [
              0.5555555555555556,
              "#d8576b"
             ],
             [
              0.6666666666666666,
              "#ed7953"
             ],
             [
              0.7777777777777778,
              "#fb9f3a"
             ],
             [
              0.8888888888888888,
              "#fdca26"
             ],
             [
              1,
              "#f0f921"
             ]
            ],
            "type": "histogram2dcontour"
           }
          ],
          "mesh3d": [
           {
            "colorbar": {
             "outlinewidth": 0,
             "ticks": ""
            },
            "type": "mesh3d"
           }
          ],
          "parcoords": [
           {
            "line": {
             "colorbar": {
              "outlinewidth": 0,
              "ticks": ""
             }
            },
            "type": "parcoords"
           }
          ],
          "pie": [
           {
            "automargin": true,
            "type": "pie"
           }
          ],
          "scatter": [
           {
            "fillpattern": {
             "fillmode": "overlay",
             "size": 10,
             "solidity": 0.2
            },
            "type": "scatter"
           }
          ],
          "scatter3d": [
           {
            "line": {
             "colorbar": {
              "outlinewidth": 0,
              "ticks": ""
             }
            },
            "marker": {
             "colorbar": {
              "outlinewidth": 0,
              "ticks": ""
             }
            },
            "type": "scatter3d"
           }
          ],
          "scattercarpet": [
           {
            "marker": {
             "colorbar": {
              "outlinewidth": 0,
              "ticks": ""
             }
            },
            "type": "scattercarpet"
           }
          ],
          "scattergeo": [
           {
            "marker": {
             "colorbar": {
              "outlinewidth": 0,
              "ticks": ""
             }
            },
            "type": "scattergeo"
           }
          ],
          "scattergl": [
           {
            "marker": {
             "colorbar": {
              "outlinewidth": 0,
              "ticks": ""
             }
            },
            "type": "scattergl"
           }
          ],
          "scattermapbox": [
           {
            "marker": {
             "colorbar": {
              "outlinewidth": 0,
              "ticks": ""
             }
            },
            "type": "scattermapbox"
           }
          ],
          "scatterpolar": [
           {
            "marker": {
             "colorbar": {
              "outlinewidth": 0,
              "ticks": ""
             }
            },
            "type": "scatterpolar"
           }
          ],
          "scatterpolargl": [
           {
            "marker": {
             "colorbar": {
              "outlinewidth": 0,
              "ticks": ""
             }
            },
            "type": "scatterpolargl"
           }
          ],
          "scatterternary": [
           {
            "marker": {
             "colorbar": {
              "outlinewidth": 0,
              "ticks": ""
             }
            },
            "type": "scatterternary"
           }
          ],
          "surface": [
           {
            "colorbar": {
             "outlinewidth": 0,
             "ticks": ""
            },
            "colorscale": [
             [
              0,
              "#0d0887"
             ],
             [
              0.1111111111111111,
              "#46039f"
             ],
             [
              0.2222222222222222,
              "#7201a8"
             ],
             [
              0.3333333333333333,
              "#9c179e"
             ],
             [
              0.4444444444444444,
              "#bd3786"
             ],
             [
              0.5555555555555556,
              "#d8576b"
             ],
             [
              0.6666666666666666,
              "#ed7953"
             ],
             [
              0.7777777777777778,
              "#fb9f3a"
             ],
             [
              0.8888888888888888,
              "#fdca26"
             ],
             [
              1,
              "#f0f921"
             ]
            ],
            "type": "surface"
           }
          ],
          "table": [
           {
            "cells": {
             "fill": {
              "color": "#EBF0F8"
             },
             "line": {
              "color": "white"
             }
            },
            "header": {
             "fill": {
              "color": "#C8D4E3"
             },
             "line": {
              "color": "white"
             }
            },
            "type": "table"
           }
          ]
         },
         "layout": {
          "annotationdefaults": {
           "arrowcolor": "#2a3f5f",
           "arrowhead": 0,
           "arrowwidth": 1
          },
          "autotypenumbers": "strict",
          "coloraxis": {
           "colorbar": {
            "outlinewidth": 0,
            "ticks": ""
           }
          },
          "colorscale": {
           "diverging": [
            [
             0,
             "#8e0152"
            ],
            [
             0.1,
             "#c51b7d"
            ],
            [
             0.2,
             "#de77ae"
            ],
            [
             0.3,
             "#f1b6da"
            ],
            [
             0.4,
             "#fde0ef"
            ],
            [
             0.5,
             "#f7f7f7"
            ],
            [
             0.6,
             "#e6f5d0"
            ],
            [
             0.7,
             "#b8e186"
            ],
            [
             0.8,
             "#7fbc41"
            ],
            [
             0.9,
             "#4d9221"
            ],
            [
             1,
             "#276419"
            ]
           ],
           "sequential": [
            [
             0,
             "#0d0887"
            ],
            [
             0.1111111111111111,
             "#46039f"
            ],
            [
             0.2222222222222222,
             "#7201a8"
            ],
            [
             0.3333333333333333,
             "#9c179e"
            ],
            [
             0.4444444444444444,
             "#bd3786"
            ],
            [
             0.5555555555555556,
             "#d8576b"
            ],
            [
             0.6666666666666666,
             "#ed7953"
            ],
            [
             0.7777777777777778,
             "#fb9f3a"
            ],
            [
             0.8888888888888888,
             "#fdca26"
            ],
            [
             1,
             "#f0f921"
            ]
           ],
           "sequentialminus": [
            [
             0,
             "#0d0887"
            ],
            [
             0.1111111111111111,
             "#46039f"
            ],
            [
             0.2222222222222222,
             "#7201a8"
            ],
            [
             0.3333333333333333,
             "#9c179e"
            ],
            [
             0.4444444444444444,
             "#bd3786"
            ],
            [
             0.5555555555555556,
             "#d8576b"
            ],
            [
             0.6666666666666666,
             "#ed7953"
            ],
            [
             0.7777777777777778,
             "#fb9f3a"
            ],
            [
             0.8888888888888888,
             "#fdca26"
            ],
            [
             1,
             "#f0f921"
            ]
           ]
          },
          "colorway": [
           "#636efa",
           "#EF553B",
           "#00cc96",
           "#ab63fa",
           "#FFA15A",
           "#19d3f3",
           "#FF6692",
           "#B6E880",
           "#FF97FF",
           "#FECB52"
          ],
          "font": {
           "color": "#2a3f5f"
          },
          "geo": {
           "bgcolor": "white",
           "lakecolor": "white",
           "landcolor": "#E5ECF6",
           "showlakes": true,
           "showland": true,
           "subunitcolor": "white"
          },
          "hoverlabel": {
           "align": "left"
          },
          "hovermode": "closest",
          "mapbox": {
           "style": "light"
          },
          "paper_bgcolor": "white",
          "plot_bgcolor": "#E5ECF6",
          "polar": {
           "angularaxis": {
            "gridcolor": "white",
            "linecolor": "white",
            "ticks": ""
           },
           "bgcolor": "#E5ECF6",
           "radialaxis": {
            "gridcolor": "white",
            "linecolor": "white",
            "ticks": ""
           }
          },
          "scene": {
           "xaxis": {
            "backgroundcolor": "#E5ECF6",
            "gridcolor": "white",
            "gridwidth": 2,
            "linecolor": "white",
            "showbackground": true,
            "ticks": "",
            "zerolinecolor": "white"
           },
           "yaxis": {
            "backgroundcolor": "#E5ECF6",
            "gridcolor": "white",
            "gridwidth": 2,
            "linecolor": "white",
            "showbackground": true,
            "ticks": "",
            "zerolinecolor": "white"
           },
           "zaxis": {
            "backgroundcolor": "#E5ECF6",
            "gridcolor": "white",
            "gridwidth": 2,
            "linecolor": "white",
            "showbackground": true,
            "ticks": "",
            "zerolinecolor": "white"
           }
          },
          "shapedefaults": {
           "line": {
            "color": "#2a3f5f"
           }
          },
          "ternary": {
           "aaxis": {
            "gridcolor": "white",
            "linecolor": "white",
            "ticks": ""
           },
           "baxis": {
            "gridcolor": "white",
            "linecolor": "white",
            "ticks": ""
           },
           "bgcolor": "#E5ECF6",
           "caxis": {
            "gridcolor": "white",
            "linecolor": "white",
            "ticks": ""
           }
          },
          "title": {
           "x": 0.05
          },
          "xaxis": {
           "automargin": true,
           "gridcolor": "white",
           "linecolor": "white",
           "ticks": "",
           "title": {
            "standoff": 15
           },
           "zerolinecolor": "white",
           "zerolinewidth": 2
          },
          "yaxis": {
           "automargin": true,
           "gridcolor": "white",
           "linecolor": "white",
           "ticks": "",
           "title": {
            "standoff": 15
           },
           "zerolinecolor": "white",
           "zerolinewidth": 2
          }
         }
        },
        "xaxis": {
         "anchor": "y",
         "domain": [
          0,
          1
         ],
         "title": {
          "text": "gdp_per_capita"
         }
        },
        "yaxis": {
         "anchor": "x",
         "domain": [
          0,
          1
         ],
         "title": {
          "text": "diabetes_prevalence"
         }
        }
       }
      },
      "text/html": [
       "<div>                            <div id=\"22bf6990-109b-4eda-a17f-ebc1da9908e6\" class=\"plotly-graph-div\" style=\"height:525px; width:100%;\"></div>            <script type=\"text/javascript\">                require([\"plotly\"], function(Plotly) {                    window.PLOTLYENV=window.PLOTLYENV || {};                                    if (document.getElementById(\"22bf6990-109b-4eda-a17f-ebc1da9908e6\")) {                    Plotly.newPlot(                        \"22bf6990-109b-4eda-a17f-ebc1da9908e6\",                        [{\"hovertemplate\":\"gdp_per_capita=%{x}<br>diabetes_prevalence=%{y}<extra></extra>\",\"legendgroup\":\"\",\"marker\":{\"color\":\"#636efa\",\"symbol\":\"circle\"},\"mode\":\"markers\",\"name\":\"\",\"orientation\":\"v\",\"showlegend\":false,\"x\":[1803.987,11803.431,13913.839,5819.495,21490.943,18933.907,8787.58,44648.71,45436.686,15847.419,27717.847,43290.705,3523.984,16978.068,17167.967,42658.576,7824.362,2064.236,8708.597,6885.829,11713.895,15807.374,14103.452,71809.251,18563.307,1703.102,702.225,3645.07,3364.926,44017.591,6222.554,661.24,1768.153,22767.037,15308.712,13254.949,1413.89,4881.406,15524.995,3601.006,22669.797,32415.132,32605.906,808.133,46682.515,2705.406,14600.861,10581.936,10550.206,7292.458,22604.873,1510.459,29481.252,7738.975,1729.927,8702.975,40585.721,38605.671,16562.413,1561.767,9745.079,45229.245,4227.63,24574.382,13593.877,7423.808,1998.926,1548.675,7435.047,1653.173,4541.795,26777.561,46482.958,6426.674,11188.744,19082.62,15663.986,67335.293,33132.32,35220.084,8193.571,39002.223,8337.49,24055.588,2993.028,1981.132,65530.537,3393.474,6397.36,25063.846,13367.565,2851.153,752.788,17881.509,29524.265,94277.965,1416.44,1095.042,26808.164,15183.616,2014.306,36513.323,3597.633,20292.745,17336.469,3299.464,5189.972,11840.846,16409.288,7485.013,1136.103,5591.597,9541.808,2442.804,48472.545,36085.843,5321.444,926.0,5338.454,13111.214,64800.057,37960.709,5034.708,4449.898,22267.037,3823.194,8827.01,12236.706,7599.188,27216.445,27936.896,116935.6,23313.199,24765.954,1854.211,12951.839,10727.146,6021.557,3052.714,49045.411,2470.58,14048.881,26382.287,1390.3,85535.383,30155.152,31400.84,2205.923,12294.876,35938.374,34272.36,11669.077,4466.507,13767.119,46949.283,57410.166,2896.913,2683.304,16277.671,6570.102,1429.813,5425.621,28763.071,10849.297,25129.341,1697.707,7894.393,67293.483,39753.244,54225.446,20551.409,6253.104,2921.909,16745.022,6171.884,15469.207,1479.147,3689.251,1899.775],\"xaxis\":\"x\",\"y\":[9.59,10.08,6.73,3.94,13.17,5.5,7.11,5.07,6.35,7.11,13.17,16.52,8.38,13.57,5.18,4.29,17.11,0.99,9.75,6.89,10.08,4.81,8.11,12.79,5.81,2.42,6.05,4.0,7.2,7.37,2.42,6.1,6.1,8.46,9.74,7.44,11.88,7.2,8.78,2.42,5.59,9.24,6.82,6.1,6.41,6.05,8.2,5.55,17.31,8.87,7.78,6.05,4.02,3.94,7.47,14.49,5.76,4.77,7.2,1.91,7.11,8.31,4.97,4.55,10.71,10.18,2.42,2.42,11.62,6.65,7.21,7.55,5.31,10.39,6.32,9.59,8.83,3.28,6.74,4.78,11.28,5.72,11.75,7.11,2.92,22.66,15.84,7.11,4.0,4.91,12.71,3.94,2.42,10.43,3.67,4.42,3.94,3.94,16.74,9.19,2.42,8.83,2.42,22.02,13.06,12.02,5.72,4.82,10.08,7.14,3.3,4.61,3.94,7.26,5.29,8.08,11.47,2.42,2.42,10.08,5.31,12.61,8.35,10.59,8.33,17.65,8.27,5.95,7.07,5.91,9.85,16.52,9.74,6.18,4.28,11.62,11.62,9.21,2.42,17.72,2.42,10.08,10.55,2.42,10.99,7.29,7.25,18.68,5.52,6.8,7.17,10.68,15.67,12.54,4.79,5.59,7.11,5.75,7.04,6.86,6.15,15.42,10.97,8.52,12.13,2.5,7.11,17.26,4.28,10.79,6.93,7.57,12.02,6.47,6.0,8.51,5.35,3.94,1.82],\"yaxis\":\"y\",\"type\":\"scatter\"}],                        {\"template\":{\"data\":{\"histogram2dcontour\":[{\"type\":\"histogram2dcontour\",\"colorbar\":{\"outlinewidth\":0,\"ticks\":\"\"},\"colorscale\":[[0.0,\"#0d0887\"],[0.1111111111111111,\"#46039f\"],[0.2222222222222222,\"#7201a8\"],[0.3333333333333333,\"#9c179e\"],[0.4444444444444444,\"#bd3786\"],[0.5555555555555556,\"#d8576b\"],[0.6666666666666666,\"#ed7953\"],[0.7777777777777778,\"#fb9f3a\"],[0.8888888888888888,\"#fdca26\"],[1.0,\"#f0f921\"]]}],\"choropleth\":[{\"type\":\"choropleth\",\"colorbar\":{\"outlinewidth\":0,\"ticks\":\"\"}}],\"histogram2d\":[{\"type\":\"histogram2d\",\"colorbar\":{\"outlinewidth\":0,\"ticks\":\"\"},\"colorscale\":[[0.0,\"#0d0887\"],[0.1111111111111111,\"#46039f\"],[0.2222222222222222,\"#7201a8\"],[0.3333333333333333,\"#9c179e\"],[0.4444444444444444,\"#bd3786\"],[0.5555555555555556,\"#d8576b\"],[0.6666666666666666,\"#ed7953\"],[0.7777777777777778,\"#fb9f3a\"],[0.8888888888888888,\"#fdca26\"],[1.0,\"#f0f921\"]]}],\"heatmap\":[{\"type\":\"heatmap\",\"colorbar\":{\"outlinewidth\":0,\"ticks\":\"\"},\"colorscale\":[[0.0,\"#0d0887\"],[0.1111111111111111,\"#46039f\"],[0.2222222222222222,\"#7201a8\"],[0.3333333333333333,\"#9c179e\"],[0.4444444444444444,\"#bd3786\"],[0.5555555555555556,\"#d8576b\"],[0.6666666666666666,\"#ed7953\"],[0.7777777777777778,\"#fb9f3a\"],[0.8888888888888888,\"#fdca26\"],[1.0,\"#f0f921\"]]}],\"heatmapgl\":[{\"type\":\"heatmapgl\",\"colorbar\":{\"outlinewidth\":0,\"ticks\":\"\"},\"colorscale\":[[0.0,\"#0d0887\"],[0.1111111111111111,\"#46039f\"],[0.2222222222222222,\"#7201a8\"],[0.3333333333333333,\"#9c179e\"],[0.4444444444444444,\"#bd3786\"],[0.5555555555555556,\"#d8576b\"],[0.6666666666666666,\"#ed7953\"],[0.7777777777777778,\"#fb9f3a\"],[0.8888888888888888,\"#fdca26\"],[1.0,\"#f0f921\"]]}],\"contourcarpet\":[{\"type\":\"contourcarpet\",\"colorbar\":{\"outlinewidth\":0,\"ticks\":\"\"}}],\"contour\":[{\"type\":\"contour\",\"colorbar\":{\"outlinewidth\":0,\"ticks\":\"\"},\"colorscale\":[[0.0,\"#0d0887\"],[0.1111111111111111,\"#46039f\"],[0.2222222222222222,\"#7201a8\"],[0.3333333333333333,\"#9c179e\"],[0.4444444444444444,\"#bd3786\"],[0.5555555555555556,\"#d8576b\"],[0.6666666666666666,\"#ed7953\"],[0.7777777777777778,\"#fb9f3a\"],[0.8888888888888888,\"#fdca26\"],[1.0,\"#f0f921\"]]}],\"surface\":[{\"type\":\"surface\",\"colorbar\":{\"outlinewidth\":0,\"ticks\":\"\"},\"colorscale\":[[0.0,\"#0d0887\"],[0.1111111111111111,\"#46039f\"],[0.2222222222222222,\"#7201a8\"],[0.3333333333333333,\"#9c179e\"],[0.4444444444444444,\"#bd3786\"],[0.5555555555555556,\"#d8576b\"],[0.6666666666666666,\"#ed7953\"],[0.7777777777777778,\"#fb9f3a\"],[0.8888888888888888,\"#fdca26\"],[1.0,\"#f0f921\"]]}],\"mesh3d\":[{\"type\":\"mesh3d\",\"colorbar\":{\"outlinewidth\":0,\"ticks\":\"\"}}],\"scatter\":[{\"fillpattern\":{\"fillmode\":\"overlay\",\"size\":10,\"solidity\":0.2},\"type\":\"scatter\"}],\"parcoords\":[{\"type\":\"parcoords\",\"line\":{\"colorbar\":{\"outlinewidth\":0,\"ticks\":\"\"}}}],\"scatterpolargl\":[{\"type\":\"scatterpolargl\",\"marker\":{\"colorbar\":{\"outlinewidth\":0,\"ticks\":\"\"}}}],\"bar\":[{\"error_x\":{\"color\":\"#2a3f5f\"},\"error_y\":{\"color\":\"#2a3f5f\"},\"marker\":{\"line\":{\"color\":\"#E5ECF6\",\"width\":0.5},\"pattern\":{\"fillmode\":\"overlay\",\"size\":10,\"solidity\":0.2}},\"type\":\"bar\"}],\"scattergeo\":[{\"type\":\"scattergeo\",\"marker\":{\"colorbar\":{\"outlinewidth\":0,\"ticks\":\"\"}}}],\"scatterpolar\":[{\"type\":\"scatterpolar\",\"marker\":{\"colorbar\":{\"outlinewidth\":0,\"ticks\":\"\"}}}],\"histogram\":[{\"marker\":{\"pattern\":{\"fillmode\":\"overlay\",\"size\":10,\"solidity\":0.2}},\"type\":\"histogram\"}],\"scattergl\":[{\"type\":\"scattergl\",\"marker\":{\"colorbar\":{\"outlinewidth\":0,\"ticks\":\"\"}}}],\"scatter3d\":[{\"type\":\"scatter3d\",\"line\":{\"colorbar\":{\"outlinewidth\":0,\"ticks\":\"\"}},\"marker\":{\"colorbar\":{\"outlinewidth\":0,\"ticks\":\"\"}}}],\"scattermapbox\":[{\"type\":\"scattermapbox\",\"marker\":{\"colorbar\":{\"outlinewidth\":0,\"ticks\":\"\"}}}],\"scatterternary\":[{\"type\":\"scatterternary\",\"marker\":{\"colorbar\":{\"outlinewidth\":0,\"ticks\":\"\"}}}],\"scattercarpet\":[{\"type\":\"scattercarpet\",\"marker\":{\"colorbar\":{\"outlinewidth\":0,\"ticks\":\"\"}}}],\"carpet\":[{\"aaxis\":{\"endlinecolor\":\"#2a3f5f\",\"gridcolor\":\"white\",\"linecolor\":\"white\",\"minorgridcolor\":\"white\",\"startlinecolor\":\"#2a3f5f\"},\"baxis\":{\"endlinecolor\":\"#2a3f5f\",\"gridcolor\":\"white\",\"linecolor\":\"white\",\"minorgridcolor\":\"white\",\"startlinecolor\":\"#2a3f5f\"},\"type\":\"carpet\"}],\"table\":[{\"cells\":{\"fill\":{\"color\":\"#EBF0F8\"},\"line\":{\"color\":\"white\"}},\"header\":{\"fill\":{\"color\":\"#C8D4E3\"},\"line\":{\"color\":\"white\"}},\"type\":\"table\"}],\"barpolar\":[{\"marker\":{\"line\":{\"color\":\"#E5ECF6\",\"width\":0.5},\"pattern\":{\"fillmode\":\"overlay\",\"size\":10,\"solidity\":0.2}},\"type\":\"barpolar\"}],\"pie\":[{\"automargin\":true,\"type\":\"pie\"}]},\"layout\":{\"autotypenumbers\":\"strict\",\"colorway\":[\"#636efa\",\"#EF553B\",\"#00cc96\",\"#ab63fa\",\"#FFA15A\",\"#19d3f3\",\"#FF6692\",\"#B6E880\",\"#FF97FF\",\"#FECB52\"],\"font\":{\"color\":\"#2a3f5f\"},\"hovermode\":\"closest\",\"hoverlabel\":{\"align\":\"left\"},\"paper_bgcolor\":\"white\",\"plot_bgcolor\":\"#E5ECF6\",\"polar\":{\"bgcolor\":\"#E5ECF6\",\"angularaxis\":{\"gridcolor\":\"white\",\"linecolor\":\"white\",\"ticks\":\"\"},\"radialaxis\":{\"gridcolor\":\"white\",\"linecolor\":\"white\",\"ticks\":\"\"}},\"ternary\":{\"bgcolor\":\"#E5ECF6\",\"aaxis\":{\"gridcolor\":\"white\",\"linecolor\":\"white\",\"ticks\":\"\"},\"baxis\":{\"gridcolor\":\"white\",\"linecolor\":\"white\",\"ticks\":\"\"},\"caxis\":{\"gridcolor\":\"white\",\"linecolor\":\"white\",\"ticks\":\"\"}},\"coloraxis\":{\"colorbar\":{\"outlinewidth\":0,\"ticks\":\"\"}},\"colorscale\":{\"sequential\":[[0.0,\"#0d0887\"],[0.1111111111111111,\"#46039f\"],[0.2222222222222222,\"#7201a8\"],[0.3333333333333333,\"#9c179e\"],[0.4444444444444444,\"#bd3786\"],[0.5555555555555556,\"#d8576b\"],[0.6666666666666666,\"#ed7953\"],[0.7777777777777778,\"#fb9f3a\"],[0.8888888888888888,\"#fdca26\"],[1.0,\"#f0f921\"]],\"sequentialminus\":[[0.0,\"#0d0887\"],[0.1111111111111111,\"#46039f\"],[0.2222222222222222,\"#7201a8\"],[0.3333333333333333,\"#9c179e\"],[0.4444444444444444,\"#bd3786\"],[0.5555555555555556,\"#d8576b\"],[0.6666666666666666,\"#ed7953\"],[0.7777777777777778,\"#fb9f3a\"],[0.8888888888888888,\"#fdca26\"],[1.0,\"#f0f921\"]],\"diverging\":[[0,\"#8e0152\"],[0.1,\"#c51b7d\"],[0.2,\"#de77ae\"],[0.3,\"#f1b6da\"],[0.4,\"#fde0ef\"],[0.5,\"#f7f7f7\"],[0.6,\"#e6f5d0\"],[0.7,\"#b8e186\"],[0.8,\"#7fbc41\"],[0.9,\"#4d9221\"],[1,\"#276419\"]]},\"xaxis\":{\"gridcolor\":\"white\",\"linecolor\":\"white\",\"ticks\":\"\",\"title\":{\"standoff\":15},\"zerolinecolor\":\"white\",\"automargin\":true,\"zerolinewidth\":2},\"yaxis\":{\"gridcolor\":\"white\",\"linecolor\":\"white\",\"ticks\":\"\",\"title\":{\"standoff\":15},\"zerolinecolor\":\"white\",\"automargin\":true,\"zerolinewidth\":2},\"scene\":{\"xaxis\":{\"backgroundcolor\":\"#E5ECF6\",\"gridcolor\":\"white\",\"linecolor\":\"white\",\"showbackground\":true,\"ticks\":\"\",\"zerolinecolor\":\"white\",\"gridwidth\":2},\"yaxis\":{\"backgroundcolor\":\"#E5ECF6\",\"gridcolor\":\"white\",\"linecolor\":\"white\",\"showbackground\":true,\"ticks\":\"\",\"zerolinecolor\":\"white\",\"gridwidth\":2},\"zaxis\":{\"backgroundcolor\":\"#E5ECF6\",\"gridcolor\":\"white\",\"linecolor\":\"white\",\"showbackground\":true,\"ticks\":\"\",\"zerolinecolor\":\"white\",\"gridwidth\":2}},\"shapedefaults\":{\"line\":{\"color\":\"#2a3f5f\"}},\"annotationdefaults\":{\"arrowcolor\":\"#2a3f5f\",\"arrowhead\":0,\"arrowwidth\":1},\"geo\":{\"bgcolor\":\"white\",\"landcolor\":\"#E5ECF6\",\"subunitcolor\":\"white\",\"showland\":true,\"showlakes\":true,\"lakecolor\":\"white\"},\"title\":{\"x\":0.05},\"mapbox\":{\"style\":\"light\"}}},\"xaxis\":{\"anchor\":\"y\",\"domain\":[0.0,1.0],\"title\":{\"text\":\"gdp_per_capita\"}},\"yaxis\":{\"anchor\":\"x\",\"domain\":[0.0,1.0],\"title\":{\"text\":\"diabetes_prevalence\"}},\"legend\":{\"tracegroupgap\":0},\"margin\":{\"t\":60}},                        {\"responsive\": true}                    ).then(function(){\n",
       "                            \n",
       "var gd = document.getElementById('22bf6990-109b-4eda-a17f-ebc1da9908e6');\n",
       "var x = new MutationObserver(function (mutations, observer) {{\n",
       "        var display = window.getComputedStyle(gd).display;\n",
       "        if (!display || display === 'none') {{\n",
       "            console.log([gd, 'removed!']);\n",
       "            Plotly.purge(gd);\n",
       "            observer.disconnect();\n",
       "        }}\n",
       "}});\n",
       "\n",
       "// Listen for the removal of the full notebook cells\n",
       "var notebookContainer = gd.closest('#notebook-container');\n",
       "if (notebookContainer) {{\n",
       "    x.observe(notebookContainer, {childList: true});\n",
       "}}\n",
       "\n",
       "// Listen for the clearing of the current output cell\n",
       "var outputEl = gd.closest('.output');\n",
       "if (outputEl) {{\n",
       "    x.observe(outputEl, {childList: true});\n",
       "}}\n",
       "\n",
       "                        })                };                });            </script>        </div>"
      ]
     },
     "metadata": {},
     "output_type": "display_data"
    }
   ],
   "source": [
    "fig = px.scatter(test_df, x=\"gdp_per_capita\", y=\"diabetes_prevalence\")\n",
    "fig.show()"
   ]
  },
  {
   "cell_type": "code",
   "execution_count": 80,
   "id": "7fbb0c18",
   "metadata": {},
   "outputs": [
    {
     "data": {
      "application/vnd.plotly.v1+json": {
       "config": {
        "plotlyServerURL": "https://plot.ly"
       },
       "data": [
        {
         "hovertemplate": "cardiovasc_death_rate=%{x}<br>total_deaths_per_million=%{y}<extra></extra>",
         "legendgroup": "",
         "marker": {
          "color": "#636efa",
          "symbol": "circle"
         },
         "mode": "markers",
         "name": "",
         "orientation": "v",
         "showlegend": false,
         "type": "scatter",
         "x": [
          597.029,
          304.195,
          278.364,
          276.045,
          191.511,
          191.032,
          341.01,
          107.791,
          145.183,
          559.812,
          235.954,
          151.689,
          298.003,
          170.05,
          443.129,
          114.898,
          176.957,
          235.848,
          217.066,
          204.299,
          329.635,
          237.372,
          177.961,
          201.285,
          424.688,
          269.048,
          293.068,
          270.892,
          244.661,
          105.599,
          182.219,
          435.727,
          280.995,
          127.993,
          261.899,
          124.24,
          261.516,
          344.094,
          137.973,
          303.74,
          253.782,
          141.171,
          227.485,
          318.949,
          114.767,
          258.037,
          266.653,
          140.448,
          525.432,
          167.295,
          202.812,
          311.11,
          255.569,
          333.436,
          182.634,
          412.82,
          153.507,
          86.06,
          259.967,
          331.43,
          496.218,
          156.139,
          298.245,
          175.695,
          243.964,
          155.898,
          336.717,
          382.474,
          373.159,
          430.548,
          240.208,
          278.296,
          117.992,
          282.28,
          342.864,
          270.308,
          218.612,
          126.459,
          93.32,
          113.151,
          206.537,
          79.37,
          208.257,
          466.792,
          218.637,
          434.657,
          132.235,
          436.362,
          368.111,
          350.06,
          266.591,
          405.126,
          272.509,
          341.862,
          342.989,
          128.275,
          405.994,
          227.349,
          260.942,
          164.905,
          268.024,
          168.711,
          232.347,
          224.644,
          152.783,
          454.343,
          408.502,
          460.043,
          387.305,
          419.146,
          329.942,
          202.104,
          243.811,
          260.797,
          109.361,
          128.797,
          137.016,
          238.339,
          181.013,
          322.688,
          114.316,
          266.342,
          423.031,
          265.91,
          128.346,
          561.494,
          199.128,
          85.755,
          370.437,
          227.331,
          127.842,
          176.69,
          370.946,
          431.297,
          191.375,
          204.62,
          252.675,
          348.977,
          270.113,
          259.538,
          241.219,
          439.415,
          242.648,
          325.721,
          92.243,
          287.959,
          153.493,
          459.78,
          200.38,
          85.998,
          99.403,
          197.093,
          431.388,
          258.314,
          133.982,
          99.739,
          427.698,
          217.288,
          109.861,
          335.346,
          280.033,
          227.49,
          228.467,
          318.991,
          171.285,
          213.333,
          539.849,
          317.84,
          122.137,
          151.089,
          160.708,
          724.417,
          546.3,
          204.85,
          245.465,
          233.07,
          495.003,
          234.499,
          307.846
         ],
         "xaxis": "x",
         "y": [
          190.183,
          1264.109,
          153.241,
          53.865,
          1556.968,
          2856.297,
          3132.202,
          598.417,
          2346.969,
          960.024,
          2031.762,
          1037.876,
          171.877,
          1988.312,
          746.516,
          2822.771,
          1695.103,
          12.207,
          26.839,
          1819.273,
          5001.964,
          1060.716,
          3196.07,
          501.111,
          5585.41,
          17.068,
          2.948,
          182.254,
          70.214,
          1213.752,
          691.211,
          20.254,
          10.946,
          3146.186,
          3.892,
          2734.258,
          192.404,
          64.652,
          1735.241,
          29.367,
          4253.217,
          1332.579,
          3962.268,
          14.594,
          1249.01,
          168.622,
          390.424,
          1995.444,
          223.425,
          667.572,
          109.259,
          27.958,
          2065.511,
          1183.343,
          61.371,
          944.321,
          1185.4,
          2316.119,
          128.087,
          137.473,
          4513.425,
          1843.52,
          43.614,
          3232.941,
          1889.063,
          1114.554,
          32.902,
          83.587,
          1583.971,
          73.975,
          1057.908,
          4809.525,
          571.194,
          373.333,
          575.79,
          1632.694,
          569.892,
          1601.2,
          1245.317,
          3033.683,
          1174.231,
          377.284,
          1251.299,
          982.163,
          105.095,
          99.057,
          601.562,
          451.089,
          100.671,
          3270.736,
          1950.546,
          306.181,
          55.444,
          944.902,
          3415.564,
          1768.064,
          47.65,
          131.485,
          1074.747,
          588.013,
          32.841,
          1515.115,
          210.509,
          794.165,
          2591.226,
          481.704,
          3631.844,
          627.065,
          4442.8,
          434.647,
          67.456,
          359.584,
          1589.389,
          393.452,
          1303.745,
          406.149,
          35.26,
          11.981,
          14.437,
          4568.195,
          774.337,
          1011.297,
          129.868,
          1087.222,
          1930.099,
          65.861,
          2890.685,
          6373.41,
          554.47,
          2963.685,
          2456.27,
          253.791,
          3417.523,
          2641.789,
          106.484,
          2262.72,
          1115.825,
          130.402,
          338.621,
          258.371,
          113.649,
          2509.188,
          1596.117,
          14.641,
          298.03,
          3651.309,
          3249.769,
          211.247,
          1708.204,
          563.708,
          2419.708,
          768.591,
          106.071,
          2249.024,
          1958.32,
          1609.181,
          12.559,
          12.901,
          459.643,
          102.885,
          32.773,
          112.289,
          2775.232,
          2367.815,
          1185.863,
          76.826,
          2969.164,
          248.699,
          3127.882,
          3164.807,
          2196.45,
          47.274,
          42.847,
          205.641,
          439.601,
          826.663,
          64.042,
          200.673,
          343.494
         ],
         "yaxis": "y"
        }
       ],
       "layout": {
        "legend": {
         "tracegroupgap": 0
        },
        "margin": {
         "t": 60
        },
        "template": {
         "data": {
          "bar": [
           {
            "error_x": {
             "color": "#2a3f5f"
            },
            "error_y": {
             "color": "#2a3f5f"
            },
            "marker": {
             "line": {
              "color": "#E5ECF6",
              "width": 0.5
             },
             "pattern": {
              "fillmode": "overlay",
              "size": 10,
              "solidity": 0.2
             }
            },
            "type": "bar"
           }
          ],
          "barpolar": [
           {
            "marker": {
             "line": {
              "color": "#E5ECF6",
              "width": 0.5
             },
             "pattern": {
              "fillmode": "overlay",
              "size": 10,
              "solidity": 0.2
             }
            },
            "type": "barpolar"
           }
          ],
          "carpet": [
           {
            "aaxis": {
             "endlinecolor": "#2a3f5f",
             "gridcolor": "white",
             "linecolor": "white",
             "minorgridcolor": "white",
             "startlinecolor": "#2a3f5f"
            },
            "baxis": {
             "endlinecolor": "#2a3f5f",
             "gridcolor": "white",
             "linecolor": "white",
             "minorgridcolor": "white",
             "startlinecolor": "#2a3f5f"
            },
            "type": "carpet"
           }
          ],
          "choropleth": [
           {
            "colorbar": {
             "outlinewidth": 0,
             "ticks": ""
            },
            "type": "choropleth"
           }
          ],
          "contour": [
           {
            "colorbar": {
             "outlinewidth": 0,
             "ticks": ""
            },
            "colorscale": [
             [
              0,
              "#0d0887"
             ],
             [
              0.1111111111111111,
              "#46039f"
             ],
             [
              0.2222222222222222,
              "#7201a8"
             ],
             [
              0.3333333333333333,
              "#9c179e"
             ],
             [
              0.4444444444444444,
              "#bd3786"
             ],
             [
              0.5555555555555556,
              "#d8576b"
             ],
             [
              0.6666666666666666,
              "#ed7953"
             ],
             [
              0.7777777777777778,
              "#fb9f3a"
             ],
             [
              0.8888888888888888,
              "#fdca26"
             ],
             [
              1,
              "#f0f921"
             ]
            ],
            "type": "contour"
           }
          ],
          "contourcarpet": [
           {
            "colorbar": {
             "outlinewidth": 0,
             "ticks": ""
            },
            "type": "contourcarpet"
           }
          ],
          "heatmap": [
           {
            "colorbar": {
             "outlinewidth": 0,
             "ticks": ""
            },
            "colorscale": [
             [
              0,
              "#0d0887"
             ],
             [
              0.1111111111111111,
              "#46039f"
             ],
             [
              0.2222222222222222,
              "#7201a8"
             ],
             [
              0.3333333333333333,
              "#9c179e"
             ],
             [
              0.4444444444444444,
              "#bd3786"
             ],
             [
              0.5555555555555556,
              "#d8576b"
             ],
             [
              0.6666666666666666,
              "#ed7953"
             ],
             [
              0.7777777777777778,
              "#fb9f3a"
             ],
             [
              0.8888888888888888,
              "#fdca26"
             ],
             [
              1,
              "#f0f921"
             ]
            ],
            "type": "heatmap"
           }
          ],
          "heatmapgl": [
           {
            "colorbar": {
             "outlinewidth": 0,
             "ticks": ""
            },
            "colorscale": [
             [
              0,
              "#0d0887"
             ],
             [
              0.1111111111111111,
              "#46039f"
             ],
             [
              0.2222222222222222,
              "#7201a8"
             ],
             [
              0.3333333333333333,
              "#9c179e"
             ],
             [
              0.4444444444444444,
              "#bd3786"
             ],
             [
              0.5555555555555556,
              "#d8576b"
             ],
             [
              0.6666666666666666,
              "#ed7953"
             ],
             [
              0.7777777777777778,
              "#fb9f3a"
             ],
             [
              0.8888888888888888,
              "#fdca26"
             ],
             [
              1,
              "#f0f921"
             ]
            ],
            "type": "heatmapgl"
           }
          ],
          "histogram": [
           {
            "marker": {
             "pattern": {
              "fillmode": "overlay",
              "size": 10,
              "solidity": 0.2
             }
            },
            "type": "histogram"
           }
          ],
          "histogram2d": [
           {
            "colorbar": {
             "outlinewidth": 0,
             "ticks": ""
            },
            "colorscale": [
             [
              0,
              "#0d0887"
             ],
             [
              0.1111111111111111,
              "#46039f"
             ],
             [
              0.2222222222222222,
              "#7201a8"
             ],
             [
              0.3333333333333333,
              "#9c179e"
             ],
             [
              0.4444444444444444,
              "#bd3786"
             ],
             [
              0.5555555555555556,
              "#d8576b"
             ],
             [
              0.6666666666666666,
              "#ed7953"
             ],
             [
              0.7777777777777778,
              "#fb9f3a"
             ],
             [
              0.8888888888888888,
              "#fdca26"
             ],
             [
              1,
              "#f0f921"
             ]
            ],
            "type": "histogram2d"
           }
          ],
          "histogram2dcontour": [
           {
            "colorbar": {
             "outlinewidth": 0,
             "ticks": ""
            },
            "colorscale": [
             [
              0,
              "#0d0887"
             ],
             [
              0.1111111111111111,
              "#46039f"
             ],
             [
              0.2222222222222222,
              "#7201a8"
             ],
             [
              0.3333333333333333,
              "#9c179e"
             ],
             [
              0.4444444444444444,
              "#bd3786"
             ],
             [
              0.5555555555555556,
              "#d8576b"
             ],
             [
              0.6666666666666666,
              "#ed7953"
             ],
             [
              0.7777777777777778,
              "#fb9f3a"
             ],
             [
              0.8888888888888888,
              "#fdca26"
             ],
             [
              1,
              "#f0f921"
             ]
            ],
            "type": "histogram2dcontour"
           }
          ],
          "mesh3d": [
           {
            "colorbar": {
             "outlinewidth": 0,
             "ticks": ""
            },
            "type": "mesh3d"
           }
          ],
          "parcoords": [
           {
            "line": {
             "colorbar": {
              "outlinewidth": 0,
              "ticks": ""
             }
            },
            "type": "parcoords"
           }
          ],
          "pie": [
           {
            "automargin": true,
            "type": "pie"
           }
          ],
          "scatter": [
           {
            "fillpattern": {
             "fillmode": "overlay",
             "size": 10,
             "solidity": 0.2
            },
            "type": "scatter"
           }
          ],
          "scatter3d": [
           {
            "line": {
             "colorbar": {
              "outlinewidth": 0,
              "ticks": ""
             }
            },
            "marker": {
             "colorbar": {
              "outlinewidth": 0,
              "ticks": ""
             }
            },
            "type": "scatter3d"
           }
          ],
          "scattercarpet": [
           {
            "marker": {
             "colorbar": {
              "outlinewidth": 0,
              "ticks": ""
             }
            },
            "type": "scattercarpet"
           }
          ],
          "scattergeo": [
           {
            "marker": {
             "colorbar": {
              "outlinewidth": 0,
              "ticks": ""
             }
            },
            "type": "scattergeo"
           }
          ],
          "scattergl": [
           {
            "marker": {
             "colorbar": {
              "outlinewidth": 0,
              "ticks": ""
             }
            },
            "type": "scattergl"
           }
          ],
          "scattermapbox": [
           {
            "marker": {
             "colorbar": {
              "outlinewidth": 0,
              "ticks": ""
             }
            },
            "type": "scattermapbox"
           }
          ],
          "scatterpolar": [
           {
            "marker": {
             "colorbar": {
              "outlinewidth": 0,
              "ticks": ""
             }
            },
            "type": "scatterpolar"
           }
          ],
          "scatterpolargl": [
           {
            "marker": {
             "colorbar": {
              "outlinewidth": 0,
              "ticks": ""
             }
            },
            "type": "scatterpolargl"
           }
          ],
          "scatterternary": [
           {
            "marker": {
             "colorbar": {
              "outlinewidth": 0,
              "ticks": ""
             }
            },
            "type": "scatterternary"
           }
          ],
          "surface": [
           {
            "colorbar": {
             "outlinewidth": 0,
             "ticks": ""
            },
            "colorscale": [
             [
              0,
              "#0d0887"
             ],
             [
              0.1111111111111111,
              "#46039f"
             ],
             [
              0.2222222222222222,
              "#7201a8"
             ],
             [
              0.3333333333333333,
              "#9c179e"
             ],
             [
              0.4444444444444444,
              "#bd3786"
             ],
             [
              0.5555555555555556,
              "#d8576b"
             ],
             [
              0.6666666666666666,
              "#ed7953"
             ],
             [
              0.7777777777777778,
              "#fb9f3a"
             ],
             [
              0.8888888888888888,
              "#fdca26"
             ],
             [
              1,
              "#f0f921"
             ]
            ],
            "type": "surface"
           }
          ],
          "table": [
           {
            "cells": {
             "fill": {
              "color": "#EBF0F8"
             },
             "line": {
              "color": "white"
             }
            },
            "header": {
             "fill": {
              "color": "#C8D4E3"
             },
             "line": {
              "color": "white"
             }
            },
            "type": "table"
           }
          ]
         },
         "layout": {
          "annotationdefaults": {
           "arrowcolor": "#2a3f5f",
           "arrowhead": 0,
           "arrowwidth": 1
          },
          "autotypenumbers": "strict",
          "coloraxis": {
           "colorbar": {
            "outlinewidth": 0,
            "ticks": ""
           }
          },
          "colorscale": {
           "diverging": [
            [
             0,
             "#8e0152"
            ],
            [
             0.1,
             "#c51b7d"
            ],
            [
             0.2,
             "#de77ae"
            ],
            [
             0.3,
             "#f1b6da"
            ],
            [
             0.4,
             "#fde0ef"
            ],
            [
             0.5,
             "#f7f7f7"
            ],
            [
             0.6,
             "#e6f5d0"
            ],
            [
             0.7,
             "#b8e186"
            ],
            [
             0.8,
             "#7fbc41"
            ],
            [
             0.9,
             "#4d9221"
            ],
            [
             1,
             "#276419"
            ]
           ],
           "sequential": [
            [
             0,
             "#0d0887"
            ],
            [
             0.1111111111111111,
             "#46039f"
            ],
            [
             0.2222222222222222,
             "#7201a8"
            ],
            [
             0.3333333333333333,
             "#9c179e"
            ],
            [
             0.4444444444444444,
             "#bd3786"
            ],
            [
             0.5555555555555556,
             "#d8576b"
            ],
            [
             0.6666666666666666,
             "#ed7953"
            ],
            [
             0.7777777777777778,
             "#fb9f3a"
            ],
            [
             0.8888888888888888,
             "#fdca26"
            ],
            [
             1,
             "#f0f921"
            ]
           ],
           "sequentialminus": [
            [
             0,
             "#0d0887"
            ],
            [
             0.1111111111111111,
             "#46039f"
            ],
            [
             0.2222222222222222,
             "#7201a8"
            ],
            [
             0.3333333333333333,
             "#9c179e"
            ],
            [
             0.4444444444444444,
             "#bd3786"
            ],
            [
             0.5555555555555556,
             "#d8576b"
            ],
            [
             0.6666666666666666,
             "#ed7953"
            ],
            [
             0.7777777777777778,
             "#fb9f3a"
            ],
            [
             0.8888888888888888,
             "#fdca26"
            ],
            [
             1,
             "#f0f921"
            ]
           ]
          },
          "colorway": [
           "#636efa",
           "#EF553B",
           "#00cc96",
           "#ab63fa",
           "#FFA15A",
           "#19d3f3",
           "#FF6692",
           "#B6E880",
           "#FF97FF",
           "#FECB52"
          ],
          "font": {
           "color": "#2a3f5f"
          },
          "geo": {
           "bgcolor": "white",
           "lakecolor": "white",
           "landcolor": "#E5ECF6",
           "showlakes": true,
           "showland": true,
           "subunitcolor": "white"
          },
          "hoverlabel": {
           "align": "left"
          },
          "hovermode": "closest",
          "mapbox": {
           "style": "light"
          },
          "paper_bgcolor": "white",
          "plot_bgcolor": "#E5ECF6",
          "polar": {
           "angularaxis": {
            "gridcolor": "white",
            "linecolor": "white",
            "ticks": ""
           },
           "bgcolor": "#E5ECF6",
           "radialaxis": {
            "gridcolor": "white",
            "linecolor": "white",
            "ticks": ""
           }
          },
          "scene": {
           "xaxis": {
            "backgroundcolor": "#E5ECF6",
            "gridcolor": "white",
            "gridwidth": 2,
            "linecolor": "white",
            "showbackground": true,
            "ticks": "",
            "zerolinecolor": "white"
           },
           "yaxis": {
            "backgroundcolor": "#E5ECF6",
            "gridcolor": "white",
            "gridwidth": 2,
            "linecolor": "white",
            "showbackground": true,
            "ticks": "",
            "zerolinecolor": "white"
           },
           "zaxis": {
            "backgroundcolor": "#E5ECF6",
            "gridcolor": "white",
            "gridwidth": 2,
            "linecolor": "white",
            "showbackground": true,
            "ticks": "",
            "zerolinecolor": "white"
           }
          },
          "shapedefaults": {
           "line": {
            "color": "#2a3f5f"
           }
          },
          "ternary": {
           "aaxis": {
            "gridcolor": "white",
            "linecolor": "white",
            "ticks": ""
           },
           "baxis": {
            "gridcolor": "white",
            "linecolor": "white",
            "ticks": ""
           },
           "bgcolor": "#E5ECF6",
           "caxis": {
            "gridcolor": "white",
            "linecolor": "white",
            "ticks": ""
           }
          },
          "title": {
           "x": 0.05
          },
          "xaxis": {
           "automargin": true,
           "gridcolor": "white",
           "linecolor": "white",
           "ticks": "",
           "title": {
            "standoff": 15
           },
           "zerolinecolor": "white",
           "zerolinewidth": 2
          },
          "yaxis": {
           "automargin": true,
           "gridcolor": "white",
           "linecolor": "white",
           "ticks": "",
           "title": {
            "standoff": 15
           },
           "zerolinecolor": "white",
           "zerolinewidth": 2
          }
         }
        },
        "xaxis": {
         "anchor": "y",
         "domain": [
          0,
          1
         ],
         "title": {
          "text": "cardiovasc_death_rate"
         }
        },
        "yaxis": {
         "anchor": "x",
         "domain": [
          0,
          1
         ],
         "title": {
          "text": "total_deaths_per_million"
         }
        }
       }
      },
      "text/html": [
       "<div>                            <div id=\"ccde9b67-8d59-4f3a-88bf-39b927961f13\" class=\"plotly-graph-div\" style=\"height:525px; width:100%;\"></div>            <script type=\"text/javascript\">                require([\"plotly\"], function(Plotly) {                    window.PLOTLYENV=window.PLOTLYENV || {};                                    if (document.getElementById(\"ccde9b67-8d59-4f3a-88bf-39b927961f13\")) {                    Plotly.newPlot(                        \"ccde9b67-8d59-4f3a-88bf-39b927961f13\",                        [{\"hovertemplate\":\"cardiovasc_death_rate=%{x}<br>total_deaths_per_million=%{y}<extra></extra>\",\"legendgroup\":\"\",\"marker\":{\"color\":\"#636efa\",\"symbol\":\"circle\"},\"mode\":\"markers\",\"name\":\"\",\"orientation\":\"v\",\"showlegend\":false,\"x\":[597.029,304.195,278.364,276.045,191.511,191.032,341.01,107.791,145.183,559.812,235.954,151.689,298.003,170.05,443.129,114.898,176.957,235.848,217.066,204.299,329.635,237.372,177.961,201.285,424.688,269.048,293.068,270.892,244.661,105.599,182.219,435.727,280.995,127.993,261.899,124.24,261.516,344.094,137.973,303.74,253.782,141.171,227.485,318.949,114.767,258.037,266.653,140.448,525.432,167.295,202.812,311.11,255.569,333.436,182.634,412.82,153.507,86.06,259.967,331.43,496.218,156.139,298.245,175.695,243.964,155.898,336.717,382.474,373.159,430.548,240.208,278.296,117.992,282.28,342.864,270.308,218.612,126.459,93.32,113.151,206.537,79.37,208.257,466.792,218.637,434.657,132.235,436.362,368.111,350.06,266.591,405.126,272.509,341.862,342.989,128.275,405.994,227.349,260.942,164.905,268.024,168.711,232.347,224.644,152.783,454.343,408.502,460.043,387.305,419.146,329.942,202.104,243.811,260.797,109.361,128.797,137.016,238.339,181.013,322.688,114.316,266.342,423.031,265.91,128.346,561.494,199.128,85.755,370.437,227.331,127.842,176.69,370.946,431.297,191.375,204.62,252.675,348.977,270.113,259.538,241.219,439.415,242.648,325.721,92.243,287.959,153.493,459.78,200.38,85.998,99.403,197.093,431.388,258.314,133.982,99.739,427.698,217.288,109.861,335.346,280.033,227.49,228.467,318.991,171.285,213.333,539.849,317.84,122.137,151.089,160.708,724.417,546.3,204.85,245.465,233.07,495.003,234.499,307.846],\"xaxis\":\"x\",\"y\":[190.183,1264.109,153.241,53.865,1556.968,2856.297,3132.202,598.417,2346.969,960.024,2031.762,1037.876,171.877,1988.312,746.516,2822.771,1695.103,12.207,26.839,1819.273,5001.964,1060.716,3196.07,501.111,5585.41,17.068,2.948,182.254,70.214,1213.752,691.211,20.254,10.946,3146.186,3.892,2734.258,192.404,64.652,1735.241,29.367,4253.217,1332.579,3962.268,14.594,1249.01,168.622,390.424,1995.444,223.425,667.572,109.259,27.958,2065.511,1183.343,61.371,944.321,1185.4,2316.119,128.087,137.473,4513.425,1843.52,43.614,3232.941,1889.063,1114.554,32.902,83.587,1583.971,73.975,1057.908,4809.525,571.194,373.333,575.79,1632.694,569.892,1601.2,1245.317,3033.683,1174.231,377.284,1251.299,982.163,105.095,99.057,601.562,451.089,100.671,3270.736,1950.546,306.181,55.444,944.902,3415.564,1768.064,47.65,131.485,1074.747,588.013,32.841,1515.115,210.509,794.165,2591.226,481.704,3631.844,627.065,4442.8,434.647,67.456,359.584,1589.389,393.452,1303.745,406.149,35.26,11.981,14.437,4568.195,774.337,1011.297,129.868,1087.222,1930.099,65.861,2890.685,6373.41,554.47,2963.685,2456.27,253.791,3417.523,2641.789,106.484,2262.72,1115.825,130.402,338.621,258.371,113.649,2509.188,1596.117,14.641,298.03,3651.309,3249.769,211.247,1708.204,563.708,2419.708,768.591,106.071,2249.024,1958.32,1609.181,12.559,12.901,459.643,102.885,32.773,112.289,2775.232,2367.815,1185.863,76.826,2969.164,248.699,3127.882,3164.807,2196.45,47.274,42.847,205.641,439.601,826.663,64.042,200.673,343.494],\"yaxis\":\"y\",\"type\":\"scatter\"}],                        {\"template\":{\"data\":{\"histogram2dcontour\":[{\"type\":\"histogram2dcontour\",\"colorbar\":{\"outlinewidth\":0,\"ticks\":\"\"},\"colorscale\":[[0.0,\"#0d0887\"],[0.1111111111111111,\"#46039f\"],[0.2222222222222222,\"#7201a8\"],[0.3333333333333333,\"#9c179e\"],[0.4444444444444444,\"#bd3786\"],[0.5555555555555556,\"#d8576b\"],[0.6666666666666666,\"#ed7953\"],[0.7777777777777778,\"#fb9f3a\"],[0.8888888888888888,\"#fdca26\"],[1.0,\"#f0f921\"]]}],\"choropleth\":[{\"type\":\"choropleth\",\"colorbar\":{\"outlinewidth\":0,\"ticks\":\"\"}}],\"histogram2d\":[{\"type\":\"histogram2d\",\"colorbar\":{\"outlinewidth\":0,\"ticks\":\"\"},\"colorscale\":[[0.0,\"#0d0887\"],[0.1111111111111111,\"#46039f\"],[0.2222222222222222,\"#7201a8\"],[0.3333333333333333,\"#9c179e\"],[0.4444444444444444,\"#bd3786\"],[0.5555555555555556,\"#d8576b\"],[0.6666666666666666,\"#ed7953\"],[0.7777777777777778,\"#fb9f3a\"],[0.8888888888888888,\"#fdca26\"],[1.0,\"#f0f921\"]]}],\"heatmap\":[{\"type\":\"heatmap\",\"colorbar\":{\"outlinewidth\":0,\"ticks\":\"\"},\"colorscale\":[[0.0,\"#0d0887\"],[0.1111111111111111,\"#46039f\"],[0.2222222222222222,\"#7201a8\"],[0.3333333333333333,\"#9c179e\"],[0.4444444444444444,\"#bd3786\"],[0.5555555555555556,\"#d8576b\"],[0.6666666666666666,\"#ed7953\"],[0.7777777777777778,\"#fb9f3a\"],[0.8888888888888888,\"#fdca26\"],[1.0,\"#f0f921\"]]}],\"heatmapgl\":[{\"type\":\"heatmapgl\",\"colorbar\":{\"outlinewidth\":0,\"ticks\":\"\"},\"colorscale\":[[0.0,\"#0d0887\"],[0.1111111111111111,\"#46039f\"],[0.2222222222222222,\"#7201a8\"],[0.3333333333333333,\"#9c179e\"],[0.4444444444444444,\"#bd3786\"],[0.5555555555555556,\"#d8576b\"],[0.6666666666666666,\"#ed7953\"],[0.7777777777777778,\"#fb9f3a\"],[0.8888888888888888,\"#fdca26\"],[1.0,\"#f0f921\"]]}],\"contourcarpet\":[{\"type\":\"contourcarpet\",\"colorbar\":{\"outlinewidth\":0,\"ticks\":\"\"}}],\"contour\":[{\"type\":\"contour\",\"colorbar\":{\"outlinewidth\":0,\"ticks\":\"\"},\"colorscale\":[[0.0,\"#0d0887\"],[0.1111111111111111,\"#46039f\"],[0.2222222222222222,\"#7201a8\"],[0.3333333333333333,\"#9c179e\"],[0.4444444444444444,\"#bd3786\"],[0.5555555555555556,\"#d8576b\"],[0.6666666666666666,\"#ed7953\"],[0.7777777777777778,\"#fb9f3a\"],[0.8888888888888888,\"#fdca26\"],[1.0,\"#f0f921\"]]}],\"surface\":[{\"type\":\"surface\",\"colorbar\":{\"outlinewidth\":0,\"ticks\":\"\"},\"colorscale\":[[0.0,\"#0d0887\"],[0.1111111111111111,\"#46039f\"],[0.2222222222222222,\"#7201a8\"],[0.3333333333333333,\"#9c179e\"],[0.4444444444444444,\"#bd3786\"],[0.5555555555555556,\"#d8576b\"],[0.6666666666666666,\"#ed7953\"],[0.7777777777777778,\"#fb9f3a\"],[0.8888888888888888,\"#fdca26\"],[1.0,\"#f0f921\"]]}],\"mesh3d\":[{\"type\":\"mesh3d\",\"colorbar\":{\"outlinewidth\":0,\"ticks\":\"\"}}],\"scatter\":[{\"fillpattern\":{\"fillmode\":\"overlay\",\"size\":10,\"solidity\":0.2},\"type\":\"scatter\"}],\"parcoords\":[{\"type\":\"parcoords\",\"line\":{\"colorbar\":{\"outlinewidth\":0,\"ticks\":\"\"}}}],\"scatterpolargl\":[{\"type\":\"scatterpolargl\",\"marker\":{\"colorbar\":{\"outlinewidth\":0,\"ticks\":\"\"}}}],\"bar\":[{\"error_x\":{\"color\":\"#2a3f5f\"},\"error_y\":{\"color\":\"#2a3f5f\"},\"marker\":{\"line\":{\"color\":\"#E5ECF6\",\"width\":0.5},\"pattern\":{\"fillmode\":\"overlay\",\"size\":10,\"solidity\":0.2}},\"type\":\"bar\"}],\"scattergeo\":[{\"type\":\"scattergeo\",\"marker\":{\"colorbar\":{\"outlinewidth\":0,\"ticks\":\"\"}}}],\"scatterpolar\":[{\"type\":\"scatterpolar\",\"marker\":{\"colorbar\":{\"outlinewidth\":0,\"ticks\":\"\"}}}],\"histogram\":[{\"marker\":{\"pattern\":{\"fillmode\":\"overlay\",\"size\":10,\"solidity\":0.2}},\"type\":\"histogram\"}],\"scattergl\":[{\"type\":\"scattergl\",\"marker\":{\"colorbar\":{\"outlinewidth\":0,\"ticks\":\"\"}}}],\"scatter3d\":[{\"type\":\"scatter3d\",\"line\":{\"colorbar\":{\"outlinewidth\":0,\"ticks\":\"\"}},\"marker\":{\"colorbar\":{\"outlinewidth\":0,\"ticks\":\"\"}}}],\"scattermapbox\":[{\"type\":\"scattermapbox\",\"marker\":{\"colorbar\":{\"outlinewidth\":0,\"ticks\":\"\"}}}],\"scatterternary\":[{\"type\":\"scatterternary\",\"marker\":{\"colorbar\":{\"outlinewidth\":0,\"ticks\":\"\"}}}],\"scattercarpet\":[{\"type\":\"scattercarpet\",\"marker\":{\"colorbar\":{\"outlinewidth\":0,\"ticks\":\"\"}}}],\"carpet\":[{\"aaxis\":{\"endlinecolor\":\"#2a3f5f\",\"gridcolor\":\"white\",\"linecolor\":\"white\",\"minorgridcolor\":\"white\",\"startlinecolor\":\"#2a3f5f\"},\"baxis\":{\"endlinecolor\":\"#2a3f5f\",\"gridcolor\":\"white\",\"linecolor\":\"white\",\"minorgridcolor\":\"white\",\"startlinecolor\":\"#2a3f5f\"},\"type\":\"carpet\"}],\"table\":[{\"cells\":{\"fill\":{\"color\":\"#EBF0F8\"},\"line\":{\"color\":\"white\"}},\"header\":{\"fill\":{\"color\":\"#C8D4E3\"},\"line\":{\"color\":\"white\"}},\"type\":\"table\"}],\"barpolar\":[{\"marker\":{\"line\":{\"color\":\"#E5ECF6\",\"width\":0.5},\"pattern\":{\"fillmode\":\"overlay\",\"size\":10,\"solidity\":0.2}},\"type\":\"barpolar\"}],\"pie\":[{\"automargin\":true,\"type\":\"pie\"}]},\"layout\":{\"autotypenumbers\":\"strict\",\"colorway\":[\"#636efa\",\"#EF553B\",\"#00cc96\",\"#ab63fa\",\"#FFA15A\",\"#19d3f3\",\"#FF6692\",\"#B6E880\",\"#FF97FF\",\"#FECB52\"],\"font\":{\"color\":\"#2a3f5f\"},\"hovermode\":\"closest\",\"hoverlabel\":{\"align\":\"left\"},\"paper_bgcolor\":\"white\",\"plot_bgcolor\":\"#E5ECF6\",\"polar\":{\"bgcolor\":\"#E5ECF6\",\"angularaxis\":{\"gridcolor\":\"white\",\"linecolor\":\"white\",\"ticks\":\"\"},\"radialaxis\":{\"gridcolor\":\"white\",\"linecolor\":\"white\",\"ticks\":\"\"}},\"ternary\":{\"bgcolor\":\"#E5ECF6\",\"aaxis\":{\"gridcolor\":\"white\",\"linecolor\":\"white\",\"ticks\":\"\"},\"baxis\":{\"gridcolor\":\"white\",\"linecolor\":\"white\",\"ticks\":\"\"},\"caxis\":{\"gridcolor\":\"white\",\"linecolor\":\"white\",\"ticks\":\"\"}},\"coloraxis\":{\"colorbar\":{\"outlinewidth\":0,\"ticks\":\"\"}},\"colorscale\":{\"sequential\":[[0.0,\"#0d0887\"],[0.1111111111111111,\"#46039f\"],[0.2222222222222222,\"#7201a8\"],[0.3333333333333333,\"#9c179e\"],[0.4444444444444444,\"#bd3786\"],[0.5555555555555556,\"#d8576b\"],[0.6666666666666666,\"#ed7953\"],[0.7777777777777778,\"#fb9f3a\"],[0.8888888888888888,\"#fdca26\"],[1.0,\"#f0f921\"]],\"sequentialminus\":[[0.0,\"#0d0887\"],[0.1111111111111111,\"#46039f\"],[0.2222222222222222,\"#7201a8\"],[0.3333333333333333,\"#9c179e\"],[0.4444444444444444,\"#bd3786\"],[0.5555555555555556,\"#d8576b\"],[0.6666666666666666,\"#ed7953\"],[0.7777777777777778,\"#fb9f3a\"],[0.8888888888888888,\"#fdca26\"],[1.0,\"#f0f921\"]],\"diverging\":[[0,\"#8e0152\"],[0.1,\"#c51b7d\"],[0.2,\"#de77ae\"],[0.3,\"#f1b6da\"],[0.4,\"#fde0ef\"],[0.5,\"#f7f7f7\"],[0.6,\"#e6f5d0\"],[0.7,\"#b8e186\"],[0.8,\"#7fbc41\"],[0.9,\"#4d9221\"],[1,\"#276419\"]]},\"xaxis\":{\"gridcolor\":\"white\",\"linecolor\":\"white\",\"ticks\":\"\",\"title\":{\"standoff\":15},\"zerolinecolor\":\"white\",\"automargin\":true,\"zerolinewidth\":2},\"yaxis\":{\"gridcolor\":\"white\",\"linecolor\":\"white\",\"ticks\":\"\",\"title\":{\"standoff\":15},\"zerolinecolor\":\"white\",\"automargin\":true,\"zerolinewidth\":2},\"scene\":{\"xaxis\":{\"backgroundcolor\":\"#E5ECF6\",\"gridcolor\":\"white\",\"linecolor\":\"white\",\"showbackground\":true,\"ticks\":\"\",\"zerolinecolor\":\"white\",\"gridwidth\":2},\"yaxis\":{\"backgroundcolor\":\"#E5ECF6\",\"gridcolor\":\"white\",\"linecolor\":\"white\",\"showbackground\":true,\"ticks\":\"\",\"zerolinecolor\":\"white\",\"gridwidth\":2},\"zaxis\":{\"backgroundcolor\":\"#E5ECF6\",\"gridcolor\":\"white\",\"linecolor\":\"white\",\"showbackground\":true,\"ticks\":\"\",\"zerolinecolor\":\"white\",\"gridwidth\":2}},\"shapedefaults\":{\"line\":{\"color\":\"#2a3f5f\"}},\"annotationdefaults\":{\"arrowcolor\":\"#2a3f5f\",\"arrowhead\":0,\"arrowwidth\":1},\"geo\":{\"bgcolor\":\"white\",\"landcolor\":\"#E5ECF6\",\"subunitcolor\":\"white\",\"showland\":true,\"showlakes\":true,\"lakecolor\":\"white\"},\"title\":{\"x\":0.05},\"mapbox\":{\"style\":\"light\"}}},\"xaxis\":{\"anchor\":\"y\",\"domain\":[0.0,1.0],\"title\":{\"text\":\"cardiovasc_death_rate\"}},\"yaxis\":{\"anchor\":\"x\",\"domain\":[0.0,1.0],\"title\":{\"text\":\"total_deaths_per_million\"}},\"legend\":{\"tracegroupgap\":0},\"margin\":{\"t\":60}},                        {\"responsive\": true}                    ).then(function(){\n",
       "                            \n",
       "var gd = document.getElementById('ccde9b67-8d59-4f3a-88bf-39b927961f13');\n",
       "var x = new MutationObserver(function (mutations, observer) {{\n",
       "        var display = window.getComputedStyle(gd).display;\n",
       "        if (!display || display === 'none') {{\n",
       "            console.log([gd, 'removed!']);\n",
       "            Plotly.purge(gd);\n",
       "            observer.disconnect();\n",
       "        }}\n",
       "}});\n",
       "\n",
       "// Listen for the removal of the full notebook cells\n",
       "var notebookContainer = gd.closest('#notebook-container');\n",
       "if (notebookContainer) {{\n",
       "    x.observe(notebookContainer, {childList: true});\n",
       "}}\n",
       "\n",
       "// Listen for the clearing of the current output cell\n",
       "var outputEl = gd.closest('.output');\n",
       "if (outputEl) {{\n",
       "    x.observe(outputEl, {childList: true});\n",
       "}}\n",
       "\n",
       "                        })                };                });            </script>        </div>"
      ]
     },
     "metadata": {},
     "output_type": "display_data"
    }
   ],
   "source": [
    "fig = px.scatter(test_df, x=\"cardiovasc_death_rate\", y=\"total_deaths_per_million\")\n",
    "fig.show()"
   ]
  },
  {
   "cell_type": "code",
   "execution_count": 81,
   "id": "56d6a8ce",
   "metadata": {
    "scrolled": false
   },
   "outputs": [
    {
     "data": {
      "application/vnd.plotly.v1+json": {
       "config": {
        "plotlyServerURL": "https://plot.ly"
       },
       "data": [
        {
         "hovertemplate": "aged_65_older=%{x}<br>total_deaths_per_million=%{y}<extra></extra>",
         "legendgroup": "",
         "marker": {
          "color": "#636efa",
          "symbol": "circle"
         },
         "mode": "markers",
         "name": "",
         "orientation": "v",
         "showlegend": false,
         "type": "scatter",
         "x": [
          2.581,
          13.188,
          6.211,
          2.405,
          6.933,
          11.198,
          11.232,
          15.504,
          19.202,
          6.018,
          8.996,
          2.372,
          5.098,
          14.952,
          14.799,
          18.571,
          3.853,
          3.244,
          4.885,
          6.704,
          16.569,
          3.941,
          8.552,
          4.591,
          20.801,
          2.409,
          2.562,
          4.412,
          3.165,
          16.984,
          4.46,
          3.655,
          2.486,
          11.087,
          10.641,
          7.646,
          2.963,
          3.402,
          9.468,
          2.933,
          19.724,
          13.416,
          19.027,
          3.02,
          19.677,
          4.213,
          6.981,
          7.104,
          5.159,
          8.273,
          2.846,
          3.607,
          19.452,
          3.163,
          3.526,
          6.224,
          21.228,
          19.718,
          4.45,
          2.339,
          14.864,
          21.453,
          3.385,
          20.396,
          7.304,
          4.694,
          3.135,
          3.002,
          5.305,
          4.8,
          4.652,
          18.577,
          14.431,
          5.989,
          5.319,
          5.44,
          3.186,
          13.928,
          11.733,
          23.021,
          9.684,
          27.049,
          3.81,
          6.991,
          2.686,
          3.895,
          2.345,
          4.489,
          4.029,
          19.754,
          8.514,
          4.506,
          3.057,
          4.424,
          19.002,
          14.312,
          2.929,
          2.979,
          6.293,
          4.12,
          2.519,
          19.426,
          3.138,
          10.945,
          6.857,
          4.81,
          10.864,
          4.031,
          14.762,
          6.769,
          3.158,
          5.732,
          3.552,
          5.809,
          18.779,
          15.322,
          5.445,
          2.553,
          2.751,
          13.26,
          16.821,
          2.355,
          4.495,
          3.043,
          7.918,
          3.808,
          6.378,
          7.151,
          4.803,
          16.763,
          21.502,
          1.307,
          17.85,
          14.178,
          2.974,
          9.721,
          7.724,
          5.606,
          2.886,
          3.295,
          3.008,
          17.366,
          8.606,
          2.538,
          12.922,
          15.07,
          19.062,
          3.507,
          5.344,
          13.914,
          19.436,
          10.069,
          3.548,
          6.933,
          19.985,
          18.436,
          3.466,
          3.108,
          11.373,
          3.556,
          2.839,
          5.82,
          10.014,
          8.001,
          8.153,
          2.168,
          16.462,
          1.144,
          18.517,
          15.413,
          14.655,
          4.469,
          4.394,
          6.614,
          7.15,
          8.696,
          2.922,
          2.48,
          2.822
         ],
         "xaxis": "x",
         "y": [
          190.183,
          1264.109,
          153.241,
          53.865,
          1556.968,
          2856.297,
          3132.202,
          598.417,
          2346.969,
          960.024,
          2031.762,
          1037.876,
          171.877,
          1988.312,
          746.516,
          2822.771,
          1695.103,
          12.207,
          26.839,
          1819.273,
          5001.964,
          1060.716,
          3196.07,
          501.111,
          5585.41,
          17.068,
          2.948,
          182.254,
          70.214,
          1213.752,
          691.211,
          20.254,
          10.946,
          3146.186,
          3.892,
          2734.258,
          192.404,
          64.652,
          1735.241,
          29.367,
          4253.217,
          1332.579,
          3962.268,
          14.594,
          1249.01,
          168.622,
          390.424,
          1995.444,
          223.425,
          667.572,
          109.259,
          27.958,
          2065.511,
          1183.343,
          61.371,
          944.321,
          1185.4,
          2316.119,
          128.087,
          137.473,
          4513.425,
          1843.52,
          43.614,
          3232.941,
          1889.063,
          1114.554,
          32.902,
          83.587,
          1583.971,
          73.975,
          1057.908,
          4809.525,
          571.194,
          373.333,
          575.79,
          1632.694,
          569.892,
          1601.2,
          1245.317,
          3033.683,
          1174.231,
          377.284,
          1251.299,
          982.163,
          105.095,
          99.057,
          601.562,
          451.089,
          100.671,
          3270.736,
          1950.546,
          306.181,
          55.444,
          944.902,
          3415.564,
          1768.064,
          47.65,
          131.485,
          1074.747,
          588.013,
          32.841,
          1515.115,
          210.509,
          794.165,
          2591.226,
          481.704,
          3631.844,
          627.065,
          4442.8,
          434.647,
          67.456,
          359.584,
          1589.389,
          393.452,
          1303.745,
          406.149,
          35.26,
          11.981,
          14.437,
          4568.195,
          774.337,
          1011.297,
          129.868,
          1087.222,
          1930.099,
          65.861,
          2890.685,
          6373.41,
          554.47,
          2963.685,
          2456.27,
          253.791,
          3417.523,
          2641.789,
          106.484,
          2262.72,
          1115.825,
          130.402,
          338.621,
          258.371,
          113.649,
          2509.188,
          1596.117,
          14.641,
          298.03,
          3651.309,
          3249.769,
          211.247,
          1708.204,
          563.708,
          2419.708,
          768.591,
          106.071,
          2249.024,
          1958.32,
          1609.181,
          12.559,
          12.901,
          459.643,
          102.885,
          32.773,
          112.289,
          2775.232,
          2367.815,
          1185.863,
          76.826,
          2969.164,
          248.699,
          3127.882,
          3164.807,
          2196.45,
          47.274,
          42.847,
          205.641,
          439.601,
          826.663,
          64.042,
          200.673,
          343.494
         ],
         "yaxis": "y"
        }
       ],
       "layout": {
        "legend": {
         "tracegroupgap": 0
        },
        "margin": {
         "t": 60
        },
        "template": {
         "data": {
          "bar": [
           {
            "error_x": {
             "color": "#2a3f5f"
            },
            "error_y": {
             "color": "#2a3f5f"
            },
            "marker": {
             "line": {
              "color": "#E5ECF6",
              "width": 0.5
             },
             "pattern": {
              "fillmode": "overlay",
              "size": 10,
              "solidity": 0.2
             }
            },
            "type": "bar"
           }
          ],
          "barpolar": [
           {
            "marker": {
             "line": {
              "color": "#E5ECF6",
              "width": 0.5
             },
             "pattern": {
              "fillmode": "overlay",
              "size": 10,
              "solidity": 0.2
             }
            },
            "type": "barpolar"
           }
          ],
          "carpet": [
           {
            "aaxis": {
             "endlinecolor": "#2a3f5f",
             "gridcolor": "white",
             "linecolor": "white",
             "minorgridcolor": "white",
             "startlinecolor": "#2a3f5f"
            },
            "baxis": {
             "endlinecolor": "#2a3f5f",
             "gridcolor": "white",
             "linecolor": "white",
             "minorgridcolor": "white",
             "startlinecolor": "#2a3f5f"
            },
            "type": "carpet"
           }
          ],
          "choropleth": [
           {
            "colorbar": {
             "outlinewidth": 0,
             "ticks": ""
            },
            "type": "choropleth"
           }
          ],
          "contour": [
           {
            "colorbar": {
             "outlinewidth": 0,
             "ticks": ""
            },
            "colorscale": [
             [
              0,
              "#0d0887"
             ],
             [
              0.1111111111111111,
              "#46039f"
             ],
             [
              0.2222222222222222,
              "#7201a8"
             ],
             [
              0.3333333333333333,
              "#9c179e"
             ],
             [
              0.4444444444444444,
              "#bd3786"
             ],
             [
              0.5555555555555556,
              "#d8576b"
             ],
             [
              0.6666666666666666,
              "#ed7953"
             ],
             [
              0.7777777777777778,
              "#fb9f3a"
             ],
             [
              0.8888888888888888,
              "#fdca26"
             ],
             [
              1,
              "#f0f921"
             ]
            ],
            "type": "contour"
           }
          ],
          "contourcarpet": [
           {
            "colorbar": {
             "outlinewidth": 0,
             "ticks": ""
            },
            "type": "contourcarpet"
           }
          ],
          "heatmap": [
           {
            "colorbar": {
             "outlinewidth": 0,
             "ticks": ""
            },
            "colorscale": [
             [
              0,
              "#0d0887"
             ],
             [
              0.1111111111111111,
              "#46039f"
             ],
             [
              0.2222222222222222,
              "#7201a8"
             ],
             [
              0.3333333333333333,
              "#9c179e"
             ],
             [
              0.4444444444444444,
              "#bd3786"
             ],
             [
              0.5555555555555556,
              "#d8576b"
             ],
             [
              0.6666666666666666,
              "#ed7953"
             ],
             [
              0.7777777777777778,
              "#fb9f3a"
             ],
             [
              0.8888888888888888,
              "#fdca26"
             ],
             [
              1,
              "#f0f921"
             ]
            ],
            "type": "heatmap"
           }
          ],
          "heatmapgl": [
           {
            "colorbar": {
             "outlinewidth": 0,
             "ticks": ""
            },
            "colorscale": [
             [
              0,
              "#0d0887"
             ],
             [
              0.1111111111111111,
              "#46039f"
             ],
             [
              0.2222222222222222,
              "#7201a8"
             ],
             [
              0.3333333333333333,
              "#9c179e"
             ],
             [
              0.4444444444444444,
              "#bd3786"
             ],
             [
              0.5555555555555556,
              "#d8576b"
             ],
             [
              0.6666666666666666,
              "#ed7953"
             ],
             [
              0.7777777777777778,
              "#fb9f3a"
             ],
             [
              0.8888888888888888,
              "#fdca26"
             ],
             [
              1,
              "#f0f921"
             ]
            ],
            "type": "heatmapgl"
           }
          ],
          "histogram": [
           {
            "marker": {
             "pattern": {
              "fillmode": "overlay",
              "size": 10,
              "solidity": 0.2
             }
            },
            "type": "histogram"
           }
          ],
          "histogram2d": [
           {
            "colorbar": {
             "outlinewidth": 0,
             "ticks": ""
            },
            "colorscale": [
             [
              0,
              "#0d0887"
             ],
             [
              0.1111111111111111,
              "#46039f"
             ],
             [
              0.2222222222222222,
              "#7201a8"
             ],
             [
              0.3333333333333333,
              "#9c179e"
             ],
             [
              0.4444444444444444,
              "#bd3786"
             ],
             [
              0.5555555555555556,
              "#d8576b"
             ],
             [
              0.6666666666666666,
              "#ed7953"
             ],
             [
              0.7777777777777778,
              "#fb9f3a"
             ],
             [
              0.8888888888888888,
              "#fdca26"
             ],
             [
              1,
              "#f0f921"
             ]
            ],
            "type": "histogram2d"
           }
          ],
          "histogram2dcontour": [
           {
            "colorbar": {
             "outlinewidth": 0,
             "ticks": ""
            },
            "colorscale": [
             [
              0,
              "#0d0887"
             ],
             [
              0.1111111111111111,
              "#46039f"
             ],
             [
              0.2222222222222222,
              "#7201a8"
             ],
             [
              0.3333333333333333,
              "#9c179e"
             ],
             [
              0.4444444444444444,
              "#bd3786"
             ],
             [
              0.5555555555555556,
              "#d8576b"
             ],
             [
              0.6666666666666666,
              "#ed7953"
             ],
             [
              0.7777777777777778,
              "#fb9f3a"
             ],
             [
              0.8888888888888888,
              "#fdca26"
             ],
             [
              1,
              "#f0f921"
             ]
            ],
            "type": "histogram2dcontour"
           }
          ],
          "mesh3d": [
           {
            "colorbar": {
             "outlinewidth": 0,
             "ticks": ""
            },
            "type": "mesh3d"
           }
          ],
          "parcoords": [
           {
            "line": {
             "colorbar": {
              "outlinewidth": 0,
              "ticks": ""
             }
            },
            "type": "parcoords"
           }
          ],
          "pie": [
           {
            "automargin": true,
            "type": "pie"
           }
          ],
          "scatter": [
           {
            "fillpattern": {
             "fillmode": "overlay",
             "size": 10,
             "solidity": 0.2
            },
            "type": "scatter"
           }
          ],
          "scatter3d": [
           {
            "line": {
             "colorbar": {
              "outlinewidth": 0,
              "ticks": ""
             }
            },
            "marker": {
             "colorbar": {
              "outlinewidth": 0,
              "ticks": ""
             }
            },
            "type": "scatter3d"
           }
          ],
          "scattercarpet": [
           {
            "marker": {
             "colorbar": {
              "outlinewidth": 0,
              "ticks": ""
             }
            },
            "type": "scattercarpet"
           }
          ],
          "scattergeo": [
           {
            "marker": {
             "colorbar": {
              "outlinewidth": 0,
              "ticks": ""
             }
            },
            "type": "scattergeo"
           }
          ],
          "scattergl": [
           {
            "marker": {
             "colorbar": {
              "outlinewidth": 0,
              "ticks": ""
             }
            },
            "type": "scattergl"
           }
          ],
          "scattermapbox": [
           {
            "marker": {
             "colorbar": {
              "outlinewidth": 0,
              "ticks": ""
             }
            },
            "type": "scattermapbox"
           }
          ],
          "scatterpolar": [
           {
            "marker": {
             "colorbar": {
              "outlinewidth": 0,
              "ticks": ""
             }
            },
            "type": "scatterpolar"
           }
          ],
          "scatterpolargl": [
           {
            "marker": {
             "colorbar": {
              "outlinewidth": 0,
              "ticks": ""
             }
            },
            "type": "scatterpolargl"
           }
          ],
          "scatterternary": [
           {
            "marker": {
             "colorbar": {
              "outlinewidth": 0,
              "ticks": ""
             }
            },
            "type": "scatterternary"
           }
          ],
          "surface": [
           {
            "colorbar": {
             "outlinewidth": 0,
             "ticks": ""
            },
            "colorscale": [
             [
              0,
              "#0d0887"
             ],
             [
              0.1111111111111111,
              "#46039f"
             ],
             [
              0.2222222222222222,
              "#7201a8"
             ],
             [
              0.3333333333333333,
              "#9c179e"
             ],
             [
              0.4444444444444444,
              "#bd3786"
             ],
             [
              0.5555555555555556,
              "#d8576b"
             ],
             [
              0.6666666666666666,
              "#ed7953"
             ],
             [
              0.7777777777777778,
              "#fb9f3a"
             ],
             [
              0.8888888888888888,
              "#fdca26"
             ],
             [
              1,
              "#f0f921"
             ]
            ],
            "type": "surface"
           }
          ],
          "table": [
           {
            "cells": {
             "fill": {
              "color": "#EBF0F8"
             },
             "line": {
              "color": "white"
             }
            },
            "header": {
             "fill": {
              "color": "#C8D4E3"
             },
             "line": {
              "color": "white"
             }
            },
            "type": "table"
           }
          ]
         },
         "layout": {
          "annotationdefaults": {
           "arrowcolor": "#2a3f5f",
           "arrowhead": 0,
           "arrowwidth": 1
          },
          "autotypenumbers": "strict",
          "coloraxis": {
           "colorbar": {
            "outlinewidth": 0,
            "ticks": ""
           }
          },
          "colorscale": {
           "diverging": [
            [
             0,
             "#8e0152"
            ],
            [
             0.1,
             "#c51b7d"
            ],
            [
             0.2,
             "#de77ae"
            ],
            [
             0.3,
             "#f1b6da"
            ],
            [
             0.4,
             "#fde0ef"
            ],
            [
             0.5,
             "#f7f7f7"
            ],
            [
             0.6,
             "#e6f5d0"
            ],
            [
             0.7,
             "#b8e186"
            ],
            [
             0.8,
             "#7fbc41"
            ],
            [
             0.9,
             "#4d9221"
            ],
            [
             1,
             "#276419"
            ]
           ],
           "sequential": [
            [
             0,
             "#0d0887"
            ],
            [
             0.1111111111111111,
             "#46039f"
            ],
            [
             0.2222222222222222,
             "#7201a8"
            ],
            [
             0.3333333333333333,
             "#9c179e"
            ],
            [
             0.4444444444444444,
             "#bd3786"
            ],
            [
             0.5555555555555556,
             "#d8576b"
            ],
            [
             0.6666666666666666,
             "#ed7953"
            ],
            [
             0.7777777777777778,
             "#fb9f3a"
            ],
            [
             0.8888888888888888,
             "#fdca26"
            ],
            [
             1,
             "#f0f921"
            ]
           ],
           "sequentialminus": [
            [
             0,
             "#0d0887"
            ],
            [
             0.1111111111111111,
             "#46039f"
            ],
            [
             0.2222222222222222,
             "#7201a8"
            ],
            [
             0.3333333333333333,
             "#9c179e"
            ],
            [
             0.4444444444444444,
             "#bd3786"
            ],
            [
             0.5555555555555556,
             "#d8576b"
            ],
            [
             0.6666666666666666,
             "#ed7953"
            ],
            [
             0.7777777777777778,
             "#fb9f3a"
            ],
            [
             0.8888888888888888,
             "#fdca26"
            ],
            [
             1,
             "#f0f921"
            ]
           ]
          },
          "colorway": [
           "#636efa",
           "#EF553B",
           "#00cc96",
           "#ab63fa",
           "#FFA15A",
           "#19d3f3",
           "#FF6692",
           "#B6E880",
           "#FF97FF",
           "#FECB52"
          ],
          "font": {
           "color": "#2a3f5f"
          },
          "geo": {
           "bgcolor": "white",
           "lakecolor": "white",
           "landcolor": "#E5ECF6",
           "showlakes": true,
           "showland": true,
           "subunitcolor": "white"
          },
          "hoverlabel": {
           "align": "left"
          },
          "hovermode": "closest",
          "mapbox": {
           "style": "light"
          },
          "paper_bgcolor": "white",
          "plot_bgcolor": "#E5ECF6",
          "polar": {
           "angularaxis": {
            "gridcolor": "white",
            "linecolor": "white",
            "ticks": ""
           },
           "bgcolor": "#E5ECF6",
           "radialaxis": {
            "gridcolor": "white",
            "linecolor": "white",
            "ticks": ""
           }
          },
          "scene": {
           "xaxis": {
            "backgroundcolor": "#E5ECF6",
            "gridcolor": "white",
            "gridwidth": 2,
            "linecolor": "white",
            "showbackground": true,
            "ticks": "",
            "zerolinecolor": "white"
           },
           "yaxis": {
            "backgroundcolor": "#E5ECF6",
            "gridcolor": "white",
            "gridwidth": 2,
            "linecolor": "white",
            "showbackground": true,
            "ticks": "",
            "zerolinecolor": "white"
           },
           "zaxis": {
            "backgroundcolor": "#E5ECF6",
            "gridcolor": "white",
            "gridwidth": 2,
            "linecolor": "white",
            "showbackground": true,
            "ticks": "",
            "zerolinecolor": "white"
           }
          },
          "shapedefaults": {
           "line": {
            "color": "#2a3f5f"
           }
          },
          "ternary": {
           "aaxis": {
            "gridcolor": "white",
            "linecolor": "white",
            "ticks": ""
           },
           "baxis": {
            "gridcolor": "white",
            "linecolor": "white",
            "ticks": ""
           },
           "bgcolor": "#E5ECF6",
           "caxis": {
            "gridcolor": "white",
            "linecolor": "white",
            "ticks": ""
           }
          },
          "title": {
           "x": 0.05
          },
          "xaxis": {
           "automargin": true,
           "gridcolor": "white",
           "linecolor": "white",
           "ticks": "",
           "title": {
            "standoff": 15
           },
           "zerolinecolor": "white",
           "zerolinewidth": 2
          },
          "yaxis": {
           "automargin": true,
           "gridcolor": "white",
           "linecolor": "white",
           "ticks": "",
           "title": {
            "standoff": 15
           },
           "zerolinecolor": "white",
           "zerolinewidth": 2
          }
         }
        },
        "xaxis": {
         "anchor": "y",
         "domain": [
          0,
          1
         ],
         "title": {
          "text": "aged_65_older"
         }
        },
        "yaxis": {
         "anchor": "x",
         "domain": [
          0,
          1
         ],
         "title": {
          "text": "total_deaths_per_million"
         }
        }
       }
      },
      "text/html": [
       "<div>                            <div id=\"af90db58-21c4-40df-9cbf-8e5bb6fd98c8\" class=\"plotly-graph-div\" style=\"height:525px; width:100%;\"></div>            <script type=\"text/javascript\">                require([\"plotly\"], function(Plotly) {                    window.PLOTLYENV=window.PLOTLYENV || {};                                    if (document.getElementById(\"af90db58-21c4-40df-9cbf-8e5bb6fd98c8\")) {                    Plotly.newPlot(                        \"af90db58-21c4-40df-9cbf-8e5bb6fd98c8\",                        [{\"hovertemplate\":\"aged_65_older=%{x}<br>total_deaths_per_million=%{y}<extra></extra>\",\"legendgroup\":\"\",\"marker\":{\"color\":\"#636efa\",\"symbol\":\"circle\"},\"mode\":\"markers\",\"name\":\"\",\"orientation\":\"v\",\"showlegend\":false,\"x\":[2.581,13.188,6.211,2.405,6.933,11.198,11.232,15.504,19.202,6.018,8.996,2.372,5.098,14.952,14.799,18.571,3.853,3.244,4.885,6.704,16.569,3.941,8.552,4.591,20.801,2.409,2.562,4.412,3.165,16.984,4.46,3.655,2.486,11.087,10.641,7.646,2.963,3.402,9.468,2.933,19.724,13.416,19.027,3.02,19.677,4.213,6.981,7.104,5.159,8.273,2.846,3.607,19.452,3.163,3.526,6.224,21.228,19.718,4.45,2.339,14.864,21.453,3.385,20.396,7.304,4.694,3.135,3.002,5.305,4.8,4.652,18.577,14.431,5.989,5.319,5.44,3.186,13.928,11.733,23.021,9.684,27.049,3.81,6.991,2.686,3.895,2.345,4.489,4.029,19.754,8.514,4.506,3.057,4.424,19.002,14.312,2.929,2.979,6.293,4.12,2.519,19.426,3.138,10.945,6.857,4.81,10.864,4.031,14.762,6.769,3.158,5.732,3.552,5.809,18.779,15.322,5.445,2.553,2.751,13.26,16.821,2.355,4.495,3.043,7.918,3.808,6.378,7.151,4.803,16.763,21.502,1.307,17.85,14.178,2.974,9.721,7.724,5.606,2.886,3.295,3.008,17.366,8.606,2.538,12.922,15.07,19.062,3.507,5.344,13.914,19.436,10.069,3.548,6.933,19.985,18.436,3.466,3.108,11.373,3.556,2.839,5.82,10.014,8.001,8.153,2.168,16.462,1.144,18.517,15.413,14.655,4.469,4.394,6.614,7.15,8.696,2.922,2.48,2.822],\"xaxis\":\"x\",\"y\":[190.183,1264.109,153.241,53.865,1556.968,2856.297,3132.202,598.417,2346.969,960.024,2031.762,1037.876,171.877,1988.312,746.516,2822.771,1695.103,12.207,26.839,1819.273,5001.964,1060.716,3196.07,501.111,5585.41,17.068,2.948,182.254,70.214,1213.752,691.211,20.254,10.946,3146.186,3.892,2734.258,192.404,64.652,1735.241,29.367,4253.217,1332.579,3962.268,14.594,1249.01,168.622,390.424,1995.444,223.425,667.572,109.259,27.958,2065.511,1183.343,61.371,944.321,1185.4,2316.119,128.087,137.473,4513.425,1843.52,43.614,3232.941,1889.063,1114.554,32.902,83.587,1583.971,73.975,1057.908,4809.525,571.194,373.333,575.79,1632.694,569.892,1601.2,1245.317,3033.683,1174.231,377.284,1251.299,982.163,105.095,99.057,601.562,451.089,100.671,3270.736,1950.546,306.181,55.444,944.902,3415.564,1768.064,47.65,131.485,1074.747,588.013,32.841,1515.115,210.509,794.165,2591.226,481.704,3631.844,627.065,4442.8,434.647,67.456,359.584,1589.389,393.452,1303.745,406.149,35.26,11.981,14.437,4568.195,774.337,1011.297,129.868,1087.222,1930.099,65.861,2890.685,6373.41,554.47,2963.685,2456.27,253.791,3417.523,2641.789,106.484,2262.72,1115.825,130.402,338.621,258.371,113.649,2509.188,1596.117,14.641,298.03,3651.309,3249.769,211.247,1708.204,563.708,2419.708,768.591,106.071,2249.024,1958.32,1609.181,12.559,12.901,459.643,102.885,32.773,112.289,2775.232,2367.815,1185.863,76.826,2969.164,248.699,3127.882,3164.807,2196.45,47.274,42.847,205.641,439.601,826.663,64.042,200.673,343.494],\"yaxis\":\"y\",\"type\":\"scatter\"}],                        {\"template\":{\"data\":{\"histogram2dcontour\":[{\"type\":\"histogram2dcontour\",\"colorbar\":{\"outlinewidth\":0,\"ticks\":\"\"},\"colorscale\":[[0.0,\"#0d0887\"],[0.1111111111111111,\"#46039f\"],[0.2222222222222222,\"#7201a8\"],[0.3333333333333333,\"#9c179e\"],[0.4444444444444444,\"#bd3786\"],[0.5555555555555556,\"#d8576b\"],[0.6666666666666666,\"#ed7953\"],[0.7777777777777778,\"#fb9f3a\"],[0.8888888888888888,\"#fdca26\"],[1.0,\"#f0f921\"]]}],\"choropleth\":[{\"type\":\"choropleth\",\"colorbar\":{\"outlinewidth\":0,\"ticks\":\"\"}}],\"histogram2d\":[{\"type\":\"histogram2d\",\"colorbar\":{\"outlinewidth\":0,\"ticks\":\"\"},\"colorscale\":[[0.0,\"#0d0887\"],[0.1111111111111111,\"#46039f\"],[0.2222222222222222,\"#7201a8\"],[0.3333333333333333,\"#9c179e\"],[0.4444444444444444,\"#bd3786\"],[0.5555555555555556,\"#d8576b\"],[0.6666666666666666,\"#ed7953\"],[0.7777777777777778,\"#fb9f3a\"],[0.8888888888888888,\"#fdca26\"],[1.0,\"#f0f921\"]]}],\"heatmap\":[{\"type\":\"heatmap\",\"colorbar\":{\"outlinewidth\":0,\"ticks\":\"\"},\"colorscale\":[[0.0,\"#0d0887\"],[0.1111111111111111,\"#46039f\"],[0.2222222222222222,\"#7201a8\"],[0.3333333333333333,\"#9c179e\"],[0.4444444444444444,\"#bd3786\"],[0.5555555555555556,\"#d8576b\"],[0.6666666666666666,\"#ed7953\"],[0.7777777777777778,\"#fb9f3a\"],[0.8888888888888888,\"#fdca26\"],[1.0,\"#f0f921\"]]}],\"heatmapgl\":[{\"type\":\"heatmapgl\",\"colorbar\":{\"outlinewidth\":0,\"ticks\":\"\"},\"colorscale\":[[0.0,\"#0d0887\"],[0.1111111111111111,\"#46039f\"],[0.2222222222222222,\"#7201a8\"],[0.3333333333333333,\"#9c179e\"],[0.4444444444444444,\"#bd3786\"],[0.5555555555555556,\"#d8576b\"],[0.6666666666666666,\"#ed7953\"],[0.7777777777777778,\"#fb9f3a\"],[0.8888888888888888,\"#fdca26\"],[1.0,\"#f0f921\"]]}],\"contourcarpet\":[{\"type\":\"contourcarpet\",\"colorbar\":{\"outlinewidth\":0,\"ticks\":\"\"}}],\"contour\":[{\"type\":\"contour\",\"colorbar\":{\"outlinewidth\":0,\"ticks\":\"\"},\"colorscale\":[[0.0,\"#0d0887\"],[0.1111111111111111,\"#46039f\"],[0.2222222222222222,\"#7201a8\"],[0.3333333333333333,\"#9c179e\"],[0.4444444444444444,\"#bd3786\"],[0.5555555555555556,\"#d8576b\"],[0.6666666666666666,\"#ed7953\"],[0.7777777777777778,\"#fb9f3a\"],[0.8888888888888888,\"#fdca26\"],[1.0,\"#f0f921\"]]}],\"surface\":[{\"type\":\"surface\",\"colorbar\":{\"outlinewidth\":0,\"ticks\":\"\"},\"colorscale\":[[0.0,\"#0d0887\"],[0.1111111111111111,\"#46039f\"],[0.2222222222222222,\"#7201a8\"],[0.3333333333333333,\"#9c179e\"],[0.4444444444444444,\"#bd3786\"],[0.5555555555555556,\"#d8576b\"],[0.6666666666666666,\"#ed7953\"],[0.7777777777777778,\"#fb9f3a\"],[0.8888888888888888,\"#fdca26\"],[1.0,\"#f0f921\"]]}],\"mesh3d\":[{\"type\":\"mesh3d\",\"colorbar\":{\"outlinewidth\":0,\"ticks\":\"\"}}],\"scatter\":[{\"fillpattern\":{\"fillmode\":\"overlay\",\"size\":10,\"solidity\":0.2},\"type\":\"scatter\"}],\"parcoords\":[{\"type\":\"parcoords\",\"line\":{\"colorbar\":{\"outlinewidth\":0,\"ticks\":\"\"}}}],\"scatterpolargl\":[{\"type\":\"scatterpolargl\",\"marker\":{\"colorbar\":{\"outlinewidth\":0,\"ticks\":\"\"}}}],\"bar\":[{\"error_x\":{\"color\":\"#2a3f5f\"},\"error_y\":{\"color\":\"#2a3f5f\"},\"marker\":{\"line\":{\"color\":\"#E5ECF6\",\"width\":0.5},\"pattern\":{\"fillmode\":\"overlay\",\"size\":10,\"solidity\":0.2}},\"type\":\"bar\"}],\"scattergeo\":[{\"type\":\"scattergeo\",\"marker\":{\"colorbar\":{\"outlinewidth\":0,\"ticks\":\"\"}}}],\"scatterpolar\":[{\"type\":\"scatterpolar\",\"marker\":{\"colorbar\":{\"outlinewidth\":0,\"ticks\":\"\"}}}],\"histogram\":[{\"marker\":{\"pattern\":{\"fillmode\":\"overlay\",\"size\":10,\"solidity\":0.2}},\"type\":\"histogram\"}],\"scattergl\":[{\"type\":\"scattergl\",\"marker\":{\"colorbar\":{\"outlinewidth\":0,\"ticks\":\"\"}}}],\"scatter3d\":[{\"type\":\"scatter3d\",\"line\":{\"colorbar\":{\"outlinewidth\":0,\"ticks\":\"\"}},\"marker\":{\"colorbar\":{\"outlinewidth\":0,\"ticks\":\"\"}}}],\"scattermapbox\":[{\"type\":\"scattermapbox\",\"marker\":{\"colorbar\":{\"outlinewidth\":0,\"ticks\":\"\"}}}],\"scatterternary\":[{\"type\":\"scatterternary\",\"marker\":{\"colorbar\":{\"outlinewidth\":0,\"ticks\":\"\"}}}],\"scattercarpet\":[{\"type\":\"scattercarpet\",\"marker\":{\"colorbar\":{\"outlinewidth\":0,\"ticks\":\"\"}}}],\"carpet\":[{\"aaxis\":{\"endlinecolor\":\"#2a3f5f\",\"gridcolor\":\"white\",\"linecolor\":\"white\",\"minorgridcolor\":\"white\",\"startlinecolor\":\"#2a3f5f\"},\"baxis\":{\"endlinecolor\":\"#2a3f5f\",\"gridcolor\":\"white\",\"linecolor\":\"white\",\"minorgridcolor\":\"white\",\"startlinecolor\":\"#2a3f5f\"},\"type\":\"carpet\"}],\"table\":[{\"cells\":{\"fill\":{\"color\":\"#EBF0F8\"},\"line\":{\"color\":\"white\"}},\"header\":{\"fill\":{\"color\":\"#C8D4E3\"},\"line\":{\"color\":\"white\"}},\"type\":\"table\"}],\"barpolar\":[{\"marker\":{\"line\":{\"color\":\"#E5ECF6\",\"width\":0.5},\"pattern\":{\"fillmode\":\"overlay\",\"size\":10,\"solidity\":0.2}},\"type\":\"barpolar\"}],\"pie\":[{\"automargin\":true,\"type\":\"pie\"}]},\"layout\":{\"autotypenumbers\":\"strict\",\"colorway\":[\"#636efa\",\"#EF553B\",\"#00cc96\",\"#ab63fa\",\"#FFA15A\",\"#19d3f3\",\"#FF6692\",\"#B6E880\",\"#FF97FF\",\"#FECB52\"],\"font\":{\"color\":\"#2a3f5f\"},\"hovermode\":\"closest\",\"hoverlabel\":{\"align\":\"left\"},\"paper_bgcolor\":\"white\",\"plot_bgcolor\":\"#E5ECF6\",\"polar\":{\"bgcolor\":\"#E5ECF6\",\"angularaxis\":{\"gridcolor\":\"white\",\"linecolor\":\"white\",\"ticks\":\"\"},\"radialaxis\":{\"gridcolor\":\"white\",\"linecolor\":\"white\",\"ticks\":\"\"}},\"ternary\":{\"bgcolor\":\"#E5ECF6\",\"aaxis\":{\"gridcolor\":\"white\",\"linecolor\":\"white\",\"ticks\":\"\"},\"baxis\":{\"gridcolor\":\"white\",\"linecolor\":\"white\",\"ticks\":\"\"},\"caxis\":{\"gridcolor\":\"white\",\"linecolor\":\"white\",\"ticks\":\"\"}},\"coloraxis\":{\"colorbar\":{\"outlinewidth\":0,\"ticks\":\"\"}},\"colorscale\":{\"sequential\":[[0.0,\"#0d0887\"],[0.1111111111111111,\"#46039f\"],[0.2222222222222222,\"#7201a8\"],[0.3333333333333333,\"#9c179e\"],[0.4444444444444444,\"#bd3786\"],[0.5555555555555556,\"#d8576b\"],[0.6666666666666666,\"#ed7953\"],[0.7777777777777778,\"#fb9f3a\"],[0.8888888888888888,\"#fdca26\"],[1.0,\"#f0f921\"]],\"sequentialminus\":[[0.0,\"#0d0887\"],[0.1111111111111111,\"#46039f\"],[0.2222222222222222,\"#7201a8\"],[0.3333333333333333,\"#9c179e\"],[0.4444444444444444,\"#bd3786\"],[0.5555555555555556,\"#d8576b\"],[0.6666666666666666,\"#ed7953\"],[0.7777777777777778,\"#fb9f3a\"],[0.8888888888888888,\"#fdca26\"],[1.0,\"#f0f921\"]],\"diverging\":[[0,\"#8e0152\"],[0.1,\"#c51b7d\"],[0.2,\"#de77ae\"],[0.3,\"#f1b6da\"],[0.4,\"#fde0ef\"],[0.5,\"#f7f7f7\"],[0.6,\"#e6f5d0\"],[0.7,\"#b8e186\"],[0.8,\"#7fbc41\"],[0.9,\"#4d9221\"],[1,\"#276419\"]]},\"xaxis\":{\"gridcolor\":\"white\",\"linecolor\":\"white\",\"ticks\":\"\",\"title\":{\"standoff\":15},\"zerolinecolor\":\"white\",\"automargin\":true,\"zerolinewidth\":2},\"yaxis\":{\"gridcolor\":\"white\",\"linecolor\":\"white\",\"ticks\":\"\",\"title\":{\"standoff\":15},\"zerolinecolor\":\"white\",\"automargin\":true,\"zerolinewidth\":2},\"scene\":{\"xaxis\":{\"backgroundcolor\":\"#E5ECF6\",\"gridcolor\":\"white\",\"linecolor\":\"white\",\"showbackground\":true,\"ticks\":\"\",\"zerolinecolor\":\"white\",\"gridwidth\":2},\"yaxis\":{\"backgroundcolor\":\"#E5ECF6\",\"gridcolor\":\"white\",\"linecolor\":\"white\",\"showbackground\":true,\"ticks\":\"\",\"zerolinecolor\":\"white\",\"gridwidth\":2},\"zaxis\":{\"backgroundcolor\":\"#E5ECF6\",\"gridcolor\":\"white\",\"linecolor\":\"white\",\"showbackground\":true,\"ticks\":\"\",\"zerolinecolor\":\"white\",\"gridwidth\":2}},\"shapedefaults\":{\"line\":{\"color\":\"#2a3f5f\"}},\"annotationdefaults\":{\"arrowcolor\":\"#2a3f5f\",\"arrowhead\":0,\"arrowwidth\":1},\"geo\":{\"bgcolor\":\"white\",\"landcolor\":\"#E5ECF6\",\"subunitcolor\":\"white\",\"showland\":true,\"showlakes\":true,\"lakecolor\":\"white\"},\"title\":{\"x\":0.05},\"mapbox\":{\"style\":\"light\"}}},\"xaxis\":{\"anchor\":\"y\",\"domain\":[0.0,1.0],\"title\":{\"text\":\"aged_65_older\"}},\"yaxis\":{\"anchor\":\"x\",\"domain\":[0.0,1.0],\"title\":{\"text\":\"total_deaths_per_million\"}},\"legend\":{\"tracegroupgap\":0},\"margin\":{\"t\":60}},                        {\"responsive\": true}                    ).then(function(){\n",
       "                            \n",
       "var gd = document.getElementById('af90db58-21c4-40df-9cbf-8e5bb6fd98c8');\n",
       "var x = new MutationObserver(function (mutations, observer) {{\n",
       "        var display = window.getComputedStyle(gd).display;\n",
       "        if (!display || display === 'none') {{\n",
       "            console.log([gd, 'removed!']);\n",
       "            Plotly.purge(gd);\n",
       "            observer.disconnect();\n",
       "        }}\n",
       "}});\n",
       "\n",
       "// Listen for the removal of the full notebook cells\n",
       "var notebookContainer = gd.closest('#notebook-container');\n",
       "if (notebookContainer) {{\n",
       "    x.observe(notebookContainer, {childList: true});\n",
       "}}\n",
       "\n",
       "// Listen for the clearing of the current output cell\n",
       "var outputEl = gd.closest('.output');\n",
       "if (outputEl) {{\n",
       "    x.observe(outputEl, {childList: true});\n",
       "}}\n",
       "\n",
       "                        })                };                });            </script>        </div>"
      ]
     },
     "metadata": {},
     "output_type": "display_data"
    }
   ],
   "source": [
    "fig = px.scatter(test_df, x=\"aged_65_older\", y=\"total_deaths_per_million\")\n",
    "fig.show()"
   ]
  },
  {
   "cell_type": "markdown",
   "id": "15634615",
   "metadata": {},
   "source": [
    "# K-Means Clustering"
   ]
  },
  {
   "cell_type": "code",
   "execution_count": 82,
   "id": "c125975f",
   "metadata": {},
   "outputs": [
    {
     "data": {
      "text/html": [
       "<div>\n",
       "<style scoped>\n",
       "    .dataframe tbody tr th:only-of-type {\n",
       "        vertical-align: middle;\n",
       "    }\n",
       "\n",
       "    .dataframe tbody tr th {\n",
       "        vertical-align: top;\n",
       "    }\n",
       "\n",
       "    .dataframe thead th {\n",
       "        text-align: right;\n",
       "    }\n",
       "</style>\n",
       "<table border=\"1\" class=\"dataframe\">\n",
       "  <thead>\n",
       "    <tr style=\"text-align: right;\">\n",
       "      <th></th>\n",
       "      <th>aged_65_older</th>\n",
       "      <th>total_deaths_per_million</th>\n",
       "      <th>cardiovasc_death_rate</th>\n",
       "    </tr>\n",
       "  </thead>\n",
       "  <tbody>\n",
       "    <tr>\n",
       "      <th>980</th>\n",
       "      <td>2.581</td>\n",
       "      <td>190.183</td>\n",
       "      <td>597.029</td>\n",
       "    </tr>\n",
       "    <tr>\n",
       "      <th>3006</th>\n",
       "      <td>13.188</td>\n",
       "      <td>1264.109</td>\n",
       "      <td>304.195</td>\n",
       "    </tr>\n",
       "    <tr>\n",
       "      <th>4013</th>\n",
       "      <td>6.211</td>\n",
       "      <td>153.241</td>\n",
       "      <td>278.364</td>\n",
       "    </tr>\n",
       "    <tr>\n",
       "      <th>5997</th>\n",
       "      <td>2.405</td>\n",
       "      <td>53.865</td>\n",
       "      <td>276.045</td>\n",
       "    </tr>\n",
       "    <tr>\n",
       "      <th>7962</th>\n",
       "      <td>6.933</td>\n",
       "      <td>1556.968</td>\n",
       "      <td>191.511</td>\n",
       "    </tr>\n",
       "  </tbody>\n",
       "</table>\n",
       "</div>"
      ],
      "text/plain": [
       "      aged_65_older  total_deaths_per_million  cardiovasc_death_rate\n",
       "980           2.581                   190.183                597.029\n",
       "3006         13.188                  1264.109                304.195\n",
       "4013          6.211                   153.241                278.364\n",
       "5997          2.405                    53.865                276.045\n",
       "7962          6.933                  1556.968                191.511"
      ]
     },
     "execution_count": 82,
     "metadata": {},
     "output_type": "execute_result"
    }
   ],
   "source": [
    "Z = test_df[[\"aged_65_older\", \"total_deaths_per_million\", \"cardiovasc_death_rate\"]]\n",
    "Z.head()"
   ]
  },
  {
   "cell_type": "code",
   "execution_count": 83,
   "id": "1a010726",
   "metadata": {},
   "outputs": [],
   "source": [
    "distortions = []\n",
    "K = range(1,10)\n",
    "\n",
    "for k in K:\n",
    "    kmean = KMeans(n_clusters=k).fit(Z)\n",
    "    \n",
    "    distortions.append(sum(np.min(cdist(Z, kmean.cluster_centers_,'euclidean'), axis=1)) / Z.shape[0])"
   ]
  },
  {
   "cell_type": "code",
   "execution_count": 84,
   "id": "03fbacf2",
   "metadata": {},
   "outputs": [
    {
     "data": {
      "image/png": "[encoded data removed]",
      "text/plain": [
       "<Figure size 640x480 with 1 Axes>"
      ]
     },
     "metadata": {},
     "output_type": "display_data"
    }
   ],
   "source": [
    "plt.plot(K, distortions, 'bx-')\n",
    "plt.xlabel('Values of K')\n",
    "plt.ylabel('Distortion')\n",
    "plt.title('The Elbow Method using Distortion')\n",
    "plt.show()"
   ]
  },
  {
   "cell_type": "code",
   "execution_count": 85,
   "id": "3e00f531",
   "metadata": {},
   "outputs": [],
   "source": [
    "from sklearn.preprocessing import MinMaxScaler\n",
    "scaler = MinMaxScaler()\n",
    "scaler.fit(Z)\n",
    "z_train = scaler.transform(Z)"
   ]
  },
  {
   "cell_type": "code",
   "execution_count": 86,
   "id": "440c6267",
   "metadata": {},
   "outputs": [
    {
     "data": {
      "text/plain": [
       "-5.039410748124941"
      ]
     },
     "execution_count": 86,
     "metadata": {},
     "output_type": "execute_result"
    }
   ],
   "source": [
    "kmeans5 = KMeans(n_clusters=5).fit(z_train)\n",
    "kmeans5.score(z_train)"
   ]
  },
  {
   "cell_type": "code",
   "execution_count": 87,
   "id": "5a2e517a",
   "metadata": {},
   "outputs": [
    {
     "data": {
      "application/vnd.plotly.v1+json": {
       "config": {
        "plotlyServerURL": "https://plot.ly"
       },
       "data": [
        {
         "hovertemplate": "aged_65_older=%{x}<br>total_deaths_per_million=%{y}<br>color=%{marker.color}<extra></extra>",
         "legendgroup": "",
         "marker": {
          "color": [
           3,
           0,
           4,
           4,
           0,
           0,
           2,
           1,
           1,
           3,
           0,
           4,
           4,
           1,
           3,
           1,
           0,
           4,
           4,
           0,
           2,
           4,
           0,
           4,
           2,
           4,
           4,
           4,
           4,
           1,
           4,
           3,
           4,
           0,
           4,
           0,
           4,
           4,
           0,
           4,
           2,
           1,
           2,
           4,
           1,
           4,
           4,
           0,
           3,
           0,
           4,
           4,
           1,
           4,
           4,
           3,
           1,
           1,
           4,
           4,
           2,
           1,
           4,
           1,
           0,
           0,
           4,
           3,
           3,
           3,
           4,
           2,
           1,
           4,
           4,
           0,
           4,
           1,
           0,
           1,
           0,
           1,
           4,
           3,
           4,
           3,
           4,
           3,
           3,
           2,
           0,
           3,
           4,
           4,
           2,
           1,
           3,
           4,
           4,
           4,
           4,
           1,
           4,
           0,
           0,
           3,
           2,
           3,
           2,
           3,
           4,
           4,
           0,
           4,
           1,
           1,
           4,
           4,
           4,
           2,
           1,
           4,
           3,
           4,
           0,
           3,
           0,
           2,
           3,
           1,
           1,
           4,
           2,
           2,
           4,
           0,
           0,
           4,
           4,
           4,
           4,
           2,
           0,
           4,
           1,
           2,
           1,
           3,
           0,
           1,
           1,
           0,
           3,
           0,
           1,
           1,
           3,
           4,
           0,
           4,
           4,
           4,
           0,
           0,
           0,
           4,
           2,
           4,
           1,
           1,
           1,
           3,
           3,
           4,
           4,
           0,
           3,
           4,
           4
          ],
          "coloraxis": "coloraxis",
          "symbol": "circle"
         },
         "mode": "markers",
         "name": "",
         "orientation": "v",
         "showlegend": false,
         "type": "scatter",
         "x": [
          2.581,
          13.188,
          6.211,
          2.405,
          6.933,
          11.198,
          11.232,
          15.504,
          19.202,
          6.018,
          8.996,
          2.372,
          5.098,
          14.952,
          14.799,
          18.571,
          3.853,
          3.244,
          4.885,
          6.704,
          16.569,
          3.941,
          8.552,
          4.591,
          20.801,
          2.409,
          2.562,
          4.412,
          3.165,
          16.984,
          4.46,
          3.655,
          2.486,
          11.087,
          10.641,
          7.646,
          2.963,
          3.402,
          9.468,
          2.933,
          19.724,
          13.416,
          19.027,
          3.02,
          19.677,
          4.213,
          6.981,
          7.104,
          5.159,
          8.273,
          2.846,
          3.607,
          19.452,
          3.163,
          3.526,
          6.224,
          21.228,
          19.718,
          4.45,
          2.339,
          14.864,
          21.453,
          3.385,
          20.396,
          7.304,
          4.694,
          3.135,
          3.002,
          5.305,
          4.8,
          4.652,
          18.577,
          14.431,
          5.989,
          5.319,
          5.44,
          3.186,
          13.928,
          11.733,
          23.021,
          9.684,
          27.049,
          3.81,
          6.991,
          2.686,
          3.895,
          2.345,
          4.489,
          4.029,
          19.754,
          8.514,
          4.506,
          3.057,
          4.424,
          19.002,
          14.312,
          2.929,
          2.979,
          6.293,
          4.12,
          2.519,
          19.426,
          3.138,
          10.945,
          6.857,
          4.81,
          10.864,
          4.031,
          14.762,
          6.769,
          3.158,
          5.732,
          3.552,
          5.809,
          18.779,
          15.322,
          5.445,
          2.553,
          2.751,
          13.26,
          16.821,
          2.355,
          4.495,
          3.043,
          7.918,
          3.808,
          6.378,
          7.151,
          4.803,
          16.763,
          21.502,
          1.307,
          17.85,
          14.178,
          2.974,
          9.721,
          7.724,
          5.606,
          2.886,
          3.295,
          3.008,
          17.366,
          8.606,
          2.538,
          12.922,
          15.07,
          19.062,
          3.507,
          5.344,
          13.914,
          19.436,
          10.069,
          3.548,
          6.933,
          19.985,
          18.436,
          3.466,
          3.108,
          11.373,
          3.556,
          2.839,
          5.82,
          10.014,
          8.001,
          8.153,
          2.168,
          16.462,
          1.144,
          18.517,
          15.413,
          14.655,
          4.469,
          4.394,
          6.614,
          7.15,
          8.696,
          2.922,
          2.48,
          2.822
         ],
         "xaxis": "x",
         "y": [
          190.183,
          1264.109,
          153.241,
          53.865,
          1556.968,
          2856.297,
          3132.202,
          598.417,
          2346.969,
          960.024,
          2031.762,
          1037.876,
          171.877,
          1988.312,
          746.516,
          2822.771,
          1695.103,
          12.207,
          26.839,
          1819.273,
          5001.964,
          1060.716,
          3196.07,
          501.111,
          5585.41,
          17.068,
          2.948,
          182.254,
          70.214,
          1213.752,
          691.211,
          20.254,
          10.946,
          3146.186,
          3.892,
          2734.258,
          192.404,
          64.652,
          1735.241,
          29.367,
          4253.217,
          1332.579,
          3962.268,
          14.594,
          1249.01,
          168.622,
          390.424,
          1995.444,
          223.425,
          667.572,
          109.259,
          27.958,
          2065.511,
          1183.343,
          61.371,
          944.321,
          1185.4,
          2316.119,
          128.087,
          137.473,
          4513.425,
          1843.52,
          43.614,
          3232.941,
          1889.063,
          1114.554,
          32.902,
          83.587,
          1583.971,
          73.975,
          1057.908,
          4809.525,
          571.194,
          373.333,
          575.79,
          1632.694,
          569.892,
          1601.2,
          1245.317,
          3033.683,
          1174.231,
          377.284,
          1251.299,
          982.163,
          105.095,
          99.057,
          601.562,
          451.089,
          100.671,
          3270.736,
          1950.546,
          306.181,
          55.444,
          944.902,
          3415.564,
          1768.064,
          47.65,
          131.485,
          1074.747,
          588.013,
          32.841,
          1515.115,
          210.509,
          794.165,
          2591.226,
          481.704,
          3631.844,
          627.065,
          4442.8,
          434.647,
          67.456,
          359.584,
          1589.389,
          393.452,
          1303.745,
          406.149,
          35.26,
          11.981,
          14.437,
          4568.195,
          774.337,
          1011.297,
          129.868,
          1087.222,
          1930.099,
          65.861,
          2890.685,
          6373.41,
          554.47,
          2963.685,
          2456.27,
          253.791,
          3417.523,
          2641.789,
          106.484,
          2262.72,
          1115.825,
          130.402,
          338.621,
          258.371,
          113.649,
          2509.188,
          1596.117,
          14.641,
          298.03,
          3651.309,
          3249.769,
          211.247,
          1708.204,
          563.708,
          2419.708,
          768.591,
          106.071,
          2249.024,
          1958.32,
          1609.181,
          12.559,
          12.901,
          459.643,
          102.885,
          32.773,
          112.289,
          2775.232,
          2367.815,
          1185.863,
          76.826,
          2969.164,
          248.699,
          3127.882,
          3164.807,
          2196.45,
          47.274,
          42.847,
          205.641,
          439.601,
          826.663,
          64.042,
          200.673,
          343.494
         ],
         "yaxis": "y"
        }
       ],
       "layout": {
        "coloraxis": {
         "colorbar": {
          "title": {
           "text": "color"
          }
         },
         "colorscale": [
          [
           0,
           "#0d0887"
          ],
          [
           0.1111111111111111,
           "#46039f"
          ],
          [
           0.2222222222222222,
           "#7201a8"
          ],
          [
           0.3333333333333333,
           "#9c179e"
          ],
          [
           0.4444444444444444,
           "#bd3786"
          ],
          [
           0.5555555555555556,
           "#d8576b"
          ],
          [
           0.6666666666666666,
           "#ed7953"
          ],
          [
           0.7777777777777778,
           "#fb9f3a"
          ],
          [
           0.8888888888888888,
           "#fdca26"
          ],
          [
           1,
           "#f0f921"
          ]
         ]
        },
        "legend": {
         "tracegroupgap": 0
        },
        "margin": {
         "t": 60
        },
        "template": {
         "data": {
          "bar": [
           {
            "error_x": {
             "color": "#2a3f5f"
            },
            "error_y": {
             "color": "#2a3f5f"
            },
            "marker": {
             "line": {
              "color": "#E5ECF6",
              "width": 0.5
             },
             "pattern": {
              "fillmode": "overlay",
              "size": 10,
              "solidity": 0.2
             }
            },
            "type": "bar"
           }
          ],
          "barpolar": [
           {
            "marker": {
             "line": {
              "color": "#E5ECF6",
              "width": 0.5
             },
             "pattern": {
              "fillmode": "overlay",
              "size": 10,
              "solidity": 0.2
             }
            },
            "type": "barpolar"
           }
          ],
          "carpet": [
           {
            "aaxis": {
             "endlinecolor": "#2a3f5f",
             "gridcolor": "white",
             "linecolor": "white",
             "minorgridcolor": "white",
             "startlinecolor": "#2a3f5f"
            },
            "baxis": {
             "endlinecolor": "#2a3f5f",
             "gridcolor": "white",
             "linecolor": "white",
             "minorgridcolor": "white",
             "startlinecolor": "#2a3f5f"
            },
            "type": "carpet"
           }
          ],
          "choropleth": [
           {
            "colorbar": {
             "outlinewidth": 0,
             "ticks": ""
            },
            "type": "choropleth"
           }
          ],
          "contour": [
           {
            "colorbar": {
             "outlinewidth": 0,
             "ticks": ""
            },
            "colorscale": [
             [
              0,
              "#0d0887"
             ],
             [
              0.1111111111111111,
              "#46039f"
             ],
             [
              0.2222222222222222,
              "#7201a8"
             ],
             [
              0.3333333333333333,
              "#9c179e"
             ],
             [
              0.4444444444444444,
              "#bd3786"
             ],
             [
              0.5555555555555556,
              "#d8576b"
             ],
             [
              0.6666666666666666,
              "#ed7953"
             ],
             [
              0.7777777777777778,
              "#fb9f3a"
             ],
             [
              0.8888888888888888,
              "#fdca26"
             ],
             [
              1,
              "#f0f921"
             ]
            ],
            "type": "contour"
           }
          ],
          "contourcarpet": [
           {
            "colorbar": {
             "outlinewidth": 0,
             "ticks": ""
            },
            "type": "contourcarpet"
           }
          ],
          "heatmap": [
           {
            "colorbar": {
             "outlinewidth": 0,
             "ticks": ""
            },
            "colorscale": [
             [
              0,
              "#0d0887"
             ],
             [
              0.1111111111111111,
              "#46039f"
             ],
             [
              0.2222222222222222,
              "#7201a8"
             ],
             [
              0.3333333333333333,
              "#9c179e"
             ],
             [
              0.4444444444444444,
              "#bd3786"
             ],
             [
              0.5555555555555556,
              "#d8576b"
             ],
             [
              0.6666666666666666,
              "#ed7953"
             ],
             [
              0.7777777777777778,
              "#fb9f3a"
             ],
             [
              0.8888888888888888,
              "#fdca26"
             ],
             [
              1,
              "#f0f921"
             ]
            ],
            "type": "heatmap"
           }
          ],
          "heatmapgl": [
           {
            "colorbar": {
             "outlinewidth": 0,
             "ticks": ""
            },
            "colorscale": [
             [
              0,
              "#0d0887"
             ],
             [
              0.1111111111111111,
              "#46039f"
             ],
             [
              0.2222222222222222,
              "#7201a8"
             ],
             [
              0.3333333333333333,
              "#9c179e"
             ],
             [
              0.4444444444444444,
              "#bd3786"
             ],
             [
              0.5555555555555556,
              "#d8576b"
             ],
             [
              0.6666666666666666,
              "#ed7953"
             ],
             [
              0.7777777777777778,
              "#fb9f3a"
             ],
             [
              0.8888888888888888,
              "#fdca26"
             ],
             [
              1,
              "#f0f921"
             ]
            ],
            "type": "heatmapgl"
           }
          ],
          "histogram": [
           {
            "marker": {
             "pattern": {
              "fillmode": "overlay",
              "size": 10,
              "solidity": 0.2
             }
            },
            "type": "histogram"
           }
          ],
          "histogram2d": [
           {
            "colorbar": {
             "outlinewidth": 0,
             "ticks": ""
            },
            "colorscale": [
             [
              0,
              "#0d0887"
             ],
             [
              0.1111111111111111,
              "#46039f"
             ],
             [
              0.2222222222222222,
              "#7201a8"
             ],
             [
              0.3333333333333333,
              "#9c179e"
             ],
             [
              0.4444444444444444,
              "#bd3786"
             ],
             [
              0.5555555555555556,
              "#d8576b"
             ],
             [
              0.6666666666666666,
              "#ed7953"
             ],
             [
              0.7777777777777778,
              "#fb9f3a"
             ],
             [
              0.8888888888888888,
              "#fdca26"
             ],
             [
              1,
              "#f0f921"
             ]
            ],
            "type": "histogram2d"
           }
          ],
          "histogram2dcontour": [
           {
            "colorbar": {
             "outlinewidth": 0,
             "ticks": ""
            },
            "colorscale": [
             [
              0,
              "#0d0887"
             ],
             [
              0.1111111111111111,
              "#46039f"
             ],
             [
              0.2222222222222222,
              "#7201a8"
             ],
             [
              0.3333333333333333,
              "#9c179e"
             ],
             [
              0.4444444444444444,
              "#bd3786"
             ],
             [
              0.5555555555555556,
              "#d8576b"
             ],
             [
              0.6666666666666666,
              "#ed7953"
             ],
             [
              0.7777777777777778,
              "#fb9f3a"
             ],
             [
              0.8888888888888888,
              "#fdca26"
             ],
             [
              1,
              "#f0f921"
             ]
            ],
            "type": "histogram2dcontour"
           }
          ],
          "mesh3d": [
           {
            "colorbar": {
             "outlinewidth": 0,
             "ticks": ""
            },
            "type": "mesh3d"
           }
          ],
          "parcoords": [
           {
            "line": {
             "colorbar": {
              "outlinewidth": 0,
              "ticks": ""
             }
            },
            "type": "parcoords"
           }
          ],
          "pie": [
           {
            "automargin": true,
            "type": "pie"
           }
          ],
          "scatter": [
           {
            "fillpattern": {
             "fillmode": "overlay",
             "size": 10,
             "solidity": 0.2
            },
            "type": "scatter"
           }
          ],
          "scatter3d": [
           {
            "line": {
             "colorbar": {
              "outlinewidth": 0,
              "ticks": ""
             }
            },
            "marker": {
             "colorbar": {
              "outlinewidth": 0,
              "ticks": ""
             }
            },
            "type": "scatter3d"
           }
          ],
          "scattercarpet": [
           {
            "marker": {
             "colorbar": {
              "outlinewidth": 0,
              "ticks": ""
             }
            },
            "type": "scattercarpet"
           }
          ],
          "scattergeo": [
           {
            "marker": {
             "colorbar": {
              "outlinewidth": 0,
              "ticks": ""
             }
            },
            "type": "scattergeo"
           }
          ],
          "scattergl": [
           {
            "marker": {
             "colorbar": {
              "outlinewidth": 0,
              "ticks": ""
             }
            },
            "type": "scattergl"
           }
          ],
          "scattermapbox": [
           {
            "marker": {
             "colorbar": {
              "outlinewidth": 0,
              "ticks": ""
             }
            },
            "type": "scattermapbox"
           }
          ],
          "scatterpolar": [
           {
            "marker": {
             "colorbar": {
              "outlinewidth": 0,
              "ticks": ""
             }
            },
            "type": "scatterpolar"
           }
          ],
          "scatterpolargl": [
           {
            "marker": {
             "colorbar": {
              "outlinewidth": 0,
              "ticks": ""
             }
            },
            "type": "scatterpolargl"
           }
          ],
          "scatterternary": [
           {
            "marker": {
             "colorbar": {
              "outlinewidth": 0,
              "ticks": ""
             }
            },
            "type": "scatterternary"
           }
          ],
          "surface": [
           {
            "colorbar": {
             "outlinewidth": 0,
             "ticks": ""
            },
            "colorscale": [
             [
              0,
              "#0d0887"
             ],
             [
              0.1111111111111111,
              "#46039f"
             ],
             [
              0.2222222222222222,
              "#7201a8"
             ],
             [
              0.3333333333333333,
              "#9c179e"
             ],
             [
              0.4444444444444444,
              "#bd3786"
             ],
             [
              0.5555555555555556,
              "#d8576b"
             ],
             [
              0.6666666666666666,
              "#ed7953"
             ],
             [
              0.7777777777777778,
              "#fb9f3a"
             ],
             [
              0.8888888888888888,
              "#fdca26"
             ],
             [
              1,
              "#f0f921"
             ]
            ],
            "type": "surface"
           }
          ],
          "table": [
           {
            "cells": {
             "fill": {
              "color": "#EBF0F8"
             },
             "line": {
              "color": "white"
             }
            },
            "header": {
             "fill": {
              "color": "#C8D4E3"
             },
             "line": {
              "color": "white"
             }
            },
            "type": "table"
           }
          ]
         },
         "layout": {
          "annotationdefaults": {
           "arrowcolor": "#2a3f5f",
           "arrowhead": 0,
           "arrowwidth": 1
          },
          "autotypenumbers": "strict",
          "coloraxis": {
           "colorbar": {
            "outlinewidth": 0,
            "ticks": ""
           }
          },
          "colorscale": {
           "diverging": [
            [
             0,
             "#8e0152"
            ],
            [
             0.1,
             "#c51b7d"
            ],
            [
             0.2,
             "#de77ae"
            ],
            [
             0.3,
             "#f1b6da"
            ],
            [
             0.4,
             "#fde0ef"
            ],
            [
             0.5,
             "#f7f7f7"
            ],
            [
             0.6,
             "#e6f5d0"
            ],
            [
             0.7,
             "#b8e186"
            ],
            [
             0.8,
             "#7fbc41"
            ],
            [
             0.9,
             "#4d9221"
            ],
            [
             1,
             "#276419"
            ]
           ],
           "sequential": [
            [
             0,
             "#0d0887"
            ],
            [
             0.1111111111111111,
             "#46039f"
            ],
            [
             0.2222222222222222,
             "#7201a8"
            ],
            [
             0.3333333333333333,
             "#9c179e"
            ],
            [
             0.4444444444444444,
             "#bd3786"
            ],
            [
             0.5555555555555556,
             "#d8576b"
            ],
            [
             0.6666666666666666,
             "#ed7953"
            ],
            [
             0.7777777777777778,
             "#fb9f3a"
            ],
            [
             0.8888888888888888,
             "#fdca26"
            ],
            [
             1,
             "#f0f921"
            ]
           ],
           "sequentialminus": [
            [
             0,
             "#0d0887"
            ],
            [
             0.1111111111111111,
             "#46039f"
            ],
            [
             0.2222222222222222,
             "#7201a8"
            ],
            [
             0.3333333333333333,
             "#9c179e"
            ],
            [
             0.4444444444444444,
             "#bd3786"
            ],
            [
             0.5555555555555556,
             "#d8576b"
            ],
            [
             0.6666666666666666,
             "#ed7953"
            ],
            [
             0.7777777777777778,
             "#fb9f3a"
            ],
            [
             0.8888888888888888,
             "#fdca26"
            ],
            [
             1,
             "#f0f921"
            ]
           ]
          },
          "colorway": [
           "#636efa",
           "#EF553B",
           "#00cc96",
           "#ab63fa",
           "#FFA15A",
           "#19d3f3",
           "#FF6692",
           "#B6E880",
           "#FF97FF",
           "#FECB52"
          ],
          "font": {
           "color": "#2a3f5f"
          },
          "geo": {
           "bgcolor": "white",
           "lakecolor": "white",
           "landcolor": "#E5ECF6",
           "showlakes": true,
           "showland": true,
           "subunitcolor": "white"
          },
          "hoverlabel": {
           "align": "left"
          },
          "hovermode": "closest",
          "mapbox": {
           "style": "light"
          },
          "paper_bgcolor": "white",
          "plot_bgcolor": "#E5ECF6",
          "polar": {
           "angularaxis": {
            "gridcolor": "white",
            "linecolor": "white",
            "ticks": ""
           },
           "bgcolor": "#E5ECF6",
           "radialaxis": {
            "gridcolor": "white",
            "linecolor": "white",
            "ticks": ""
           }
          },
          "scene": {
           "xaxis": {
            "backgroundcolor": "#E5ECF6",
            "gridcolor": "white",
            "gridwidth": 2,
            "linecolor": "white",
            "showbackground": true,
            "ticks": "",
            "zerolinecolor": "white"
           },
           "yaxis": {
            "backgroundcolor": "#E5ECF6",
            "gridcolor": "white",
            "gridwidth": 2,
            "linecolor": "white",
            "showbackground": true,
            "ticks": "",
            "zerolinecolor": "white"
           },
           "zaxis": {
            "backgroundcolor": "#E5ECF6",
            "gridcolor": "white",
            "gridwidth": 2,
            "linecolor": "white",
            "showbackground": true,
            "ticks": "",
            "zerolinecolor": "white"
           }
          },
          "shapedefaults": {
           "line": {
            "color": "#2a3f5f"
           }
          },
          "ternary": {
           "aaxis": {
            "gridcolor": "white",
            "linecolor": "white",
            "ticks": ""
           },
           "baxis": {
            "gridcolor": "white",
            "linecolor": "white",
            "ticks": ""
           },
           "bgcolor": "#E5ECF6",
           "caxis": {
            "gridcolor": "white",
            "linecolor": "white",
            "ticks": ""
           }
          },
          "title": {
           "x": 0.05
          },
          "xaxis": {
           "automargin": true,
           "gridcolor": "white",
           "linecolor": "white",
           "ticks": "",
           "title": {
            "standoff": 15
           },
           "zerolinecolor": "white",
           "zerolinewidth": 2
          },
          "yaxis": {
           "automargin": true,
           "gridcolor": "white",
           "linecolor": "white",
           "ticks": "",
           "title": {
            "standoff": 15
           },
           "zerolinecolor": "white",
           "zerolinewidth": 2
          }
         }
        },
        "xaxis": {
         "anchor": "y",
         "domain": [
          0,
          1
         ],
         "title": {
          "text": "aged_65_older"
         }
        },
        "yaxis": {
         "anchor": "x",
         "domain": [
          0,
          1
         ],
         "title": {
          "text": "total_deaths_per_million"
         }
        }
       }
      },
      "text/html": [
       "<div>                            <div id=\"40ede5b9-0da5-4d12-8ae4-8913bec56828\" class=\"plotly-graph-div\" style=\"height:525px; width:100%;\"></div>            <script type=\"text/javascript\">                require([\"plotly\"], function(Plotly) {                    window.PLOTLYENV=window.PLOTLYENV || {};                                    if (document.getElementById(\"40ede5b9-0da5-4d12-8ae4-8913bec56828\")) {                    Plotly.newPlot(                        \"40ede5b9-0da5-4d12-8ae4-8913bec56828\",                        [{\"hovertemplate\":\"aged_65_older=%{x}<br>total_deaths_per_million=%{y}<br>color=%{marker.color}<extra></extra>\",\"legendgroup\":\"\",\"marker\":{\"color\":[3,0,4,4,0,0,2,1,1,3,0,4,4,1,3,1,0,4,4,0,2,4,0,4,2,4,4,4,4,1,4,3,4,0,4,0,4,4,0,4,2,1,2,4,1,4,4,0,3,0,4,4,1,4,4,3,1,1,4,4,2,1,4,1,0,0,4,3,3,3,4,2,1,4,4,0,4,1,0,1,0,1,4,3,4,3,4,3,3,2,0,3,4,4,2,1,3,4,4,4,4,1,4,0,0,3,2,3,2,3,4,4,0,4,1,1,4,4,4,2,1,4,3,4,0,3,0,2,3,1,1,4,2,2,4,0,0,4,4,4,4,2,0,4,1,2,1,3,0,1,1,0,3,0,1,1,3,4,0,4,4,4,0,0,0,4,2,4,1,1,1,3,3,4,4,0,3,4,4],\"coloraxis\":\"coloraxis\",\"symbol\":\"circle\"},\"mode\":\"markers\",\"name\":\"\",\"orientation\":\"v\",\"showlegend\":false,\"x\":[2.581,13.188,6.211,2.405,6.933,11.198,11.232,15.504,19.202,6.018,8.996,2.372,5.098,14.952,14.799,18.571,3.853,3.244,4.885,6.704,16.569,3.941,8.552,4.591,20.801,2.409,2.562,4.412,3.165,16.984,4.46,3.655,2.486,11.087,10.641,7.646,2.963,3.402,9.468,2.933,19.724,13.416,19.027,3.02,19.677,4.213,6.981,7.104,5.159,8.273,2.846,3.607,19.452,3.163,3.526,6.224,21.228,19.718,4.45,2.339,14.864,21.453,3.385,20.396,7.304,4.694,3.135,3.002,5.305,4.8,4.652,18.577,14.431,5.989,5.319,5.44,3.186,13.928,11.733,23.021,9.684,27.049,3.81,6.991,2.686,3.895,2.345,4.489,4.029,19.754,8.514,4.506,3.057,4.424,19.002,14.312,2.929,2.979,6.293,4.12,2.519,19.426,3.138,10.945,6.857,4.81,10.864,4.031,14.762,6.769,3.158,5.732,3.552,5.809,18.779,15.322,5.445,2.553,2.751,13.26,16.821,2.355,4.495,3.043,7.918,3.808,6.378,7.151,4.803,16.763,21.502,1.307,17.85,14.178,2.974,9.721,7.724,5.606,2.886,3.295,3.008,17.366,8.606,2.538,12.922,15.07,19.062,3.507,5.344,13.914,19.436,10.069,3.548,6.933,19.985,18.436,3.466,3.108,11.373,3.556,2.839,5.82,10.014,8.001,8.153,2.168,16.462,1.144,18.517,15.413,14.655,4.469,4.394,6.614,7.15,8.696,2.922,2.48,2.822],\"xaxis\":\"x\",\"y\":[190.183,1264.109,153.241,53.865,1556.968,2856.297,3132.202,598.417,2346.969,960.024,2031.762,1037.876,171.877,1988.312,746.516,2822.771,1695.103,12.207,26.839,1819.273,5001.964,1060.716,3196.07,501.111,5585.41,17.068,2.948,182.254,70.214,1213.752,691.211,20.254,10.946,3146.186,3.892,2734.258,192.404,64.652,1735.241,29.367,4253.217,1332.579,3962.268,14.594,1249.01,168.622,390.424,1995.444,223.425,667.572,109.259,27.958,2065.511,1183.343,61.371,944.321,1185.4,2316.119,128.087,137.473,4513.425,1843.52,43.614,3232.941,1889.063,1114.554,32.902,83.587,1583.971,73.975,1057.908,4809.525,571.194,373.333,575.79,1632.694,569.892,1601.2,1245.317,3033.683,1174.231,377.284,1251.299,982.163,105.095,99.057,601.562,451.089,100.671,3270.736,1950.546,306.181,55.444,944.902,3415.564,1768.064,47.65,131.485,1074.747,588.013,32.841,1515.115,210.509,794.165,2591.226,481.704,3631.844,627.065,4442.8,434.647,67.456,359.584,1589.389,393.452,1303.745,406.149,35.26,11.981,14.437,4568.195,774.337,1011.297,129.868,1087.222,1930.099,65.861,2890.685,6373.41,554.47,2963.685,2456.27,253.791,3417.523,2641.789,106.484,2262.72,1115.825,130.402,338.621,258.371,113.649,2509.188,1596.117,14.641,298.03,3651.309,3249.769,211.247,1708.204,563.708,2419.708,768.591,106.071,2249.024,1958.32,1609.181,12.559,12.901,459.643,102.885,32.773,112.289,2775.232,2367.815,1185.863,76.826,2969.164,248.699,3127.882,3164.807,2196.45,47.274,42.847,205.641,439.601,826.663,64.042,200.673,343.494],\"yaxis\":\"y\",\"type\":\"scatter\"}],                        {\"template\":{\"data\":{\"histogram2dcontour\":[{\"type\":\"histogram2dcontour\",\"colorbar\":{\"outlinewidth\":0,\"ticks\":\"\"},\"colorscale\":[[0.0,\"#0d0887\"],[0.1111111111111111,\"#46039f\"],[0.2222222222222222,\"#7201a8\"],[0.3333333333333333,\"#9c179e\"],[0.4444444444444444,\"#bd3786\"],[0.5555555555555556,\"#d8576b\"],[0.6666666666666666,\"#ed7953\"],[0.7777777777777778,\"#fb9f3a\"],[0.8888888888888888,\"#fdca26\"],[1.0,\"#f0f921\"]]}],\"choropleth\":[{\"type\":\"choropleth\",\"colorbar\":{\"outlinewidth\":0,\"ticks\":\"\"}}],\"histogram2d\":[{\"type\":\"histogram2d\",\"colorbar\":{\"outlinewidth\":0,\"ticks\":\"\"},\"colorscale\":[[0.0,\"#0d0887\"],[0.1111111111111111,\"#46039f\"],[0.2222222222222222,\"#7201a8\"],[0.3333333333333333,\"#9c179e\"],[0.4444444444444444,\"#bd3786\"],[0.5555555555555556,\"#d8576b\"],[0.6666666666666666,\"#ed7953\"],[0.7777777777777778,\"#fb9f3a\"],[0.8888888888888888,\"#fdca26\"],[1.0,\"#f0f921\"]]}],\"heatmap\":[{\"type\":\"heatmap\",\"colorbar\":{\"outlinewidth\":0,\"ticks\":\"\"},\"colorscale\":[[0.0,\"#0d0887\"],[0.1111111111111111,\"#46039f\"],[0.2222222222222222,\"#7201a8\"],[0.3333333333333333,\"#9c179e\"],[0.4444444444444444,\"#bd3786\"],[0.5555555555555556,\"#d8576b\"],[0.6666666666666666,\"#ed7953\"],[0.7777777777777778,\"#fb9f3a\"],[0.8888888888888888,\"#fdca26\"],[1.0,\"#f0f921\"]]}],\"heatmapgl\":[{\"type\":\"heatmapgl\",\"colorbar\":{\"outlinewidth\":0,\"ticks\":\"\"},\"colorscale\":[[0.0,\"#0d0887\"],[0.1111111111111111,\"#46039f\"],[0.2222222222222222,\"#7201a8\"],[0.3333333333333333,\"#9c179e\"],[0.4444444444444444,\"#bd3786\"],[0.5555555555555556,\"#d8576b\"],[0.6666666666666666,\"#ed7953\"],[0.7777777777777778,\"#fb9f3a\"],[0.8888888888888888,\"#fdca26\"],[1.0,\"#f0f921\"]]}],\"contourcarpet\":[{\"type\":\"contourcarpet\",\"colorbar\":{\"outlinewidth\":0,\"ticks\":\"\"}}],\"contour\":[{\"type\":\"contour\",\"colorbar\":{\"outlinewidth\":0,\"ticks\":\"\"},\"colorscale\":[[0.0,\"#0d0887\"],[0.1111111111111111,\"#46039f\"],[0.2222222222222222,\"#7201a8\"],[0.3333333333333333,\"#9c179e\"],[0.4444444444444444,\"#bd3786\"],[0.5555555555555556,\"#d8576b\"],[0.6666666666666666,\"#ed7953\"],[0.7777777777777778,\"#fb9f3a\"],[0.8888888888888888,\"#fdca26\"],[1.0,\"#f0f921\"]]}],\"surface\":[{\"type\":\"surface\",\"colorbar\":{\"outlinewidth\":0,\"ticks\":\"\"},\"colorscale\":[[0.0,\"#0d0887\"],[0.1111111111111111,\"#46039f\"],[0.2222222222222222,\"#7201a8\"],[0.3333333333333333,\"#9c179e\"],[0.4444444444444444,\"#bd3786\"],[0.5555555555555556,\"#d8576b\"],[0.6666666666666666,\"#ed7953\"],[0.7777777777777778,\"#fb9f3a\"],[0.8888888888888888,\"#fdca26\"],[1.0,\"#f0f921\"]]}],\"mesh3d\":[{\"type\":\"mesh3d\",\"colorbar\":{\"outlinewidth\":0,\"ticks\":\"\"}}],\"scatter\":[{\"fillpattern\":{\"fillmode\":\"overlay\",\"size\":10,\"solidity\":0.2},\"type\":\"scatter\"}],\"parcoords\":[{\"type\":\"parcoords\",\"line\":{\"colorbar\":{\"outlinewidth\":0,\"ticks\":\"\"}}}],\"scatterpolargl\":[{\"type\":\"scatterpolargl\",\"marker\":{\"colorbar\":{\"outlinewidth\":0,\"ticks\":\"\"}}}],\"bar\":[{\"error_x\":{\"color\":\"#2a3f5f\"},\"error_y\":{\"color\":\"#2a3f5f\"},\"marker\":{\"line\":{\"color\":\"#E5ECF6\",\"width\":0.5},\"pattern\":{\"fillmode\":\"overlay\",\"size\":10,\"solidity\":0.2}},\"type\":\"bar\"}],\"scattergeo\":[{\"type\":\"scattergeo\",\"marker\":{\"colorbar\":{\"outlinewidth\":0,\"ticks\":\"\"}}}],\"scatterpolar\":[{\"type\":\"scatterpolar\",\"marker\":{\"colorbar\":{\"outlinewidth\":0,\"ticks\":\"\"}}}],\"histogram\":[{\"marker\":{\"pattern\":{\"fillmode\":\"overlay\",\"size\":10,\"solidity\":0.2}},\"type\":\"histogram\"}],\"scattergl\":[{\"type\":\"scattergl\",\"marker\":{\"colorbar\":{\"outlinewidth\":0,\"ticks\":\"\"}}}],\"scatter3d\":[{\"type\":\"scatter3d\",\"line\":{\"colorbar\":{\"outlinewidth\":0,\"ticks\":\"\"}},\"marker\":{\"colorbar\":{\"outlinewidth\":0,\"ticks\":\"\"}}}],\"scattermapbox\":[{\"type\":\"scattermapbox\",\"marker\":{\"colorbar\":{\"outlinewidth\":0,\"ticks\":\"\"}}}],\"scatterternary\":[{\"type\":\"scatterternary\",\"marker\":{\"colorbar\":{\"outlinewidth\":0,\"ticks\":\"\"}}}],\"scattercarpet\":[{\"type\":\"scattercarpet\",\"marker\":{\"colorbar\":{\"outlinewidth\":0,\"ticks\":\"\"}}}],\"carpet\":[{\"aaxis\":{\"endlinecolor\":\"#2a3f5f\",\"gridcolor\":\"white\",\"linecolor\":\"white\",\"minorgridcolor\":\"white\",\"startlinecolor\":\"#2a3f5f\"},\"baxis\":{\"endlinecolor\":\"#2a3f5f\",\"gridcolor\":\"white\",\"linecolor\":\"white\",\"minorgridcolor\":\"white\",\"startlinecolor\":\"#2a3f5f\"},\"type\":\"carpet\"}],\"table\":[{\"cells\":{\"fill\":{\"color\":\"#EBF0F8\"},\"line\":{\"color\":\"white\"}},\"header\":{\"fill\":{\"color\":\"#C8D4E3\"},\"line\":{\"color\":\"white\"}},\"type\":\"table\"}],\"barpolar\":[{\"marker\":{\"line\":{\"color\":\"#E5ECF6\",\"width\":0.5},\"pattern\":{\"fillmode\":\"overlay\",\"size\":10,\"solidity\":0.2}},\"type\":\"barpolar\"}],\"pie\":[{\"automargin\":true,\"type\":\"pie\"}]},\"layout\":{\"autotypenumbers\":\"strict\",\"colorway\":[\"#636efa\",\"#EF553B\",\"#00cc96\",\"#ab63fa\",\"#FFA15A\",\"#19d3f3\",\"#FF6692\",\"#B6E880\",\"#FF97FF\",\"#FECB52\"],\"font\":{\"color\":\"#2a3f5f\"},\"hovermode\":\"closest\",\"hoverlabel\":{\"align\":\"left\"},\"paper_bgcolor\":\"white\",\"plot_bgcolor\":\"#E5ECF6\",\"polar\":{\"bgcolor\":\"#E5ECF6\",\"angularaxis\":{\"gridcolor\":\"white\",\"linecolor\":\"white\",\"ticks\":\"\"},\"radialaxis\":{\"gridcolor\":\"white\",\"linecolor\":\"white\",\"ticks\":\"\"}},\"ternary\":{\"bgcolor\":\"#E5ECF6\",\"aaxis\":{\"gridcolor\":\"white\",\"linecolor\":\"white\",\"ticks\":\"\"},\"baxis\":{\"gridcolor\":\"white\",\"linecolor\":\"white\",\"ticks\":\"\"},\"caxis\":{\"gridcolor\":\"white\",\"linecolor\":\"white\",\"ticks\":\"\"}},\"coloraxis\":{\"colorbar\":{\"outlinewidth\":0,\"ticks\":\"\"}},\"colorscale\":{\"sequential\":[[0.0,\"#0d0887\"],[0.1111111111111111,\"#46039f\"],[0.2222222222222222,\"#7201a8\"],[0.3333333333333333,\"#9c179e\"],[0.4444444444444444,\"#bd3786\"],[0.5555555555555556,\"#d8576b\"],[0.6666666666666666,\"#ed7953\"],[0.7777777777777778,\"#fb9f3a\"],[0.8888888888888888,\"#fdca26\"],[1.0,\"#f0f921\"]],\"sequentialminus\":[[0.0,\"#0d0887\"],[0.1111111111111111,\"#46039f\"],[0.2222222222222222,\"#7201a8\"],[0.3333333333333333,\"#9c179e\"],[0.4444444444444444,\"#bd3786\"],[0.5555555555555556,\"#d8576b\"],[0.6666666666666666,\"#ed7953\"],[0.7777777777777778,\"#fb9f3a\"],[0.8888888888888888,\"#fdca26\"],[1.0,\"#f0f921\"]],\"diverging\":[[0,\"#8e0152\"],[0.1,\"#c51b7d\"],[0.2,\"#de77ae\"],[0.3,\"#f1b6da\"],[0.4,\"#fde0ef\"],[0.5,\"#f7f7f7\"],[0.6,\"#e6f5d0\"],[0.7,\"#b8e186\"],[0.8,\"#7fbc41\"],[0.9,\"#4d9221\"],[1,\"#276419\"]]},\"xaxis\":{\"gridcolor\":\"white\",\"linecolor\":\"white\",\"ticks\":\"\",\"title\":{\"standoff\":15},\"zerolinecolor\":\"white\",\"automargin\":true,\"zerolinewidth\":2},\"yaxis\":{\"gridcolor\":\"white\",\"linecolor\":\"white\",\"ticks\":\"\",\"title\":{\"standoff\":15},\"zerolinecolor\":\"white\",\"automargin\":true,\"zerolinewidth\":2},\"scene\":{\"xaxis\":{\"backgroundcolor\":\"#E5ECF6\",\"gridcolor\":\"white\",\"linecolor\":\"white\",\"showbackground\":true,\"ticks\":\"\",\"zerolinecolor\":\"white\",\"gridwidth\":2},\"yaxis\":{\"backgroundcolor\":\"#E5ECF6\",\"gridcolor\":\"white\",\"linecolor\":\"white\",\"showbackground\":true,\"ticks\":\"\",\"zerolinecolor\":\"white\",\"gridwidth\":2},\"zaxis\":{\"backgroundcolor\":\"#E5ECF6\",\"gridcolor\":\"white\",\"linecolor\":\"white\",\"showbackground\":true,\"ticks\":\"\",\"zerolinecolor\":\"white\",\"gridwidth\":2}},\"shapedefaults\":{\"line\":{\"color\":\"#2a3f5f\"}},\"annotationdefaults\":{\"arrowcolor\":\"#2a3f5f\",\"arrowhead\":0,\"arrowwidth\":1},\"geo\":{\"bgcolor\":\"white\",\"landcolor\":\"#E5ECF6\",\"subunitcolor\":\"white\",\"showland\":true,\"showlakes\":true,\"lakecolor\":\"white\"},\"title\":{\"x\":0.05},\"mapbox\":{\"style\":\"light\"}}},\"xaxis\":{\"anchor\":\"y\",\"domain\":[0.0,1.0],\"title\":{\"text\":\"aged_65_older\"}},\"yaxis\":{\"anchor\":\"x\",\"domain\":[0.0,1.0],\"title\":{\"text\":\"total_deaths_per_million\"}},\"coloraxis\":{\"colorbar\":{\"title\":{\"text\":\"color\"}},\"colorscale\":[[0.0,\"#0d0887\"],[0.1111111111111111,\"#46039f\"],[0.2222222222222222,\"#7201a8\"],[0.3333333333333333,\"#9c179e\"],[0.4444444444444444,\"#bd3786\"],[0.5555555555555556,\"#d8576b\"],[0.6666666666666666,\"#ed7953\"],[0.7777777777777778,\"#fb9f3a\"],[0.8888888888888888,\"#fdca26\"],[1.0,\"#f0f921\"]]},\"legend\":{\"tracegroupgap\":0},\"margin\":{\"t\":60}},                        {\"responsive\": true}                    ).then(function(){\n",
       "                            \n",
       "var gd = document.getElementById('40ede5b9-0da5-4d12-8ae4-8913bec56828');\n",
       "var x = new MutationObserver(function (mutations, observer) {{\n",
       "        var display = window.getComputedStyle(gd).display;\n",
       "        if (!display || display === 'none') {{\n",
       "            console.log([gd, 'removed!']);\n",
       "            Plotly.purge(gd);\n",
       "            observer.disconnect();\n",
       "        }}\n",
       "}});\n",
       "\n",
       "// Listen for the removal of the full notebook cells\n",
       "var notebookContainer = gd.closest('#notebook-container');\n",
       "if (notebookContainer) {{\n",
       "    x.observe(notebookContainer, {childList: true});\n",
       "}}\n",
       "\n",
       "// Listen for the clearing of the current output cell\n",
       "var outputEl = gd.closest('.output');\n",
       "if (outputEl) {{\n",
       "    x.observe(outputEl, {childList: true});\n",
       "}}\n",
       "\n",
       "                        })                };                });            </script>        </div>"
      ]
     },
     "metadata": {},
     "output_type": "display_data"
    }
   ],
   "source": [
    "fig = px.scatter(Z, x=\"aged_65_older\", y=\"total_deaths_per_million\", color = kmeans5.labels_)\n",
    "fig.show()"
   ]
  },
  {
   "cell_type": "code",
   "execution_count": 88,
   "id": "2c19f76e",
   "metadata": {},
   "outputs": [
    {
     "data": {
      "application/vnd.plotly.v1+json": {
       "config": {
        "plotlyServerURL": "https://plot.ly"
       },
       "data": [
        {
         "hovertemplate": "cardiovasc_death_rate=%{x}<br>total_deaths_per_million=%{y}<br>color=%{marker.color}<extra></extra>",
         "legendgroup": "",
         "marker": {
          "color": [
           3,
           0,
           4,
           4,
           0,
           0,
           2,
           1,
           1,
           3,
           0,
           4,
           4,
           1,
           3,
           1,
           0,
           4,
           4,
           0,
           2,
           4,
           0,
           4,
           2,
           4,
           4,
           4,
           4,
           1,
           4,
           3,
           4,
           0,
           4,
           0,
           4,
           4,
           0,
           4,
           2,
           1,
           2,
           4,
           1,
           4,
           4,
           0,
           3,
           0,
           4,
           4,
           1,
           4,
           4,
           3,
           1,
           1,
           4,
           4,
           2,
           1,
           4,
           1,
           0,
           0,
           4,
           3,
           3,
           3,
           4,
           2,
           1,
           4,
           4,
           0,
           4,
           1,
           0,
           1,
           0,
           1,
           4,
           3,
           4,
           3,
           4,
           3,
           3,
           2,
           0,
           3,
           4,
           4,
           2,
           1,
           3,
           4,
           4,
           4,
           4,
           1,
           4,
           0,
           0,
           3,
           2,
           3,
           2,
           3,
           4,
           4,
           0,
           4,
           1,
           1,
           4,
           4,
           4,
           2,
           1,
           4,
           3,
           4,
           0,
           3,
           0,
           2,
           3,
           1,
           1,
           4,
           2,
           2,
           4,
           0,
           0,
           4,
           4,
           4,
           4,
           2,
           0,
           4,
           1,
           2,
           1,
           3,
           0,
           1,
           1,
           0,
           3,
           0,
           1,
           1,
           3,
           4,
           0,
           4,
           4,
           4,
           0,
           0,
           0,
           4,
           2,
           4,
           1,
           1,
           1,
           3,
           3,
           4,
           4,
           0,
           3,
           4,
           4
          ],
          "coloraxis": "coloraxis",
          "symbol": "circle"
         },
         "mode": "markers",
         "name": "",
         "orientation": "v",
         "showlegend": false,
         "type": "scatter",
         "x": [
          597.029,
          304.195,
          278.364,
          276.045,
          191.511,
          191.032,
          341.01,
          107.791,
          145.183,
          559.812,
          235.954,
          151.689,
          298.003,
          170.05,
          443.129,
          114.898,
          176.957,
          235.848,
          217.066,
          204.299,
          329.635,
          237.372,
          177.961,
          201.285,
          424.688,
          269.048,
          293.068,
          270.892,
          244.661,
          105.599,
          182.219,
          435.727,
          280.995,
          127.993,
          261.899,
          124.24,
          261.516,
          344.094,
          137.973,
          303.74,
          253.782,
          141.171,
          227.485,
          318.949,
          114.767,
          258.037,
          266.653,
          140.448,
          525.432,
          167.295,
          202.812,
          311.11,
          255.569,
          333.436,
          182.634,
          412.82,
          153.507,
          86.06,
          259.967,
          331.43,
          496.218,
          156.139,
          298.245,
          175.695,
          243.964,
          155.898,
          336.717,
          382.474,
          373.159,
          430.548,
          240.208,
          278.296,
          117.992,
          282.28,
          342.864,
          270.308,
          218.612,
          126.459,
          93.32,
          113.151,
          206.537,
          79.37,
          208.257,
          466.792,
          218.637,
          434.657,
          132.235,
          436.362,
          368.111,
          350.06,
          266.591,
          405.126,
          272.509,
          341.862,
          342.989,
          128.275,
          405.994,
          227.349,
          260.942,
          164.905,
          268.024,
          168.711,
          232.347,
          224.644,
          152.783,
          454.343,
          408.502,
          460.043,
          387.305,
          419.146,
          329.942,
          202.104,
          243.811,
          260.797,
          109.361,
          128.797,
          137.016,
          238.339,
          181.013,
          322.688,
          114.316,
          266.342,
          423.031,
          265.91,
          128.346,
          561.494,
          199.128,
          85.755,
          370.437,
          227.331,
          127.842,
          176.69,
          370.946,
          431.297,
          191.375,
          204.62,
          252.675,
          348.977,
          270.113,
          259.538,
          241.219,
          439.415,
          242.648,
          325.721,
          92.243,
          287.959,
          153.493,
          459.78,
          200.38,
          85.998,
          99.403,
          197.093,
          431.388,
          258.314,
          133.982,
          99.739,
          427.698,
          217.288,
          109.861,
          335.346,
          280.033,
          227.49,
          228.467,
          318.991,
          171.285,
          213.333,
          539.849,
          317.84,
          122.137,
          151.089,
          160.708,
          724.417,
          546.3,
          204.85,
          245.465,
          233.07,
          495.003,
          234.499,
          307.846
         ],
         "xaxis": "x",
         "y": [
          190.183,
          1264.109,
          153.241,
          53.865,
          1556.968,
          2856.297,
          3132.202,
          598.417,
          2346.969,
          960.024,
          2031.762,
          1037.876,
          171.877,
          1988.312,
          746.516,
          2822.771,
          1695.103,
          12.207,
          26.839,
          1819.273,
          5001.964,
          1060.716,
          3196.07,
          501.111,
          5585.41,
          17.068,
          2.948,
          182.254,
          70.214,
          1213.752,
          691.211,
          20.254,
          10.946,
          3146.186,
          3.892,
          2734.258,
          192.404,
          64.652,
          1735.241,
          29.367,
          4253.217,
          1332.579,
          3962.268,
          14.594,
          1249.01,
          168.622,
          390.424,
          1995.444,
          223.425,
          667.572,
          109.259,
          27.958,
          2065.511,
          1183.343,
          61.371,
          944.321,
          1185.4,
          2316.119,
          128.087,
          137.473,
          4513.425,
          1843.52,
          43.614,
          3232.941,
          1889.063,
          1114.554,
          32.902,
          83.587,
          1583.971,
          73.975,
          1057.908,
          4809.525,
          571.194,
          373.333,
          575.79,
          1632.694,
          569.892,
          1601.2,
          1245.317,
          3033.683,
          1174.231,
          377.284,
          1251.299,
          982.163,
          105.095,
          99.057,
          601.562,
          451.089,
          100.671,
          3270.736,
          1950.546,
          306.181,
          55.444,
          944.902,
          3415.564,
          1768.064,
          47.65,
          131.485,
          1074.747,
          588.013,
          32.841,
          1515.115,
          210.509,
          794.165,
          2591.226,
          481.704,
          3631.844,
          627.065,
          4442.8,
          434.647,
          67.456,
          359.584,
          1589.389,
          393.452,
          1303.745,
          406.149,
          35.26,
          11.981,
          14.437,
          4568.195,
          774.337,
          1011.297,
          129.868,
          1087.222,
          1930.099,
          65.861,
          2890.685,
          6373.41,
          554.47,
          2963.685,
          2456.27,
          253.791,
          3417.523,
          2641.789,
          106.484,
          2262.72,
          1115.825,
          130.402,
          338.621,
          258.371,
          113.649,
          2509.188,
          1596.117,
          14.641,
          298.03,
          3651.309,
          3249.769,
          211.247,
          1708.204,
          563.708,
          2419.708,
          768.591,
          106.071,
          2249.024,
          1958.32,
          1609.181,
          12.559,
          12.901,
          459.643,
          102.885,
          32.773,
          112.289,
          2775.232,
          2367.815,
          1185.863,
          76.826,
          2969.164,
          248.699,
          3127.882,
          3164.807,
          2196.45,
          47.274,
          42.847,
          205.641,
          439.601,
          826.663,
          64.042,
          200.673,
          343.494
         ],
         "yaxis": "y"
        }
       ],
       "layout": {
        "coloraxis": {
         "colorbar": {
          "title": {
           "text": "color"
          }
         },
         "colorscale": [
          [
           0,
           "#0d0887"
          ],
          [
           0.1111111111111111,
           "#46039f"
          ],
          [
           0.2222222222222222,
           "#7201a8"
          ],
          [
           0.3333333333333333,
           "#9c179e"
          ],
          [
           0.4444444444444444,
           "#bd3786"
          ],
          [
           0.5555555555555556,
           "#d8576b"
          ],
          [
           0.6666666666666666,
           "#ed7953"
          ],
          [
           0.7777777777777778,
           "#fb9f3a"
          ],
          [
           0.8888888888888888,
           "#fdca26"
          ],
          [
           1,
           "#f0f921"
          ]
         ]
        },
        "legend": {
         "tracegroupgap": 0
        },
        "margin": {
         "t": 60
        },
        "template": {
         "data": {
          "bar": [
           {
            "error_x": {
             "color": "#2a3f5f"
            },
            "error_y": {
             "color": "#2a3f5f"
            },
            "marker": {
             "line": {
              "color": "#E5ECF6",
              "width": 0.5
             },
             "pattern": {
              "fillmode": "overlay",
              "size": 10,
              "solidity": 0.2
             }
            },
            "type": "bar"
           }
          ],
          "barpolar": [
           {
            "marker": {
             "line": {
              "color": "#E5ECF6",
              "width": 0.5
             },
             "pattern": {
              "fillmode": "overlay",
              "size": 10,
              "solidity": 0.2
             }
            },
            "type": "barpolar"
           }
          ],
          "carpet": [
           {
            "aaxis": {
             "endlinecolor": "#2a3f5f",
             "gridcolor": "white",
             "linecolor": "white",
             "minorgridcolor": "white",
             "startlinecolor": "#2a3f5f"
            },
            "baxis": {
             "endlinecolor": "#2a3f5f",
             "gridcolor": "white",
             "linecolor": "white",
             "minorgridcolor": "white",
             "startlinecolor": "#2a3f5f"
            },
            "type": "carpet"
           }
          ],
          "choropleth": [
           {
            "colorbar": {
             "outlinewidth": 0,
             "ticks": ""
            },
            "type": "choropleth"
           }
          ],
          "contour": [
           {
            "colorbar": {
             "outlinewidth": 0,
             "ticks": ""
            },
            "colorscale": [
             [
              0,
              "#0d0887"
             ],
             [
              0.1111111111111111,
              "#46039f"
             ],
             [
              0.2222222222222222,
              "#7201a8"
             ],
             [
              0.3333333333333333,
              "#9c179e"
             ],
             [
              0.4444444444444444,
              "#bd3786"
             ],
             [
              0.5555555555555556,
              "#d8576b"
             ],
             [
              0.6666666666666666,
              "#ed7953"
             ],
             [
              0.7777777777777778,
              "#fb9f3a"
             ],
             [
              0.8888888888888888,
              "#fdca26"
             ],
             [
              1,
              "#f0f921"
             ]
            ],
            "type": "contour"
           }
          ],
          "contourcarpet": [
           {
            "colorbar": {
             "outlinewidth": 0,
             "ticks": ""
            },
            "type": "contourcarpet"
           }
          ],
          "heatmap": [
           {
            "colorbar": {
             "outlinewidth": 0,
             "ticks": ""
            },
            "colorscale": [
             [
              0,
              "#0d0887"
             ],
             [
              0.1111111111111111,
              "#46039f"
             ],
             [
              0.2222222222222222,
              "#7201a8"
             ],
             [
              0.3333333333333333,
              "#9c179e"
             ],
             [
              0.4444444444444444,
              "#bd3786"
             ],
             [
              0.5555555555555556,
              "#d8576b"
             ],
             [
              0.6666666666666666,
              "#ed7953"
             ],
             [
              0.7777777777777778,
              "#fb9f3a"
             ],
             [
              0.8888888888888888,
              "#fdca26"
             ],
             [
              1,
              "#f0f921"
             ]
            ],
            "type": "heatmap"
           }
          ],
          "heatmapgl": [
           {
            "colorbar": {
             "outlinewidth": 0,
             "ticks": ""
            },
            "colorscale": [
             [
              0,
              "#0d0887"
             ],
             [
              0.1111111111111111,
              "#46039f"
             ],
             [
              0.2222222222222222,
              "#7201a8"
             ],
             [
              0.3333333333333333,
              "#9c179e"
             ],
             [
              0.4444444444444444,
              "#bd3786"
             ],
             [
              0.5555555555555556,
              "#d8576b"
             ],
             [
              0.6666666666666666,
              "#ed7953"
             ],
             [
              0.7777777777777778,
              "#fb9f3a"
             ],
             [
              0.8888888888888888,
              "#fdca26"
             ],
             [
              1,
              "#f0f921"
             ]
            ],
            "type": "heatmapgl"
           }
          ],
          "histogram": [
           {
            "marker": {
             "pattern": {
              "fillmode": "overlay",
              "size": 10,
              "solidity": 0.2
             }
            },
            "type": "histogram"
           }
          ],
          "histogram2d": [
           {
            "colorbar": {
             "outlinewidth": 0,
             "ticks": ""
            },
            "colorscale": [
             [
              0,
              "#0d0887"
             ],
             [
              0.1111111111111111,
              "#46039f"
             ],
             [
              0.2222222222222222,
              "#7201a8"
             ],
             [
              0.3333333333333333,
              "#9c179e"
             ],
             [
              0.4444444444444444,
              "#bd3786"
             ],
             [
              0.5555555555555556,
              "#d8576b"
             ],
             [
              0.6666666666666666,
              "#ed7953"
             ],
             [
              0.7777777777777778,
              "#fb9f3a"
             ],
             [
              0.8888888888888888,
              "#fdca26"
             ],
             [
              1,
              "#f0f921"
             ]
            ],
            "type": "histogram2d"
           }
          ],
          "histogram2dcontour": [
           {
            "colorbar": {
             "outlinewidth": 0,
             "ticks": ""
            },
            "colorscale": [
             [
              0,
              "#0d0887"
             ],
             [
              0.1111111111111111,
              "#46039f"
             ],
             [
              0.2222222222222222,
              "#7201a8"
             ],
             [
              0.3333333333333333,
              "#9c179e"
             ],
             [
              0.4444444444444444,
              "#bd3786"
             ],
             [
              0.5555555555555556,
              "#d8576b"
             ],
             [
              0.6666666666666666,
              "#ed7953"
             ],
             [
              0.7777777777777778,
              "#fb9f3a"
             ],
             [
              0.8888888888888888,
              "#fdca26"
             ],
             [
              1,
              "#f0f921"
             ]
            ],
            "type": "histogram2dcontour"
           }
          ],
          "mesh3d": [
           {
            "colorbar": {
             "outlinewidth": 0,
             "ticks": ""
            },
            "type": "mesh3d"
           }
          ],
          "parcoords": [
           {
            "line": {
             "colorbar": {
              "outlinewidth": 0,
              "ticks": ""
             }
            },
            "type": "parcoords"
           }
          ],
          "pie": [
           {
            "automargin": true,
            "type": "pie"
           }
          ],
          "scatter": [
           {
            "fillpattern": {
             "fillmode": "overlay",
             "size": 10,
             "solidity": 0.2
            },
            "type": "scatter"
           }
          ],
          "scatter3d": [
           {
            "line": {
             "colorbar": {
              "outlinewidth": 0,
              "ticks": ""
             }
            },
            "marker": {
             "colorbar": {
              "outlinewidth": 0,
              "ticks": ""
             }
            },
            "type": "scatter3d"
           }
          ],
          "scattercarpet": [
           {
            "marker": {
             "colorbar": {
              "outlinewidth": 0,
              "ticks": ""
             }
            },
            "type": "scattercarpet"
           }
          ],
          "scattergeo": [
           {
            "marker": {
             "colorbar": {
              "outlinewidth": 0,
              "ticks": ""
             }
            },
            "type": "scattergeo"
           }
          ],
          "scattergl": [
           {
            "marker": {
             "colorbar": {
              "outlinewidth": 0,
              "ticks": ""
             }
            },
            "type": "scattergl"
           }
          ],
          "scattermapbox": [
           {
            "marker": {
             "colorbar": {
              "outlinewidth": 0,
              "ticks": ""
             }
            },
            "type": "scattermapbox"
           }
          ],
          "scatterpolar": [
           {
            "marker": {
             "colorbar": {
              "outlinewidth": 0,
              "ticks": ""
             }
            },
            "type": "scatterpolar"
           }
          ],
          "scatterpolargl": [
           {
            "marker": {
             "colorbar": {
              "outlinewidth": 0,
              "ticks": ""
             }
            },
            "type": "scatterpolargl"
           }
          ],
          "scatterternary": [
           {
            "marker": {
             "colorbar": {
              "outlinewidth": 0,
              "ticks": ""
             }
            },
            "type": "scatterternary"
           }
          ],
          "surface": [
           {
            "colorbar": {
             "outlinewidth": 0,
             "ticks": ""
            },
            "colorscale": [
             [
              0,
              "#0d0887"
             ],
             [
              0.1111111111111111,
              "#46039f"
             ],
             [
              0.2222222222222222,
              "#7201a8"
             ],
             [
              0.3333333333333333,
              "#9c179e"
             ],
             [
              0.4444444444444444,
              "#bd3786"
             ],
             [
              0.5555555555555556,
              "#d8576b"
             ],
             [
              0.6666666666666666,
              "#ed7953"
             ],
             [
              0.7777777777777778,
              "#fb9f3a"
             ],
             [
              0.8888888888888888,
              "#fdca26"
             ],
             [
              1,
              "#f0f921"
             ]
            ],
            "type": "surface"
           }
          ],
          "table": [
           {
            "cells": {
             "fill": {
              "color": "#EBF0F8"
             },
             "line": {
              "color": "white"
             }
            },
            "header": {
             "fill": {
              "color": "#C8D4E3"
             },
             "line": {
              "color": "white"
             }
            },
            "type": "table"
           }
          ]
         },
         "layout": {
          "annotationdefaults": {
           "arrowcolor": "#2a3f5f",
           "arrowhead": 0,
           "arrowwidth": 1
          },
          "autotypenumbers": "strict",
          "coloraxis": {
           "colorbar": {
            "outlinewidth": 0,
            "ticks": ""
           }
          },
          "colorscale": {
           "diverging": [
            [
             0,
             "#8e0152"
            ],
            [
             0.1,
             "#c51b7d"
            ],
            [
             0.2,
             "#de77ae"
            ],
            [
             0.3,
             "#f1b6da"
            ],
            [
             0.4,
             "#fde0ef"
            ],
            [
             0.5,
             "#f7f7f7"
            ],
            [
             0.6,
             "#e6f5d0"
            ],
            [
             0.7,
             "#b8e186"
            ],
            [
             0.8,
             "#7fbc41"
            ],
            [
             0.9,
             "#4d9221"
            ],
            [
             1,
             "#276419"
            ]
           ],
           "sequential": [
            [
             0,
             "#0d0887"
            ],
            [
             0.1111111111111111,
             "#46039f"
            ],
            [
             0.2222222222222222,
             "#7201a8"
            ],
            [
             0.3333333333333333,
             "#9c179e"
            ],
            [
             0.4444444444444444,
             "#bd3786"
            ],
            [
             0.5555555555555556,
             "#d8576b"
            ],
            [
             0.6666666666666666,
             "#ed7953"
            ],
            [
             0.7777777777777778,
             "#fb9f3a"
            ],
            [
             0.8888888888888888,
             "#fdca26"
            ],
            [
             1,
             "#f0f921"
            ]
           ],
           "sequentialminus": [
            [
             0,
             "#0d0887"
            ],
            [
             0.1111111111111111,
             "#46039f"
            ],
            [
             0.2222222222222222,
             "#7201a8"
            ],
            [
             0.3333333333333333,
             "#9c179e"
            ],
            [
             0.4444444444444444,
             "#bd3786"
            ],
            [
             0.5555555555555556,
             "#d8576b"
            ],
            [
             0.6666666666666666,
             "#ed7953"
            ],
            [
             0.7777777777777778,
             "#fb9f3a"
            ],
            [
             0.8888888888888888,
             "#fdca26"
            ],
            [
             1,
             "#f0f921"
            ]
           ]
          },
          "colorway": [
           "#636efa",
           "#EF553B",
           "#00cc96",
           "#ab63fa",
           "#FFA15A",
           "#19d3f3",
           "#FF6692",
           "#B6E880",
           "#FF97FF",
           "#FECB52"
          ],
          "font": {
           "color": "#2a3f5f"
          },
          "geo": {
           "bgcolor": "white",
           "lakecolor": "white",
           "landcolor": "#E5ECF6",
           "showlakes": true,
           "showland": true,
           "subunitcolor": "white"
          },
          "hoverlabel": {
           "align": "left"
          },
          "hovermode": "closest",
          "mapbox": {
           "style": "light"
          },
          "paper_bgcolor": "white",
          "plot_bgcolor": "#E5ECF6",
          "polar": {
           "angularaxis": {
            "gridcolor": "white",
            "linecolor": "white",
            "ticks": ""
           },
           "bgcolor": "#E5ECF6",
           "radialaxis": {
            "gridcolor": "white",
            "linecolor": "white",
            "ticks": ""
           }
          },
          "scene": {
           "xaxis": {
            "backgroundcolor": "#E5ECF6",
            "gridcolor": "white",
            "gridwidth": 2,
            "linecolor": "white",
            "showbackground": true,
            "ticks": "",
            "zerolinecolor": "white"
           },
           "yaxis": {
            "backgroundcolor": "#E5ECF6",
            "gridcolor": "white",
            "gridwidth": 2,
            "linecolor": "white",
            "showbackground": true,
            "ticks": "",
            "zerolinecolor": "white"
           },
           "zaxis": {
            "backgroundcolor": "#E5ECF6",
            "gridcolor": "white",
            "gridwidth": 2,
            "linecolor": "white",
            "showbackground": true,
            "ticks": "",
            "zerolinecolor": "white"
           }
          },
          "shapedefaults": {
           "line": {
            "color": "#2a3f5f"
           }
          },
          "ternary": {
           "aaxis": {
            "gridcolor": "white",
            "linecolor": "white",
            "ticks": ""
           },
           "baxis": {
            "gridcolor": "white",
            "linecolor": "white",
            "ticks": ""
           },
           "bgcolor": "#E5ECF6",
           "caxis": {
            "gridcolor": "white",
            "linecolor": "white",
            "ticks": ""
           }
          },
          "title": {
           "x": 0.05
          },
          "xaxis": {
           "automargin": true,
           "gridcolor": "white",
           "linecolor": "white",
           "ticks": "",
           "title": {
            "standoff": 15
           },
           "zerolinecolor": "white",
           "zerolinewidth": 2
          },
          "yaxis": {
           "automargin": true,
           "gridcolor": "white",
           "linecolor": "white",
           "ticks": "",
           "title": {
            "standoff": 15
           },
           "zerolinecolor": "white",
           "zerolinewidth": 2
          }
         }
        },
        "xaxis": {
         "anchor": "y",
         "domain": [
          0,
          1
         ],
         "title": {
          "text": "cardiovasc_death_rate"
         }
        },
        "yaxis": {
         "anchor": "x",
         "domain": [
          0,
          1
         ],
         "title": {
          "text": "total_deaths_per_million"
         }
        }
       }
      },
      "text/html": [
       "<div>                            <div id=\"e24453b1-c8f1-4e29-b2a1-9889e56d07e5\" class=\"plotly-graph-div\" style=\"height:525px; width:100%;\"></div>            <script type=\"text/javascript\">                require([\"plotly\"], function(Plotly) {                    window.PLOTLYENV=window.PLOTLYENV || {};                                    if (document.getElementById(\"e24453b1-c8f1-4e29-b2a1-9889e56d07e5\")) {                    Plotly.newPlot(                        \"e24453b1-c8f1-4e29-b2a1-9889e56d07e5\",                        [{\"hovertemplate\":\"cardiovasc_death_rate=%{x}<br>total_deaths_per_million=%{y}<br>color=%{marker.color}<extra></extra>\",\"legendgroup\":\"\",\"marker\":{\"color\":[3,0,4,4,0,0,2,1,1,3,0,4,4,1,3,1,0,4,4,0,2,4,0,4,2,4,4,4,4,1,4,3,4,0,4,0,4,4,0,4,2,1,2,4,1,4,4,0,3,0,4,4,1,4,4,3,1,1,4,4,2,1,4,1,0,0,4,3,3,3,4,2,1,4,4,0,4,1,0,1,0,1,4,3,4,3,4,3,3,2,0,3,4,4,2,1,3,4,4,4,4,1,4,0,0,3,2,3,2,3,4,4,0,4,1,1,4,4,4,2,1,4,3,4,0,3,0,2,3,1,1,4,2,2,4,0,0,4,4,4,4,2,0,4,1,2,1,3,0,1,1,0,3,0,1,1,3,4,0,4,4,4,0,0,0,4,2,4,1,1,1,3,3,4,4,0,3,4,4],\"coloraxis\":\"coloraxis\",\"symbol\":\"circle\"},\"mode\":\"markers\",\"name\":\"\",\"orientation\":\"v\",\"showlegend\":false,\"x\":[597.029,304.195,278.364,276.045,191.511,191.032,341.01,107.791,145.183,559.812,235.954,151.689,298.003,170.05,443.129,114.898,176.957,235.848,217.066,204.299,329.635,237.372,177.961,201.285,424.688,269.048,293.068,270.892,244.661,105.599,182.219,435.727,280.995,127.993,261.899,124.24,261.516,344.094,137.973,303.74,253.782,141.171,227.485,318.949,114.767,258.037,266.653,140.448,525.432,167.295,202.812,311.11,255.569,333.436,182.634,412.82,153.507,86.06,259.967,331.43,496.218,156.139,298.245,175.695,243.964,155.898,336.717,382.474,373.159,430.548,240.208,278.296,117.992,282.28,342.864,270.308,218.612,126.459,93.32,113.151,206.537,79.37,208.257,466.792,218.637,434.657,132.235,436.362,368.111,350.06,266.591,405.126,272.509,341.862,342.989,128.275,405.994,227.349,260.942,164.905,268.024,168.711,232.347,224.644,152.783,454.343,408.502,460.043,387.305,419.146,329.942,202.104,243.811,260.797,109.361,128.797,137.016,238.339,181.013,322.688,114.316,266.342,423.031,265.91,128.346,561.494,199.128,85.755,370.437,227.331,127.842,176.69,370.946,431.297,191.375,204.62,252.675,348.977,270.113,259.538,241.219,439.415,242.648,325.721,92.243,287.959,153.493,459.78,200.38,85.998,99.403,197.093,431.388,258.314,133.982,99.739,427.698,217.288,109.861,335.346,280.033,227.49,228.467,318.991,171.285,213.333,539.849,317.84,122.137,151.089,160.708,724.417,546.3,204.85,245.465,233.07,495.003,234.499,307.846],\"xaxis\":\"x\",\"y\":[190.183,1264.109,153.241,53.865,1556.968,2856.297,3132.202,598.417,2346.969,960.024,2031.762,1037.876,171.877,1988.312,746.516,2822.771,1695.103,12.207,26.839,1819.273,5001.964,1060.716,3196.07,501.111,5585.41,17.068,2.948,182.254,70.214,1213.752,691.211,20.254,10.946,3146.186,3.892,2734.258,192.404,64.652,1735.241,29.367,4253.217,1332.579,3962.268,14.594,1249.01,168.622,390.424,1995.444,223.425,667.572,109.259,27.958,2065.511,1183.343,61.371,944.321,1185.4,2316.119,128.087,137.473,4513.425,1843.52,43.614,3232.941,1889.063,1114.554,32.902,83.587,1583.971,73.975,1057.908,4809.525,571.194,373.333,575.79,1632.694,569.892,1601.2,1245.317,3033.683,1174.231,377.284,1251.299,982.163,105.095,99.057,601.562,451.089,100.671,3270.736,1950.546,306.181,55.444,944.902,3415.564,1768.064,47.65,131.485,1074.747,588.013,32.841,1515.115,210.509,794.165,2591.226,481.704,3631.844,627.065,4442.8,434.647,67.456,359.584,1589.389,393.452,1303.745,406.149,35.26,11.981,14.437,4568.195,774.337,1011.297,129.868,1087.222,1930.099,65.861,2890.685,6373.41,554.47,2963.685,2456.27,253.791,3417.523,2641.789,106.484,2262.72,1115.825,130.402,338.621,258.371,113.649,2509.188,1596.117,14.641,298.03,3651.309,3249.769,211.247,1708.204,563.708,2419.708,768.591,106.071,2249.024,1958.32,1609.181,12.559,12.901,459.643,102.885,32.773,112.289,2775.232,2367.815,1185.863,76.826,2969.164,248.699,3127.882,3164.807,2196.45,47.274,42.847,205.641,439.601,826.663,64.042,200.673,343.494],\"yaxis\":\"y\",\"type\":\"scatter\"}],                        {\"template\":{\"data\":{\"histogram2dcontour\":[{\"type\":\"histogram2dcontour\",\"colorbar\":{\"outlinewidth\":0,\"ticks\":\"\"},\"colorscale\":[[0.0,\"#0d0887\"],[0.1111111111111111,\"#46039f\"],[0.2222222222222222,\"#7201a8\"],[0.3333333333333333,\"#9c179e\"],[0.4444444444444444,\"#bd3786\"],[0.5555555555555556,\"#d8576b\"],[0.6666666666666666,\"#ed7953\"],[0.7777777777777778,\"#fb9f3a\"],[0.8888888888888888,\"#fdca26\"],[1.0,\"#f0f921\"]]}],\"choropleth\":[{\"type\":\"choropleth\",\"colorbar\":{\"outlinewidth\":0,\"ticks\":\"\"}}],\"histogram2d\":[{\"type\":\"histogram2d\",\"colorbar\":{\"outlinewidth\":0,\"ticks\":\"\"},\"colorscale\":[[0.0,\"#0d0887\"],[0.1111111111111111,\"#46039f\"],[0.2222222222222222,\"#7201a8\"],[0.3333333333333333,\"#9c179e\"],[0.4444444444444444,\"#bd3786\"],[0.5555555555555556,\"#d8576b\"],[0.6666666666666666,\"#ed7953\"],[0.7777777777777778,\"#fb9f3a\"],[0.8888888888888888,\"#fdca26\"],[1.0,\"#f0f921\"]]}],\"heatmap\":[{\"type\":\"heatmap\",\"colorbar\":{\"outlinewidth\":0,\"ticks\":\"\"},\"colorscale\":[[0.0,\"#0d0887\"],[0.1111111111111111,\"#46039f\"],[0.2222222222222222,\"#7201a8\"],[0.3333333333333333,\"#9c179e\"],[0.4444444444444444,\"#bd3786\"],[0.5555555555555556,\"#d8576b\"],[0.6666666666666666,\"#ed7953\"],[0.7777777777777778,\"#fb9f3a\"],[0.8888888888888888,\"#fdca26\"],[1.0,\"#f0f921\"]]}],\"heatmapgl\":[{\"type\":\"heatmapgl\",\"colorbar\":{\"outlinewidth\":0,\"ticks\":\"\"},\"colorscale\":[[0.0,\"#0d0887\"],[0.1111111111111111,\"#46039f\"],[0.2222222222222222,\"#7201a8\"],[0.3333333333333333,\"#9c179e\"],[0.4444444444444444,\"#bd3786\"],[0.5555555555555556,\"#d8576b\"],[0.6666666666666666,\"#ed7953\"],[0.7777777777777778,\"#fb9f3a\"],[0.8888888888888888,\"#fdca26\"],[1.0,\"#f0f921\"]]}],\"contourcarpet\":[{\"type\":\"contourcarpet\",\"colorbar\":{\"outlinewidth\":0,\"ticks\":\"\"}}],\"contour\":[{\"type\":\"contour\",\"colorbar\":{\"outlinewidth\":0,\"ticks\":\"\"},\"colorscale\":[[0.0,\"#0d0887\"],[0.1111111111111111,\"#46039f\"],[0.2222222222222222,\"#7201a8\"],[0.3333333333333333,\"#9c179e\"],[0.4444444444444444,\"#bd3786\"],[0.5555555555555556,\"#d8576b\"],[0.6666666666666666,\"#ed7953\"],[0.7777777777777778,\"#fb9f3a\"],[0.8888888888888888,\"#fdca26\"],[1.0,\"#f0f921\"]]}],\"surface\":[{\"type\":\"surface\",\"colorbar\":{\"outlinewidth\":0,\"ticks\":\"\"},\"colorscale\":[[0.0,\"#0d0887\"],[0.1111111111111111,\"#46039f\"],[0.2222222222222222,\"#7201a8\"],[0.3333333333333333,\"#9c179e\"],[0.4444444444444444,\"#bd3786\"],[0.5555555555555556,\"#d8576b\"],[0.6666666666666666,\"#ed7953\"],[0.7777777777777778,\"#fb9f3a\"],[0.8888888888888888,\"#fdca26\"],[1.0,\"#f0f921\"]]}],\"mesh3d\":[{\"type\":\"mesh3d\",\"colorbar\":{\"outlinewidth\":0,\"ticks\":\"\"}}],\"scatter\":[{\"fillpattern\":{\"fillmode\":\"overlay\",\"size\":10,\"solidity\":0.2},\"type\":\"scatter\"}],\"parcoords\":[{\"type\":\"parcoords\",\"line\":{\"colorbar\":{\"outlinewidth\":0,\"ticks\":\"\"}}}],\"scatterpolargl\":[{\"type\":\"scatterpolargl\",\"marker\":{\"colorbar\":{\"outlinewidth\":0,\"ticks\":\"\"}}}],\"bar\":[{\"error_x\":{\"color\":\"#2a3f5f\"},\"error_y\":{\"color\":\"#2a3f5f\"},\"marker\":{\"line\":{\"color\":\"#E5ECF6\",\"width\":0.5},\"pattern\":{\"fillmode\":\"overlay\",\"size\":10,\"solidity\":0.2}},\"type\":\"bar\"}],\"scattergeo\":[{\"type\":\"scattergeo\",\"marker\":{\"colorbar\":{\"outlinewidth\":0,\"ticks\":\"\"}}}],\"scatterpolar\":[{\"type\":\"scatterpolar\",\"marker\":{\"colorbar\":{\"outlinewidth\":0,\"ticks\":\"\"}}}],\"histogram\":[{\"marker\":{\"pattern\":{\"fillmode\":\"overlay\",\"size\":10,\"solidity\":0.2}},\"type\":\"histogram\"}],\"scattergl\":[{\"type\":\"scattergl\",\"marker\":{\"colorbar\":{\"outlinewidth\":0,\"ticks\":\"\"}}}],\"scatter3d\":[{\"type\":\"scatter3d\",\"line\":{\"colorbar\":{\"outlinewidth\":0,\"ticks\":\"\"}},\"marker\":{\"colorbar\":{\"outlinewidth\":0,\"ticks\":\"\"}}}],\"scattermapbox\":[{\"type\":\"scattermapbox\",\"marker\":{\"colorbar\":{\"outlinewidth\":0,\"ticks\":\"\"}}}],\"scatterternary\":[{\"type\":\"scatterternary\",\"marker\":{\"colorbar\":{\"outlinewidth\":0,\"ticks\":\"\"}}}],\"scattercarpet\":[{\"type\":\"scattercarpet\",\"marker\":{\"colorbar\":{\"outlinewidth\":0,\"ticks\":\"\"}}}],\"carpet\":[{\"aaxis\":{\"endlinecolor\":\"#2a3f5f\",\"gridcolor\":\"white\",\"linecolor\":\"white\",\"minorgridcolor\":\"white\",\"startlinecolor\":\"#2a3f5f\"},\"baxis\":{\"endlinecolor\":\"#2a3f5f\",\"gridcolor\":\"white\",\"linecolor\":\"white\",\"minorgridcolor\":\"white\",\"startlinecolor\":\"#2a3f5f\"},\"type\":\"carpet\"}],\"table\":[{\"cells\":{\"fill\":{\"color\":\"#EBF0F8\"},\"line\":{\"color\":\"white\"}},\"header\":{\"fill\":{\"color\":\"#C8D4E3\"},\"line\":{\"color\":\"white\"}},\"type\":\"table\"}],\"barpolar\":[{\"marker\":{\"line\":{\"color\":\"#E5ECF6\",\"width\":0.5},\"pattern\":{\"fillmode\":\"overlay\",\"size\":10,\"solidity\":0.2}},\"type\":\"barpolar\"}],\"pie\":[{\"automargin\":true,\"type\":\"pie\"}]},\"layout\":{\"autotypenumbers\":\"strict\",\"colorway\":[\"#636efa\",\"#EF553B\",\"#00cc96\",\"#ab63fa\",\"#FFA15A\",\"#19d3f3\",\"#FF6692\",\"#B6E880\",\"#FF97FF\",\"#FECB52\"],\"font\":{\"color\":\"#2a3f5f\"},\"hovermode\":\"closest\",\"hoverlabel\":{\"align\":\"left\"},\"paper_bgcolor\":\"white\",\"plot_bgcolor\":\"#E5ECF6\",\"polar\":{\"bgcolor\":\"#E5ECF6\",\"angularaxis\":{\"gridcolor\":\"white\",\"linecolor\":\"white\",\"ticks\":\"\"},\"radialaxis\":{\"gridcolor\":\"white\",\"linecolor\":\"white\",\"ticks\":\"\"}},\"ternary\":{\"bgcolor\":\"#E5ECF6\",\"aaxis\":{\"gridcolor\":\"white\",\"linecolor\":\"white\",\"ticks\":\"\"},\"baxis\":{\"gridcolor\":\"white\",\"linecolor\":\"white\",\"ticks\":\"\"},\"caxis\":{\"gridcolor\":\"white\",\"linecolor\":\"white\",\"ticks\":\"\"}},\"coloraxis\":{\"colorbar\":{\"outlinewidth\":0,\"ticks\":\"\"}},\"colorscale\":{\"sequential\":[[0.0,\"#0d0887\"],[0.1111111111111111,\"#46039f\"],[0.2222222222222222,\"#7201a8\"],[0.3333333333333333,\"#9c179e\"],[0.4444444444444444,\"#bd3786\"],[0.5555555555555556,\"#d8576b\"],[0.6666666666666666,\"#ed7953\"],[0.7777777777777778,\"#fb9f3a\"],[0.8888888888888888,\"#fdca26\"],[1.0,\"#f0f921\"]],\"sequentialminus\":[[0.0,\"#0d0887\"],[0.1111111111111111,\"#46039f\"],[0.2222222222222222,\"#7201a8\"],[0.3333333333333333,\"#9c179e\"],[0.4444444444444444,\"#bd3786\"],[0.5555555555555556,\"#d8576b\"],[0.6666666666666666,\"#ed7953\"],[0.7777777777777778,\"#fb9f3a\"],[0.8888888888888888,\"#fdca26\"],[1.0,\"#f0f921\"]],\"diverging\":[[0,\"#8e0152\"],[0.1,\"#c51b7d\"],[0.2,\"#de77ae\"],[0.3,\"#f1b6da\"],[0.4,\"#fde0ef\"],[0.5,\"#f7f7f7\"],[0.6,\"#e6f5d0\"],[0.7,\"#b8e186\"],[0.8,\"#7fbc41\"],[0.9,\"#4d9221\"],[1,\"#276419\"]]},\"xaxis\":{\"gridcolor\":\"white\",\"linecolor\":\"white\",\"ticks\":\"\",\"title\":{\"standoff\":15},\"zerolinecolor\":\"white\",\"automargin\":true,\"zerolinewidth\":2},\"yaxis\":{\"gridcolor\":\"white\",\"linecolor\":\"white\",\"ticks\":\"\",\"title\":{\"standoff\":15},\"zerolinecolor\":\"white\",\"automargin\":true,\"zerolinewidth\":2},\"scene\":{\"xaxis\":{\"backgroundcolor\":\"#E5ECF6\",\"gridcolor\":\"white\",\"linecolor\":\"white\",\"showbackground\":true,\"ticks\":\"\",\"zerolinecolor\":\"white\",\"gridwidth\":2},\"yaxis\":{\"backgroundcolor\":\"#E5ECF6\",\"gridcolor\":\"white\",\"linecolor\":\"white\",\"showbackground\":true,\"ticks\":\"\",\"zerolinecolor\":\"white\",\"gridwidth\":2},\"zaxis\":{\"backgroundcolor\":\"#E5ECF6\",\"gridcolor\":\"white\",\"linecolor\":\"white\",\"showbackground\":true,\"ticks\":\"\",\"zerolinecolor\":\"white\",\"gridwidth\":2}},\"shapedefaults\":{\"line\":{\"color\":\"#2a3f5f\"}},\"annotationdefaults\":{\"arrowcolor\":\"#2a3f5f\",\"arrowhead\":0,\"arrowwidth\":1},\"geo\":{\"bgcolor\":\"white\",\"landcolor\":\"#E5ECF6\",\"subunitcolor\":\"white\",\"showland\":true,\"showlakes\":true,\"lakecolor\":\"white\"},\"title\":{\"x\":0.05},\"mapbox\":{\"style\":\"light\"}}},\"xaxis\":{\"anchor\":\"y\",\"domain\":[0.0,1.0],\"title\":{\"text\":\"cardiovasc_death_rate\"}},\"yaxis\":{\"anchor\":\"x\",\"domain\":[0.0,1.0],\"title\":{\"text\":\"total_deaths_per_million\"}},\"coloraxis\":{\"colorbar\":{\"title\":{\"text\":\"color\"}},\"colorscale\":[[0.0,\"#0d0887\"],[0.1111111111111111,\"#46039f\"],[0.2222222222222222,\"#7201a8\"],[0.3333333333333333,\"#9c179e\"],[0.4444444444444444,\"#bd3786\"],[0.5555555555555556,\"#d8576b\"],[0.6666666666666666,\"#ed7953\"],[0.7777777777777778,\"#fb9f3a\"],[0.8888888888888888,\"#fdca26\"],[1.0,\"#f0f921\"]]},\"legend\":{\"tracegroupgap\":0},\"margin\":{\"t\":60}},                        {\"responsive\": true}                    ).then(function(){\n",
       "                            \n",
       "var gd = document.getElementById('e24453b1-c8f1-4e29-b2a1-9889e56d07e5');\n",
       "var x = new MutationObserver(function (mutations, observer) {{\n",
       "        var display = window.getComputedStyle(gd).display;\n",
       "        if (!display || display === 'none') {{\n",
       "            console.log([gd, 'removed!']);\n",
       "            Plotly.purge(gd);\n",
       "            observer.disconnect();\n",
       "        }}\n",
       "}});\n",
       "\n",
       "// Listen for the removal of the full notebook cells\n",
       "var notebookContainer = gd.closest('#notebook-container');\n",
       "if (notebookContainer) {{\n",
       "    x.observe(notebookContainer, {childList: true});\n",
       "}}\n",
       "\n",
       "// Listen for the clearing of the current output cell\n",
       "var outputEl = gd.closest('.output');\n",
       "if (outputEl) {{\n",
       "    x.observe(outputEl, {childList: true});\n",
       "}}\n",
       "\n",
       "                        })                };                });            </script>        </div>"
      ]
     },
     "metadata": {},
     "output_type": "display_data"
    }
   ],
   "source": [
    "fig = px.scatter(Z, x=\"cardiovasc_death_rate\", y=\"total_deaths_per_million\", color = kmeans5.labels_)\n",
    "fig.show()"
   ]
  },
  {
   "cell_type": "code",
   "execution_count": 89,
   "id": "4f7de780",
   "metadata": {},
   "outputs": [
    {
     "data": {
      "text/plain": [
       "array([[0.27448596, 0.28031819, 0.18621589],\n",
       "       [0.6485705 , 0.28186508, 0.08366571],\n",
       "       [0.57029102, 0.62873923, 0.42109068],\n",
       "       [0.14085083, 0.05529645, 0.59181803],\n",
       "       [0.10203061, 0.04599611, 0.273595  ]])"
      ]
     },
     "execution_count": 89,
     "metadata": {},
     "output_type": "execute_result"
    }
   ],
   "source": [
    "kmeans5.cluster_centers_"
   ]
  },
  {
   "cell_type": "code",
   "execution_count": 90,
   "id": "6f3ba55a",
   "metadata": {},
   "outputs": [
    {
     "data": {
      "application/vnd.plotly.v1+json": {
       "config": {
        "plotlyServerURL": "https://plot.ly"
       },
       "data": [
        {
         "hovertemplate": "aged_65_older=%{x}<br>total_deaths_per_million=%{y}<br>cardiovasc_death_rate=%{z}<br>color=%{marker.color}<extra></extra>",
         "legendgroup": "",
         "marker": {
          "color": [
           3,
           0,
           4,
           4,
           0,
           0,
           2,
           1,
           1,
           3,
           0,
           4,
           4,
           1,
           3,
           1,
           0,
           4,
           4,
           0,
           2,
           4,
           0,
           4,
           2,
           4,
           4,
           4,
           4,
           1,
           4,
           3,
           4,
           0,
           4,
           0,
           4,
           4,
           0,
           4,
           2,
           1,
           2,
           4,
           1,
           4,
           4,
           0,
           3,
           0,
           4,
           4,
           1,
           4,
           4,
           3,
           1,
           1,
           4,
           4,
           2,
           1,
           4,
           1,
           0,
           0,
           4,
           3,
           3,
           3,
           4,
           2,
           1,
           4,
           4,
           0,
           4,
           1,
           0,
           1,
           0,
           1,
           4,
           3,
           4,
           3,
           4,
           3,
           3,
           2,
           0,
           3,
           4,
           4,
           2,
           1,
           3,
           4,
           4,
           4,
           4,
           1,
           4,
           0,
           0,
           3,
           2,
           3,
           2,
           3,
           4,
           4,
           0,
           4,
           1,
           1,
           4,
           4,
           4,
           2,
           1,
           4,
           3,
           4,
           0,
           3,
           0,
           2,
           3,
           1,
           1,
           4,
           2,
           2,
           4,
           0,
           0,
           4,
           4,
           4,
           4,
           2,
           0,
           4,
           1,
           2,
           1,
           3,
           0,
           1,
           1,
           0,
           3,
           0,
           1,
           1,
           3,
           4,
           0,
           4,
           4,
           4,
           0,
           0,
           0,
           4,
           2,
           4,
           1,
           1,
           1,
           3,
           3,
           4,
           4,
           0,
           3,
           4,
           4
          ],
          "coloraxis": "coloraxis",
          "symbol": "circle"
         },
         "mode": "markers",
         "name": "",
         "scene": "scene",
         "showlegend": false,
         "type": "scatter3d",
         "x": [
          2.581,
          13.188,
          6.211,
          2.405,
          6.933,
          11.198,
          11.232,
          15.504,
          19.202,
          6.018,
          8.996,
          2.372,
          5.098,
          14.952,
          14.799,
          18.571,
          3.853,
          3.244,
          4.885,
          6.704,
          16.569,
          3.941,
          8.552,
          4.591,
          20.801,
          2.409,
          2.562,
          4.412,
          3.165,
          16.984,
          4.46,
          3.655,
          2.486,
          11.087,
          10.641,
          7.646,
          2.963,
          3.402,
          9.468,
          2.933,
          19.724,
          13.416,
          19.027,
          3.02,
          19.677,
          4.213,
          6.981,
          7.104,
          5.159,
          8.273,
          2.846,
          3.607,
          19.452,
          3.163,
          3.526,
          6.224,
          21.228,
          19.718,
          4.45,
          2.339,
          14.864,
          21.453,
          3.385,
          20.396,
          7.304,
          4.694,
          3.135,
          3.002,
          5.305,
          4.8,
          4.652,
          18.577,
          14.431,
          5.989,
          5.319,
          5.44,
          3.186,
          13.928,
          11.733,
          23.021,
          9.684,
          27.049,
          3.81,
          6.991,
          2.686,
          3.895,
          2.345,
          4.489,
          4.029,
          19.754,
          8.514,
          4.506,
          3.057,
          4.424,
          19.002,
          14.312,
          2.929,
          2.979,
          6.293,
          4.12,
          2.519,
          19.426,
          3.138,
          10.945,
          6.857,
          4.81,
          10.864,
          4.031,
          14.762,
          6.769,
          3.158,
          5.732,
          3.552,
          5.809,
          18.779,
          15.322,
          5.445,
          2.553,
          2.751,
          13.26,
          16.821,
          2.355,
          4.495,
          3.043,
          7.918,
          3.808,
          6.378,
          7.151,
          4.803,
          16.763,
          21.502,
          1.307,
          17.85,
          14.178,
          2.974,
          9.721,
          7.724,
          5.606,
          2.886,
          3.295,
          3.008,
          17.366,
          8.606,
          2.538,
          12.922,
          15.07,
          19.062,
          3.507,
          5.344,
          13.914,
          19.436,
          10.069,
          3.548,
          6.933,
          19.985,
          18.436,
          3.466,
          3.108,
          11.373,
          3.556,
          2.839,
          5.82,
          10.014,
          8.001,
          8.153,
          2.168,
          16.462,
          1.144,
          18.517,
          15.413,
          14.655,
          4.469,
          4.394,
          6.614,
          7.15,
          8.696,
          2.922,
          2.48,
          2.822
         ],
         "y": [
          190.183,
          1264.109,
          153.241,
          53.865,
          1556.968,
          2856.297,
          3132.202,
          598.417,
          2346.969,
          960.024,
          2031.762,
          1037.876,
          171.877,
          1988.312,
          746.516,
          2822.771,
          1695.103,
          12.207,
          26.839,
          1819.273,
          5001.964,
          1060.716,
          3196.07,
          501.111,
          5585.41,
          17.068,
          2.948,
          182.254,
          70.214,
          1213.752,
          691.211,
          20.254,
          10.946,
          3146.186,
          3.892,
          2734.258,
          192.404,
          64.652,
          1735.241,
          29.367,
          4253.217,
          1332.579,
          3962.268,
          14.594,
          1249.01,
          168.622,
          390.424,
          1995.444,
          223.425,
          667.572,
          109.259,
          27.958,
          2065.511,
          1183.343,
          61.371,
          944.321,
          1185.4,
          2316.119,
          128.087,
          137.473,
          4513.425,
          1843.52,
          43.614,
          3232.941,
          1889.063,
          1114.554,
          32.902,
          83.587,
          1583.971,
          73.975,
          1057.908,
          4809.525,
          571.194,
          373.333,
          575.79,
          1632.694,
          569.892,
          1601.2,
          1245.317,
          3033.683,
          1174.231,
          377.284,
          1251.299,
          982.163,
          105.095,
          99.057,
          601.562,
          451.089,
          100.671,
          3270.736,
          1950.546,
          306.181,
          55.444,
          944.902,
          3415.564,
          1768.064,
          47.65,
          131.485,
          1074.747,
          588.013,
          32.841,
          1515.115,
          210.509,
          794.165,
          2591.226,
          481.704,
          3631.844,
          627.065,
          4442.8,
          434.647,
          67.456,
          359.584,
          1589.389,
          393.452,
          1303.745,
          406.149,
          35.26,
          11.981,
          14.437,
          4568.195,
          774.337,
          1011.297,
          129.868,
          1087.222,
          1930.099,
          65.861,
          2890.685,
          6373.41,
          554.47,
          2963.685,
          2456.27,
          253.791,
          3417.523,
          2641.789,
          106.484,
          2262.72,
          1115.825,
          130.402,
          338.621,
          258.371,
          113.649,
          2509.188,
          1596.117,
          14.641,
          298.03,
          3651.309,
          3249.769,
          211.247,
          1708.204,
          563.708,
          2419.708,
          768.591,
          106.071,
          2249.024,
          1958.32,
          1609.181,
          12.559,
          12.901,
          459.643,
          102.885,
          32.773,
          112.289,
          2775.232,
          2367.815,
          1185.863,
          76.826,
          2969.164,
          248.699,
          3127.882,
          3164.807,
          2196.45,
          47.274,
          42.847,
          205.641,
          439.601,
          826.663,
          64.042,
          200.673,
          343.494
         ],
         "z": [
          597.029,
          304.195,
          278.364,
          276.045,
          191.511,
          191.032,
          341.01,
          107.791,
          145.183,
          559.812,
          235.954,
          151.689,
          298.003,
          170.05,
          443.129,
          114.898,
          176.957,
          235.848,
          217.066,
          204.299,
          329.635,
          237.372,
          177.961,
          201.285,
          424.688,
          269.048,
          293.068,
          270.892,
          244.661,
          105.599,
          182.219,
          435.727,
          280.995,
          127.993,
          261.899,
          124.24,
          261.516,
          344.094,
          137.973,
          303.74,
          253.782,
          141.171,
          227.485,
          318.949,
          114.767,
          258.037,
          266.653,
          140.448,
          525.432,
          167.295,
          202.812,
          311.11,
          255.569,
          333.436,
          182.634,
          412.82,
          153.507,
          86.06,
          259.967,
          331.43,
          496.218,
          156.139,
          298.245,
          175.695,
          243.964,
          155.898,
          336.717,
          382.474,
          373.159,
          430.548,
          240.208,
          278.296,
          117.992,
          282.28,
          342.864,
          270.308,
          218.612,
          126.459,
          93.32,
          113.151,
          206.537,
          79.37,
          208.257,
          466.792,
          218.637,
          434.657,
          132.235,
          436.362,
          368.111,
          350.06,
          266.591,
          405.126,
          272.509,
          341.862,
          342.989,
          128.275,
          405.994,
          227.349,
          260.942,
          164.905,
          268.024,
          168.711,
          232.347,
          224.644,
          152.783,
          454.343,
          408.502,
          460.043,
          387.305,
          419.146,
          329.942,
          202.104,
          243.811,
          260.797,
          109.361,
          128.797,
          137.016,
          238.339,
          181.013,
          322.688,
          114.316,
          266.342,
          423.031,
          265.91,
          128.346,
          561.494,
          199.128,
          85.755,
          370.437,
          227.331,
          127.842,
          176.69,
          370.946,
          431.297,
          191.375,
          204.62,
          252.675,
          348.977,
          270.113,
          259.538,
          241.219,
          439.415,
          242.648,
          325.721,
          92.243,
          287.959,
          153.493,
          459.78,
          200.38,
          85.998,
          99.403,
          197.093,
          431.388,
          258.314,
          133.982,
          99.739,
          427.698,
          217.288,
          109.861,
          335.346,
          280.033,
          227.49,
          228.467,
          318.991,
          171.285,
          213.333,
          539.849,
          317.84,
          122.137,
          151.089,
          160.708,
          724.417,
          546.3,
          204.85,
          245.465,
          233.07,
          495.003,
          234.499,
          307.846
         ]
        }
       ],
       "layout": {
        "coloraxis": {
         "colorbar": {
          "title": {
           "text": "color"
          }
         },
         "colorscale": [
          [
           0,
           "#0d0887"
          ],
          [
           0.1111111111111111,
           "#46039f"
          ],
          [
           0.2222222222222222,
           "#7201a8"
          ],
          [
           0.3333333333333333,
           "#9c179e"
          ],
          [
           0.4444444444444444,
           "#bd3786"
          ],
          [
           0.5555555555555556,
           "#d8576b"
          ],
          [
           0.6666666666666666,
           "#ed7953"
          ],
          [
           0.7777777777777778,
           "#fb9f3a"
          ],
          [
           0.8888888888888888,
           "#fdca26"
          ],
          [
           1,
           "#f0f921"
          ]
         ]
        },
        "legend": {
         "tracegroupgap": 0
        },
        "margin": {
         "t": 60
        },
        "scene": {
         "domain": {
          "x": [
           0,
           1
          ],
          "y": [
           0,
           1
          ]
         },
         "xaxis": {
          "title": {
           "text": "aged_65_older"
          }
         },
         "yaxis": {
          "title": {
           "text": "total_deaths_per_million"
          }
         },
         "zaxis": {
          "title": {
           "text": "cardiovasc_death_rate"
          }
         }
        },
        "template": {
         "data": {
          "bar": [
           {
            "error_x": {
             "color": "#2a3f5f"
            },
            "error_y": {
             "color": "#2a3f5f"
            },
            "marker": {
             "line": {
              "color": "#E5ECF6",
              "width": 0.5
             },
             "pattern": {
              "fillmode": "overlay",
              "size": 10,
              "solidity": 0.2
             }
            },
            "type": "bar"
           }
          ],
          "barpolar": [
           {
            "marker": {
             "line": {
              "color": "#E5ECF6",
              "width": 0.5
             },
             "pattern": {
              "fillmode": "overlay",
              "size": 10,
              "solidity": 0.2
             }
            },
            "type": "barpolar"
           }
          ],
          "carpet": [
           {
            "aaxis": {
             "endlinecolor": "#2a3f5f",
             "gridcolor": "white",
             "linecolor": "white",
             "minorgridcolor": "white",
             "startlinecolor": "#2a3f5f"
            },
            "baxis": {
             "endlinecolor": "#2a3f5f",
             "gridcolor": "white",
             "linecolor": "white",
             "minorgridcolor": "white",
             "startlinecolor": "#2a3f5f"
            },
            "type": "carpet"
           }
          ],
          "choropleth": [
           {
            "colorbar": {
             "outlinewidth": 0,
             "ticks": ""
            },
            "type": "choropleth"
           }
          ],
          "contour": [
           {
            "colorbar": {
             "outlinewidth": 0,
             "ticks": ""
            },
            "colorscale": [
             [
              0,
              "#0d0887"
             ],
             [
              0.1111111111111111,
              "#46039f"
             ],
             [
              0.2222222222222222,
              "#7201a8"
             ],
             [
              0.3333333333333333,
              "#9c179e"
             ],
             [
              0.4444444444444444,
              "#bd3786"
             ],
             [
              0.5555555555555556,
              "#d8576b"
             ],
             [
              0.6666666666666666,
              "#ed7953"
             ],
             [
              0.7777777777777778,
              "#fb9f3a"
             ],
             [
              0.8888888888888888,
              "#fdca26"
             ],
             [
              1,
              "#f0f921"
             ]
            ],
            "type": "contour"
           }
          ],
          "contourcarpet": [
           {
            "colorbar": {
             "outlinewidth": 0,
             "ticks": ""
            },
            "type": "contourcarpet"
           }
          ],
          "heatmap": [
           {
            "colorbar": {
             "outlinewidth": 0,
             "ticks": ""
            },
            "colorscale": [
             [
              0,
              "#0d0887"
             ],
             [
              0.1111111111111111,
              "#46039f"
             ],
             [
              0.2222222222222222,
              "#7201a8"
             ],
             [
              0.3333333333333333,
              "#9c179e"
             ],
             [
              0.4444444444444444,
              "#bd3786"
             ],
             [
              0.5555555555555556,
              "#d8576b"
             ],
             [
              0.6666666666666666,
              "#ed7953"
             ],
             [
              0.7777777777777778,
              "#fb9f3a"
             ],
             [
              0.8888888888888888,
              "#fdca26"
             ],
             [
              1,
              "#f0f921"
             ]
            ],
            "type": "heatmap"
           }
          ],
          "heatmapgl": [
           {
            "colorbar": {
             "outlinewidth": 0,
             "ticks": ""
            },
            "colorscale": [
             [
              0,
              "#0d0887"
             ],
             [
              0.1111111111111111,
              "#46039f"
             ],
             [
              0.2222222222222222,
              "#7201a8"
             ],
             [
              0.3333333333333333,
              "#9c179e"
             ],
             [
              0.4444444444444444,
              "#bd3786"
             ],
             [
              0.5555555555555556,
              "#d8576b"
             ],
             [
              0.6666666666666666,
              "#ed7953"
             ],
             [
              0.7777777777777778,
              "#fb9f3a"
             ],
             [
              0.8888888888888888,
              "#fdca26"
             ],
             [
              1,
              "#f0f921"
             ]
            ],
            "type": "heatmapgl"
           }
          ],
          "histogram": [
           {
            "marker": {
             "pattern": {
              "fillmode": "overlay",
              "size": 10,
              "solidity": 0.2
             }
            },
            "type": "histogram"
           }
          ],
          "histogram2d": [
           {
            "colorbar": {
             "outlinewidth": 0,
             "ticks": ""
            },
            "colorscale": [
             [
              0,
              "#0d0887"
             ],
             [
              0.1111111111111111,
              "#46039f"
             ],
             [
              0.2222222222222222,
              "#7201a8"
             ],
             [
              0.3333333333333333,
              "#9c179e"
             ],
             [
              0.4444444444444444,
              "#bd3786"
             ],
             [
              0.5555555555555556,
              "#d8576b"
             ],
             [
              0.6666666666666666,
              "#ed7953"
             ],
             [
              0.7777777777777778,
              "#fb9f3a"
             ],
             [
              0.8888888888888888,
              "#fdca26"
             ],
             [
              1,
              "#f0f921"
             ]
            ],
            "type": "histogram2d"
           }
          ],
          "histogram2dcontour": [
           {
            "colorbar": {
             "outlinewidth": 0,
             "ticks": ""
            },
            "colorscale": [
             [
              0,
              "#0d0887"
             ],
             [
              0.1111111111111111,
              "#46039f"
             ],
             [
              0.2222222222222222,
              "#7201a8"
             ],
             [
              0.3333333333333333,
              "#9c179e"
             ],
             [
              0.4444444444444444,
              "#bd3786"
             ],
             [
              0.5555555555555556,
              "#d8576b"
             ],
             [
              0.6666666666666666,
              "#ed7953"
             ],
             [
              0.7777777777777778,
              "#fb9f3a"
             ],
             [
              0.8888888888888888,
              "#fdca26"
             ],
             [
              1,
              "#f0f921"
             ]
            ],
            "type": "histogram2dcontour"
           }
          ],
          "mesh3d": [
           {
            "colorbar": {
             "outlinewidth": 0,
             "ticks": ""
            },
            "type": "mesh3d"
           }
          ],
          "parcoords": [
           {
            "line": {
             "colorbar": {
              "outlinewidth": 0,
              "ticks": ""
             }
            },
            "type": "parcoords"
           }
          ],
          "pie": [
           {
            "automargin": true,
            "type": "pie"
           }
          ],
          "scatter": [
           {
            "fillpattern": {
             "fillmode": "overlay",
             "size": 10,
             "solidity": 0.2
            },
            "type": "scatter"
           }
          ],
          "scatter3d": [
           {
            "line": {
             "colorbar": {
              "outlinewidth": 0,
              "ticks": ""
             }
            },
            "marker": {
             "colorbar": {
              "outlinewidth": 0,
              "ticks": ""
             }
            },
            "type": "scatter3d"
           }
          ],
          "scattercarpet": [
           {
            "marker": {
             "colorbar": {
              "outlinewidth": 0,
              "ticks": ""
             }
            },
            "type": "scattercarpet"
           }
          ],
          "scattergeo": [
           {
            "marker": {
             "colorbar": {
              "outlinewidth": 0,
              "ticks": ""
             }
            },
            "type": "scattergeo"
           }
          ],
          "scattergl": [
           {
            "marker": {
             "colorbar": {
              "outlinewidth": 0,
              "ticks": ""
             }
            },
            "type": "scattergl"
           }
          ],
          "scattermapbox": [
           {
            "marker": {
             "colorbar": {
              "outlinewidth": 0,
              "ticks": ""
             }
            },
            "type": "scattermapbox"
           }
          ],
          "scatterpolar": [
           {
            "marker": {
             "colorbar": {
              "outlinewidth": 0,
              "ticks": ""
             }
            },
            "type": "scatterpolar"
           }
          ],
          "scatterpolargl": [
           {
            "marker": {
             "colorbar": {
              "outlinewidth": 0,
              "ticks": ""
             }
            },
            "type": "scatterpolargl"
           }
          ],
          "scatterternary": [
           {
            "marker": {
             "colorbar": {
              "outlinewidth": 0,
              "ticks": ""
             }
            },
            "type": "scatterternary"
           }
          ],
          "surface": [
           {
            "colorbar": {
             "outlinewidth": 0,
             "ticks": ""
            },
            "colorscale": [
             [
              0,
              "#0d0887"
             ],
             [
              0.1111111111111111,
              "#46039f"
             ],
             [
              0.2222222222222222,
              "#7201a8"
             ],
             [
              0.3333333333333333,
              "#9c179e"
             ],
             [
              0.4444444444444444,
              "#bd3786"
             ],
             [
              0.5555555555555556,
              "#d8576b"
             ],
             [
              0.6666666666666666,
              "#ed7953"
             ],
             [
              0.7777777777777778,
              "#fb9f3a"
             ],
             [
              0.8888888888888888,
              "#fdca26"
             ],
             [
              1,
              "#f0f921"
             ]
            ],
            "type": "surface"
           }
          ],
          "table": [
           {
            "cells": {
             "fill": {
              "color": "#EBF0F8"
             },
             "line": {
              "color": "white"
             }
            },
            "header": {
             "fill": {
              "color": "#C8D4E3"
             },
             "line": {
              "color": "white"
             }
            },
            "type": "table"
           }
          ]
         },
         "layout": {
          "annotationdefaults": {
           "arrowcolor": "#2a3f5f",
           "arrowhead": 0,
           "arrowwidth": 1
          },
          "autotypenumbers": "strict",
          "coloraxis": {
           "colorbar": {
            "outlinewidth": 0,
            "ticks": ""
           }
          },
          "colorscale": {
           "diverging": [
            [
             0,
             "#8e0152"
            ],
            [
             0.1,
             "#c51b7d"
            ],
            [
             0.2,
             "#de77ae"
            ],
            [
             0.3,
             "#f1b6da"
            ],
            [
             0.4,
             "#fde0ef"
            ],
            [
             0.5,
             "#f7f7f7"
            ],
            [
             0.6,
             "#e6f5d0"
            ],
            [
             0.7,
             "#b8e186"
            ],
            [
             0.8,
             "#7fbc41"
            ],
            [
             0.9,
             "#4d9221"
            ],
            [
             1,
             "#276419"
            ]
           ],
           "sequential": [
            [
             0,
             "#0d0887"
            ],
            [
             0.1111111111111111,
             "#46039f"
            ],
            [
             0.2222222222222222,
             "#7201a8"
            ],
            [
             0.3333333333333333,
             "#9c179e"
            ],
            [
             0.4444444444444444,
             "#bd3786"
            ],
            [
             0.5555555555555556,
             "#d8576b"
            ],
            [
             0.6666666666666666,
             "#ed7953"
            ],
            [
             0.7777777777777778,
             "#fb9f3a"
            ],
            [
             0.8888888888888888,
             "#fdca26"
            ],
            [
             1,
             "#f0f921"
            ]
           ],
           "sequentialminus": [
            [
             0,
             "#0d0887"
            ],
            [
             0.1111111111111111,
             "#46039f"
            ],
            [
             0.2222222222222222,
             "#7201a8"
            ],
            [
             0.3333333333333333,
             "#9c179e"
            ],
            [
             0.4444444444444444,
             "#bd3786"
            ],
            [
             0.5555555555555556,
             "#d8576b"
            ],
            [
             0.6666666666666666,
             "#ed7953"
            ],
            [
             0.7777777777777778,
             "#fb9f3a"
            ],
            [
             0.8888888888888888,
             "#fdca26"
            ],
            [
             1,
             "#f0f921"
            ]
           ]
          },
          "colorway": [
           "#636efa",
           "#EF553B",
           "#00cc96",
           "#ab63fa",
           "#FFA15A",
           "#19d3f3",
           "#FF6692",
           "#B6E880",
           "#FF97FF",
           "#FECB52"
          ],
          "font": {
           "color": "#2a3f5f"
          },
          "geo": {
           "bgcolor": "white",
           "lakecolor": "white",
           "landcolor": "#E5ECF6",
           "showlakes": true,
           "showland": true,
           "subunitcolor": "white"
          },
          "hoverlabel": {
           "align": "left"
          },
          "hovermode": "closest",
          "mapbox": {
           "style": "light"
          },
          "paper_bgcolor": "white",
          "plot_bgcolor": "#E5ECF6",
          "polar": {
           "angularaxis": {
            "gridcolor": "white",
            "linecolor": "white",
            "ticks": ""
           },
           "bgcolor": "#E5ECF6",
           "radialaxis": {
            "gridcolor": "white",
            "linecolor": "white",
            "ticks": ""
           }
          },
          "scene": {
           "xaxis": {
            "backgroundcolor": "#E5ECF6",
            "gridcolor": "white",
            "gridwidth": 2,
            "linecolor": "white",
            "showbackground": true,
            "ticks": "",
            "zerolinecolor": "white"
           },
           "yaxis": {
            "backgroundcolor": "#E5ECF6",
            "gridcolor": "white",
            "gridwidth": 2,
            "linecolor": "white",
            "showbackground": true,
            "ticks": "",
            "zerolinecolor": "white"
           },
           "zaxis": {
            "backgroundcolor": "#E5ECF6",
            "gridcolor": "white",
            "gridwidth": 2,
            "linecolor": "white",
            "showbackground": true,
            "ticks": "",
            "zerolinecolor": "white"
           }
          },
          "shapedefaults": {
           "line": {
            "color": "#2a3f5f"
           }
          },
          "ternary": {
           "aaxis": {
            "gridcolor": "white",
            "linecolor": "white",
            "ticks": ""
           },
           "baxis": {
            "gridcolor": "white",
            "linecolor": "white",
            "ticks": ""
           },
           "bgcolor": "#E5ECF6",
           "caxis": {
            "gridcolor": "white",
            "linecolor": "white",
            "ticks": ""
           }
          },
          "title": {
           "x": 0.05
          },
          "xaxis": {
           "automargin": true,
           "gridcolor": "white",
           "linecolor": "white",
           "ticks": "",
           "title": {
            "standoff": 15
           },
           "zerolinecolor": "white",
           "zerolinewidth": 2
          },
          "yaxis": {
           "automargin": true,
           "gridcolor": "white",
           "linecolor": "white",
           "ticks": "",
           "title": {
            "standoff": 15
           },
           "zerolinecolor": "white",
           "zerolinewidth": 2
          }
         }
        }
       }
      },
      "text/html": [
       "<div>                            <div id=\"8d87f7f9-cb92-4993-bbb8-d43231b4fe1d\" class=\"plotly-graph-div\" style=\"height:525px; width:100%;\"></div>            <script type=\"text/javascript\">                require([\"plotly\"], function(Plotly) {                    window.PLOTLYENV=window.PLOTLYENV || {};                                    if (document.getElementById(\"8d87f7f9-cb92-4993-bbb8-d43231b4fe1d\")) {                    Plotly.newPlot(                        \"8d87f7f9-cb92-4993-bbb8-d43231b4fe1d\",                        [{\"hovertemplate\":\"aged_65_older=%{x}<br>total_deaths_per_million=%{y}<br>cardiovasc_death_rate=%{z}<br>color=%{marker.color}<extra></extra>\",\"legendgroup\":\"\",\"marker\":{\"color\":[3,0,4,4,0,0,2,1,1,3,0,4,4,1,3,1,0,4,4,0,2,4,0,4,2,4,4,4,4,1,4,3,4,0,4,0,4,4,0,4,2,1,2,4,1,4,4,0,3,0,4,4,1,4,4,3,1,1,4,4,2,1,4,1,0,0,4,3,3,3,4,2,1,4,4,0,4,1,0,1,0,1,4,3,4,3,4,3,3,2,0,3,4,4,2,1,3,4,4,4,4,1,4,0,0,3,2,3,2,3,4,4,0,4,1,1,4,4,4,2,1,4,3,4,0,3,0,2,3,1,1,4,2,2,4,0,0,4,4,4,4,2,0,4,1,2,1,3,0,1,1,0,3,0,1,1,3,4,0,4,4,4,0,0,0,4,2,4,1,1,1,3,3,4,4,0,3,4,4],\"coloraxis\":\"coloraxis\",\"symbol\":\"circle\"},\"mode\":\"markers\",\"name\":\"\",\"scene\":\"scene\",\"showlegend\":false,\"x\":[2.581,13.188,6.211,2.405,6.933,11.198,11.232,15.504,19.202,6.018,8.996,2.372,5.098,14.952,14.799,18.571,3.853,3.244,4.885,6.704,16.569,3.941,8.552,4.591,20.801,2.409,2.562,4.412,3.165,16.984,4.46,3.655,2.486,11.087,10.641,7.646,2.963,3.402,9.468,2.933,19.724,13.416,19.027,3.02,19.677,4.213,6.981,7.104,5.159,8.273,2.846,3.607,19.452,3.163,3.526,6.224,21.228,19.718,4.45,2.339,14.864,21.453,3.385,20.396,7.304,4.694,3.135,3.002,5.305,4.8,4.652,18.577,14.431,5.989,5.319,5.44,3.186,13.928,11.733,23.021,9.684,27.049,3.81,6.991,2.686,3.895,2.345,4.489,4.029,19.754,8.514,4.506,3.057,4.424,19.002,14.312,2.929,2.979,6.293,4.12,2.519,19.426,3.138,10.945,6.857,4.81,10.864,4.031,14.762,6.769,3.158,5.732,3.552,5.809,18.779,15.322,5.445,2.553,2.751,13.26,16.821,2.355,4.495,3.043,7.918,3.808,6.378,7.151,4.803,16.763,21.502,1.307,17.85,14.178,2.974,9.721,7.724,5.606,2.886,3.295,3.008,17.366,8.606,2.538,12.922,15.07,19.062,3.507,5.344,13.914,19.436,10.069,3.548,6.933,19.985,18.436,3.466,3.108,11.373,3.556,2.839,5.82,10.014,8.001,8.153,2.168,16.462,1.144,18.517,15.413,14.655,4.469,4.394,6.614,7.15,8.696,2.922,2.48,2.822],\"y\":[190.183,1264.109,153.241,53.865,1556.968,2856.297,3132.202,598.417,2346.969,960.024,2031.762,1037.876,171.877,1988.312,746.516,2822.771,1695.103,12.207,26.839,1819.273,5001.964,1060.716,3196.07,501.111,5585.41,17.068,2.948,182.254,70.214,1213.752,691.211,20.254,10.946,3146.186,3.892,2734.258,192.404,64.652,1735.241,29.367,4253.217,1332.579,3962.268,14.594,1249.01,168.622,390.424,1995.444,223.425,667.572,109.259,27.958,2065.511,1183.343,61.371,944.321,1185.4,2316.119,128.087,137.473,4513.425,1843.52,43.614,3232.941,1889.063,1114.554,32.902,83.587,1583.971,73.975,1057.908,4809.525,571.194,373.333,575.79,1632.694,569.892,1601.2,1245.317,3033.683,1174.231,377.284,1251.299,982.163,105.095,99.057,601.562,451.089,100.671,3270.736,1950.546,306.181,55.444,944.902,3415.564,1768.064,47.65,131.485,1074.747,588.013,32.841,1515.115,210.509,794.165,2591.226,481.704,3631.844,627.065,4442.8,434.647,67.456,359.584,1589.389,393.452,1303.745,406.149,35.26,11.981,14.437,4568.195,774.337,1011.297,129.868,1087.222,1930.099,65.861,2890.685,6373.41,554.47,2963.685,2456.27,253.791,3417.523,2641.789,106.484,2262.72,1115.825,130.402,338.621,258.371,113.649,2509.188,1596.117,14.641,298.03,3651.309,3249.769,211.247,1708.204,563.708,2419.708,768.591,106.071,2249.024,1958.32,1609.181,12.559,12.901,459.643,102.885,32.773,112.289,2775.232,2367.815,1185.863,76.826,2969.164,248.699,3127.882,3164.807,2196.45,47.274,42.847,205.641,439.601,826.663,64.042,200.673,343.494],\"z\":[597.029,304.195,278.364,276.045,191.511,191.032,341.01,107.791,145.183,559.812,235.954,151.689,298.003,170.05,443.129,114.898,176.957,235.848,217.066,204.299,329.635,237.372,177.961,201.285,424.688,269.048,293.068,270.892,244.661,105.599,182.219,435.727,280.995,127.993,261.899,124.24,261.516,344.094,137.973,303.74,253.782,141.171,227.485,318.949,114.767,258.037,266.653,140.448,525.432,167.295,202.812,311.11,255.569,333.436,182.634,412.82,153.507,86.06,259.967,331.43,496.218,156.139,298.245,175.695,243.964,155.898,336.717,382.474,373.159,430.548,240.208,278.296,117.992,282.28,342.864,270.308,218.612,126.459,93.32,113.151,206.537,79.37,208.257,466.792,218.637,434.657,132.235,436.362,368.111,350.06,266.591,405.126,272.509,341.862,342.989,128.275,405.994,227.349,260.942,164.905,268.024,168.711,232.347,224.644,152.783,454.343,408.502,460.043,387.305,419.146,329.942,202.104,243.811,260.797,109.361,128.797,137.016,238.339,181.013,322.688,114.316,266.342,423.031,265.91,128.346,561.494,199.128,85.755,370.437,227.331,127.842,176.69,370.946,431.297,191.375,204.62,252.675,348.977,270.113,259.538,241.219,439.415,242.648,325.721,92.243,287.959,153.493,459.78,200.38,85.998,99.403,197.093,431.388,258.314,133.982,99.739,427.698,217.288,109.861,335.346,280.033,227.49,228.467,318.991,171.285,213.333,539.849,317.84,122.137,151.089,160.708,724.417,546.3,204.85,245.465,233.07,495.003,234.499,307.846],\"type\":\"scatter3d\"}],                        {\"template\":{\"data\":{\"histogram2dcontour\":[{\"type\":\"histogram2dcontour\",\"colorbar\":{\"outlinewidth\":0,\"ticks\":\"\"},\"colorscale\":[[0.0,\"#0d0887\"],[0.1111111111111111,\"#46039f\"],[0.2222222222222222,\"#7201a8\"],[0.3333333333333333,\"#9c179e\"],[0.4444444444444444,\"#bd3786\"],[0.5555555555555556,\"#d8576b\"],[0.6666666666666666,\"#ed7953\"],[0.7777777777777778,\"#fb9f3a\"],[0.8888888888888888,\"#fdca26\"],[1.0,\"#f0f921\"]]}],\"choropleth\":[{\"type\":\"choropleth\",\"colorbar\":{\"outlinewidth\":0,\"ticks\":\"\"}}],\"histogram2d\":[{\"type\":\"histogram2d\",\"colorbar\":{\"outlinewidth\":0,\"ticks\":\"\"},\"colorscale\":[[0.0,\"#0d0887\"],[0.1111111111111111,\"#46039f\"],[0.2222222222222222,\"#7201a8\"],[0.3333333333333333,\"#9c179e\"],[0.4444444444444444,\"#bd3786\"],[0.5555555555555556,\"#d8576b\"],[0.6666666666666666,\"#ed7953\"],[0.7777777777777778,\"#fb9f3a\"],[0.8888888888888888,\"#fdca26\"],[1.0,\"#f0f921\"]]}],\"heatmap\":[{\"type\":\"heatmap\",\"colorbar\":{\"outlinewidth\":0,\"ticks\":\"\"},\"colorscale\":[[0.0,\"#0d0887\"],[0.1111111111111111,\"#46039f\"],[0.2222222222222222,\"#7201a8\"],[0.3333333333333333,\"#9c179e\"],[0.4444444444444444,\"#bd3786\"],[0.5555555555555556,\"#d8576b\"],[0.6666666666666666,\"#ed7953\"],[0.7777777777777778,\"#fb9f3a\"],[0.8888888888888888,\"#fdca26\"],[1.0,\"#f0f921\"]]}],\"heatmapgl\":[{\"type\":\"heatmapgl\",\"colorbar\":{\"outlinewidth\":0,\"ticks\":\"\"},\"colorscale\":[[0.0,\"#0d0887\"],[0.1111111111111111,\"#46039f\"],[0.2222222222222222,\"#7201a8\"],[0.3333333333333333,\"#9c179e\"],[0.4444444444444444,\"#bd3786\"],[0.5555555555555556,\"#d8576b\"],[0.6666666666666666,\"#ed7953\"],[0.7777777777777778,\"#fb9f3a\"],[0.8888888888888888,\"#fdca26\"],[1.0,\"#f0f921\"]]}],\"contourcarpet\":[{\"type\":\"contourcarpet\",\"colorbar\":{\"outlinewidth\":0,\"ticks\":\"\"}}],\"contour\":[{\"type\":\"contour\",\"colorbar\":{\"outlinewidth\":0,\"ticks\":\"\"},\"colorscale\":[[0.0,\"#0d0887\"],[0.1111111111111111,\"#46039f\"],[0.2222222222222222,\"#7201a8\"],[0.3333333333333333,\"#9c179e\"],[0.4444444444444444,\"#bd3786\"],[0.5555555555555556,\"#d8576b\"],[0.6666666666666666,\"#ed7953\"],[0.7777777777777778,\"#fb9f3a\"],[0.8888888888888888,\"#fdca26\"],[1.0,\"#f0f921\"]]}],\"surface\":[{\"type\":\"surface\",\"colorbar\":{\"outlinewidth\":0,\"ticks\":\"\"},\"colorscale\":[[0.0,\"#0d0887\"],[0.1111111111111111,\"#46039f\"],[0.2222222222222222,\"#7201a8\"],[0.3333333333333333,\"#9c179e\"],[0.4444444444444444,\"#bd3786\"],[0.5555555555555556,\"#d8576b\"],[0.6666666666666666,\"#ed7953\"],[0.7777777777777778,\"#fb9f3a\"],[0.8888888888888888,\"#fdca26\"],[1.0,\"#f0f921\"]]}],\"mesh3d\":[{\"type\":\"mesh3d\",\"colorbar\":{\"outlinewidth\":0,\"ticks\":\"\"}}],\"scatter\":[{\"fillpattern\":{\"fillmode\":\"overlay\",\"size\":10,\"solidity\":0.2},\"type\":\"scatter\"}],\"parcoords\":[{\"type\":\"parcoords\",\"line\":{\"colorbar\":{\"outlinewidth\":0,\"ticks\":\"\"}}}],\"scatterpolargl\":[{\"type\":\"scatterpolargl\",\"marker\":{\"colorbar\":{\"outlinewidth\":0,\"ticks\":\"\"}}}],\"bar\":[{\"error_x\":{\"color\":\"#2a3f5f\"},\"error_y\":{\"color\":\"#2a3f5f\"},\"marker\":{\"line\":{\"color\":\"#E5ECF6\",\"width\":0.5},\"pattern\":{\"fillmode\":\"overlay\",\"size\":10,\"solidity\":0.2}},\"type\":\"bar\"}],\"scattergeo\":[{\"type\":\"scattergeo\",\"marker\":{\"colorbar\":{\"outlinewidth\":0,\"ticks\":\"\"}}}],\"scatterpolar\":[{\"type\":\"scatterpolar\",\"marker\":{\"colorbar\":{\"outlinewidth\":0,\"ticks\":\"\"}}}],\"histogram\":[{\"marker\":{\"pattern\":{\"fillmode\":\"overlay\",\"size\":10,\"solidity\":0.2}},\"type\":\"histogram\"}],\"scattergl\":[{\"type\":\"scattergl\",\"marker\":{\"colorbar\":{\"outlinewidth\":0,\"ticks\":\"\"}}}],\"scatter3d\":[{\"type\":\"scatter3d\",\"line\":{\"colorbar\":{\"outlinewidth\":0,\"ticks\":\"\"}},\"marker\":{\"colorbar\":{\"outlinewidth\":0,\"ticks\":\"\"}}}],\"scattermapbox\":[{\"type\":\"scattermapbox\",\"marker\":{\"colorbar\":{\"outlinewidth\":0,\"ticks\":\"\"}}}],\"scatterternary\":[{\"type\":\"scatterternary\",\"marker\":{\"colorbar\":{\"outlinewidth\":0,\"ticks\":\"\"}}}],\"scattercarpet\":[{\"type\":\"scattercarpet\",\"marker\":{\"colorbar\":{\"outlinewidth\":0,\"ticks\":\"\"}}}],\"carpet\":[{\"aaxis\":{\"endlinecolor\":\"#2a3f5f\",\"gridcolor\":\"white\",\"linecolor\":\"white\",\"minorgridcolor\":\"white\",\"startlinecolor\":\"#2a3f5f\"},\"baxis\":{\"endlinecolor\":\"#2a3f5f\",\"gridcolor\":\"white\",\"linecolor\":\"white\",\"minorgridcolor\":\"white\",\"startlinecolor\":\"#2a3f5f\"},\"type\":\"carpet\"}],\"table\":[{\"cells\":{\"fill\":{\"color\":\"#EBF0F8\"},\"line\":{\"color\":\"white\"}},\"header\":{\"fill\":{\"color\":\"#C8D4E3\"},\"line\":{\"color\":\"white\"}},\"type\":\"table\"}],\"barpolar\":[{\"marker\":{\"line\":{\"color\":\"#E5ECF6\",\"width\":0.5},\"pattern\":{\"fillmode\":\"overlay\",\"size\":10,\"solidity\":0.2}},\"type\":\"barpolar\"}],\"pie\":[{\"automargin\":true,\"type\":\"pie\"}]},\"layout\":{\"autotypenumbers\":\"strict\",\"colorway\":[\"#636efa\",\"#EF553B\",\"#00cc96\",\"#ab63fa\",\"#FFA15A\",\"#19d3f3\",\"#FF6692\",\"#B6E880\",\"#FF97FF\",\"#FECB52\"],\"font\":{\"color\":\"#2a3f5f\"},\"hovermode\":\"closest\",\"hoverlabel\":{\"align\":\"left\"},\"paper_bgcolor\":\"white\",\"plot_bgcolor\":\"#E5ECF6\",\"polar\":{\"bgcolor\":\"#E5ECF6\",\"angularaxis\":{\"gridcolor\":\"white\",\"linecolor\":\"white\",\"ticks\":\"\"},\"radialaxis\":{\"gridcolor\":\"white\",\"linecolor\":\"white\",\"ticks\":\"\"}},\"ternary\":{\"bgcolor\":\"#E5ECF6\",\"aaxis\":{\"gridcolor\":\"white\",\"linecolor\":\"white\",\"ticks\":\"\"},\"baxis\":{\"gridcolor\":\"white\",\"linecolor\":\"white\",\"ticks\":\"\"},\"caxis\":{\"gridcolor\":\"white\",\"linecolor\":\"white\",\"ticks\":\"\"}},\"coloraxis\":{\"colorbar\":{\"outlinewidth\":0,\"ticks\":\"\"}},\"colorscale\":{\"sequential\":[[0.0,\"#0d0887\"],[0.1111111111111111,\"#46039f\"],[0.2222222222222222,\"#7201a8\"],[0.3333333333333333,\"#9c179e\"],[0.4444444444444444,\"#bd3786\"],[0.5555555555555556,\"#d8576b\"],[0.6666666666666666,\"#ed7953\"],[0.7777777777777778,\"#fb9f3a\"],[0.8888888888888888,\"#fdca26\"],[1.0,\"#f0f921\"]],\"sequentialminus\":[[0.0,\"#0d0887\"],[0.1111111111111111,\"#46039f\"],[0.2222222222222222,\"#7201a8\"],[0.3333333333333333,\"#9c179e\"],[0.4444444444444444,\"#bd3786\"],[0.5555555555555556,\"#d8576b\"],[0.6666666666666666,\"#ed7953\"],[0.7777777777777778,\"#fb9f3a\"],[0.8888888888888888,\"#fdca26\"],[1.0,\"#f0f921\"]],\"diverging\":[[0,\"#8e0152\"],[0.1,\"#c51b7d\"],[0.2,\"#de77ae\"],[0.3,\"#f1b6da\"],[0.4,\"#fde0ef\"],[0.5,\"#f7f7f7\"],[0.6,\"#e6f5d0\"],[0.7,\"#b8e186\"],[0.8,\"#7fbc41\"],[0.9,\"#4d9221\"],[1,\"#276419\"]]},\"xaxis\":{\"gridcolor\":\"white\",\"linecolor\":\"white\",\"ticks\":\"\",\"title\":{\"standoff\":15},\"zerolinecolor\":\"white\",\"automargin\":true,\"zerolinewidth\":2},\"yaxis\":{\"gridcolor\":\"white\",\"linecolor\":\"white\",\"ticks\":\"\",\"title\":{\"standoff\":15},\"zerolinecolor\":\"white\",\"automargin\":true,\"zerolinewidth\":2},\"scene\":{\"xaxis\":{\"backgroundcolor\":\"#E5ECF6\",\"gridcolor\":\"white\",\"linecolor\":\"white\",\"showbackground\":true,\"ticks\":\"\",\"zerolinecolor\":\"white\",\"gridwidth\":2},\"yaxis\":{\"backgroundcolor\":\"#E5ECF6\",\"gridcolor\":\"white\",\"linecolor\":\"white\",\"showbackground\":true,\"ticks\":\"\",\"zerolinecolor\":\"white\",\"gridwidth\":2},\"zaxis\":{\"backgroundcolor\":\"#E5ECF6\",\"gridcolor\":\"white\",\"linecolor\":\"white\",\"showbackground\":true,\"ticks\":\"\",\"zerolinecolor\":\"white\",\"gridwidth\":2}},\"shapedefaults\":{\"line\":{\"color\":\"#2a3f5f\"}},\"annotationdefaults\":{\"arrowcolor\":\"#2a3f5f\",\"arrowhead\":0,\"arrowwidth\":1},\"geo\":{\"bgcolor\":\"white\",\"landcolor\":\"#E5ECF6\",\"subunitcolor\":\"white\",\"showland\":true,\"showlakes\":true,\"lakecolor\":\"white\"},\"title\":{\"x\":0.05},\"mapbox\":{\"style\":\"light\"}}},\"scene\":{\"domain\":{\"x\":[0.0,1.0],\"y\":[0.0,1.0]},\"xaxis\":{\"title\":{\"text\":\"aged_65_older\"}},\"yaxis\":{\"title\":{\"text\":\"total_deaths_per_million\"}},\"zaxis\":{\"title\":{\"text\":\"cardiovasc_death_rate\"}}},\"coloraxis\":{\"colorbar\":{\"title\":{\"text\":\"color\"}},\"colorscale\":[[0.0,\"#0d0887\"],[0.1111111111111111,\"#46039f\"],[0.2222222222222222,\"#7201a8\"],[0.3333333333333333,\"#9c179e\"],[0.4444444444444444,\"#bd3786\"],[0.5555555555555556,\"#d8576b\"],[0.6666666666666666,\"#ed7953\"],[0.7777777777777778,\"#fb9f3a\"],[0.8888888888888888,\"#fdca26\"],[1.0,\"#f0f921\"]]},\"legend\":{\"tracegroupgap\":0},\"margin\":{\"t\":60}},                        {\"responsive\": true}                    ).then(function(){\n",
       "                            \n",
       "var gd = document.getElementById('8d87f7f9-cb92-4993-bbb8-d43231b4fe1d');\n",
       "var x = new MutationObserver(function (mutations, observer) {{\n",
       "        var display = window.getComputedStyle(gd).display;\n",
       "        if (!display || display === 'none') {{\n",
       "            console.log([gd, 'removed!']);\n",
       "            Plotly.purge(gd);\n",
       "            observer.disconnect();\n",
       "        }}\n",
       "}});\n",
       "\n",
       "// Listen for the removal of the full notebook cells\n",
       "var notebookContainer = gd.closest('#notebook-container');\n",
       "if (notebookContainer) {{\n",
       "    x.observe(notebookContainer, {childList: true});\n",
       "}}\n",
       "\n",
       "// Listen for the clearing of the current output cell\n",
       "var outputEl = gd.closest('.output');\n",
       "if (outputEl) {{\n",
       "    x.observe(outputEl, {childList: true});\n",
       "}}\n",
       "\n",
       "                        })                };                });            </script>        </div>"
      ]
     },
     "metadata": {},
     "output_type": "display_data"
    }
   ],
   "source": [
    "# axes = plt.axes(projection='3d')\n",
    "# axes.scatter3D(Z[\"aged_65_older\"], Z[\"total_deaths_per_million\"], Z[\"cardiovasc_death_rate\"], c=kmeans5.labels_)\n",
    "\n",
    "# axes.set_xlabel(\"aged_65_older\")\n",
    "# axes.set_ylabel(\"total_deaths_per_million\")\n",
    "# axes.set_zlabel(\"cardiovasc_death_rate\")\n",
    "\n",
    "fig = px.scatter_3d(Z, x='aged_65_older', y='total_deaths_per_million', z='cardiovasc_death_rate',\n",
    "              color=kmeans5.labels_)\n",
    "fig.show()"
   ]
  }
 ],
 "metadata": {
  "kernelspec": {
   "display_name": "Python 3 (ipykernel)",
   "language": "python",
   "name": "python3"
  },
  "language_info": {
   "codemirror_mode": {
    "name": "ipython",
    "version": 3
   },
   "file_extension": ".py",
   "mimetype": "text/x-python",
   "name": "python",
   "nbconvert_exporter": "python",
   "pygments_lexer": "ipython3",
   "version": "3.10.4"
  }
 },
 "nbformat": 4,
 "nbformat_minor": 5
}
